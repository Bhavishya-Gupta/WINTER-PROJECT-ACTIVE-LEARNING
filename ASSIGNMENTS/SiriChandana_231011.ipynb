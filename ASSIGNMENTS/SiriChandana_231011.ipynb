{
 "cells": [
  {
   "cell_type": "markdown",
   "id": "154e157c-ff01-4e0e-885c-251d29b90643",
   "metadata": {},
   "source": [
    "### Q1\n"
   ]
  },
  {
   "cell_type": "code",
   "execution_count": 7,
   "id": "4cf5376d-ca63-4d84-a2cd-789fbc1950d2",
   "metadata": {},
   "outputs": [
    {
     "name": "stdin",
     "output_type": "stream",
     "text": [
      "enter: 10\n"
     ]
    },
    {
     "name": "stdout",
     "output_type": "stream",
     "text": [
      "[0, 1, 1, 2, 3, 5, 8, 13, 21, 34]\n"
     ]
    }
   ],
   "source": [
    "N=input( \"enter:\")\n",
    "\n",
    "i=2\n",
    "\n",
    "F=[0,1]\n",
    "\n",
    "while i<int(N):\n",
    "    k=F[i-1]+F[i-2]\n",
    "    F.append(k)\n",
    "    i=i+1\n",
    " \n",
    "print(F)"
   ]
  },
  {
   "cell_type": "markdown",
   "id": "8bfb7538-5eee-49cc-8c09-c1b868346b9b",
   "metadata": {},
   "source": [
    "### Q2"
   ]
  },
  {
   "cell_type": "code",
   "execution_count": 10,
   "id": "7f79cbf6-233d-4beb-bffb-386539be9b3d",
   "metadata": {},
   "outputs": [
    {
     "name": "stdout",
     "output_type": "stream",
     "text": [
      "[1, 4, 9, 16, 25, 36, 49, 64, 81, 100, 121, 144, 169, 196, 225, 256, 289, 324, 361, 400]\n",
      "{1: 1, 2: 8, 3: 27, 4: 64, 5: 125, 6: 216, 7: 343, 8: 512, 9: 729, 10: 1000}\n"
     ]
    }
   ],
   "source": [
    "squares = [x*x for x in range(1, 21)]\n",
    "\n",
    "cubes = {x: x*x*x for x in range(1, 11)}\n",
    "\n",
    "print(squares)\n",
    "print(cubes)"
   ]
  },
  {
   "cell_type": "markdown",
   "id": "c97544ee-34f8-42af-b5d3-d26954f0bf8b",
   "metadata": {},
   "source": [
    "### Q3"
   ]
  },
  {
   "cell_type": "code",
   "execution_count": 11,
   "id": "594e9132-adef-43ce-8b35-f6a5c582d367",
   "metadata": {},
   "outputs": [
    {
     "name": "stdout",
     "output_type": "stream",
     "text": [
      "['Brian', '20', '90']\n",
      "['Bunny', '40', '80']\n"
     ]
    }
   ],
   "source": [
    "import csv\n",
    "\n",
    "Dataset = [\n",
    "    [\"Name\",\"Age\",\"Score\"],\n",
    "    [\"Brian\",20,90],\n",
    "    [\"Perth\",25,75],\n",
    "    [\"Sandy\",20,60],\n",
    "    [\"Rachel\",28,30],\n",
    "    [\"Nick\",30,70],\n",
    "    [\"Bunny\",40,80]\n",
    "    \n",
    "]\n",
    "\n",
    "with open(\"data.csv\", mode=\"w\", newline=\"\") as file:\n",
    "    writer = csv.writer(file)\n",
    "    writer.writerows(Dataset)\n",
    "\n",
    "    \n",
    "with open(\"data.csv\", mode=\"r\") as file:\n",
    "    reader = csv.reader(file)\n",
    "    next(reader) \n",
    "    for r in reader:\n",
    "        if int(r[2]) > 75: \n",
    "            print(r)"
   ]
  },
  {
   "cell_type": "markdown",
   "id": "19529be1-8db5-4b2b-9d41-3531355f9dae",
   "metadata": {},
   "source": [
    "### Q4\n"
   ]
  },
  {
   "cell_type": "code",
   "execution_count": 17,
   "id": "1ab9b4a7-f4e6-4b20-b402-cc10d673910d",
   "metadata": {},
   "outputs": [
    {
     "name": "stdout",
     "output_type": "stream",
     "text": [
      "[76 29 78 80 10 48 13 25 75 92 11 80 67 16 81 25 64 64 44 27 79 76 43 94\n",
      " 87]\n",
      "Maximun value is:94,It's index is :23\n",
      "Minimun value is:10,It's index is :4\n",
      "[76 -1 78 80 10 48 -1 -1 -1 92 -1 80 -1 16 -1 -1 64 64 44 -1 -1 76 -1 94\n",
      " -1]\n"
     ]
    }
   ],
   "source": [
    "import numpy as np\n",
    "a = np.random.randint(10, 101, size=25)\n",
    "#print(a.size)\n",
    "print(a)\n",
    "max= np.max(a)\n",
    "min= np.min(a)\n",
    "maxI= np.argmax(a)\n",
    "minI= np.argmin(a)\n",
    "print(\"Maximun value is:\" +str( max) + \",It's index is :\" + str(maxI))\n",
    "print(\"Minimun value is:\" + str(min) + \",It's index is :\" + str(minI))\n",
    "\n",
    "for i in range(0,25) :\n",
    "    if a[i]%2==1 :\n",
    "       a[i]=-1\n",
    "\n",
    "print(a)\n"
   ]
  },
  {
   "cell_type": "markdown",
   "id": "2dcbba72-d651-4228-af35-d52d428f798e",
   "metadata": {},
   "source": [
    "### Q5"
   ]
  },
  {
   "cell_type": "code",
   "execution_count": 21,
   "id": "9eedaa48-5063-476a-b5d1-d2461b6661ef",
   "metadata": {},
   "outputs": [
    {
     "name": "stdout",
     "output_type": "stream",
     "text": [
      "[[ 82  49  73 100  14]\n",
      " [ 20  92  96  69  46]\n",
      " [ 57  47  59  12 100]\n",
      " [ 63  38  73  60  38]\n",
      " [ 43 100  64   5  92]]\n",
      "[82 92 59 60 92]\n",
      "Sum of elements above main diagonal :597\n"
     ]
    }
   ],
   "source": [
    "import numpy as np\n",
    "a = np.random.randint(1, 101, size=(5, 5))\n",
    "print(a)\n",
    "\n",
    "print(np.diagonal(a))\n",
    "\n",
    "K= np.triu(a,1)\n",
    "\n",
    "sum= np.sum(K)\n",
    "\n",
    "#print(K)\n",
    "print(\"Sum of elements above main diagonal :\" + str(sum))"
   ]
  },
  {
   "cell_type": "markdown",
   "id": "d4240443-7bb4-44cd-8e95-0c0d0a9fa812",
   "metadata": {},
   "source": [
    "### Q6"
   ]
  },
  {
   "cell_type": "code",
   "execution_count": 33,
   "id": "26e5b51e-3d2e-4028-a3cc-3281d8edd8a6",
   "metadata": {},
   "outputs": [
    {
     "name": "stdout",
     "output_type": "stream",
     "text": [
      "[[[0.08432493 0.24107224 0.97375721 0.4869164  0.34443256]\n",
      "  [0.21242211 0.61971294 0.01907927 0.56617432 0.47927057]\n",
      "  [0.59367637 0.42469334 0.1043289  0.19225231 0.6352225 ]\n",
      "  [0.93062555 0.03727212 0.7199715  0.49145431 0.91367934]]\n",
      "\n",
      " [[0.07485741 0.26765361 0.52198507 0.95232794 0.41356355]\n",
      "  [0.31114913 0.30810217 0.12404951 0.74328617 0.19341657]\n",
      "  [0.75537672 0.57980438 0.76862121 0.03123113 0.33140455]\n",
      "  [0.52188589 0.4065391  0.94231764 0.67032304 0.62629891]]\n",
      "\n",
      " [[0.75494489 0.85977268 0.26986997 0.31457033 0.74601539]\n",
      "  [0.44429347 0.52300391 0.5485579  0.48516521 0.05475819]\n",
      "  [0.13918281 0.41261672 0.05552154 0.45708839 0.62362757]\n",
      "  [0.76209595 0.41024922 0.44369495 0.66671604 0.21780312]]]\n",
      "Mean of elements in array is0.4634013454909684\n",
      "Median of elements in array is0.46817948306021795\n",
      "Standard deviation of elements in array is0.2641712795020848\n",
      "[[[-1.43496454 -0.84160968  1.93191274  0.08901443 -0.45034717]\n",
      "  [-0.95006253  0.59170548 -1.68194694  0.38903918  0.06007173]\n",
      "  [ 0.49314605 -0.14652618 -1.35924106 -1.02641376  0.65041574]\n",
      "  [ 1.76864119 -1.61307932  0.97122654  0.10619232  1.70449261]]\n",
      "\n",
      " [[-1.4708031  -0.74098796  0.22176418  1.85079391 -0.18865714]\n",
      "  [-0.57633902 -0.58787305 -1.28459019  1.05948243 -1.02200654]\n",
      "  [ 1.10525025  0.44063472  1.15538626 -1.63594701 -0.4996637 ]\n",
      "  [ 0.22138873 -0.21524763  1.81290069  0.7832861   0.61663617]]\n",
      "\n",
      " [[ 1.10361558  1.50043311 -0.73259809 -0.56338835  1.06981365]\n",
      "  [-0.07233137  0.22562091  0.32235358  0.08238542 -1.54688715]\n",
      "  [-1.22730427 -0.19224128 -1.54399756 -0.02389719  0.60652402]\n",
      "  [ 1.13068539 -0.20120327 -0.07459703  0.76963211 -0.92969315]]]\n"
     ]
    }
   ],
   "source": [
    "m = np.random.rand(3,4,5)\n",
    "print(m)\n",
    "mean = np.mean(m)\n",
    "median = np.median(m)\n",
    "std = np.std(m) \n",
    "print (\"Mean of elements in array is\"+str(mean))\n",
    "print (\"Median of elements in array is\"+str(median))\n",
    "print (\"Standard deviation of elements in array is\"+str(std))\n",
    "normalized_m= (m-mean)/std\n",
    "print(normalized_m)"
   ]
  },
  {
   "cell_type": "markdown",
   "id": "1384b880-a4a2-410d-8afd-e15d6fd2d759",
   "metadata": {},
   "source": [
    "### Q7"
   ]
  },
  {
   "cell_type": "code",
   "execution_count": 36,
   "id": "79ac155c-8fe0-4c2b-91c8-3e043d2adca6",
   "metadata": {},
   "outputs": [
    {
     "name": "stdout",
     "output_type": "stream",
     "text": [
      "array1 :\n",
      "[[1 2 1 7]\n",
      " [5 3 3 7]\n",
      " [3 8 9 6]\n",
      " [1 8 9 8]]\n",
      "array2 :\n",
      "[[1]\n",
      " [1]\n",
      " [8]\n",
      " [8]]\n",
      "Sum of both arrays :\n",
      "[[ 2  3  2  8]\n",
      " [ 6  4  4  8]\n",
      " [11 16 17 14]\n",
      " [ 9 16 17 16]]\n"
     ]
    }
   ],
   "source": [
    "a1 = np.random.randint(1, 10, size=(4, 4))\n",
    "a2 = np.random.randint(1, 10, size=(4, 1))\n",
    "sum = a1+ a2\n",
    "print(\"array1 :\")\n",
    "print(a1)\n",
    "print (\"array2 :\")\n",
    "print (a2)\n",
    "print (\"Sum of both arrays :\")\n",
    "print (sum)"
   ]
  },
  {
   "cell_type": "markdown",
   "id": "40e92027-bd92-4a60-bf0f-72bafc214625",
   "metadata": {},
   "source": [
    "### Q8"
   ]
  },
  {
   "cell_type": "code",
   "execution_count": 49,
   "id": "e2b9660c-7237-4965-802b-9e991002ca51",
   "metadata": {},
   "outputs": [
    {
     "name": "stdout",
     "output_type": "stream",
     "text": [
      "     Product  Price  Quantity  Total Value\n",
      "0  Product_1     60        31         1860\n",
      "1  Product_2     20        52         1040\n",
      "2  Product_3     30        23          690\n",
      "3  Product_4     70        64         4480\n",
      "4  Product_5     52        15          780\n",
      "5  Product_6     10        26          260\n",
      "6  Product_7     73        57         4161\n",
      "7  Product_8     48        98         4704\n",
      "Sorted Dataset: \n",
      "     Product  Price  Quantity  Total Value\n",
      "5  Product_6     10        26          260\n",
      "2  Product_3     30        23          690\n",
      "4  Product_5     52        15          780\n",
      "1  Product_2     20        52         1040\n",
      "0  Product_1     60        31         1860\n",
      "6  Product_7     73        57         4161\n",
      "3  Product_4     70        64         4480\n",
      "7  Product_8     48        98         4704\n"
     ]
    }
   ],
   "source": [
    "import pandas as pd\n",
    "\n",
    "mydataset = {\n",
    "    \"Product\": [\"Product_1\",\"Product_2\",\"Product_3\",\"Product_4\",\"Product_5\",\"Product_6\",\"Product_7\",\"Product_8\"],\n",
    "    \"Price\": [60,20,30,70,52,10,73,48],\n",
    "    \"Quantity\" : [31,52,23,64,15,26,57,98]\n",
    "}\n",
    "\n",
    "df = pd.DataFrame(mydataset)\n",
    "\n",
    "df[\"Total Value\"] = df[\"Price\"] * df[\"Quantity\"]\n",
    "\n",
    "print(df)\n",
    "\n",
    "df_sorted = df.sort_values(by=\"Total Value\", ascending=True)\n",
    "\n",
    "print(\"Sorted Dataset: \")\n",
    "print(df_sorted)\n"
   ]
  },
  {
   "cell_type": "markdown",
   "id": "e752cba7-9599-4fa8-a3dd-4d79e2730b21",
   "metadata": {},
   "source": [
    "### Q9"
   ]
  },
  {
   "cell_type": "code",
   "execution_count": 62,
   "id": "275d5632-5f3e-4a98-94fe-76a9ade8b05c",
   "metadata": {},
   "outputs": [
    {
     "name": "stdout",
     "output_type": "stream",
     "text": [
      "Passengers below 18:\n",
      "     Survived  Pclass                                 Name     Sex   Age  \\\n",
      "7           0       3        Master. Gosta Leonard Palsson    male   2.0   \n",
      "9           1       2   Mrs. Nicholas (Adele Achem) Nasser  female  14.0   \n",
      "10          1       3       Miss. Marguerite Rut Sandstrom  female   4.0   \n",
      "14          0       3  Miss. Hulda Amanda Adolfina Vestrom  female  14.0   \n",
      "16          0       3                  Master. Eugene Rice    male   2.0   \n",
      "..        ...     ...                                  ...     ...   ...   \n",
      "849         1       1             Miss. Mary Conover Lines  female  16.0   \n",
      "859         0       3             Miss. Dorothy Edith Sage  female  14.0   \n",
      "865         1       3       Master. Harold Theodor Johnson    male   4.0   \n",
      "871         1       3             Miss. Adele Kiamie Najib  female  15.0   \n",
      "884         0       3       Miss. Catherine Helen Johnston  female   7.0   \n",
      "\n",
      "     Siblings/Spouses Aboard  Parents/Children Aboard     Fare  \n",
      "7                          3                        1  21.0750  \n",
      "9                          1                        0  30.0708  \n",
      "10                         1                        1  16.7000  \n",
      "14                         0                        0   7.8542  \n",
      "16                         4                        1  29.1250  \n",
      "..                       ...                      ...      ...  \n",
      "849                        0                        1  39.4000  \n",
      "859                        8                        2  69.5500  \n",
      "865                        1                        1  11.1333  \n",
      "871                        0                        0   7.2250  \n",
      "884                        1                        2  23.4500  \n",
      "\n",
      "[130 rows x 8 columns]\n",
      "Female passengers who survived :\n",
      "     Survived  Pclass                                               Name  \\\n",
      "14          0       3                Miss. Hulda Amanda Adolfina Vestrom   \n",
      "18          0       3  Mrs. Julius (Emelia Maria Vandemoortele) Vande...   \n",
      "24          0       3                       Miss. Torborg Danira Palsson   \n",
      "38          0       3                  Miss. Augusta Maria Vander Planke   \n",
      "40          0       3      Mrs. Johan (Johanna Persdotter Larsson) Ahlin   \n",
      "..        ...     ...                                                ...   \n",
      "850         0       2       Mrs. Ernest Courtenay (Lilian Hughes) Carter   \n",
      "859         0       3                           Miss. Dorothy Edith Sage   \n",
      "878         0       3                        Miss. Gerda Ulrika Dahlberg   \n",
      "881         0       3                Mrs. William (Margaret Norton) Rice   \n",
      "884         0       3                     Miss. Catherine Helen Johnston   \n",
      "\n",
      "        Sex   Age  Siblings/Spouses Aboard  Parents/Children Aboard     Fare  \n",
      "14   female  14.0                        0                        0   7.8542  \n",
      "18   female  31.0                        1                        0  18.0000  \n",
      "24   female   8.0                        3                        1  21.0750  \n",
      "38   female  18.0                        2                        0  18.0000  \n",
      "40   female  40.0                        1                        0   9.4750  \n",
      "..      ...   ...                      ...                      ...      ...  \n",
      "850  female  44.0                        1                        0  26.0000  \n",
      "859  female  14.0                        8                        2  69.5500  \n",
      "878  female  22.0                        0                        0  10.5167  \n",
      "881  female  39.0                        0                        5  29.1250  \n",
      "884  female   7.0                        1                        2  23.4500  \n",
      "\n",
      "[81 rows x 8 columns]\n"
     ]
    }
   ],
   "source": [
    "import pandas as pd\n",
    "df = pd.read_csv('https://web.stanford.edu/class/archive/cs/cs109/cs109.1166/stuff/titanic.csv')\n",
    "#print(df)\n",
    "age_filter=df[df[\"Age\"]<18]\n",
    "female_survived=df[(df[\"Sex\"]==\"female\")&(df[\"Survived\"]==0)]\n",
    "print(\"Passengers below 18:\")\n",
    "print(age_filter)\n",
    "print(\"Female passengers who survived :\")\n",
    "print(female_survived)\n",
    "\n"
   ]
  },
  {
   "cell_type": "markdown",
   "id": "77fa1e10-302c-409b-b37a-edad3daf4cc8",
   "metadata": {},
   "source": [
    "### Q10"
   ]
  },
  {
   "cell_type": "code",
   "execution_count": 68,
   "id": "840cdc7a-e190-44ef-a7e0-57aa9b934339",
   "metadata": {},
   "outputs": [
    {
     "name": "stdout",
     "output_type": "stream",
     "text": [
      "\n",
      "Mean petal length and sepal width for each species:\n",
      "            petal_length  sepal_width\n",
      "species                              \n",
      "setosa             1.462        3.428\n",
      "versicolor         4.260        2.770\n",
      "virginica          5.552        2.974\n"
     ]
    }
   ],
   "source": [
    "import pandas as pd\n",
    "import seaborn as sns\n",
    "\n",
    "iris_df = sns.load_dataset(\"iris\")\n",
    "\n",
    "\n",
    "grouped_iris = iris_df.groupby('species')[['petal_length', 'sepal_width']].mean()\n",
    "\n",
    "print(\"\\nMean petal length and sepal width for each species:\")\n",
    "print(grouped_iris)\n"
   ]
  },
  {
   "cell_type": "markdown",
   "id": "d8aa9ecc-bbdc-4e20-80f6-6b895afcee87",
   "metadata": {},
   "source": [
    "### Q11"
   ]
  },
  {
   "cell_type": "code",
   "execution_count": 71,
   "id": "23d36bdc-3827-4c84-aa89-bbcfac21b7bb",
   "metadata": {},
   "outputs": [
    {
     "name": "stdout",
     "output_type": "stream",
     "text": [
      "\n",
      "DataFrame with NaN values:\n",
      "     A    B    C\n",
      "0  1.0  NaN  1.0\n",
      "1  2.0  2.0  NaN\n",
      "2  NaN  3.0  3.0\n",
      "3  4.0  4.0  NaN\n",
      "4  5.0  NaN  5.0\n",
      "\n",
      "DataFrame after replacing NaN with column mean:\n",
      "     A    B    C\n",
      "0  1.0  3.0  1.0\n",
      "1  2.0  2.0  3.0\n",
      "2  3.0  3.0  3.0\n",
      "3  4.0  4.0  3.0\n",
      "4  5.0  3.0  5.0\n"
     ]
    }
   ],
   "source": [
    "import numpy as np\n",
    "\n",
    "data_frame = {\n",
    "    \"A\": [1, 2, np.nan, 4, 5],\n",
    "    \"B\": [np.nan, 2, 3, 4, np.nan],\n",
    "    \"C\": [1, np.nan, 3, np.nan, 5]\n",
    "}\n",
    "df = pd.DataFrame(data_frame)\n",
    "\n",
    "filled_df = df.apply(lambda col: col.fillna(col.mean()), axis=0)\n",
    "\n",
    "print(\"\\nDataFrame with NaN values:\")\n",
    "print(df)\n",
    "print(\"\\nDataFrame after replacing NaN with column mean:\")\n",
    "print(filled_df)"
   ]
  },
  {
   "cell_type": "markdown",
   "id": "a6416d0c-8696-4fec-b008-f1e8c5fddcbc",
   "metadata": {},
   "source": [
    "### Q12"
   ]
  },
  {
   "cell_type": "code",
   "execution_count": 76,
   "id": "b045ef26-256f-4252-b424-4b5b056e2e1c",
   "metadata": {},
   "outputs": [
    {
     "name": "stdout",
     "output_type": "stream",
     "text": [
      "   ID Name  Score\n",
      "0   1    A     10\n",
      "1   2    B     20\n",
      "2   3    C     40\n",
      "3   4    D     60\n",
      "4   5    E     30\n"
     ]
    }
   ],
   "source": [
    "import pandas as pd\n",
    "Data1={\n",
    "    \"ID\": [1,2,3,4,5],\n",
    "    \"Name\":[\"A\",\"B\",\"C\",\"D\",\"E\"]\n",
    "}\n",
    "\n",
    "Data2={\n",
    "    \"ID\":[1,2,3,4,5],\n",
    "    \"Score\":[10,20,40,60,30]\n",
    "}\n",
    "df1=pd.DataFrame(Data1)\n",
    "df2=pd.DataFrame(Data2)\n",
    "\n",
    "Merged_Data= pd.merge(df1,df2,on=\"ID\")\n",
    "print(Merged_Data)\n",
    "    "
   ]
  },
  {
   "cell_type": "markdown",
   "id": "0d098ffe-9bd8-413b-a304-13d314f74df0",
   "metadata": {},
   "source": [
    "### Q13\n"
   ]
  },
  {
   "cell_type": "code",
   "execution_count": null,
   "id": "e25c2495-024c-4fd4-9fc4-5956ebad499e",
   "metadata": {},
   "outputs": [],
   "source": [
    "import matplotlib.pyplot as plt\n",
    "import numpy as np\n",
    "import pandas as pd\n",
    "months = [\"January\", \"February\", \"March\", \"April\", \"May\", \"June\", \"July\", \"August\", \"September\", \"October\", \"November\", \"December\"]\n",
    "revenue = np.random.randint(5000, 15000, size=12)\n",
    "\n",
    "revenue_data = pd.DataFrame({\"Month\": months, \"Revenue\": revenue})\n",
    "\n",
    "plt.figure(figsize=(10, 6))\n",
    "plt.plot(revenue_data[\"Month\"], revenue_data[\"Revenue\"], marker=\"o\", label=\"Monthly Revenue\", color=\"blue\")\n",
    "plt.title(\"Monthly Revenue Trend\", fontsize=16)\n",
    "plt.xlabel(\"Month\", fontsize=12)\n",
    "plt.ylabel(\"Revenue ($)\", fontsize=12)\n",
    "plt.xticks(rotation=45)\n",
    "plt.legend()\n",
    "plt.grid(True)\n",
    "\n",
    "plt.tight_layout()\n",
    "plt.show()"
   ]
  },
  {
   "cell_type": "markdown",
   "id": "3ce7ffe8-bbd3-44ac-8814-306b714eaa11",
   "metadata": {},
   "source": [
    "### Q14"
   ]
  },
  {
   "cell_type": "code",
   "execution_count": 79,
   "id": "f62e4779-a523-45f8-a23a-f51c23568319",
   "metadata": {},
   "outputs": [
    {
     "data": {
      "image/png": "[encoded data removed]",
      "text/plain": [
       "<Figure size 1000x600 with 1 Axes>"
      ]
     },
     "metadata": {},
     "output_type": "display_data"
    }
   ],
   "source": [
    "\n",
    "import matplotlib.pyplot as plt\n",
    "import numpy as np\n",
    "import pandas as pd\n",
    "\n",
    "products = [\"Product A\", \"Product B\", \"Product C\", \"Product D\", \"Product E\"]\n",
    "region_1_sales = [20, 35, 30, 35, 27]\n",
    "region_2_sales = [25, 32, 34, 20, 25]\n",
    "\n",
    "sales_data = pd.DataFrame({\n",
    "    \"Product\": products,\n",
    "    \"Region 1\": region_1_sales,\n",
    "    \"Region 2\": region_2_sales\n",
    "})\n",
    "\n",
    "x = np.arange(len(products))\n",
    "width = 0.35\n",
    "\n",
    "plt.figure(figsize=(10, 6))\n",
    "plt.bar(x - width/2, sales_data[\"Region 1\"], width, label=\"Region 1\", color=\"skyblue\")\n",
    "plt.bar(x + width/2, sales_data[\"Region 2\"], width, label=\"Region 2\", color=\"orange\")\n",
    "\n",
    "plt.title(\"Sales Comparison by Region\", fontsize=16)\n",
    "plt.xlabel(\"Product\", fontsize=12)\n",
    "plt.ylabel(\"Sales\", fontsize=12)\n",
    "plt.xticks(x, products)\n",
    "plt.legend()\n",
    "plt.grid(True, axis='y')\n",
    "\n",
    "plt.tight_layout()\n",
    "plt.show()"
   ]
  },
  {
   "cell_type": "code",
   "execution_count": 81,
   "id": "712f3ef7-6900-408e-b284-65d6e2322669",
   "metadata": {},
   "outputs": [
    {
     "data": {
      "image/png": "[encoded data removed]",
      "text/plain": [
       "<Figure size 1000x600 with 1 Axes>"
      ]
     },
     "metadata": {},
     "output_type": "display_data"
    }
   ],
   "source": [
    "import seaborn as sns\n",
    "import matplotlib.pyplot as plt\n",
    "\n",
    "iris_data = sns.load_dataset(\"iris\")\n",
    "\n",
    "plt.figure(figsize=(10, 6))\n",
    "sns.scatterplot(\n",
    "    data=iris_data,\n",
    "    x=\"petal_length\",\n",
    "    y=\"petal_width\",\n",
    "    hue=\"species\",\n",
    "    palette=\"viridis\",\n",
    "    s=100\n",
    ")\n",
    "\n",
    "plt.title(\"Petal Length vs Petal Width by Species\", fontsize=16)\n",
    "plt.xlabel(\"Petal Length\", fontsize=12)\n",
    "plt.ylabel(\"Petal Width\", fontsize=12)\n",
    "plt.legend(title=\"Species\")\n",
    "plt.grid(True)\n",
    "\n",
    "plt.tight_layout()\n",
    "plt.show()"
   ]
  },
  {
   "cell_type": "code",
   "execution_count": null,
   "id": "41a76ec3-f6a7-411d-8140-b42c0fccdc1a",
   "metadata": {},
   "outputs": [],
   "source": []
  },
  {
   "cell_type": "code",
   "execution_count": null,
   "id": "9dd57d56-18c0-4235-b2c2-b5ae6b667cc1",
   "metadata": {},
   "outputs": [],
   "source": []
  }
 ],
 "metadata": {
  "kernelspec": {
   "display_name": "Python 3 (ipykernel)",
   "language": "python",
   "name": "python3"
  },
  "language_info": {
   "codemirror_mode": {
    "name": "ipython",
    "version": 3
   },
   "file_extension": ".py",
   "mimetype": "text/x-python",
   "name": "python",
   "nbconvert_exporter": "python",
   "pygments_lexer": "ipython3",
   "version": "3.12.4"
  }
 },
 "nbformat": 4,
 "nbformat_minor": 5
}

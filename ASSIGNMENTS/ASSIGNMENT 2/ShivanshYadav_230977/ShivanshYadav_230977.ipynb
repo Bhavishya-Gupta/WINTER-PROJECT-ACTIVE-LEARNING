{
 "cells": [
  {
   "cell_type": "markdown",
   "id": "30a18da6",
   "metadata": {},
   "source": [
    "# Assignment 2\n",
    "Implementing an Image classification model using CNN in PyTorch"
   ]
  },
  {
   "cell_type": "markdown",
   "id": "de122d8e-1890-4194-8c3b-0b59768ec852",
   "metadata": {},
   "source": [
    "## Importing libraries and loading the dataset\n",
    "I'm using MNIST dataset which contains handwritten numbers from 0 to 9"
   ]
  },
  {
   "cell_type": "code",
   "execution_count": 1,
   "id": "af34ec80-c3cb-4618-9d78-59a0591b5266",
   "metadata": {},
   "outputs": [],
   "source": [
    "import torch\n",
    "import torchvision\n",
    "import torchvision.transforms as transforms\n",
    "# Transform to convert images to tensors and normalize to range [-1, 1]\n",
    "transform = transforms.Compose([\n",
    "    transforms.ToTensor(),\n",
    "    transforms.Normalize((0.5,), (0.5,))  # Normalize grayscale channel\n",
    "])\n",
    "\n",
    "# Download and load the MNIST dataset\n",
    "train_dataset = torchvision.datasets.MNIST(root='./data', train=True, download=True, transform=transform)\n",
    "test_dataset = torchvision.datasets.MNIST(root='./data', train=False, download=True, transform=transform)\n",
    "\n",
    "# Data loaders\n",
    "train_loader = torch.utils.data.DataLoader(train_dataset, batch_size=64, shuffle=True)\n",
    "test_loader = torch.utils.data.DataLoader(test_dataset, batch_size=64, shuffle=False)"
   ]
  },
  {
   "cell_type": "markdown",
   "id": "c3990545-b9fe-4831-865e-156e9ff8d71d",
   "metadata": {},
   "source": [
    "# Making the Model\n",
    "The next two cells are me trying to change the number of channels to make the model better but the third one (which I used) worked the best."
   ]
  },
  {
   "cell_type": "code",
   "execution_count": 20,
   "id": "e8d5f4c9-7768-4d65-9264-b8b4a861a354",
   "metadata": {},
   "outputs": [],
   "source": [
    "# import torch.nn as nn\n",
    "# import torch.nn.functional as F\n",
    "\n",
    "# class MNIST_CNN(nn.Module):\n",
    "#     def __init__(self):\n",
    "#         super(MNIST_CNN, self).__init__()\n",
    "#         self.conv1 = nn.Conv2d(1, 128, kernel_size=3, padding=1)  # Input: 1 channel, Output: 32 channels\n",
    "#         self.conv2 = nn.Conv2d(128, 64, kernel_size=3, padding=1)  # Input: 32 channels, Output: 64 channels\n",
    "#         self.pool = nn.MaxPool2d(kernel_size=2, stride=2)  # Max pooling\n",
    "#         self.fc1 = nn.Linear(64 * 7 * 7, 128)  # Fully connected layer\n",
    "#         self.fc2 = nn.Linear(128, 10)  # Output layer for 10 classes\n",
    "\n",
    "#     def forward(self, x):\n",
    "#         x = self.pool(F.relu(self.conv1(x)))  # Conv1 -> ReLU -> Pool\n",
    "#         x = self.pool(F.relu(self.conv2(x)))  # Conv2 -> ReLU -> Pool\n",
    "#         x = x.view(-1, 64 * 7 * 7)  # Flatten feature maps\n",
    "#         x = F.relu(self.fc1(x))  # Fully connected layer -> ReLU\n",
    "#         x = self.fc2(x)  # Output layer\n",
    "#         return x"
   ]
  },
  {
   "cell_type": "code",
   "execution_count": 22,
   "id": "1807c5b3-f515-40c3-9972-431fe46c63d8",
   "metadata": {},
   "outputs": [],
   "source": [
    "# import torch.nn as nn\n",
    "# import torch.nn.functional as F\n",
    "\n",
    "# class MNIST_CNN(nn.Module):\n",
    "#     def __init__(self):\n",
    "#         super(MNIST_CNN, self).__init__()\n",
    "#         self.conv1 = nn.Conv2d(1, 64, kernel_size=3, padding=1)  # Input: 1 channel, Output: 32 channels\n",
    "#         self.conv2 = nn.Conv2d(64, 64, kernel_size=3, padding=1)  # Input: 32 channels, Output: 64 channels\n",
    "#         self.pool = nn.MaxPool2d(kernel_size=2, stride=2)  # Max pooling\n",
    "#         self.fc1 = nn.Linear(64 * 7 * 7, 128)  # Fully connected layer\n",
    "#         self.fc2 = nn.Linear(128, 10)  # Output layer for 10 classes\n",
    "\n",
    "#     def forward(self, x):\n",
    "#         x = self.pool(F.relu(self.conv1(x)))  # Conv1 -> ReLU -> Pool\n",
    "#         x = self.pool(F.relu(self.conv2(x)))  # Conv2 -> ReLU -> Pool\n",
    "#         x = x.view(-1, 64 * 7 * 7)  # Flatten feature maps\n",
    "#         x = F.relu(self.fc1(x))  # Fully connected layer -> ReLU\n",
    "#         x = self.fc2(x)  # Output layer\n",
    "#         return x"
   ]
  },
  {
   "cell_type": "markdown",
   "id": "b0d5f919",
   "metadata": {},
   "source": [
    "### This is the model I used"
   ]
  },
  {
   "cell_type": "code",
   "execution_count": 2,
   "id": "85c02ce6-c089-4f8d-b1f3-4d2937e3395b",
   "metadata": {},
   "outputs": [],
   "source": [
    "import torch.nn as nn\n",
    "import torch.nn.functional as F\n",
    "\n",
    "class MNIST_CNN(nn.Module):\n",
    "    def __init__(self):\n",
    "        super(MNIST_CNN, self).__init__()\n",
    "        self.conv1 = nn.Conv2d(1, 32, kernel_size=3, padding=1)  # Input: 1 channel, Output: 32 channels\n",
    "        self.conv2 = nn.Conv2d(32, 64, kernel_size=3, padding=1)  # Input: 32 channels, Output: 64 channels\n",
    "        self.pool = nn.MaxPool2d(kernel_size=2, stride=2)  # Max pooling\n",
    "        self.fc1 = nn.Linear(64 * 7 * 7, 128)  # Fully connected layer\n",
    "        self.fc2 = nn.Linear(128, 10)  # Output layer for 10 classes\n",
    "\n",
    "    def forward(self, x):\n",
    "        x = self.pool(F.relu(self.conv1(x)))  # Conv1 -> ReLU -> Pool\n",
    "        x = self.pool(F.relu(self.conv2(x)))  # Conv2 -> ReLU -> Pool\n",
    "        x = x.view(-1, 64 * 7 * 7)  # Flatten feature maps\n",
    "        x = F.relu(self.fc1(x))  # Fully connected layer -> ReLU\n",
    "        x = self.fc2(x)  # Output layer\n",
    "        return x\n"
   ]
  },
  {
   "cell_type": "markdown",
   "id": "8a6961c0-5b6d-4ef9-9dd8-b6d3ab166f35",
   "metadata": {},
   "source": [
    "# Training the model\n",
    "I have only trained the model for 10 epochs, I tried training it for more like 15 and 20, that didn't change the accuracy much so I'm sticking to 10."
   ]
  },
  {
   "cell_type": "code",
   "execution_count": 4,
   "id": "1990dbab-ac12-4d77-8f32-734b8439b684",
   "metadata": {},
   "outputs": [
    {
     "name": "stdout",
     "output_type": "stream",
     "text": [
      "Epoch 1, Loss: 0.1641\n",
      "Epoch 2, Loss: 0.0464\n",
      "Epoch 3, Loss: 0.0337\n",
      "Epoch 4, Loss: 0.0243\n",
      "Epoch 5, Loss: 0.0178\n",
      "Epoch 6, Loss: 0.0151\n",
      "Epoch 7, Loss: 0.0113\n",
      "Epoch 8, Loss: 0.0098\n",
      "Epoch 9, Loss: 0.0086\n",
      "Epoch 10, Loss: 0.0067\n"
     ]
    }
   ],
   "source": [
    "import torch.optim as optim\n",
    "\n",
    "# Set device (GPU if available)\n",
    "device = torch.device(\"cuda\" if torch.cuda.is_available() else \"cpu\")\n",
    "\n",
    "# Initialize the model, loss function, and optimizer\n",
    "model = MNIST_CNN().to(device)\n",
    "# using cross entropy loss function\n",
    "criterion = nn.CrossEntropyLoss()\n",
    "# using the adam optimizer\n",
    "optimizer = optim.Adam(model.parameters(), lr=0.001)\n",
    "\n",
    "# Training loop\n",
    "for epoch in range(10):  # Number of epochs\n",
    "    model.train()\n",
    "    running_loss = 0.0\n",
    "    for images, labels in train_loader:\n",
    "        images, labels = images.to(device), labels.to(device)\n",
    "\n",
    "        optimizer.zero_grad()  # Zero the gradients\n",
    "        outputs = model(images)  # Forward pass\n",
    "        loss = criterion(outputs, labels)  # Compute loss\n",
    "        loss.backward()  # Backpropagation\n",
    "        optimizer.step()  # Update weights\n",
    "\n",
    "        running_loss += loss.item()\n",
    "    print(f\"Epoch {epoch + 1}, Loss: {running_loss / len(train_loader):.4f}\")\n"
   ]
  },
  {
   "cell_type": "markdown",
   "id": "5d135c62-6829-437e-ba0e-ce63860e4548",
   "metadata": {},
   "source": [
    "# Evaluating the model"
   ]
  },
  {
   "cell_type": "code",
   "execution_count": 5,
   "id": "a54e93f0-0a1a-414b-b380-09a0c1392eb2",
   "metadata": {},
   "outputs": [
    {
     "name": "stdout",
     "output_type": "stream",
     "text": [
      "Test Accuracy: 99.05%\n"
     ]
    }
   ],
   "source": [
    "model.eval()\n",
    "correct = 0\n",
    "total = 0\n",
    "\n",
    "with torch.no_grad():\n",
    "    for images, labels in test_loader:\n",
    "        images, labels = images.to(device), labels.to(device)\n",
    "        outputs = model(images)\n",
    "        _, predicted = torch.max(outputs, 1)\n",
    "        total += labels.size(0)\n",
    "        correct += (predicted == labels).sum().item()\n",
    "\n",
    "print(f\"Test Accuracy: {100 * correct / total:.2f}%\")\n"
   ]
  },
  {
   "cell_type": "markdown",
   "id": "15ba8389-f251-4512-9ac6-4458d6a5eeb6",
   "metadata": {},
   "source": [
    "# Using a pretrained model\n",
    "I used RESNET18 from torchvision model zoo, I only had one convolution layer and the final fully connected layer for this model"
   ]
  },
  {
   "cell_type": "code",
   "execution_count": 6,
   "id": "a7577e05-9710-4e44-a37f-f6403057bde2",
   "metadata": {},
   "outputs": [
    {
     "name": "stderr",
     "output_type": "stream",
     "text": [
      "c:\\Python312\\Lib\\site-packages\\torchvision\\models\\_utils.py:208: UserWarning: The parameter 'pretrained' is deprecated since 0.13 and may be removed in the future, please use 'weights' instead.\n",
      "  warnings.warn(\n",
      "c:\\Python312\\Lib\\site-packages\\torchvision\\models\\_utils.py:223: UserWarning: Arguments other than a weight enum or `None` for 'weights' are deprecated since 0.13 and may be removed in the future. The current behavior is equivalent to passing `weights=ResNet18_Weights.IMAGENET1K_V1`. You can also use `weights=ResNet18_Weights.DEFAULT` to get the most up-to-date weights.\n",
      "  warnings.warn(msg)\n"
     ]
    }
   ],
   "source": [
    "from torchvision import models\n",
    "\n",
    "# Load a pretrained ResNet\n",
    "pretrained_model = models.resnet18(pretrained=True)\n",
    "\n",
    "# Modify the first convolution layer and final fully connected layer\n",
    "pretrained_model.conv1 = nn.Conv2d(1, 64, kernel_size=7, stride=2, padding=3)  # Adjust for 1 input channel\n",
    "pretrained_model.fc = nn.Linear(pretrained_model.fc.in_features, 10)  # Adjust for 10 output classes\n",
    "\n",
    "pretrained_model = pretrained_model.to(device)\n",
    "\n",
    "# Use the same training and evaluation process for the pretrained model\n"
   ]
  },
  {
   "cell_type": "markdown",
   "id": "2c21c4fd-5c76-4780-97e1-8b0e8e7c1d6f",
   "metadata": {},
   "source": [
    "# Fine tuning RESNET18\n",
    "I tuned this model for 5 epochs because its a pretrained model and only requires fine tuning"
   ]
  },
  {
   "cell_type": "code",
   "execution_count": 7,
   "id": "c17c9c56-8412-4af1-a92c-1ac658fa137d",
   "metadata": {},
   "outputs": [
    {
     "name": "stdout",
     "output_type": "stream",
     "text": [
      "Epoch 1, Loss: 0.2919\n",
      "Epoch 2, Loss: 0.0822\n",
      "Epoch 3, Loss: 0.0549\n",
      "Epoch 4, Loss: 0.0417\n",
      "Epoch 5, Loss: 0.0348\n"
     ]
    }
   ],
   "source": [
    "import torch.optim as optim\n",
    "\n",
    "# Set device (GPU if available)\n",
    "device = torch.device(\"cuda\" if torch.cuda.is_available() else \"cpu\")\n",
    "\n",
    "# Load a pretrained ResNet model\n",
    "from torchvision import models\n",
    "pretrained_model = models.resnet18(pretrained=True)\n",
    "\n",
    "# Modify the first convolutional layer and the final fully connected layer\n",
    "pretrained_model.conv1 = nn.Conv2d(1, 64, kernel_size=7, stride=2, padding=3)  # Adjust for grayscale input\n",
    "pretrained_model.fc = nn.Linear(pretrained_model.fc.in_features, 10)  # Adjust for 10 output classes\n",
    "pretrained_model = pretrained_model.to(device)\n",
    "\n",
    "# Define the loss function and optimizer\n",
    "criterion = nn.CrossEntropyLoss()\n",
    "optimizer = optim.Adam(pretrained_model.parameters(), lr=0.0001)  # Using a smaller learning rate for fine-tuning\n",
    "\n",
    "# Training loop\n",
    "for epoch in range(5):  # Fine-tune for fewer epochs\n",
    "    pretrained_model.train()\n",
    "    running_loss = 0.0\n",
    "    for images, labels in train_loader:\n",
    "        images, labels = images.to(device), labels.to(device)\n",
    "\n",
    "        optimizer.zero_grad()  # Zero the gradients\n",
    "        outputs = pretrained_model(images)  # Forward pass\n",
    "        loss = criterion(outputs, labels)  # Compute loss\n",
    "        loss.backward()  # Backpropagation\n",
    "        optimizer.step()  # Update weights\n",
    "\n",
    "        running_loss += loss.item()\n",
    "    print(f\"Epoch {epoch + 1}, Loss: {running_loss / len(train_loader):.4f}\")\n"
   ]
  },
  {
   "cell_type": "markdown",
   "id": "c56bf062-c003-4f9c-a155-c5fc33dbce2c",
   "metadata": {},
   "source": [
    "# Evaluating the pretrained model"
   ]
  },
  {
   "cell_type": "code",
   "execution_count": 8,
   "id": "51d6dfb4-a5f1-443f-a18d-2bbbc0d6705a",
   "metadata": {},
   "outputs": [
    {
     "name": "stdout",
     "output_type": "stream",
     "text": [
      "Pretrained Model Test Accuracy: 98.86%\n"
     ]
    }
   ],
   "source": [
    "# Evaluation mode\n",
    "pretrained_model.eval()\n",
    "\n",
    "correct = 0\n",
    "total = 0\n",
    "\n",
    "# Disable gradient calculation for evaluation\n",
    "with torch.no_grad():\n",
    "    for images, labels in test_loader:\n",
    "        images, labels = images.to(device), labels.to(device)\n",
    "        outputs = pretrained_model(images)  # Forward pass\n",
    "        _, predicted = torch.max(outputs, 1)  # Get the class with the highest score\n",
    "        total += labels.size(0)\n",
    "        correct += (predicted == labels).sum().item()\n",
    "\n",
    "# Print test accuracy\n",
    "print(f\"Pretrained Model Test Accuracy: {100 * correct / total:.2f}%\")\n"
   ]
  },
  {
   "cell_type": "code",
   "execution_count": null,
   "id": "86f946f8-e7b1-4277-b53d-24efa909c8df",
   "metadata": {},
   "outputs": [],
   "source": []
  }
 ],
 "metadata": {
  "kernelspec": {
   "display_name": "Python 3",
   "language": "python",
   "name": "python3"
  },
  "language_info": {
   "codemirror_mode": {
    "name": "ipython",
    "version": 3
   },
   "file_extension": ".py",
   "mimetype": "text/x-python",
   "name": "python",
   "nbconvert_exporter": "python",
   "pygments_lexer": "ipython3",
   "version": "3.12.4"
  }
 },
 "nbformat": 4,
 "nbformat_minor": 5
}

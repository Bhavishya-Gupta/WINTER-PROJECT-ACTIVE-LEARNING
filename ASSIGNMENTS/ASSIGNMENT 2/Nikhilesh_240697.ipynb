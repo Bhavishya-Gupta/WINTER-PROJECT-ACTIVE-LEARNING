{
  "nbformat": 4,
  "nbformat_minor": 0,
  "metadata": {
    "colab": {
      "provenance": [],
      "authorship_tag": "ABX9TyMTg3SPJwiJBBsKKIR352QQ",
      "include_colab_link": true
    },
    "kernelspec": {
      "name": "python3",
      "display_name": "Python 3"
    },
    "language_info": {
      "name": "python"
    }
  },
  "cells": [
    {
      "cell_type": "markdown",
      "metadata": {
        "id": "view-in-github",
        "colab_type": "text"
      },
      "source": [
        "<a href=\"https://colab.research.google.com/github/n1kh1le5hp/WINTER-PROJECT-ACTIVE-LEARNING/blob/main/Nikhilesh_Assignment_2.ipynb\" target=\"_parent\"><img src=\"https://colab.research.google.com/assets/colab-badge.svg\" alt=\"Open In Colab\"/></a>"
      ]
    },
    {
      "cell_type": "markdown",
      "source": [
        "\n",
        "Objective: Implement an image classification model using a Convolutional Neural\n",
        "Network (CNN) in PyTorch. You are free to choose any image classification dataset for this task (e.g., CIFAR-10, MNIST, Fashion-MNIST, etc.)."
      ],
      "metadata": {
        "id": "Oe7HnrUHvhDd"
      }
    },
    {
      "cell_type": "code",
      "execution_count": null,
      "metadata": {
        "colab": {
          "base_uri": "https://localhost:8080/"
        },
        "id": "7I_KFsXDlFvi",
        "outputId": "68d48013-1079-43cd-e391-1006c6a48c78"
      },
      "outputs": [
        {
          "output_type": "stream",
          "name": "stdout",
          "text": [
            "Files already downloaded and verified\n",
            "Files already downloaded and verified\n",
            "Test Accuracy: 71.47%\n"
          ]
        }
      ],
      "source": [
        "import torch\n",
        "import torch.nn as nn\n",
        "import torch.optim as optim\n",
        "import torchvision\n",
        "import torchvision.transforms as transforms\n",
        "\n",
        "device=torch.device('cpu')\n",
        "num_epochs = 10\n",
        "batch_size = 64\n",
        "learning_rate = 0.001\n",
        "transform=transforms.Compose([transforms.ToTensor(),transforms.Normalize((0.5,),(0.5,))])\n",
        "train_dataset=torchvision.datasets.CIFAR10(root='./data',train=True,download=True,transform=transform)\n",
        "test_dataset=torchvision.datasets.CIFAR10(root='./data',train=False,download=True,transform=transform)\n",
        "train_loader=torch.utils.data.DataLoader(dataset=train_dataset,batch_size=batch_size,shuffle=True)\n",
        "test_loader=torch.utils.data.DataLoader(dataset=test_dataset,batch_size=batch_size,shuffle=False)\n",
        "class CNN(nn.Module):\n",
        "  def __init__(self):\n",
        "    super(CNN,self).__init__()\n",
        "    self.conv1=nn.Conv2d(3,32,kernel_size=3,padding=1)\n",
        "    self.relu1=nn.ReLU()\n",
        "    self.pool1=nn.MaxPool2d(kernel_size=2,stride=2)\n",
        "    self.conv2=nn.Conv2d(32,64,kernel_size=3,padding=1)\n",
        "    self.relu2=nn.ReLU()\n",
        "    self.pool2=nn.MaxPool2d(kernel_size=2,stride=2)\n",
        "    self.fc1=nn.Linear(64*8*8,128)\n",
        "    self.relu3=nn.ReLU()\n",
        "    self.fc2=nn.Linear(128,10)\n",
        "  def forward(self,x):\n",
        "    x=self.conv1(x)\n",
        "    x=self.relu1(x)\n",
        "    x=self.pool1(x)\n",
        "    x=self.conv2(x)\n",
        "    x=self.relu2(x)\n",
        "    x=self.pool2(x)\n",
        "    x=x.view(x.size(0),-1)\n",
        "    x=self.fc1(x)\n",
        "    x=self.relu3(x)\n",
        "    x=self.fc2(x)\n",
        "    return x\n",
        "model = CNN().to(device)\n",
        "criterion = nn.CrossEntropyLoss()\n",
        "optimizer = optim.Adam(model.parameters(), lr=learning_rate)\n",
        "for epoch in range(num_epochs):\n",
        "    model.train()\n",
        "    running_loss = 0.0\n",
        "    for images, labels in train_loader:\n",
        "        images, labels = images.to(device), labels.to(device)\n",
        "        outputs = model(images)\n",
        "        loss = criterion(outputs, labels)\n",
        "        optimizer.zero_grad()\n",
        "        loss.backward()\n",
        "        optimizer.step()\n",
        "\n",
        "        running_loss += loss.item()\n",
        "model.eval()\n",
        "with torch.no_grad():\n",
        "    correct = 0\n",
        "    total = 0\n",
        "    for images, labels in test_loader:\n",
        "        images, labels = images.to(device), labels.to(device)\n",
        "        outputs = model(images)\n",
        "        _, predicted = torch.max(outputs, 1)\n",
        "        total += labels.size(0)\n",
        "        correct += (predicted == labels).sum().item()\n",
        "\n",
        "    print(f\"Test Accuracy: {100 * correct / total:.2f}%\")\n"
      ]
    }
  ]
}

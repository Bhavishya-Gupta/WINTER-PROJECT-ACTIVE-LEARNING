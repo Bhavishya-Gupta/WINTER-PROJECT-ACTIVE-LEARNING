{
  "nbformat": 4,
  "nbformat_minor": 0,
  "metadata": {
    "colab": {
      "provenance": []
    },
    "kernelspec": {
      "name": "python3",
      "display_name": "Python 3"
    },
    "language_info": {
      "name": "python"
    }
  },
  "cells": [
    {
      "cell_type": "markdown",
      "source": [
        "ASSIGNMENT 3"
      ],
      "metadata": {
        "id": "Mm_WWdg_KAck"
      }
    },
    {
      "cell_type": "code",
      "source": [
        "import numpy as np\n",
        "import tensorflow as tf\n",
        "from tensorflow import keras\n",
        "from tensorflow.keras import layers\n",
        "from sklearn.model_selection import train_test_split\n",
        "from scipy.stats import entropy\n",
        "from sklearn.metrics.pairwise import cosine_similarity\n",
        "import matplotlib.pyplot as plt\n",
        "\n"
      ],
      "metadata": {
        "id": "A-1GIfMKJ9pU"
      },
      "execution_count": 1,
      "outputs": []
    },
    {
      "cell_type": "code",
      "execution_count": 19,
      "metadata": {
        "id": "ic9EYfMi0Tk_"
      },
      "outputs": [],
      "source": [
        "(X_train_full, y_train_full), (X_test, y_test) = keras.datasets.fashion_mnist.load_data()\n",
        "X_train_full = X_train_full / 255.0\n",
        "X_test = X_test / 255.0\n",
        "\n"
      ]
    },
    {
      "cell_type": "code",
      "source": [
        "\n",
        "X_train, X_validation, y_train, y_validation = train_test_split(\n",
        "    X_train_full, y_train_full, test_size=0.2, random_state=2020\n",
        ")\n"
      ],
      "metadata": {
        "id": "mrVssfhRKicl"
      },
      "execution_count": 20,
      "outputs": []
    },
    {
      "cell_type": "code",
      "source": [
        "X_train = np.expand_dims(X_train, -1)\n",
        "X_validation = np.expand_dims(X_validation, -1)\n",
        "X_test = np.expand_dims(X_test, -1)\n",
        "\n"
      ],
      "metadata": {
        "id": "GVECel7MKiZO"
      },
      "execution_count": 21,
      "outputs": []
    },
    {
      "cell_type": "code",
      "source": [
        "# Define the CNN model\n",
        "def create_model():\n",
        "    model = keras.Sequential([\n",
        "        layers.Conv2D(32, kernel_size=3, activation='relu', input_shape=(28, 28, 1)),\n",
        "        layers.MaxPooling2D(pool_size=2),\n",
        "        layers.Conv2D(64, kernel_size=3, activation='relu'),\n",
        "        layers.MaxPooling2D(pool_size=2),\n",
        "        layers.Flatten(),\n",
        "        layers.Dense(128, activation='relu'),\n",
        "        layers.Dropout(0.25),\n",
        "        layers.Dense(10, activation='softmax')\n",
        "    ])\n",
        "    model.compile(optimizer='adam', loss='sparse_categorical_crossentropy', metrics=['accuracy'])\n",
        "    return model\n",
        "\n"
      ],
      "metadata": {
        "id": "wdGqZ83dKiWn"
      },
      "execution_count": 5,
      "outputs": []
    },
    {
      "cell_type": "code",
      "source": [
        "# Metrics Calculation\n",
        "def calculate_metrics(model, X_pool):\n",
        "    predictions = model.predict(X_pool, batch_size=256)\n",
        "    features = model.predict(X_pool, batch_size=512)\n",
        "\n",
        "     # Least Confidence\n",
        "    least_conf_scores = np.max(predictions, axis=1)\n",
        "    avg_least_confidence = np.mean(least_conf_scores)\n",
        "\n",
        "    # Prediction Entropy\n",
        "    pred_entropies = entropy(predictions.T)\n",
        "    avg_prediction_entropy = np.mean(pred_entropies)\n",
        "\n",
        "    # Margin Sampling\n",
        "    sorted_preds = -np.sort(-predictions, axis=1)\n",
        "    margins = sorted_preds[:, 0] - sorted_preds[:, 1]\n",
        "    avg_margin_sampling = np.mean(margins)\n",
        "\n",
        "    # Cosine Similarity (Feature Diversity)\n",
        "    similarities = cosine_similarity(features)\n",
        "    diversities = 1 - similarities.sum(axis=1)\n",
        "    avg_cosine_similarity = np.mean(diversities)\n",
        "\n",
        "    # L2 Norm\n",
        "    l2_norms = np.linalg.norm(features, axis=1)\n",
        "    avg_l2_norm = np.mean(l2_norms)\n",
        "\n",
        "    # KL Divergence\n",
        "    uniform_dist = np.ones_like(predictions) / predictions.shape[1]\n",
        "    kl_divergences = np.sum(predictions * np.log(predictions / uniform_dist), axis=1)\n",
        "    avg_kl_divergence = np.mean(kl_divergences)\n",
        "\n",
        "    return {\n",
        "        \"Average Least Confidence\": avg_least_confidence,\n",
        "        \"Average Prediction Entropy\": avg_prediction_entropy,\n",
        "        \"Average Margin Sampling\": avg_margin_sampling,\n",
        "        \"Average Cosine Similarity\": avg_cosine_similarity,\n",
        "        \"Average L2 Norm\": avg_l2_norm,\n",
        "        \"Average KL Divergence\": avg_kl_divergence\n",
        "    }\n",
        "\n"
      ],
      "metadata": {
        "id": "Fb1TesDvKiTt"
      },
      "execution_count": 9,
      "outputs": []
    },
    {
      "cell_type": "code",
      "source": [
        "# Train model without active learning\n",
        "model_without_al = create_model()\n",
        "history_without_al = model_without_al.fit(\n",
        "    X_train, y_train, epochs=20, batch_size=512, validation_data=(X_validation, y_validation)\n",
        ")\n",
        "val_acc_without_al = model_without_al.evaluate(X_validation, y_validation, verbose=0)[1]\n",
        "print(f'Validation Accuracy without Active Learning: {val_acc_without_al:.2f}')\n",
        "\n",
        "\n",
        "\n",
        "\n"
      ],
      "metadata": {
        "colab": {
          "base_uri": "https://localhost:8080/"
        },
        "id": "HNeGnDeZKiQe",
        "outputId": "1591a52a-1bdf-4987-e075-19ad366d29d2"
      },
      "execution_count": 10,
      "outputs": [
        {
          "output_type": "stream",
          "name": "stderr",
          "text": [
            "/usr/local/lib/python3.10/dist-packages/keras/src/layers/convolutional/base_conv.py:107: UserWarning: Do not pass an `input_shape`/`input_dim` argument to a layer. When using Sequential models, prefer using an `Input(shape)` object as the first layer in the model instead.\n",
            "  super().__init__(activity_regularizer=activity_regularizer, **kwargs)\n"
          ]
        },
        {
          "output_type": "stream",
          "name": "stdout",
          "text": [
            "Epoch 1/20\n",
            "\u001b[1m94/94\u001b[0m \u001b[32m━━━━━━━━━━━━━━━━━━━━\u001b[0m\u001b[37m\u001b[0m \u001b[1m53s\u001b[0m 536ms/step - accuracy: 0.5699 - loss: 1.3291 - val_accuracy: 0.8064 - val_loss: 0.5230\n",
            "Epoch 2/20\n",
            "\u001b[1m94/94\u001b[0m \u001b[32m━━━━━━━━━━━━━━━━━━━━\u001b[0m\u001b[37m\u001b[0m \u001b[1m48s\u001b[0m 514ms/step - accuracy: 0.8087 - loss: 0.5237 - val_accuracy: 0.8511 - val_loss: 0.4124\n",
            "Epoch 3/20\n",
            "\u001b[1m94/94\u001b[0m \u001b[32m━━━━━━━━━━━━━━━━━━━━\u001b[0m\u001b[37m\u001b[0m \u001b[1m87s\u001b[0m 564ms/step - accuracy: 0.8462 - loss: 0.4266 - val_accuracy: 0.8677 - val_loss: 0.3686\n",
            "Epoch 4/20\n",
            "\u001b[1m94/94\u001b[0m \u001b[32m━━━━━━━━━━━━━━━━━━━━\u001b[0m\u001b[37m\u001b[0m \u001b[1m84s\u001b[0m 585ms/step - accuracy: 0.8609 - loss: 0.3821 - val_accuracy: 0.8728 - val_loss: 0.3454\n",
            "Epoch 5/20\n",
            "\u001b[1m94/94\u001b[0m \u001b[32m━━━━━━━━━━━━━━━━━━━━\u001b[0m\u001b[37m\u001b[0m \u001b[1m77s\u001b[0m 534ms/step - accuracy: 0.8738 - loss: 0.3518 - val_accuracy: 0.8791 - val_loss: 0.3311\n",
            "Epoch 6/20\n",
            "\u001b[1m94/94\u001b[0m \u001b[32m━━━━━━━━━━━━━━━━━━━━\u001b[0m\u001b[37m\u001b[0m \u001b[1m82s\u001b[0m 532ms/step - accuracy: 0.8846 - loss: 0.3208 - val_accuracy: 0.8869 - val_loss: 0.3100\n",
            "Epoch 7/20\n",
            "\u001b[1m94/94\u001b[0m \u001b[32m━━━━━━━━━━━━━━━━━━━━\u001b[0m\u001b[37m\u001b[0m \u001b[1m78s\u001b[0m 493ms/step - accuracy: 0.8864 - loss: 0.3112 - val_accuracy: 0.8874 - val_loss: 0.3064\n",
            "Epoch 8/20\n",
            "\u001b[1m94/94\u001b[0m \u001b[32m━━━━━━━━━━━━━━━━━━━━\u001b[0m\u001b[37m\u001b[0m \u001b[1m86s\u001b[0m 541ms/step - accuracy: 0.8914 - loss: 0.2967 - val_accuracy: 0.8919 - val_loss: 0.2985\n",
            "Epoch 9/20\n",
            "\u001b[1m94/94\u001b[0m \u001b[32m━━━━━━━━━━━━━━━━━━━━\u001b[0m\u001b[37m\u001b[0m \u001b[1m82s\u001b[0m 537ms/step - accuracy: 0.8966 - loss: 0.2840 - val_accuracy: 0.8935 - val_loss: 0.2871\n",
            "Epoch 10/20\n",
            "\u001b[1m94/94\u001b[0m \u001b[32m━━━━━━━━━━━━━━━━━━━━\u001b[0m\u001b[37m\u001b[0m \u001b[1m82s\u001b[0m 537ms/step - accuracy: 0.9016 - loss: 0.2688 - val_accuracy: 0.8951 - val_loss: 0.2888\n",
            "Epoch 11/20\n",
            "\u001b[1m94/94\u001b[0m \u001b[32m━━━━━━━━━━━━━━━━━━━━\u001b[0m\u001b[37m\u001b[0m \u001b[1m78s\u001b[0m 498ms/step - accuracy: 0.8995 - loss: 0.2688 - val_accuracy: 0.8990 - val_loss: 0.2754\n",
            "Epoch 12/20\n",
            "\u001b[1m94/94\u001b[0m \u001b[32m━━━━━━━━━━━━━━━━━━━━\u001b[0m\u001b[37m\u001b[0m \u001b[1m81s\u001b[0m 491ms/step - accuracy: 0.9078 - loss: 0.2539 - val_accuracy: 0.9016 - val_loss: 0.2721\n",
            "Epoch 13/20\n",
            "\u001b[1m94/94\u001b[0m \u001b[32m━━━━━━━━━━━━━━━━━━━━\u001b[0m\u001b[37m\u001b[0m \u001b[1m87s\u001b[0m 543ms/step - accuracy: 0.9104 - loss: 0.2474 - val_accuracy: 0.9022 - val_loss: 0.2709\n",
            "Epoch 14/20\n",
            "\u001b[1m94/94\u001b[0m \u001b[32m━━━━━━━━━━━━━━━━━━━━\u001b[0m\u001b[37m\u001b[0m \u001b[1m80s\u001b[0m 523ms/step - accuracy: 0.9145 - loss: 0.2346 - val_accuracy: 0.9038 - val_loss: 0.2681\n",
            "Epoch 15/20\n",
            "\u001b[1m94/94\u001b[0m \u001b[32m━━━━━━━━━━━━━━━━━━━━\u001b[0m\u001b[37m\u001b[0m \u001b[1m80s\u001b[0m 500ms/step - accuracy: 0.9148 - loss: 0.2341 - val_accuracy: 0.8972 - val_loss: 0.2782\n",
            "Epoch 16/20\n",
            "\u001b[1m94/94\u001b[0m \u001b[32m━━━━━━━━━━━━━━━━━━━━\u001b[0m\u001b[37m\u001b[0m \u001b[1m83s\u001b[0m 518ms/step - accuracy: 0.9142 - loss: 0.2290 - val_accuracy: 0.9042 - val_loss: 0.2599\n",
            "Epoch 17/20\n",
            "\u001b[1m94/94\u001b[0m \u001b[32m━━━━━━━━━━━━━━━━━━━━\u001b[0m\u001b[37m\u001b[0m \u001b[1m46s\u001b[0m 488ms/step - accuracy: 0.9196 - loss: 0.2202 - val_accuracy: 0.9021 - val_loss: 0.2713\n",
            "Epoch 18/20\n",
            "\u001b[1m94/94\u001b[0m \u001b[32m━━━━━━━━━━━━━━━━━━━━\u001b[0m\u001b[37m\u001b[0m \u001b[1m47s\u001b[0m 498ms/step - accuracy: 0.9229 - loss: 0.2125 - val_accuracy: 0.9062 - val_loss: 0.2597\n",
            "Epoch 19/20\n",
            "\u001b[1m94/94\u001b[0m \u001b[32m━━━━━━━━━━━━━━━━━━━━\u001b[0m\u001b[37m\u001b[0m \u001b[1m84s\u001b[0m 523ms/step - accuracy: 0.9220 - loss: 0.2095 - val_accuracy: 0.9085 - val_loss: 0.2530\n",
            "Epoch 20/20\n",
            "\u001b[1m94/94\u001b[0m \u001b[32m━━━━━━━━━━━━━━━━━━━━\u001b[0m\u001b[37m\u001b[0m \u001b[1m47s\u001b[0m 496ms/step - accuracy: 0.9270 - loss: 0.1985 - val_accuracy: 0.9095 - val_loss: 0.2531\n",
            "Validation Accuracy without Active Learning: 0.91\n"
          ]
        }
      ]
    },
    {
      "cell_type": "code",
      "source": [
        "# Active learning selection\n",
        "n_samples = 1000\n",
        "selected_indices = np.random.choice(X_validation.shape[0], n_samples, replace=False)  # Random selection\n",
        "X_selected = X_validation[selected_indices]\n",
        "y_selected = y_validation[selected_indices]\n"
      ],
      "metadata": {
        "id": "RbY-kLuaKiNC"
      },
      "execution_count": 11,
      "outputs": []
    },
    {
      "cell_type": "code",
      "source": [
        "# Augment training data with selected samples\n",
        "X_train_al = np.concatenate([X_train, X_selected], axis=0)\n",
        "y_train_al = np.concatenate([y_train, y_selected], axis=0)\n"
      ],
      "metadata": {
        "id": "W0DDHj7KKiGc"
      },
      "execution_count": 12,
      "outputs": []
    },
    {
      "cell_type": "code",
      "source": [
        "# Train model with active learning\n",
        "model_with_al = create_model()\n",
        "history_with_al = model_with_al.fit(\n",
        "    X_train_al, y_train_al, epochs=25, batch_size=256, validation_data=(X_validation, y_validation)\n",
        ")\n",
        "val_acc_with_al = model_with_al.evaluate(X_validation, y_validation, verbose=0)[1]\n",
        "print(f'Validation Accuracy with Active Learning: {val_acc_with_al:.2f}')\n",
        "\n"
      ],
      "metadata": {
        "colab": {
          "base_uri": "https://localhost:8080/"
        },
        "id": "Yeg-t_E1Kh92",
        "outputId": "4bc705ba-c192-4d03-89b1-2db1eec1d5d1"
      },
      "execution_count": 13,
      "outputs": [
        {
          "output_type": "stream",
          "name": "stdout",
          "text": [
            "Epoch 1/25\n",
            "\u001b[1m192/192\u001b[0m \u001b[32m━━━━━━━━━━━━━━━━━━━━\u001b[0m\u001b[37m\u001b[0m \u001b[1m52s\u001b[0m 266ms/step - accuracy: 0.6274 - loss: 1.0723 - val_accuracy: 0.8357 - val_loss: 0.4549\n",
            "Epoch 2/25\n",
            "\u001b[1m192/192\u001b[0m \u001b[32m━━━━━━━━━━━━━━━━━━━━\u001b[0m\u001b[37m\u001b[0m \u001b[1m45s\u001b[0m 237ms/step - accuracy: 0.8353 - loss: 0.4582 - val_accuracy: 0.8619 - val_loss: 0.3797\n",
            "Epoch 3/25\n",
            "\u001b[1m192/192\u001b[0m \u001b[32m━━━━━━━━━━━━━━━━━━━━\u001b[0m\u001b[37m\u001b[0m \u001b[1m85s\u001b[0m 251ms/step - accuracy: 0.8564 - loss: 0.3949 - val_accuracy: 0.8745 - val_loss: 0.3395\n",
            "Epoch 4/25\n",
            "\u001b[1m192/192\u001b[0m \u001b[32m━━━━━━━━━━━━━━━━━━━━\u001b[0m\u001b[37m\u001b[0m \u001b[1m48s\u001b[0m 247ms/step - accuracy: 0.8734 - loss: 0.3491 - val_accuracy: 0.8809 - val_loss: 0.3297\n",
            "Epoch 5/25\n",
            "\u001b[1m192/192\u001b[0m \u001b[32m━━━━━━━━━━━━━━━━━━━━\u001b[0m\u001b[37m\u001b[0m \u001b[1m47s\u001b[0m 243ms/step - accuracy: 0.8830 - loss: 0.3212 - val_accuracy: 0.8842 - val_loss: 0.3101\n",
            "Epoch 6/25\n",
            "\u001b[1m192/192\u001b[0m \u001b[32m━━━━━━━━━━━━━━━━━━━━\u001b[0m\u001b[37m\u001b[0m \u001b[1m83s\u001b[0m 250ms/step - accuracy: 0.8899 - loss: 0.2973 - val_accuracy: 0.8907 - val_loss: 0.2973\n",
            "Epoch 7/25\n",
            "\u001b[1m192/192\u001b[0m \u001b[32m━━━━━━━━━━━━━━━━━━━━\u001b[0m\u001b[37m\u001b[0m \u001b[1m80s\u001b[0m 240ms/step - accuracy: 0.8938 - loss: 0.2901 - val_accuracy: 0.8913 - val_loss: 0.2936\n",
            "Epoch 8/25\n",
            "\u001b[1m192/192\u001b[0m \u001b[32m━━━━━━━━━━━━━━━━━━━━\u001b[0m\u001b[37m\u001b[0m \u001b[1m82s\u001b[0m 239ms/step - accuracy: 0.9015 - loss: 0.2681 - val_accuracy: 0.8947 - val_loss: 0.2811\n",
            "Epoch 9/25\n",
            "\u001b[1m192/192\u001b[0m \u001b[32m━━━━━━━━━━━━━━━━━━━━\u001b[0m\u001b[37m\u001b[0m \u001b[1m83s\u001b[0m 243ms/step - accuracy: 0.9033 - loss: 0.2653 - val_accuracy: 0.8992 - val_loss: 0.2754\n",
            "Epoch 10/25\n",
            "\u001b[1m192/192\u001b[0m \u001b[32m━━━━━━━━━━━━━━━━━━━━\u001b[0m\u001b[37m\u001b[0m \u001b[1m81s\u001b[0m 237ms/step - accuracy: 0.9087 - loss: 0.2490 - val_accuracy: 0.8923 - val_loss: 0.2926\n",
            "Epoch 11/25\n",
            "\u001b[1m192/192\u001b[0m \u001b[32m━━━━━━━━━━━━━━━━━━━━\u001b[0m\u001b[37m\u001b[0m \u001b[1m83s\u001b[0m 243ms/step - accuracy: 0.9128 - loss: 0.2404 - val_accuracy: 0.9054 - val_loss: 0.2584\n",
            "Epoch 12/25\n",
            "\u001b[1m192/192\u001b[0m \u001b[32m━━━━━━━━━━━━━━━━━━━━\u001b[0m\u001b[37m\u001b[0m \u001b[1m81s\u001b[0m 241ms/step - accuracy: 0.9165 - loss: 0.2265 - val_accuracy: 0.9072 - val_loss: 0.2534\n",
            "Epoch 13/25\n",
            "\u001b[1m192/192\u001b[0m \u001b[32m━━━━━━━━━━━━━━━━━━━━\u001b[0m\u001b[37m\u001b[0m \u001b[1m84s\u001b[0m 250ms/step - accuracy: 0.9157 - loss: 0.2238 - val_accuracy: 0.9099 - val_loss: 0.2497\n",
            "Epoch 14/25\n",
            "\u001b[1m192/192\u001b[0m \u001b[32m━━━━━━━━━━━━━━━━━━━━\u001b[0m\u001b[37m\u001b[0m \u001b[1m80s\u001b[0m 241ms/step - accuracy: 0.9206 - loss: 0.2160 - val_accuracy: 0.9054 - val_loss: 0.2603\n",
            "Epoch 15/25\n",
            "\u001b[1m192/192\u001b[0m \u001b[32m━━━━━━━━━━━━━━━━━━━━\u001b[0m\u001b[37m\u001b[0m \u001b[1m45s\u001b[0m 233ms/step - accuracy: 0.9193 - loss: 0.2120 - val_accuracy: 0.9132 - val_loss: 0.2464\n",
            "Epoch 16/25\n",
            "\u001b[1m192/192\u001b[0m \u001b[32m━━━━━━━━━━━━━━━━━━━━\u001b[0m\u001b[37m\u001b[0m \u001b[1m85s\u001b[0m 246ms/step - accuracy: 0.9283 - loss: 0.1959 - val_accuracy: 0.9097 - val_loss: 0.2518\n",
            "Epoch 17/25\n",
            "\u001b[1m192/192\u001b[0m \u001b[32m━━━━━━━━━━━━━━━━━━━━\u001b[0m\u001b[37m\u001b[0m \u001b[1m80s\u001b[0m 235ms/step - accuracy: 0.9297 - loss: 0.1869 - val_accuracy: 0.9142 - val_loss: 0.2427\n",
            "Epoch 18/25\n",
            "\u001b[1m192/192\u001b[0m \u001b[32m━━━━━━━━━━━━━━━━━━━━\u001b[0m\u001b[37m\u001b[0m \u001b[1m47s\u001b[0m 244ms/step - accuracy: 0.9311 - loss: 0.1815 - val_accuracy: 0.9137 - val_loss: 0.2393\n",
            "Epoch 19/25\n",
            "\u001b[1m192/192\u001b[0m \u001b[32m━━━━━━━━━━━━━━━━━━━━\u001b[0m\u001b[37m\u001b[0m \u001b[1m80s\u001b[0m 235ms/step - accuracy: 0.9346 - loss: 0.1745 - val_accuracy: 0.9152 - val_loss: 0.2403\n",
            "Epoch 20/25\n",
            "\u001b[1m192/192\u001b[0m \u001b[32m━━━━━━━━━━━━━━━━━━━━\u001b[0m\u001b[37m\u001b[0m \u001b[1m86s\u001b[0m 258ms/step - accuracy: 0.9390 - loss: 0.1616 - val_accuracy: 0.9178 - val_loss: 0.2359\n",
            "Epoch 21/25\n",
            "\u001b[1m192/192\u001b[0m \u001b[32m━━━━━━━━━━━━━━━━━━━━\u001b[0m\u001b[37m\u001b[0m \u001b[1m78s\u001b[0m 237ms/step - accuracy: 0.9394 - loss: 0.1613 - val_accuracy: 0.9176 - val_loss: 0.2412\n",
            "Epoch 22/25\n",
            "\u001b[1m192/192\u001b[0m \u001b[32m━━━━━━━━━━━━━━━━━━━━\u001b[0m\u001b[37m\u001b[0m \u001b[1m82s\u001b[0m 237ms/step - accuracy: 0.9432 - loss: 0.1531 - val_accuracy: 0.9180 - val_loss: 0.2394\n",
            "Epoch 23/25\n",
            "\u001b[1m192/192\u001b[0m \u001b[32m━━━━━━━━━━━━━━━━━━━━\u001b[0m\u001b[37m\u001b[0m \u001b[1m44s\u001b[0m 228ms/step - accuracy: 0.9433 - loss: 0.1499 - val_accuracy: 0.9193 - val_loss: 0.2408\n",
            "Epoch 24/25\n",
            "\u001b[1m192/192\u001b[0m \u001b[32m━━━━━━━━━━━━━━━━━━━━\u001b[0m\u001b[37m\u001b[0m \u001b[1m83s\u001b[0m 235ms/step - accuracy: 0.9471 - loss: 0.1391 - val_accuracy: 0.9153 - val_loss: 0.2387\n",
            "Epoch 25/25\n",
            "\u001b[1m192/192\u001b[0m \u001b[32m━━━━━━━━━━━━━━━━━━━━\u001b[0m\u001b[37m\u001b[0m \u001b[1m85s\u001b[0m 250ms/step - accuracy: 0.9486 - loss: 0.1350 - val_accuracy: 0.9183 - val_loss: 0.2423\n",
            "Validation Accuracy with Active Learning: 0.92\n"
          ]
        }
      ]
    },
    {
      "cell_type": "code",
      "source": [
        "# Calculate metrics for the validation pool\n",
        "metrics_before_al = calculate_metrics(model_without_al, X_validation)\n",
        "metrics_after_al = calculate_metrics(model_with_al, X_validation)\n",
        "\n"
      ],
      "metadata": {
        "colab": {
          "base_uri": "https://localhost:8080/"
        },
        "id": "QudR_sZhMMYv",
        "outputId": "14d4081e-a637-4fb6-9585-4ffae6f6d5e2"
      },
      "execution_count": 16,
      "outputs": [
        {
          "output_type": "stream",
          "name": "stdout",
          "text": [
            "\u001b[1m47/47\u001b[0m \u001b[32m━━━━━━━━━━━━━━━━━━━━\u001b[0m\u001b[37m\u001b[0m \u001b[1m3s\u001b[0m 57ms/step\n",
            "\u001b[1m24/24\u001b[0m \u001b[32m━━━━━━━━━━━━━━━━━━━━\u001b[0m\u001b[37m\u001b[0m \u001b[1m4s\u001b[0m 150ms/step\n",
            "\u001b[1m47/47\u001b[0m \u001b[32m━━━━━━━━━━━━━━━━━━━━\u001b[0m\u001b[37m\u001b[0m \u001b[1m3s\u001b[0m 57ms/step\n",
            "\u001b[1m24/24\u001b[0m \u001b[32m━━━━━━━━━━━━━━━━━━━━\u001b[0m\u001b[37m\u001b[0m \u001b[1m3s\u001b[0m 128ms/step\n"
          ]
        }
      ]
    },
    {
      "cell_type": "code",
      "source": [
        "print(\"\\nMetrics Before Active Learning:\")\n",
        "for metric, value in metrics_before_al.items():\n",
        "    print(f\"{metric}: {value:.4f}\")\n",
        "\n"
      ],
      "metadata": {
        "colab": {
          "base_uri": "https://localhost:8080/"
        },
        "id": "vu9mL-VVMMN_",
        "outputId": "e54497b5-bb44-4224-8cb7-73e029ce795f"
      },
      "execution_count": 22,
      "outputs": [
        {
          "output_type": "stream",
          "name": "stdout",
          "text": [
            "\n",
            "Metrics Before Active Learning:\n",
            "Average Least Confidence: 0.9088\n",
            "Average Prediction Entropy: 0.2400\n",
            "Average Margin Sampling: 0.8368\n",
            "Average Cosine Similarity: -1470.6244\n",
            "Average L2 Norm: 0.9255\n",
            "Average KL Divergence: 2.0626\n"
          ]
        }
      ]
    },
    {
      "cell_type": "code",
      "source": [
        "print(\"\\nMetrics After Active Learning:\")\n",
        "for metric, value in metrics_after_al.items():\n",
        "    print(f\"{metric}: {value:.4f}\")\n"
      ],
      "metadata": {
        "colab": {
          "base_uri": "https://localhost:8080/"
        },
        "id": "ng0UNwsRMMFc",
        "outputId": "7d92a4ec-487e-47c2-bf4f-8d69757840da"
      },
      "execution_count": 18,
      "outputs": [
        {
          "output_type": "stream",
          "name": "stdout",
          "text": [
            "\n",
            "Metrics After Active Learning:\n",
            "Average Least Confidence: 0.9391\n",
            "Average Prediction Entropy: 0.1534\n",
            "Average Margin Sampling: 0.8871\n",
            "Average Cosine Similarity: -1370.4650\n",
            "Average L2 Norm: 0.9508\n",
            "Average KL Divergence: 2.1492\n"
          ]
        }
      ]
    },
    {
      "cell_type": "code",
      "source": [
        "\n",
        "# Plot accuracy graphs\n",
        "plt.figure(figsize=(10, 6))\n",
        "plt.plot(history_without_al.history['val_accuracy'], label='Without Active Learning', linestyle='--')\n",
        "plt.plot(history_with_al.history['val_accuracy'], label='With Active Learning', linestyle='-')\n",
        "plt.xlabel('Epochs')\n",
        "plt.ylabel('Validation Accuracy')\n",
        "plt.title('Validation Accuracy With and Without Active Learning')\n",
        "plt.legend()\n",
        "plt.grid(True)\n",
        "plt.show()"
      ],
      "metadata": {
        "colab": {
          "base_uri": "https://localhost:8080/",
          "height": 564
        },
        "id": "LEhSHQEeML7t",
        "outputId": "dc886ecf-b63a-43fa-db93-b89f0fd577c9"
      },
      "execution_count": 14,
      "outputs": [
        {
          "output_type": "display_data",
          "data": {
            "text/plain": [
              "<Figure size 1000x600 with 1 Axes>"
            ],
            "image/png": "[encoded data removed]"
          },
          "metadata": {}
        }
      ]
    },
    {
      "cell_type": "markdown",
      "source": [
        "Report and Analysis:\n",
        "Effective Active Learning Strategy:\n",
        "Reflect on strategies used such as\n",
        "Uncertainty Sampling which is Selecting samples the model is least confident about\n",
        "and Diversity Sampling that is Choosing diverse data points to maximize model learning.\n",
        "Justify the most effective strategy for our dataset and explain why it aligns with the dataset's characteristics such as class imbalance and noise levels."
      ],
      "metadata": {
        "id": "VT2xOuf9ZlXT"
      }
    }
  ]
}
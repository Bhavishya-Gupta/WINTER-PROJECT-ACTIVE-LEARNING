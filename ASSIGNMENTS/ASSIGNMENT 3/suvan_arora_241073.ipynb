{
  "nbformat": 4,
  "nbformat_minor": 0,
  "metadata": {
    "colab": {
      "provenance": [],
      "gpuType": "T4"
    },
    "kernelspec": {
      "name": "python3",
      "display_name": "Python 3"
    },
    "language_info": {
      "name": "python"
    },
    "accelerator": "GPU"
  },
  "cells": [
    {
      "cell_type": "markdown",
      "source": [
        "Core code for preparing dataset and forming the CNN architecture"
      ],
      "metadata": {
        "id": "Zp8AUl4_aWKR"
      }
    },
    {
      "cell_type": "code",
      "source": [
        "import numpy as np\n",
        "import torch\n",
        "import torch.nn as nn\n",
        "import torch.optim as optim\n",
        "import torch.nn.functional as F\n",
        "from torch.utils.data import DataLoader, random_split,Subset\n",
        "from torchvision import datasets, transforms\n",
        "from sklearn.metrics import pairwise_distances\n",
        "\n",
        "transform = transforms.Compose([\n",
        "    transforms.RandomRotation(10),\n",
        "    transforms.RandomHorizontalFlip(),\n",
        "    transforms.ToTensor(),\n",
        "    transforms.Normalize((0.5,), (0.5,))\n",
        "])\n",
        "\n",
        "class CNNModel(nn.Module):\n",
        "    def __init__(self):\n",
        "        super(CNNModel, self).__init__()\n",
        "        self.conv1 = nn.Conv2d(1, 32, kernel_size=3, padding=1)\n",
        "        self.conv2 = nn.Conv2d(32, 64, kernel_size=3, padding=1)\n",
        "        self.pool = nn.MaxPool2d(kernel_size=2, stride=2)\n",
        "        self.flattened_size = self._get_flattened_size()\n",
        "        self.fc1 = nn.Linear(self.flattened_size, 128)\n",
        "        self.fc2 = nn.Linear(128, 10)\n",
        "\n",
        "    def _get_flattened_size(self):\n",
        "        with torch.no_grad():\n",
        "            x = torch.zeros(1, 1, 28, 28)\n",
        "            x = self.pool(F.relu(self.conv2(F.relu(self.conv1(x)))))\n",
        "            return x.numel()\n",
        "\n",
        "    def forward(self, x):\n",
        "        x = F.relu(self.conv1(x))\n",
        "        x = self.pool(F.relu(self.conv2(x)))\n",
        "        x = x.view(x.size(0), -1)\n",
        "        x = F.relu(self.fc1(x))\n",
        "        x = self.fc2(x)\n",
        "        return x"
      ],
      "metadata": {
        "id": "UP0bsT1hZ90X"
      },
      "execution_count": 54,
      "outputs": []
    },
    {
      "cell_type": "markdown",
      "source": [
        "Defining function for pre-trained model"
      ],
      "metadata": {
        "id": "g0e2m2oZd-LT"
      }
    },
    {
      "cell_type": "code",
      "source": [
        "class PretrainedModel(nn.Module):\n",
        "    def __init__(self):\n",
        "        super(PretrainedModel, self).__init__()\n",
        "        self.model = torchvision.models.resnet18(pretrained=True)\n",
        "        self.model.conv1 = nn.Conv2d(1, 64, kernel_size=(7, 7), stride=(2, 2), padding=(3, 3), bias=False)\n",
        "        self.model.fc = nn.Linear(self.model.fc.in_features, 10)\n",
        "\n",
        "    def forward(self, x):\n",
        "        return self.model(x)"
      ],
      "metadata": {
        "id": "m99xBOBYeAeK"
      },
      "execution_count": 55,
      "outputs": []
    },
    {
      "cell_type": "markdown",
      "source": [
        "Defining function for calculating uncertainty metrices"
      ],
      "metadata": {
        "id": "CJuWpd4AZqAs"
      }
    },
    {
      "cell_type": "code",
      "source": [
        "def calculate_uncertainty_metrics(outputs):\n",
        "    probabilities = F.softmax(outputs, dim=1)\n",
        "    least_confidence = 1 - probabilities.max(dim=1).values.cpu().detach().numpy()\n",
        "    prediction_entropy = -torch.sum(probabilities * torch.log(probabilities + 1e-10), dim=1).cpu().detach().numpy()\n",
        "    margin_sampling = 1 - (probabilities.topk(2, dim=1).values[:, 0] - probabilities.topk(2, dim=1).values[:, 1]).cpu().detach().numpy()\n",
        "    return least_confidence, prediction_entropy, margin_sampling"
      ],
      "metadata": {
        "id": "nM-JE0f_86zX"
      },
      "execution_count": 56,
      "outputs": []
    },
    {
      "cell_type": "markdown",
      "source": [
        "Defining function for calculating diversity metrices"
      ],
      "metadata": {
        "id": "tDkxZ9R6Zurn"
      }
    },
    {
      "cell_type": "code",
      "source": [
        "def calculate_diversity_metrics(features, m=5, chunk_size=500):\n",
        "    cosine_similarities, l2_norms = [], []\n",
        "    for i in range(0, len(features), chunk_size):\n",
        "        chunk = features[i:i + chunk_size]\n",
        "        feature_distances_cosine = pairwise_distances(chunk, features, metric='cosine')\n",
        "        feature_distances_l2 = pairwise_distances(chunk, features, metric='euclidean')\n",
        "        cosine_similarities.append(1 - feature_distances_cosine[:, 1:m+1].mean(axis=1))\n",
        "        l2_norms.append(feature_distances_l2[:, 1:m+1].mean(axis=1))\n",
        "    return np.concatenate(cosine_similarities), np.concatenate(l2_norms)"
      ],
      "metadata": {
        "id": "Y446gLW089e9"
      },
      "execution_count": 57,
      "outputs": []
    },
    {
      "cell_type": "markdown",
      "source": [
        "Defining function for calculating KL Divergence"
      ],
      "metadata": {
        "id": "ayco75l4Zx_V"
      }
    },
    {
      "cell_type": "code",
      "source": [
        "def calculate_kl_divergence(outputs, feature_distances, m=5):\n",
        "    kl_divergence = []\n",
        "    outputs = F.softmax(outputs, dim=1).cpu().detach().numpy()\n",
        "    for i in range(len(outputs)):\n",
        "        current_sample_prob = outputs[i]\n",
        "        neighbor_indices = np.argsort(feature_distances[i])[1:m+1]\n",
        "        neighbors_prob = outputs[neighbor_indices].mean(axis=0)\n",
        "        epsilon = 1e-10\n",
        "        current_sample_prob += epsilon\n",
        "        neighbors_prob += epsilon\n",
        "        kl_divergence.append(np.sum(current_sample_prob * np.log(current_sample_prob / neighbors_prob)))\n",
        "    return np.array(kl_divergence)"
      ],
      "metadata": {
        "id": "uSGV89cc8_oL"
      },
      "execution_count": 58,
      "outputs": []
    },
    {
      "cell_type": "markdown",
      "source": [
        "Load Dataset"
      ],
      "metadata": {
        "id": "Ckk5vsXmdEhS"
      }
    },
    {
      "cell_type": "code",
      "source": [
        "transform = transforms.Compose([transforms.ToTensor(), transforms.Normalize((0.5,), (0.5,))])\n",
        "mnist_train = datasets.MNIST(root=\"./data\", train=True, download=True, transform=transform)\n",
        "mnist_test = datasets.MNIST(root=\"./data\", train=False, download=True, transform=transform)\n",
        "train_size = int(0.1 * len(mnist_train))\n",
        "unlabeled_size = len(mnist_train) - train_size\n",
        "train_dataset, unlabeled_dataset = random_split(mnist_train, [train_size, unlabeled_size])\n",
        "train_loader = DataLoader(train_dataset, batch_size=64, shuffle=True)\n",
        "unlabeled_loader = DataLoader(unlabeled_dataset, batch_size=64, shuffle=False)\n",
        "test_loader = DataLoader(mnist_test, batch_size=64, shuffle=False)"
      ],
      "metadata": {
        "id": "KOwv8FdBdFo3"
      },
      "execution_count": 59,
      "outputs": []
    },
    {
      "cell_type": "markdown",
      "source": [
        "Training function"
      ],
      "metadata": {
        "id": "sQSl4rwpBUlv"
      }
    },
    {
      "cell_type": "code",
      "source": [
        "def train_model(model, train_loader, epochs=5):\n",
        "    criterion = nn.CrossEntropyLoss()\n",
        "    optimizer = optim.Adam(model.parameters(), lr=0.001)\n",
        "    model.train()\n",
        "    for epoch in range(epochs):\n",
        "        for images, labels in train_loader:\n",
        "            images, labels = images.to(device), labels.to(device)\n",
        "            optimizer.zero_grad()\n",
        "            outputs = model(images)\n",
        "            loss = criterion(outputs, labels)\n",
        "            loss.backward()\n",
        "            optimizer.step()"
      ],
      "metadata": {
        "id": "g8LYWimUBZsR"
      },
      "execution_count": 60,
      "outputs": []
    },
    {
      "cell_type": "markdown",
      "source": [
        "Evaluation Function"
      ],
      "metadata": {
        "id": "bohvUBPgBhD3"
      }
    },
    {
      "cell_type": "code",
      "source": [
        "def test_model(model, test_loader):\n",
        "    model.eval()\n",
        "    correct, total = 0, 0\n",
        "    with torch.no_grad():\n",
        "        for images, labels in test_loader:\n",
        "            images, labels = images.to(device), labels.to(device)\n",
        "            outputs = model(images)\n",
        "            _, predicted = torch.max(outputs, 1)\n",
        "            total += labels.size(0)\n",
        "            correct += (predicted == labels).sum().item()\n",
        "    return 100 * correct / total"
      ],
      "metadata": {
        "id": "D-D7hZhaBeTD"
      },
      "execution_count": 61,
      "outputs": []
    },
    {
      "cell_type": "markdown",
      "source": [
        "Active learning function"
      ],
      "metadata": {
        "id": "yAzbgkSJZ6fY"
      }
    },
    {
      "cell_type": "code",
      "source": [
        "def active_learning(\n",
        "    model, unlabeled_loader, unlabeled_dataset, train_loader,\n",
        "    acquisition_iterations=3, samples_per_iteration=200, chunk_size=1000\n",
        "):\n",
        "    \"\"\"\n",
        "    Optimized Active Learning Function\n",
        "    \"\"\"\n",
        "    for iteration in range(acquisition_iterations):\n",
        "        print(f\"Acquisition Iteration {iteration + 1}/{acquisition_iterations}\")\n",
        "        model.eval()\n",
        "        features, outputs, indices = [], [], []\n",
        "        with torch.no_grad():\n",
        "            for i, (images, _) in enumerate(unlabeled_loader):\n",
        "                images = images.to(device)\n",
        "                output = model(images)\n",
        "                features.append(images.view(images.size(0), -1).cpu().numpy())\n",
        "                outputs.append(output)\n",
        "                indices.append(np.arange(i * images.size(0), i * images.size(0) + images.size(0)))\n",
        "\n",
        "                if i * images.size(0) >= chunk_size:\n",
        "                    break\n",
        "\n",
        "        features = np.concatenate(features)\n",
        "        outputs = torch.cat(outputs)\n",
        "        indices = np.concatenate(indices)\n",
        "\n",
        "        least_confidence, prediction_entropy, margin_sampling = calculate_uncertainty_metrics(outputs)\n",
        "        cosine_similarities, _ = calculate_diversity_metrics(features, chunk_size=chunk_size)\n",
        "\n",
        "        scores = least_confidence + prediction_entropy + margin_sampling + cosine_similarities\n",
        "        acquisition_indices = indices[np.argsort(scores)[-samples_per_iteration:]]\n",
        "\n",
        "        new_train_data = Subset(unlabeled_dataset, acquisition_indices.tolist())\n",
        "        updated_train_dataset = torch.utils.data.ConcatDataset([train_loader.dataset, new_train_data])\n",
        "\n",
        "        remaining_indices = list(set(range(len(unlabeled_dataset))) - set(acquisition_indices))\n",
        "        unlabeled_dataset = Subset(unlabeled_dataset, remaining_indices)\n",
        "        unlabeled_loader = DataLoader(unlabeled_dataset, batch_size=64, shuffle=True)\n",
        "        train_loader = DataLoader(updated_train_dataset, batch_size=64, shuffle=True)\n",
        "        train_model(model, train_loader)\n",
        "\n",
        "    return unlabeled_loader, unlabeled_dataset\n",
        "\n",
        "train_dataset = datasets.MNIST(root='./data', train=True, transform=transforms.ToTensor(), download=True)\n",
        "test_dataset = datasets.MNIST(root='./data', train=False, transform=transforms.ToTensor(), download=True)\n",
        "labeled_dataset, unlabeled_dataset = torch.utils.data.random_split(train_dataset, [1000, len(train_dataset) - 1000])\n",
        "\n",
        "train_loader = DataLoader(labeled_dataset, batch_size=64, shuffle=True)\n",
        "unlabeled_loader = DataLoader(unlabeled_dataset, batch_size=64, shuffle=False)\n",
        "test_loader = DataLoader(test_dataset, batch_size=64, shuffle=False)"
      ],
      "metadata": {
        "id": "emMR6kBUdL9B"
      },
      "execution_count": 62,
      "outputs": []
    },
    {
      "cell_type": "markdown",
      "source": [
        "Main function"
      ],
      "metadata": {
        "id": "hCCl2E9pkKAs"
      }
    },
    {
      "cell_type": "code",
      "source": [
        "device = torch.device(\"cuda\" if torch.cuda.is_available() else \"cpu\")\n",
        "\n",
        "# Pretrained model evaluation\n",
        "pretrained_model = CNNModel().to(device)\n",
        "train_model(pretrained_model, train_loader)\n",
        "pretrained_accuracy = test_model(pretrained_model, test_loader)\n",
        "print(f\"Pretrained Model Accuracy: {pretrained_accuracy:.2f}%\")\n",
        "\n",
        "# CNN evaluation\n",
        "custom_model = CNNModel().to(device)\n",
        "train_model(custom_model, train_loader)\n",
        "custom_model_accuracy = test_model(custom_model, test_loader)\n",
        "print(f\"Custom CNN Model Accuracy: {custom_model_accuracy:.2f}%\")\n",
        "\n",
        "# Active learning-enhanced model evaluation\n",
        "active_learning_model = CNNModel().to(device)\n",
        "unlabeled_loader, unlabeled_dataset = active_learning(\n",
        "    active_learning_model, unlabeled_loader, unlabeled_dataset, train_loader\n",
        ")\n",
        "active_learning_accuracy = test_model(active_learning_model, test_loader)\n",
        "print(f\"Active Learning-Enhanced Model Accuracy: {active_learning_accuracy:.2f}%\")"
      ],
      "metadata": {
        "colab": {
          "base_uri": "https://localhost:8080/"
        },
        "id": "_aNvO8KVbw4F",
        "outputId": "adf4d2aa-2f24-4ee4-c55c-ed875a610e2c"
      },
      "execution_count": 63,
      "outputs": [
        {
          "output_type": "stream",
          "name": "stdout",
          "text": [
            "Pretrained Model Accuracy: 89.63%\n",
            "Custom CNN Model Accuracy: 89.58%\n",
            "Acquisition Iteration 1/3\n",
            "Acquisition Iteration 2/3\n",
            "Acquisition Iteration 3/3\n",
            "Active Learning-Enhanced Model Accuracy: 95.07%\n"
          ]
        }
      ]
    }
  ]
}
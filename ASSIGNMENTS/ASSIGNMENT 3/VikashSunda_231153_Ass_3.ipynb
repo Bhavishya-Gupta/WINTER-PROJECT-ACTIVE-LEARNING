{
 "cells": [
  {
   "cell_type": "markdown",
   "metadata": {},
   "source": [
    "# Assignment 3"
   ]
  },
  {
   "cell_type": "code",
   "execution_count": 1,
   "metadata": {},
   "outputs": [
    {
     "name": "stdout",
     "output_type": "stream",
     "text": [
      "Downloading http://yann.lecun.com/exdb/mnist/train-images-idx3-ubyte.gz\n",
      "Failed to download (trying next):\n",
      "HTTP Error 404: Not Found\n",
      "\n",
      "Downloading https://ossci-datasets.s3.amazonaws.com/mnist/train-images-idx3-ubyte.gz\n",
      "Downloading https://ossci-datasets.s3.amazonaws.com/mnist/train-images-idx3-ubyte.gz to ./data\\MNIST\\raw\\train-images-idx3-ubyte.gz\n"
     ]
    },
    {
     "name": "stderr",
     "output_type": "stream",
     "text": [
      "100.0%\n"
     ]
    },
    {
     "name": "stdout",
     "output_type": "stream",
     "text": [
      "Extracting ./data\\MNIST\\raw\\train-images-idx3-ubyte.gz to ./data\\MNIST\\raw\n",
      "\n",
      "Downloading http://yann.lecun.com/exdb/mnist/train-labels-idx1-ubyte.gz\n",
      "Failed to download (trying next):\n",
      "HTTP Error 404: Not Found\n",
      "\n",
      "Downloading https://ossci-datasets.s3.amazonaws.com/mnist/train-labels-idx1-ubyte.gz\n",
      "Downloading https://ossci-datasets.s3.amazonaws.com/mnist/train-labels-idx1-ubyte.gz to ./data\\MNIST\\raw\\train-labels-idx1-ubyte.gz\n"
     ]
    },
    {
     "name": "stderr",
     "output_type": "stream",
     "text": [
      "100.0%\n"
     ]
    },
    {
     "name": "stdout",
     "output_type": "stream",
     "text": [
      "Extracting ./data\\MNIST\\raw\\train-labels-idx1-ubyte.gz to ./data\\MNIST\\raw\n",
      "\n",
      "Downloading http://yann.lecun.com/exdb/mnist/t10k-images-idx3-ubyte.gz\n",
      "Failed to download (trying next):\n",
      "HTTP Error 404: Not Found\n",
      "\n",
      "Downloading https://ossci-datasets.s3.amazonaws.com/mnist/t10k-images-idx3-ubyte.gz\n",
      "Downloading https://ossci-datasets.s3.amazonaws.com/mnist/t10k-images-idx3-ubyte.gz to ./data\\MNIST\\raw\\t10k-images-idx3-ubyte.gz\n"
     ]
    },
    {
     "name": "stderr",
     "output_type": "stream",
     "text": [
      "100.0%\n"
     ]
    },
    {
     "name": "stdout",
     "output_type": "stream",
     "text": [
      "Extracting ./data\\MNIST\\raw\\t10k-images-idx3-ubyte.gz to ./data\\MNIST\\raw\n",
      "\n",
      "Downloading http://yann.lecun.com/exdb/mnist/t10k-labels-idx1-ubyte.gz\n",
      "Failed to download (trying next):\n",
      "HTTP Error 404: Not Found\n",
      "\n",
      "Downloading https://ossci-datasets.s3.amazonaws.com/mnist/t10k-labels-idx1-ubyte.gz\n",
      "Downloading https://ossci-datasets.s3.amazonaws.com/mnist/t10k-labels-idx1-ubyte.gz to ./data\\MNIST\\raw\\t10k-labels-idx1-ubyte.gz\n"
     ]
    },
    {
     "name": "stderr",
     "output_type": "stream",
     "text": [
      "100.0%"
     ]
    },
    {
     "name": "stdout",
     "output_type": "stream",
     "text": [
      "Extracting ./data\\MNIST\\raw\\t10k-labels-idx1-ubyte.gz to ./data\\MNIST\\raw\n",
      "\n"
     ]
    },
    {
     "name": "stderr",
     "output_type": "stream",
     "text": [
      "\n"
     ]
    }
   ],
   "source": [
    "import torch\n",
    "import torch.nn as nn\n",
    "import torch.nn.functional as F\n",
    "import torch.optim as optim\n",
    "from torchvision import datasets, transforms\n",
    "from torch.utils.data import DataLoader\n",
    "\n",
    "batch_size = 64\n",
    "learning_rate = 0.001\n",
    "epochs = 10\n",
    "\n",
    "transform = transforms.Compose([\n",
    "    transforms.ToTensor(),\n",
    "    transforms.Normalize((0.5,), (0.5,))  \n",
    "])\n",
    "\n",
    "train_dataset = datasets.MNIST(root='./data', train=True, transform=transform, download=True)\n",
    "test_dataset = datasets.MNIST(root='./data', train=False, transform=transform, download=True)\n",
    "\n",
    "train_loader = DataLoader(train_dataset, batch_size=batch_size, shuffle=True)\n",
    "test_loader = DataLoader(test_dataset, batch_size=batch_size, shuffle=False)"
   ]
  },
  {
   "cell_type": "code",
   "execution_count": 2,
   "metadata": {},
   "outputs": [],
   "source": [
    "class CNN(nn.Module):\n",
    "    def __init__(self):\n",
    "        super(CNN, self).__init__()\n",
    "        self.conv1 = nn.Conv2d(1, 32, kernel_size=3) \n",
    "        self.conv2 = nn.Conv2d(32, 64, kernel_size=3) \n",
    "        self.fc1 = nn.Linear(64 * 5 * 5, 128)  \n",
    "        self.fc2 = nn.Linear(128, 10) \n",
    "\n",
    "    def forward(self, x):\n",
    "        x = F.relu(self.conv1(x))\n",
    "        x = F.max_pool2d(x, 2)    \n",
    "        x = F.relu(self.conv2(x)) \n",
    "        x = F.max_pool2d(x, 2)\n",
    "        x = x.view(x.size(0), -1)  \n",
    "        x = F.relu(self.fc1(x))\n",
    "        x = self.fc2(x)\n",
    "        return x\n",
    "\n",
    "model = CNN()"
   ]
  },
  {
   "cell_type": "code",
   "execution_count": 3,
   "metadata": {},
   "outputs": [],
   "source": [
    "criterion = nn.CrossEntropyLoss()  \n",
    "optimizer = optim.Adam(model.parameters(), lr=learning_rate)  "
   ]
  },
  {
   "cell_type": "code",
   "execution_count": 4,
   "metadata": {},
   "outputs": [
    {
     "name": "stdout",
     "output_type": "stream",
     "text": [
      "Epoch 1/10, Loss: 0.1545\n",
      "Epoch 2/10, Loss: 0.0460\n",
      "Epoch 3/10, Loss: 0.0316\n",
      "Epoch 4/10, Loss: 0.0241\n",
      "Epoch 5/10, Loss: 0.0178\n",
      "Epoch 6/10, Loss: 0.0145\n",
      "Epoch 7/10, Loss: 0.0122\n",
      "Epoch 8/10, Loss: 0.0093\n",
      "Epoch 9/10, Loss: 0.0085\n",
      "Epoch 10/10, Loss: 0.0074\n"
     ]
    }
   ],
   "source": [
    "device = torch.device('cuda' if torch.cuda.is_available() else 'cpu')\n",
    "net =model.to(device)\n",
    "\n",
    "for epoch in range(epochs):\n",
    "    model.train()\n",
    "    running_loss = 0.0\n",
    "    for inputs, labels in train_loader:\n",
    "        inputs, labels = inputs.to(device), labels.to(device)\n",
    "        \n",
    "        optimizer.zero_grad()\n",
    "        outputs = model(inputs)\n",
    "        loss = criterion(outputs, labels)\n",
    "        loss.backward()\n",
    "        optimizer.step()\n",
    "        \n",
    "        running_loss += loss.item()\n",
    "    print(f\"Epoch {epoch+1}/{epochs}, Loss: {running_loss/len(train_loader):.4f}\")"
   ]
  },
  {
   "cell_type": "code",
   "execution_count": 5,
   "metadata": {},
   "outputs": [
    {
     "name": "stdout",
     "output_type": "stream",
     "text": [
      "Test Accuracy: 99.16%\n"
     ]
    }
   ],
   "source": [
    "model.eval()\n",
    "correct = 0\n",
    "total = 0\n",
    "with torch.no_grad():\n",
    "    for inputs, labels in test_loader:\n",
    "        inputs, labels = inputs.to(device), labels.to(device)\n",
    "        outputs = model(inputs)\n",
    "        _, predicted = torch.max(outputs, 1)\n",
    "        total += labels.size(0)\n",
    "        correct += (predicted == labels).sum().item()\n",
    "\n",
    "accuracy = 100 * correct / total\n",
    "print(f\"Test Accuracy: {accuracy:.2f}%\")"
   ]
  },
  {
   "cell_type": "code",
   "execution_count": 6,
   "metadata": {},
   "outputs": [
    {
     "name": "stderr",
     "output_type": "stream",
     "text": [
      "c:\\Users\\Vikas\\AppData\\Local\\Programs\\Python\\Python39\\lib\\site-packages\\torchvision\\models\\_utils.py:208: UserWarning: The parameter 'pretrained' is deprecated since 0.13 and may be removed in the future, please use 'weights' instead.\n",
      "  warnings.warn(\n",
      "c:\\Users\\Vikas\\AppData\\Local\\Programs\\Python\\Python39\\lib\\site-packages\\torchvision\\models\\_utils.py:223: UserWarning: Arguments other than a weight enum or `None` for 'weights' are deprecated since 0.13 and may be removed in the future. The current behavior is equivalent to passing `weights=ResNet18_Weights.IMAGENET1K_V1`. You can also use `weights=ResNet18_Weights.DEFAULT` to get the most up-to-date weights.\n",
      "  warnings.warn(msg)\n"
     ]
    },
    {
     "data": {
      "text/plain": [
       "ResNet(\n",
       "  (conv1): Conv2d(3, 64, kernel_size=(7, 7), stride=(2, 2), padding=(3, 3), bias=False)\n",
       "  (bn1): BatchNorm2d(64, eps=1e-05, momentum=0.1, affine=True, track_running_stats=True)\n",
       "  (relu): ReLU(inplace=True)\n",
       "  (maxpool): MaxPool2d(kernel_size=3, stride=2, padding=1, dilation=1, ceil_mode=False)\n",
       "  (layer1): Sequential(\n",
       "    (0): BasicBlock(\n",
       "      (conv1): Conv2d(64, 64, kernel_size=(3, 3), stride=(1, 1), padding=(1, 1), bias=False)\n",
       "      (bn1): BatchNorm2d(64, eps=1e-05, momentum=0.1, affine=True, track_running_stats=True)\n",
       "      (relu): ReLU(inplace=True)\n",
       "      (conv2): Conv2d(64, 64, kernel_size=(3, 3), stride=(1, 1), padding=(1, 1), bias=False)\n",
       "      (bn2): BatchNorm2d(64, eps=1e-05, momentum=0.1, affine=True, track_running_stats=True)\n",
       "    )\n",
       "    (1): BasicBlock(\n",
       "      (conv1): Conv2d(64, 64, kernel_size=(3, 3), stride=(1, 1), padding=(1, 1), bias=False)\n",
       "      (bn1): BatchNorm2d(64, eps=1e-05, momentum=0.1, affine=True, track_running_stats=True)\n",
       "      (relu): ReLU(inplace=True)\n",
       "      (conv2): Conv2d(64, 64, kernel_size=(3, 3), stride=(1, 1), padding=(1, 1), bias=False)\n",
       "      (bn2): BatchNorm2d(64, eps=1e-05, momentum=0.1, affine=True, track_running_stats=True)\n",
       "    )\n",
       "  )\n",
       "  (layer2): Sequential(\n",
       "    (0): BasicBlock(\n",
       "      (conv1): Conv2d(64, 128, kernel_size=(3, 3), stride=(2, 2), padding=(1, 1), bias=False)\n",
       "      (bn1): BatchNorm2d(128, eps=1e-05, momentum=0.1, affine=True, track_running_stats=True)\n",
       "      (relu): ReLU(inplace=True)\n",
       "      (conv2): Conv2d(128, 128, kernel_size=(3, 3), stride=(1, 1), padding=(1, 1), bias=False)\n",
       "      (bn2): BatchNorm2d(128, eps=1e-05, momentum=0.1, affine=True, track_running_stats=True)\n",
       "      (downsample): Sequential(\n",
       "        (0): Conv2d(64, 128, kernel_size=(1, 1), stride=(2, 2), bias=False)\n",
       "        (1): BatchNorm2d(128, eps=1e-05, momentum=0.1, affine=True, track_running_stats=True)\n",
       "      )\n",
       "    )\n",
       "    (1): BasicBlock(\n",
       "      (conv1): Conv2d(128, 128, kernel_size=(3, 3), stride=(1, 1), padding=(1, 1), bias=False)\n",
       "      (bn1): BatchNorm2d(128, eps=1e-05, momentum=0.1, affine=True, track_running_stats=True)\n",
       "      (relu): ReLU(inplace=True)\n",
       "      (conv2): Conv2d(128, 128, kernel_size=(3, 3), stride=(1, 1), padding=(1, 1), bias=False)\n",
       "      (bn2): BatchNorm2d(128, eps=1e-05, momentum=0.1, affine=True, track_running_stats=True)\n",
       "    )\n",
       "  )\n",
       "  (layer3): Sequential(\n",
       "    (0): BasicBlock(\n",
       "      (conv1): Conv2d(128, 256, kernel_size=(3, 3), stride=(2, 2), padding=(1, 1), bias=False)\n",
       "      (bn1): BatchNorm2d(256, eps=1e-05, momentum=0.1, affine=True, track_running_stats=True)\n",
       "      (relu): ReLU(inplace=True)\n",
       "      (conv2): Conv2d(256, 256, kernel_size=(3, 3), stride=(1, 1), padding=(1, 1), bias=False)\n",
       "      (bn2): BatchNorm2d(256, eps=1e-05, momentum=0.1, affine=True, track_running_stats=True)\n",
       "      (downsample): Sequential(\n",
       "        (0): Conv2d(128, 256, kernel_size=(1, 1), stride=(2, 2), bias=False)\n",
       "        (1): BatchNorm2d(256, eps=1e-05, momentum=0.1, affine=True, track_running_stats=True)\n",
       "      )\n",
       "    )\n",
       "    (1): BasicBlock(\n",
       "      (conv1): Conv2d(256, 256, kernel_size=(3, 3), stride=(1, 1), padding=(1, 1), bias=False)\n",
       "      (bn1): BatchNorm2d(256, eps=1e-05, momentum=0.1, affine=True, track_running_stats=True)\n",
       "      (relu): ReLU(inplace=True)\n",
       "      (conv2): Conv2d(256, 256, kernel_size=(3, 3), stride=(1, 1), padding=(1, 1), bias=False)\n",
       "      (bn2): BatchNorm2d(256, eps=1e-05, momentum=0.1, affine=True, track_running_stats=True)\n",
       "    )\n",
       "  )\n",
       "  (layer4): Sequential(\n",
       "    (0): BasicBlock(\n",
       "      (conv1): Conv2d(256, 512, kernel_size=(3, 3), stride=(2, 2), padding=(1, 1), bias=False)\n",
       "      (bn1): BatchNorm2d(512, eps=1e-05, momentum=0.1, affine=True, track_running_stats=True)\n",
       "      (relu): ReLU(inplace=True)\n",
       "      (conv2): Conv2d(512, 512, kernel_size=(3, 3), stride=(1, 1), padding=(1, 1), bias=False)\n",
       "      (bn2): BatchNorm2d(512, eps=1e-05, momentum=0.1, affine=True, track_running_stats=True)\n",
       "      (downsample): Sequential(\n",
       "        (0): Conv2d(256, 512, kernel_size=(1, 1), stride=(2, 2), bias=False)\n",
       "        (1): BatchNorm2d(512, eps=1e-05, momentum=0.1, affine=True, track_running_stats=True)\n",
       "      )\n",
       "    )\n",
       "    (1): BasicBlock(\n",
       "      (conv1): Conv2d(512, 512, kernel_size=(3, 3), stride=(1, 1), padding=(1, 1), bias=False)\n",
       "      (bn1): BatchNorm2d(512, eps=1e-05, momentum=0.1, affine=True, track_running_stats=True)\n",
       "      (relu): ReLU(inplace=True)\n",
       "      (conv2): Conv2d(512, 512, kernel_size=(3, 3), stride=(1, 1), padding=(1, 1), bias=False)\n",
       "      (bn2): BatchNorm2d(512, eps=1e-05, momentum=0.1, affine=True, track_running_stats=True)\n",
       "    )\n",
       "  )\n",
       "  (avgpool): AdaptiveAvgPool2d(output_size=(1, 1))\n",
       "  (fc): Linear(in_features=512, out_features=10, bias=True)\n",
       ")"
      ]
     },
     "execution_count": 6,
     "metadata": {},
     "output_type": "execute_result"
    }
   ],
   "source": [
    "from torchvision import models\n",
    "\n",
    "pretrained_model = models.resnet18(pretrained=True)\n",
    "\n",
    "pretrained_model.fc = nn.Linear(pretrained_model.fc.in_features, 10)\n",
    "\n",
    "pretrained_model.to(device)"
   ]
  },
  {
   "cell_type": "code",
   "execution_count": 7,
   "metadata": {},
   "outputs": [],
   "source": [
    "import numpy as np\n",
    "from scipy.spatial.distance import cdist\n",
    "import torch.nn.functional as F\n",
    "\n",
    "def least_confidence(predictions):\n",
    "    return 1 - predictions.max(axis=1)\n",
    "def prediction_entropy(predictions):\n",
    "    return -np.sum(predictions * np.log(predictions + 1e-10), axis=1)\n",
    "def margin_sampling(predictions):\n",
    "    sorted_preds = np.sort(predictions, axis=1)[:, ::-1]\n",
    "    return sorted_preds[:, 0] - sorted_preds[:, 1]\n",
    "def cosine_similarity(features, labeled_features):\n",
    "    similarities = cdist(features, labeled_features, metric='cosine')\n",
    "    return np.min(similarities, axis=1)\n",
    "def l2_norm(features, labeled_features):\n",
    "    distances = cdist(features, labeled_features, metric='euclidean')\n",
    "    return np.min(distances, axis=1)\n",
    "def kl_divergence(predictions, labeled_predictions):\n",
    "    mean_labeled_predictions = np.mean(labeled_predictions, axis=0, keepdims=True)\n",
    "    predictions = np.clip(predictions, 1e-10, 1.0)\n",
    "    mean_labeled_predictions = np.clip(mean_labeled_predictions, 1e-10, 1.0)\n",
    "    kl_values = np.sum(predictions * (np.log(predictions) - np.log(mean_labeled_predictions)), axis=1)\n",
    "    return kl_values"
   ]
  },
  {
   "cell_type": "code",
   "execution_count": 8,
   "metadata": {},
   "outputs": [],
   "source": [
    "import numpy as np\n",
    "from torch.utils.data import Subset\n",
    "\n",
    "def select_samples(model, unlabeled_loader, labeled_features=None, strategy='least_confidence', n_samples=100):\n",
    "    model.eval()\n",
    "    features = []\n",
    "    predictions = []\n",
    "\n",
    "    with torch.no_grad():\n",
    "        for inputs, _ in unlabeled_loader:\n",
    "            inputs = inputs.to(device)\n",
    "            outputs = model(inputs)\n",
    "            softmax_preds = F.softmax(outputs, dim=1).cpu().numpy()\n",
    "            features.append(outputs.cpu().numpy())\n",
    "            predictions.append(softmax_preds)\n",
    "\n",
    "    features = np.concatenate(features)\n",
    "    predictions = np.concatenate(predictions)\n",
    "\n",
    "    if labeled_features is None:\n",
    "        labeled_features = np.empty((0, features.shape[1]))  \n",
    "    else:\n",
    "        labeled_features = np.array(labeled_features)\n",
    "        if labeled_features.ndim == 1:\n",
    "            labeled_features = labeled_features.reshape(1, -1)\n",
    "\n",
    "    if strategy == 'least_confidence':\n",
    "        scores = least_confidence(predictions)\n",
    "    elif strategy == 'prediction_entropy':\n",
    "        scores = prediction_entropy(predictions)\n",
    "    elif strategy == 'margin_sampling':\n",
    "        scores = margin_sampling(predictions)\n",
    "    elif strategy == 'cosine_similarity':\n",
    "        scores = cosine_similarity(features, labeled_features)\n",
    "    elif strategy == 'l2_norm':\n",
    "        scores = l2_norm(features, labeled_features)\n",
    "    elif strategy == 'kl_divergence':\n",
    "        scores = kl_divergence(predictions, labeled_features)\n",
    "    else:\n",
    "        raise ValueError(f\"Unknown strategy: {strategy}\")\n",
    "\n",
    "    selected_indices = np.argsort(scores)[-n_samples:]\n",
    "    return selected_indices"
   ]
  },
  {
   "cell_type": "code",
   "execution_count": 9,
   "metadata": {},
   "outputs": [
    {
     "name": "stdout",
     "output_type": "stream",
     "text": [
      "Starting Active Learning with strategy: kl_divergence\n",
      "Strategy: kl_divergence, Iteration 1/10, Test Accuracy: 99.12%\n",
      "Strategy: kl_divergence, Iteration 2/10, Test Accuracy: 99.07%\n",
      "Strategy: kl_divergence, Iteration 3/10, Test Accuracy: 99.09%\n",
      "Starting Active Learning with strategy: least_confidence\n",
      "Strategy: least_confidence, Iteration 1/10, Test Accuracy: 99.23%\n",
      "Strategy: least_confidence, Iteration 2/10, Test Accuracy: 98.86%\n",
      "Strategy: least_confidence, Iteration 3/10, Test Accuracy: 98.91%\n",
      "Starting Active Learning with strategy: prediction_entropy\n",
      "Strategy: prediction_entropy, Iteration 1/10, Test Accuracy: 98.75%\n",
      "Strategy: prediction_entropy, Iteration 2/10, Test Accuracy: 98.25%\n",
      "Strategy: prediction_entropy, Iteration 3/10, Test Accuracy: 98.73%\n",
      "Starting Active Learning with strategy: margin_sampling\n",
      "Strategy: margin_sampling, Iteration 1/10, Test Accuracy: 98.70%\n",
      "Strategy: margin_sampling, Iteration 2/10, Test Accuracy: 98.60%\n",
      "Strategy: margin_sampling, Iteration 3/10, Test Accuracy: 98.75%\n",
      "Starting Active Learning with strategy: cosine_similarity\n",
      "Strategy: cosine_similarity, Iteration 1/10, Test Accuracy: 98.98%\n",
      "Strategy: cosine_similarity, Iteration 2/10, Test Accuracy: 99.03%\n",
      "Strategy: cosine_similarity, Iteration 3/10, Test Accuracy: 99.13%\n",
      "Starting Active Learning with strategy: l2_norm\n",
      "Strategy: l2_norm, Iteration 1/10, Test Accuracy: 99.13%\n",
      "Strategy: l2_norm, Iteration 2/10, Test Accuracy: 99.13%\n",
      "Strategy: l2_norm, Iteration 3/10, Test Accuracy: 99.20%\n"
     ]
    }
   ],
   "source": [
    "strategies = [\"kl_divergence\",\"least_confidence\", \"prediction_entropy\", \"margin_sampling\",\"cosine_similarity\", \"l2_norm\"\n",
    "              ]\n",
    "n_samples_per_iteration = 100\n",
    "iterations = 10 \n",
    "batch_size = 64\n",
    "def extract_features(model, data_loader):\n",
    "    model.eval()\n",
    "    features = []\n",
    "    with torch.no_grad():\n",
    "        for inputs, _ in data_loader:\n",
    "            inputs = inputs.to(device)\n",
    "            outputs = model(inputs)\n",
    "            features.append(outputs.cpu().numpy())\n",
    "    return np.concatenate(features)\n",
    "\n",
    "for strategy in strategies:\n",
    "    print(f\"Starting Active Learning with strategy: {strategy}\")\n",
    "    \n",
    "    labeled_indices = np.random.choice(len(train_dataset), size=500, replace=False)\n",
    "    unlabeled_indices = np.setdiff1d(np.arange(len(train_dataset)), labeled_indices)\n",
    "    \n",
    "    labeled_set = Subset(train_dataset, labeled_indices)\n",
    "    unlabeled_set = Subset(train_dataset, unlabeled_indices)\n",
    "    \n",
    "    labeled_loader = DataLoader(labeled_set, batch_size=batch_size, shuffle=True)\n",
    "    unlabeled_loader = DataLoader(unlabeled_set, batch_size=batch_size, shuffle=False)\n",
    "  \n",
    "    for iteration in range(3):\n",
    "        model.train()\n",
    "        for inputs, labels in labeled_loader:\n",
    "            inputs, labels = inputs.to(device), labels.to(device)\n",
    "            optimizer.zero_grad()\n",
    "            outputs = model(inputs)\n",
    "            loss = criterion(outputs, labels)\n",
    "            loss.backward()\n",
    "            optimizer.step()\n",
    "        \n",
    "        labeled_features = extract_features(model, labeled_loader)\n",
    "        \n",
    "        selected_indices = select_samples(model, unlabeled_loader, labeled_features, strategy=strategy, n_samples=n_samples_per_iteration)\n",
    "        \n",
    "        new_labeled_indices = unlabeled_indices[selected_indices]\n",
    "        labeled_indices = np.concatenate([labeled_indices, new_labeled_indices])\n",
    "        unlabeled_indices = np.setdiff1d(unlabeled_indices, new_labeled_indices)\n",
    "        \n",
    "        labeled_set = Subset(train_dataset, labeled_indices)\n",
    "        unlabeled_set = Subset(train_dataset, unlabeled_indices)\n",
    "        \n",
    "        labeled_loader = DataLoader(labeled_set, batch_size=batch_size, shuffle=True)\n",
    "        unlabeled_loader = DataLoader(unlabeled_set, batch_size=batch_size, shuffle=False)\n",
    "        \n",
    "        correct = 0\n",
    "        total = 0\n",
    "        model.eval()\n",
    "        with torch.no_grad():\n",
    "            for inputs, labels in test_loader:\n",
    "                inputs, labels = inputs.to(device), labels.to(device)\n",
    "                outputs = model(inputs)\n",
    "                _, predicted = torch.max(outputs, 1)\n",
    "                total += labels.size(0)\n",
    "                correct += (predicted == labels).sum().item()\n",
    "        accuracy = 100 * correct / total\n",
    "        print(f\"Strategy: {strategy}, Iteration {iteration+1}/{iterations}, Test Accuracy: {accuracy:.2f}%\")"
   ]
  },
  {
   "cell_type": "code",
   "execution_count": 10,
   "metadata": {},
   "outputs": [
    {
     "name": "stdout",
     "output_type": "stream",
     "text": [
      "Accuracy on the test set: 99.20%\n",
      "Average Least Confidence: 0.0032\n",
      "Average Prediction Entropy: 0.0082\n",
      "Average Margin Sampling: 0.9938\n",
      "Average Cosine Similarity: 0.7065\n",
      "Average L2 Norm: 44.8807\n",
      "Average KL Divergence: 2.2944\n"
     ]
    }
   ],
   "source": [
    "least_confidence_list = []\n",
    "prediction_entropy_list = []\n",
    "margin_sampling_list = []\n",
    "cosine_similarity_list = []\n",
    "l2_norm_list = []\n",
    "kl_divergence_list = []\n",
    "\n",
    "correct = 0\n",
    "total = 0\n",
    "\n",
    "with torch.no_grad():\n",
    "    for data in test_loader:\n",
    "        images, labels = data \n",
    "        images, labels = images.to(device), labels.to(device) \n",
    "        outputs = net(images) \n",
    "        _, predicted = torch.max(outputs.data, 1)\n",
    "        total += labels.size(0)\n",
    "        correct += (predicted == labels).sum().item() \n",
    "\n",
    "        features = net.conv1(images)\n",
    "        features = F.max_pool2d(F.relu(features), 2, 2)\n",
    "        features = net.conv2(features)\n",
    "        features = F.max_pool2d(F.relu(features), 2, 2)\n",
    "        features = features.view(features.size(0), -1) \n",
    "\n",
    "        probabilities = F.softmax(outputs, dim=1) \n",
    "\n",
    "        least_confidence = 1 - torch.max(probabilities, dim=1).values\n",
    "        least_confidence_list.extend(least_confidence.cpu().numpy())\n",
    "\n",
    "        prediction_entropy = -torch.sum(probabilities * torch.log(probabilities + 1e-9), dim=1)\n",
    "        prediction_entropy_list.extend(prediction_entropy.cpu().numpy())\n",
    "\n",
    "        top_probs = torch.topk(probabilities, 2, dim=1).values\n",
    "        margin_sampling = top_probs[:, 0] - top_probs[:, 1]\n",
    "        margin_sampling_list.extend(margin_sampling.cpu().numpy())\n",
    "\n",
    "        uniform_dist = torch.full_like(probabilities, 1 / probabilities.size(1))\n",
    "        kl_divergence = torch.sum(probabilities * (torch.log(probabilities + 1e-9) - torch.log(uniform_dist + 1e-9)), dim=1)\n",
    "        kl_divergence_list.extend(kl_divergence.cpu().numpy())\n",
    "\n",
    "        for i in range(len(features)):\n",
    "            for j in range(i + 1, len(features)):\n",
    "               \n",
    "                cosine_sim = F.cosine_similarity(features[i].unsqueeze(0), features[j].unsqueeze(0))\n",
    "                cosine_similarity_list.append(1 - cosine_sim.item())  \n",
    "\n",
    "               \n",
    "                l2_dist = torch.norm(features[i] - features[j], p=2)\n",
    "                l2_norm_list.append(l2_dist.item())\n",
    "\n",
    "accuracy = 100 * correct / total  \n",
    "print(f\"Accuracy on the test set: {accuracy:.2f}%\") \n",
    "\n",
    "print(f\"Average Least Confidence: {np.mean(least_confidence_list):.4f}\")\n",
    "print(f\"Average Prediction Entropy: {np.mean(prediction_entropy_list):.4f}\")\n",
    "print(f\"Average Margin Sampling: {np.mean(margin_sampling_list):.4f}\")\n",
    "print(f\"Average Cosine Similarity: {np.mean(cosine_similarity_list):.4f}\")\n",
    "print(f\"Average L2 Norm: {np.mean(l2_norm_list):.4f}\")\n",
    "print(f\"Average KL Divergence: {np.mean(kl_divergence_list):.4f}\")"
   ]
  }
 ],
 "metadata": {
  "kernelspec": {
   "display_name": "Python 3",
   "language": "python",
   "name": "python3"
  },
  "language_info": {
   "codemirror_mode": {
    "name": "ipython",
    "version": 3
   },
   "file_extension": ".py",
   "mimetype": "text/x-python",
   "name": "python",
   "nbconvert_exporter": "python",
   "pygments_lexer": "ipython3",
   "version": "3.9.2"
  }
 },
 "nbformat": 4,
 "nbformat_minor": 2
}

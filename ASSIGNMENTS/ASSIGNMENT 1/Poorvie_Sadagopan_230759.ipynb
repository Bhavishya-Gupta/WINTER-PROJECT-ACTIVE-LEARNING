{
 "cells": [
  {
   "cell_type": "markdown",
   "id": "b420aeb6-57a5-4071-8291-b6161e74d460",
   "metadata": {},
   "source": [
    "### Question 1"
   ]
  },
  {
   "cell_type": "code",
   "execution_count": 1,
   "id": "19423767-201b-4f31-804d-221c2e6374f9",
   "metadata": {},
   "outputs": [
    {
     "name": "stdout",
     "output_type": "stream",
     "text": [
      "55\n"
     ]
    }
   ],
   "source": [
    "def fibonacci(n):\n",
    "    if n == 0:\n",
    "        return 0\n",
    "    elif n == 1:\n",
    "        return 1\n",
    "    return fibonacci(n-1) + fibonacci(n-2)\n",
    "\n",
    "print(fibonacci(10))"
   ]
  },
  {
   "cell_type": "markdown",
   "id": "72e790f3-675c-4b25-a8b3-9d5368a616e1",
   "metadata": {},
   "source": [
    "### Question 2"
   ]
  },
  {
   "cell_type": "code",
   "execution_count": 2,
   "id": "8644369f-3c9f-48f2-a97f-ae3a6da90aac",
   "metadata": {},
   "outputs": [
    {
     "name": "stdout",
     "output_type": "stream",
     "text": [
      "[1, 4, 9, 16, 25, 36, 49, 64, 81, 100, 121, 144, 169, 196, 225, 256, 289, 324, 361, 400]\n",
      "{1: 1, 2: 8, 3: 27, 4: 64, 5: 125, 6: 216, 7: 343, 8: 512, 9: 729, 10: 1000}\n"
     ]
    }
   ],
   "source": [
    "squares = [x**2 for x in range (1, 21)]\n",
    "print(squares)\n",
    "\n",
    "cubes = {x: x**3 for x in range(1, 11)}\n",
    "print(cubes)"
   ]
  },
  {
   "cell_type": "code",
   "execution_count": 3,
   "id": "54b6fe05-211d-4ad6-8cf4-0891f70041b8",
   "metadata": {},
   "outputs": [],
   "source": [
    "import pandas as pd\n",
    "import numpy as np"
   ]
  },
  {
   "cell_type": "markdown",
   "id": "d93775f9-da0e-4bcf-a33a-14a011c64a6b",
   "metadata": {},
   "source": [
    "### Question 3"
   ]
  },
  {
   "cell_type": "code",
   "execution_count": 4,
   "id": "d1ad8628-fd1d-438a-9e5f-fb4617c8a77b",
   "metadata": {},
   "outputs": [
    {
     "name": "stdout",
     "output_type": "stream",
     "text": [
      "   Name  Age  Score\n",
      "4  Duke   25     91\n",
      "5   Eve   29     96\n"
     ]
    }
   ],
   "source": [
    "data = {\n",
    "    'Name': ['Alice', 'Bob', 'Charlie', 'Duke', 'Eve'],\n",
    "    'Age': np.random.randint(18, 30, 5),\n",
    "    'Score': np.random.randint(0, 100, 5)\n",
    "}\n",
    "\n",
    "df = pd.DataFrame(data, index = [x for x in range(1, 6)])\n",
    "\n",
    "df.to_csv('data.csv')\n",
    "\n",
    "data = pd.read_csv('data.csv', index_col=0)\n",
    "print(data[data['Score'] > 75])"
   ]
  },
  {
   "cell_type": "markdown",
   "id": "82374e95-b464-4d1c-a1b9-4f54c16485a8",
   "metadata": {},
   "source": [
    "### Question 4"
   ]
  },
  {
   "cell_type": "code",
   "execution_count": 5,
   "id": "1a0481af-5a9c-44a0-be62-9057df5f3ea5",
   "metadata": {},
   "outputs": [
    {
     "name": "stdout",
     "output_type": "stream",
     "text": [
      "[20 37 76 73 42 69 77 28 11 12 56 79 63 96 39 53 94 41 33 83 18 15 91 70\n",
      " 22]\n",
      "minimum element:  11  at index:  8\n",
      "maximum element:  96 at index:  13\n",
      "[20 -1 76 -1 42 -1 -1 28 -1 12 56 -1 -1 96 -1 -1 94 -1 -1 -1 18 -1 -1 70\n",
      " 22]\n"
     ]
    }
   ],
   "source": [
    "array = np.random.randint(10, 100, 25)\n",
    "\n",
    "print(array)\n",
    "\n",
    "print('minimum element: ', array.min(), ' at index: ', array.argmin())\n",
    "print('maximum element: ', array.max(), 'at index: ', array.argmax())\n",
    "\n",
    "array[array % 2 != 0] = -1\n",
    "\n",
    "print(array)"
   ]
  },
  {
   "cell_type": "markdown",
   "id": "990f122c-7bfb-41b7-a76a-189dd4b9d904",
   "metadata": {},
   "source": [
    "### Question 5"
   ]
  },
  {
   "cell_type": "code",
   "execution_count": 6,
   "id": "a88664f3-ff9a-4283-be6a-ec1add30ff9b",
   "metadata": {},
   "outputs": [
    {
     "name": "stdout",
     "output_type": "stream",
     "text": [
      "[[0.68344881 0.26802372 0.65864706 0.29602411 0.83937471]\n",
      " [0.20000349 0.28591697 0.86697748 0.95244961 0.63774242]\n",
      " [0.42958894 0.17138911 0.25475955 0.1838272  0.75006761]\n",
      " [0.14560489 0.34062609 0.54764951 0.86562432 0.57580938]\n",
      " [0.51615661 0.9263961  0.36764835 0.2488423  0.69667095]]\n",
      "diagonal elements:  [0.68344881 0.28591697 0.25475955 0.86562432 0.69667095]\n",
      "sum of diagonal elements:  2.7864206102221667\n"
     ]
    }
   ],
   "source": [
    "matrix = np.random.random(size = (5, 5))\n",
    "\n",
    "print(matrix)\n",
    "\n",
    "print('diagonal elements: ', matrix.diagonal())\n",
    "print('sum of diagonal elements: ', matrix.trace())"
   ]
  },
  {
   "cell_type": "markdown",
   "id": "64746e0c-3450-4fa1-b778-71b4c1cb8191",
   "metadata": {},
   "source": [
    "### Question 6"
   ]
  },
  {
   "cell_type": "code",
   "execution_count": 7,
   "id": "0d2d87af-3b78-4085-9dcb-77c4c192cd8e",
   "metadata": {},
   "outputs": [
    {
     "name": "stdout",
     "output_type": "stream",
     "text": [
      "[[[0.82798404 0.17934494 0.06901377 0.24411117 0.39610474]\n",
      "  [0.82820272 0.50159575 0.98604778 0.85121664 0.51572348]\n",
      "  [0.45989718 0.85407793 0.53403436 0.0445879  0.66769685]\n",
      "  [0.43384909 0.49631791 0.1934888  0.52250028 0.2941273 ]]\n",
      "\n",
      " [[0.66739366 0.39200954 0.91035009 0.46319292 0.75346189]\n",
      "  [0.67807039 0.97537992 0.70640607 0.6612833  0.00199337]\n",
      "  [0.51328143 0.30822761 0.90389466 0.87998572 0.58297193]\n",
      "  [0.75903031 0.03949783 0.09369064 0.03260193 0.37161795]]\n",
      "\n",
      " [[0.26956391 0.44763653 0.35570356 0.57310936 0.32203391]\n",
      "  [0.22484289 0.40259592 0.60538508 0.97867433 0.94653597]\n",
      "  [0.29004288 0.16217447 0.3718836  0.12174811 0.88009316]\n",
      "  [0.45326985 0.51465888 0.94767409 0.65581301 0.63429323]]]\n",
      "mean:  0.5125332754266743\n",
      "median:  0.5074385896506101\n",
      "standard deviation:  0.2786807318391317\n",
      "[[[ 1.1319432  -1.19559157 -1.59149683 -0.96318862 -0.41778467]\n",
      "  [ 1.13272793 -0.0392475   1.69912896  1.21530959  0.01144751]\n",
      "  [-0.18887599  1.22557685  0.0771531  -1.67914506  0.55677899]\n",
      "  [-0.28234528 -0.05818618 -1.14483865  0.03576497 -0.78371394]]\n",
      "\n",
      " [[ 0.55569104 -0.43247963  1.42750024 -0.17704975  0.86453275]\n",
      "  [ 0.59400272  1.66084909  0.69568064  0.53376501 -1.83198854]\n",
      "  [ 0.00268462 -0.73311729  1.404336    1.3185427   0.25275755]\n",
      "  [ 0.88451409 -1.69740994 -1.50294794 -1.72215474 -0.5056515 ]]\n",
      "\n",
      " [[-0.87185562 -0.23287131 -0.56275767  0.21736732 -0.68357565]\n",
      "  [-1.03232966 -0.39449215  0.33318345  1.67267057  1.55734732]\n",
      "  [-0.7983702  -1.25720498 -0.50469826 -1.40226833  1.31892823]\n",
      "  [-0.21265708  0.00762738  1.56143129  0.51413579  0.43691559]]]\n"
     ]
    }
   ],
   "source": [
    "matrix = np.random.random(size = (3, 4, 5))\n",
    "\n",
    "print(matrix)\n",
    "\n",
    "mean = np.mean(matrix)\n",
    "median = np.median(matrix)\n",
    "standard_deviation = np.std(matrix)\n",
    "\n",
    "print('mean: ', mean)\n",
    "print('median: ', median)\n",
    "print('standard deviation: ', standard_deviation)\n",
    "\n",
    "normalized_matrix = (matrix - mean) / standard_deviation\n",
    "print(normalized_matrix)"
   ]
  },
  {
   "cell_type": "markdown",
   "id": "faf375b5-8527-4f15-9320-c2dddeced935",
   "metadata": {},
   "source": [
    "### Question 7"
   ]
  },
  {
   "cell_type": "code",
   "execution_count": 8,
   "id": "e99b5853-5b51-4f6d-9bbc-5676b1551366",
   "metadata": {},
   "outputs": [
    {
     "name": "stdout",
     "output_type": "stream",
     "text": [
      "[[ 67  16  88  93]\n",
      " [ 62  53  59 103]\n",
      " [ 85 136  69 144]\n",
      " [164 114  80 161]]\n"
     ]
    }
   ],
   "source": [
    "mat1 = np.random.randint(0, 100, size = (4, 4))\n",
    "mat2 = np.random.randint(0, 100, size = (4, 1))\n",
    "\n",
    "print(mat1 + mat2)"
   ]
  },
  {
   "cell_type": "markdown",
   "id": "658b74b4-6f6b-4c87-8f89-dc50babbaed5",
   "metadata": {},
   "source": [
    "### Question 8"
   ]
  },
  {
   "cell_type": "code",
   "execution_count": 9,
   "id": "5303c7f0-e363-4397-bb25-8cd3a3147941",
   "metadata": {},
   "outputs": [
    {
     "name": "stdout",
     "output_type": "stream",
     "text": [
      "     Product  Price  Quantity  Total Value\n",
      "3     Orange   2.23        56       124.88\n",
      "7      Peach   2.67        52       138.84\n",
      "2     Banana   1.86        77       143.22\n",
      "8     Cherry   1.65        97       160.05\n",
      "1      Apple   2.82        70       197.40\n",
      "4      Mango   2.75        73       200.75\n",
      "5     Grapes   4.30        50       215.00\n",
      "6  Pineapple   4.72        90       424.80\n"
     ]
    }
   ],
   "source": [
    "data = {\n",
    "    'Product': ['Apple', 'Banana', 'Orange', 'Mango', 'Grapes', 'Pineapple', 'Peach', 'Cherry'],\n",
    "    'Price': np.round(np.random.uniform(1, 5, 8), 2),\n",
    "    'Quantity': np.random.randint(50, 100, 8)\n",
    "}\n",
    "\n",
    "df = pd.DataFrame(data, index = [x for x in range(1, 9)])\n",
    "\n",
    "total_value = df['Price'] * df['Quantity']\n",
    "df['Total Value'] = total_value\n",
    "\n",
    "print(df.sort_values(by = 'Total Value', ascending = True))"
   ]
  },
  {
   "cell_type": "code",
   "execution_count": 10,
   "id": "2482fb93-2102-4b38-bba4-a4c0131ec84d",
   "metadata": {},
   "outputs": [],
   "source": [
    "import seaborn as sns"
   ]
  },
  {
   "cell_type": "markdown",
   "id": "896ccac4-fa26-4c5e-bfa1-16c1cc49537b",
   "metadata": {},
   "source": [
    "### Question 9"
   ]
  },
  {
   "cell_type": "code",
   "execution_count": 11,
   "id": "16cda0fc-7fe8-44c2-9f15-48c85bdb7b0d",
   "metadata": {},
   "outputs": [
    {
     "name": "stdout",
     "output_type": "stream",
     "text": [
      "The passenger age is below 18:\n",
      "     survived  pclass     sex   age  sibsp  parch     fare embarked   class  \\\n",
      "7           0       3    male   2.0      3      1  21.0750        S   Third   \n",
      "9           1       2  female  14.0      1      0  30.0708        C  Second   \n",
      "10          1       3  female   4.0      1      1  16.7000        S   Third   \n",
      "14          0       3  female  14.0      0      0   7.8542        S   Third   \n",
      "16          0       3    male   2.0      4      1  29.1250        Q   Third   \n",
      "..        ...     ...     ...   ...    ...    ...      ...      ...     ...   \n",
      "850         0       3    male   4.0      4      2  31.2750        S   Third   \n",
      "852         0       3  female   9.0      1      1  15.2458        C   Third   \n",
      "853         1       1  female  16.0      0      1  39.4000        S   First   \n",
      "869         1       3    male   4.0      1      1  11.1333        S   Third   \n",
      "875         1       3  female  15.0      0      0   7.2250        C   Third   \n",
      "\n",
      "       who  adult_male deck  embark_town alive  alone  \n",
      "7    child       False  NaN  Southampton    no  False  \n",
      "9    child       False  NaN    Cherbourg   yes  False  \n",
      "10   child       False    G  Southampton   yes  False  \n",
      "14   child       False  NaN  Southampton    no   True  \n",
      "16   child       False  NaN   Queenstown    no  False  \n",
      "..     ...         ...  ...          ...   ...    ...  \n",
      "850  child       False  NaN  Southampton    no  False  \n",
      "852  child       False  NaN    Cherbourg    no  False  \n",
      "853  woman       False    D  Southampton   yes  False  \n",
      "869  child       False  NaN  Southampton   yes  False  \n",
      "875  child       False  NaN    Cherbourg   yes   True  \n",
      "\n",
      "[113 rows x 15 columns]\n",
      "The passenger is female and survived:\n",
      "     survived  pclass     sex   age  sibsp  parch     fare embarked   class  \\\n",
      "1           1       1  female  38.0      1      0  71.2833        C   First   \n",
      "2           1       3  female  26.0      0      0   7.9250        S   Third   \n",
      "3           1       1  female  35.0      1      0  53.1000        S   First   \n",
      "8           1       3  female  27.0      0      2  11.1333        S   Third   \n",
      "9           1       2  female  14.0      1      0  30.0708        C  Second   \n",
      "..        ...     ...     ...   ...    ...    ...      ...      ...     ...   \n",
      "874         1       2  female  28.0      1      0  24.0000        C  Second   \n",
      "875         1       3  female  15.0      0      0   7.2250        C   Third   \n",
      "879         1       1  female  56.0      0      1  83.1583        C   First   \n",
      "880         1       2  female  25.0      0      1  26.0000        S  Second   \n",
      "887         1       1  female  19.0      0      0  30.0000        S   First   \n",
      "\n",
      "       who  adult_male deck  embark_town alive  alone  \n",
      "1    woman       False    C    Cherbourg   yes  False  \n",
      "2    woman       False  NaN  Southampton   yes   True  \n",
      "3    woman       False    C  Southampton   yes  False  \n",
      "8    woman       False  NaN  Southampton   yes  False  \n",
      "9    child       False  NaN    Cherbourg   yes  False  \n",
      "..     ...         ...  ...          ...   ...    ...  \n",
      "874  woman       False  NaN    Cherbourg   yes  False  \n",
      "875  child       False  NaN    Cherbourg   yes   True  \n",
      "879  woman       False    C    Cherbourg   yes  False  \n",
      "880  woman       False  NaN  Southampton   yes  False  \n",
      "887  woman       False    B  Southampton   yes   True  \n",
      "\n",
      "[233 rows x 15 columns]\n"
     ]
    }
   ],
   "source": [
    "titanic = sns.load_dataset('titanic')\n",
    "\n",
    "print('The passenger age is below 18:')\n",
    "print(titanic[titanic['age'] < 18])\n",
    "\n",
    "print('The passenger is female and survived:')\n",
    "print(titanic[(titanic['survived'] == 1) & (titanic['sex'] == 'female')])"
   ]
  },
  {
   "cell_type": "markdown",
   "id": "e826dad4-b809-46d4-a857-5b9a9894c12c",
   "metadata": {},
   "source": [
    "### Question 10"
   ]
  },
  {
   "cell_type": "code",
   "execution_count": 12,
   "id": "c6dbbb06-137a-4184-b9d7-91845c6cfa9d",
   "metadata": {},
   "outputs": [
    {
     "name": "stdout",
     "output_type": "stream",
     "text": [
      "            petal_length  sepal_width\n",
      "species                              \n",
      "setosa             1.462        3.428\n",
      "versicolor         4.260        2.770\n",
      "virginica          5.552        2.974\n"
     ]
    }
   ],
   "source": [
    "iris = sns.load_dataset('iris')\n",
    "\n",
    "grouped_data = iris.groupby('species')[['petal_length', 'sepal_width']].mean()\n",
    "print(grouped_data)"
   ]
  },
  {
   "cell_type": "markdown",
   "id": "5e772a3d-f975-41cc-8286-afd66cde4630",
   "metadata": {},
   "source": [
    "### Question 11"
   ]
  },
  {
   "cell_type": "code",
   "execution_count": 13,
   "id": "09e57754-d6fe-4fc7-a050-1d5cc05b47c0",
   "metadata": {},
   "outputs": [
    {
     "name": "stdout",
     "output_type": "stream",
     "text": [
      "       0      1      2      3      4      5      6      7      8      9   ...  \\\n",
      "0   315.0  294.0  764.0  687.0  983.0  411.0  208.0  903.0  366.0    NaN  ...   \n",
      "1   975.0  679.0    NaN    9.0  459.0  956.0  227.0  229.0  727.0    NaN  ...   \n",
      "2     NaN  612.0    NaN  943.0  955.0  956.0   18.0    NaN  216.0  916.0  ...   \n",
      "3   188.0  606.0  694.0  573.0    NaN  676.0  338.0  404.0   94.0  325.0  ...   \n",
      "4   860.0  117.0  903.0  387.0  447.0  511.0    NaN  147.0  849.0  518.0  ...   \n",
      "..    ...    ...    ...    ...    ...    ...    ...    ...    ...    ...  ...   \n",
      "95  262.0  162.0  597.0    NaN  698.0   42.0  809.0  719.0  776.0  653.0  ...   \n",
      "96  569.0  472.0  833.0    NaN   24.0  784.0  230.0  742.0  106.0  972.0  ...   \n",
      "97  440.0    NaN  346.0  499.0  905.0  486.0  485.0  652.0  573.0  553.0  ...   \n",
      "98  175.0  135.0  512.0  624.0  586.0  706.0   99.0  459.0    NaN   98.0  ...   \n",
      "99  497.0  689.0  644.0  809.0  711.0  946.0  687.0    NaN    NaN  191.0  ...   \n",
      "\n",
      "       90     91     92     93     94     95     96     97     98     99  \n",
      "0   226.0  176.0  840.0  528.0  331.0    NaN  773.0  366.0  462.0  162.0  \n",
      "1   550.0  572.0    NaN  738.0  857.0   97.0  900.0  773.0  486.0  585.0  \n",
      "2   815.0  153.0  116.0    NaN  557.0    NaN  343.0    NaN  694.0  625.0  \n",
      "3     NaN   31.0  915.0  591.0    NaN    NaN  733.0   57.0  955.0   86.0  \n",
      "4     NaN  437.0  107.0  705.0  194.0   50.0    NaN   97.0  666.0   20.0  \n",
      "..    ...    ...    ...    ...    ...    ...    ...    ...    ...    ...  \n",
      "95    NaN  923.0  854.0  684.0  623.0  523.0  642.0  353.0  433.0  928.0  \n",
      "96    NaN    NaN    NaN    NaN  515.0  849.0  225.0  136.0    NaN  853.0  \n",
      "97   50.0  678.0  466.0  362.0  976.0    NaN  557.0  789.0  421.0  957.0  \n",
      "98  947.0  410.0  886.0  214.0  529.0  838.0  226.0  758.0    NaN  545.0  \n",
      "99    NaN    NaN  432.0  532.0    NaN  948.0  284.0  663.0  354.0  696.0  \n",
      "\n",
      "[100 rows x 100 columns]\n",
      "           0           1           2           3          4      5   \\\n",
      "0   315.00000  294.000000  764.000000  687.000000  983.00000  411.0   \n",
      "1   975.00000  679.000000  583.440476    9.000000  459.00000  956.0   \n",
      "2   513.41573  612.000000  583.440476  943.000000  955.00000  956.0   \n",
      "3   188.00000  606.000000  694.000000  573.000000  543.24359  676.0   \n",
      "4   860.00000  117.000000  903.000000  387.000000  447.00000  511.0   \n",
      "..        ...         ...         ...         ...        ...    ...   \n",
      "95  262.00000  162.000000  597.000000  474.439024  698.00000   42.0   \n",
      "96  569.00000  472.000000  833.000000  474.439024   24.00000  784.0   \n",
      "97  440.00000  496.409639  346.000000  499.000000  905.00000  486.0   \n",
      "98  175.00000  135.000000  512.000000  624.000000  586.00000  706.0   \n",
      "99  497.00000  689.000000  644.000000  809.000000  711.00000  946.0   \n",
      "\n",
      "            6           7           8      9   ...      90          91     92  \\\n",
      "0   208.000000  903.000000  366.000000  486.1  ...  226.00  176.000000  840.0   \n",
      "1   227.000000  229.000000  727.000000  486.1  ...  550.00  572.000000  519.5   \n",
      "2    18.000000  542.662651  216.000000  916.0  ...  815.00  153.000000  116.0   \n",
      "3   338.000000  404.000000   94.000000  325.0  ...  472.12   31.000000  915.0   \n",
      "4   458.950617  147.000000  849.000000  518.0  ...  472.12  437.000000  107.0   \n",
      "..         ...         ...         ...    ...  ...     ...         ...    ...   \n",
      "95  809.000000  719.000000  776.000000  653.0  ...  472.12  923.000000  854.0   \n",
      "96  230.000000  742.000000  106.000000  972.0  ...  472.12  483.321429  519.5   \n",
      "97  485.000000  652.000000  573.000000  553.0  ...   50.00  678.000000  466.0   \n",
      "98   99.000000  459.000000  459.530864   98.0  ...  947.00  410.000000  886.0   \n",
      "99  687.000000  542.662651  459.530864  191.0  ...  472.12  483.321429  432.0   \n",
      "\n",
      "            93          94        95         96          97      98     99  \n",
      "0   528.000000  331.000000  470.2875  773.00000  366.000000  462.00  162.0  \n",
      "1   738.000000  857.000000   97.0000  900.00000  773.000000  486.00  585.0  \n",
      "2   495.797468  557.000000  470.2875  343.00000  518.616279  694.00  625.0  \n",
      "3   591.000000  525.012821  470.2875  733.00000   57.000000  955.00   86.0  \n",
      "4   705.000000  194.000000   50.0000  463.45122   97.000000  666.00   20.0  \n",
      "..         ...         ...       ...        ...         ...     ...    ...  \n",
      "95  684.000000  623.000000  523.0000  642.00000  353.000000  433.00  928.0  \n",
      "96  495.797468  515.000000  849.0000  225.00000  136.000000  445.76  853.0  \n",
      "97  362.000000  976.000000  470.2875  557.00000  789.000000  421.00  957.0  \n",
      "98  214.000000  529.000000  838.0000  226.00000  758.000000  445.76  545.0  \n",
      "99  532.000000  525.012821  948.0000  284.00000  663.000000  354.00  696.0  \n",
      "\n",
      "[100 rows x 100 columns]\n"
     ]
    }
   ],
   "source": [
    "matrix = np.random.randint(0, 1000, size = (100, 100))\n",
    "\n",
    "df = pd.DataFrame(matrix)\n",
    "\n",
    "count = int(0.2 * df.size)\n",
    "for i in range(count):\n",
    "    row = np.random.randint(0, 100)\n",
    "    col = np.random.randint(0, 100)\n",
    "    df.loc[row, col] = np.nan\n",
    "\n",
    "print(df)\n",
    "\n",
    "df = df.fillna(df.mean())\n",
    "\n",
    "print(df)"
   ]
  },
  {
   "cell_type": "markdown",
   "id": "6961a221-ea9c-4c2f-9185-e891ac72b4e4",
   "metadata": {},
   "source": [
    "### Question 12"
   ]
  },
  {
   "cell_type": "code",
   "execution_count": 14,
   "id": "ed22f67f-3c07-44a8-b113-0b8f301fab0c",
   "metadata": {},
   "outputs": [
    {
     "name": "stdout",
     "output_type": "stream",
     "text": [
      "    ID     Name  Score\n",
      "0  101    Alice     89\n",
      "1  102      Bob     67\n",
      "2  103  Charlie     93\n",
      "3  104     Duke     48\n",
      "4  105      Eve     39\n"
     ]
    }
   ],
   "source": [
    "dict1 = {\n",
    "    'ID': [101, 102, 103, 104, 105],\n",
    "    'Name': ['Alice', 'Bob', 'Charlie', 'Duke', 'Eve']\n",
    "}\n",
    "dict2 = {\n",
    "    'ID': [101, 102, 103, 104, 105],\n",
    "    'Score': [89, 67, 93, 48, 39]\n",
    "}\n",
    "df1 = pd.DataFrame(dict1)\n",
    "df2 = pd.DataFrame(dict2)\n",
    "\n",
    "merged = pd.merge(df1, df2, on = 'ID')\n",
    "print(merged)"
   ]
  },
  {
   "cell_type": "code",
   "execution_count": 15,
   "id": "eca415cd-8916-4946-99da-73a00c6c7736",
   "metadata": {},
   "outputs": [],
   "source": [
    "import matplotlib.pyplot as plt"
   ]
  },
  {
   "cell_type": "markdown",
   "id": "949a1677-42ce-49fb-89f9-2a129313ca79",
   "metadata": {},
   "source": [
    "### Question 13"
   ]
  },
  {
   "cell_type": "code",
   "execution_count": 16,
   "id": "504d4ae2-839c-42c4-bf29-a86be234678e",
   "metadata": {},
   "outputs": [
    {
     "data": {
      "image/png": "[encoded data removed]",
      "text/plain": [
       "<Figure size 640x480 with 1 Axes>"
      ]
     },
     "metadata": {},
     "output_type": "display_data"
    }
   ],
   "source": [
    "data = {\n",
    "    'Month': ['Jan', 'Feb', 'Mar', 'Apr', 'May', 'Jun', 'Jul', 'Aug', 'Sep', 'Oct', 'Nov', 'Dec'],\n",
    "    'Revenue': np.random.randint(10000, 100000, size = 12)\n",
    "}\n",
    "\n",
    "df = pd.DataFrame(data)\n",
    "\n",
    "plt.plot(df['Month'], df['Revenue'], label = 'Company XYZ')\n",
    "\n",
    "plt.title('Monthly Revenue of Company XYZ')\n",
    "\n",
    "plt.xlabel('Month')\n",
    "plt.ylabel('Revenue')\n",
    "\n",
    "plt.legend()\n",
    "\n",
    "plt.show()"
   ]
  },
  {
   "cell_type": "markdown",
   "id": "8588cea6-684b-4473-9e1d-0b3bba537e00",
   "metadata": {},
   "source": [
    "### Question 14"
   ]
  },
  {
   "cell_type": "code",
   "execution_count": 17,
   "id": "fa5f11d0-0fc3-4fc1-97a5-b0a23d3fc370",
   "metadata": {},
   "outputs": [
    {
     "data": {
      "image/png": "[encoded data removed]",
      "text/plain": [
       "<Figure size 640x480 with 1 Axes>"
      ]
     },
     "metadata": {},
     "output_type": "display_data"
    }
   ],
   "source": [
    "data = {\n",
    "    'Product': ['A', 'B', 'C', 'D', 'E'],\n",
    "    'Country 1': np.random.randint(0, 1000, size = 5),\n",
    "    'Country 2': np.random.randint(0, 1000, size = 5)\n",
    "}\n",
    "\n",
    "df = pd.DataFrame(data)\n",
    "\n",
    "x = np.arange(5)\n",
    "plt.bar(x - 0.2, df['Country 1'], width = 0.4, label = 'Country 1', color = '#8aecff')\n",
    "plt.bar(x + 0.2, df['Country 2'], width = 0.4, label = 'Country 2', color = '#c2b3e5')\n",
    "\n",
    "plt.title('Sales of Products')\n",
    "\n",
    "plt.xlabel('Products')\n",
    "plt.ylabel('Sales')\n",
    "\n",
    "plt.xticks(x, labels = df['Product'])\n",
    "\n",
    "plt.legend()\n",
    "\n",
    "plt.show()"
   ]
  },
  {
   "cell_type": "markdown",
   "id": "ff40fcf3-8375-4cc9-bb4a-1a319ba6da41",
   "metadata": {},
   "source": [
    "### Question 15"
   ]
  },
  {
   "cell_type": "code",
   "execution_count": 18,
   "id": "e1c62493-200d-4352-9d5b-c1cce6b6985a",
   "metadata": {},
   "outputs": [
    {
     "data": {
      "image/png": "[encoded data removed]",
      "text/plain": [
       "<Figure size 640x480 with 1 Axes>"
      ]
     },
     "metadata": {},
     "output_type": "display_data"
    }
   ],
   "source": [
    "iris = sns.load_dataset('iris')\n",
    "\n",
    "colors = {\n",
    "    'setosa': '#8aecff',\n",
    "    'versicolor': '#c2b3e5',\n",
    "    'virginica': '#ffc0cb'\n",
    "}\n",
    "\n",
    "sns.scatterplot(data = iris, x = 'petal_length', y = 'petal_width', hue = 'species', palette = colors)\n",
    "\n",
    "plt.title('Petal Length vs Petal Width by Species')\n",
    "\n",
    "plt.xlabel('Petal Length (cm)')\n",
    "plt.ylabel('Petal Width (cm)')\n",
    "\n",
    "plt.legend()\n",
    "\n",
    "plt.show()"
   ]
  }
 ],
 "metadata": {
  "kernelspec": {
   "display_name": "Python 3 (ipykernel)",
   "language": "python",
   "name": "python3"
  },
  "language_info": {
   "codemirror_mode": {
    "name": "ipython",
    "version": 3
   },
   "file_extension": ".py",
   "mimetype": "text/x-python",
   "name": "python",
   "nbconvert_exporter": "python",
   "pygments_lexer": "ipython3",
   "version": "3.13.1"
  }
 },
 "nbformat": 4,
 "nbformat_minor": 5
}

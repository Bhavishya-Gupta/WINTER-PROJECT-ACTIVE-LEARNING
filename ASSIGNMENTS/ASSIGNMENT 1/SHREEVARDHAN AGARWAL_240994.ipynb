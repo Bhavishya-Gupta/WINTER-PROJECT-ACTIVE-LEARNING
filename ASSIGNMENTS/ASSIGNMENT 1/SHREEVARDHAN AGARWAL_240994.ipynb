{
 "cells": [
  {
   "cell_type": "markdown",
   "metadata": {},
   "source": [
    "Question 1: Control Flow and Loops \n",
    "Write a Python function to generate the first N Fibonacci numbers. Test the                   \n",
    "function with N = 10. "
   ]
  },
  {
   "cell_type": "code",
   "execution_count": null,
   "metadata": {},
   "outputs": [],
   "source": [
    "def fibonacci(N):\n",
    "    a=0\n",
    "    b=1\n",
    "    if N>=1:\n",
    "        print(a)\n",
    "    if N>=2:\n",
    "        print(b)\n",
    "    for i in range(N-2):\n",
    "        c=a+b\n",
    "        a=b\n",
    "        b=c\n",
    "        print(c)\n",
    "N=int(input(\"Enter N:\"))\n",
    "fibonacci(N)"
   ]
  },
  {
   "cell_type": "markdown",
   "metadata": {},
   "source": [
    "Question 2: List and Dictionary Comprehension \n",
    "Create a list of squares of numbers from 1 to 20 using list comprehension. Then, create \n",
    "a dictionary where the keys are numbers from 1 to 10, and the values are their cubes \n",
    "using dictionary comprehension."
   ]
  },
  {
   "cell_type": "code",
   "execution_count": null,
   "metadata": {},
   "outputs": [],
   "source": [
    "sq=[]\n",
    "cube={}\n",
    "for i in range(1,21):\n",
    "    sq.append(i*i)\n",
    "for i in range(1,11):\n",
    "    cube[str(i)]=i*i*i\n",
    "print(sq)\n",
    "print(cube)"
   ]
  },
  {
   "cell_type": "markdown",
   "metadata": {},
   "source": [
    "Question 3: File Handling \n",
    "Write a Python script to create a CSV file named data.csv with three columns: Name, \n",
    "Age, and Score. Write at least five rows of data, then read the file and print the rows \n",
    "where the score is above 75."
   ]
  },
  {
   "cell_type": "code",
   "execution_count": null,
   "metadata": {},
   "outputs": [],
   "source": [
    "import numpy as np\n",
    "import csv\n",
    "import pandas as pd\n",
    "num=np.random.randint(5,11)\n",
    "names=[\"Daksh\",\"Pranav\",\"Shreevardhan\",\"Shaurya\",\"Kesshav\",\"Kritin\",\"Animesh\",\"Yash\",\"Krishna\",\"Pratyush\"]\n",
    "age=np.random.randint(20,101,size=num)\n",
    "score=np.random.randint(1,100,size=num)\n",
    "names=names[:num]\n",
    "data={\"Name\":names,\"Age\":age,\"Score\":score}\n",
    "data=pd.DataFrame(data)\n",
    "print(data)\n",
    "data.to_csv(\"data.csv\",index=False)\n",
    "dataset=pd.read_csv(\"data.csv\")\n",
    "for i in dataset.index:\n",
    "    if dataset.loc[i,\"Score\"]>75:\n",
    "        print(dataset.loc[i])"
   ]
  },
  {
   "cell_type": "markdown",
   "metadata": {},
   "source": [
    "Question 4: Array Operations \n",
    "Create a 1D NumPy array of 25 random integers between 10 and 100. Perform the \n",
    "following: \n",
    "• Find the maximum, minimum, and their indices. \n",
    "• Replace all odd numbers in the array with -1. "
   ]
  },
  {
   "cell_type": "code",
   "execution_count": null,
   "metadata": {},
   "outputs": [],
   "source": [
    "import numpy as np\n",
    "arr=np.random.randint(10,101,size=25)\n",
    "print(arr)\n",
    "print(\"Maximum: \"+str(max(arr)))\n",
    "print(\"Minimum: \"+str(min(arr)))\n",
    "print(\"Max index: \"+str(np.where(arr==max(arr)))+\" Min index: \"+str(np.where(arr==min(arr))))\n",
    "arr[np.where(arr%2!=0)]=-1\n",
    "print(arr)"
   ]
  },
  {
   "cell_type": "markdown",
   "metadata": {},
   "source": [
    "Question 5: Matrix Manipulation \n",
    "Create a 5x5 matrix with random numbers. Perform the following: \n",
    "• Extract the diagonal elements. \n",
    "• Calculate the sum of all elements above the main diagonal. "
   ]
  },
  {
   "cell_type": "code",
   "execution_count": null,
   "metadata": {},
   "outputs": [],
   "source": [
    "import numpy as np\n",
    "arr=np.random.randint(1,101,size=(5,5))\n",
    "diag=arr.diagonal()\n",
    "sum=np.triu(arr,k=1).sum()\n",
    "print(arr)\n",
    "print(diag)\n",
    "print(sum)\n"
   ]
  },
  {
   "cell_type": "markdown",
   "metadata": {},
   "source": [
    "Question 6: Statistical Functions \n",
    "Generate a 3D NumPy array of shape (3, 4, 5) with random floats. Perform the following: \n",
    "• Calculate the mean, median, and standard deviation of the entire array. \n",
    "• Normalize the array by subtracting the mean and dividing by the standard \n",
    "deviation. "
   ]
  },
  {
   "cell_type": "code",
   "execution_count": null,
   "metadata": {},
   "outputs": [],
   "source": [
    "import numpy as np\n",
    "arr=np.random.uniform(10,101,size=(3,4,5))\n",
    "print(arr)\n",
    "mean=np.mean(arr)\n",
    "median=np.median(arr)\n",
    "std=np.std(arr)\n",
    "print(mean)\n",
    "print(median)\n",
    "print(std)\n",
    "print((arr-mean)/std)"
   ]
  },
  {
   "cell_type": "markdown",
   "metadata": {},
   "source": [
    "Question 7: Broadcasting and Indexing \n",
    "Create two 2D arrays of shape (4, 4) and (4, 1). Use broadcasting to add these arrays \n",
    "element-wise and display the result."
   ]
  },
  {
   "cell_type": "code",
   "execution_count": null,
   "metadata": {},
   "outputs": [],
   "source": [
    "import numpy as np\n",
    "arr1=np.random.randint(10,51,size=(4,4))\n",
    "arr2=np.random.randint(10,51,size=(4,1))\n",
    "print(arr1)\n",
    "print(arr2)\n",
    "print(arr1+arr2)"
   ]
  },
  {
   "cell_type": "markdown",
   "metadata": {},
   "source": [
    "Question 8: DataFrame Creation and Basic Operations \n",
    "Create a Pandas DataFrame with three columns: Product, Price, and Quantity. Populate \n",
    "it with at least 8 rows. Perform the following: \n",
    "• Calculate the total value for each product (Price × Quantity). \n",
    "• Add a new column for the total value and sort the DataFrame by this column."
   ]
  },
  {
   "cell_type": "code",
   "execution_count": null,
   "metadata": {},
   "outputs": [],
   "source": [
    "import pandas as pd\n",
    "product=[\"SOAP\",\"KEYBOARD\",\"HAMMER\",\"HEADPHONES\",\"SHOES\",\"TOOTHPASTE\",\"BUCKET\",\"TOOTHBRUSH\"]\n",
    "price=np.random.randint(500,1000,size=8)\n",
    "quantity=np.random.randint(5,20,size=8)\n",
    "data={\"Product\":product,\"Price\":price,\"Quantity\":quantity}\n",
    "final=pd.DataFrame(data)\n",
    "total_price=price*quantity\n",
    "final[\"Total Price\"]=total_price\n",
    "print(final)"
   ]
  },
  {
   "cell_type": "markdown",
   "metadata": {},
   "source": [
    "Question 9: Data Filtering \n",
    "Load the Titanic dataset from the Kaggle Titanic dataset or any publicly available \n",
    "source. Filter and display rows where: \n",
    "• The passenger age is below 18. \n",
    "• The passenger is female and survived. "
   ]
  },
  {
   "cell_type": "code",
   "execution_count": null,
   "metadata": {},
   "outputs": [],
   "source": [
    "import pandas as pd\n",
    "titanic=pd.read_csv(\"Titanic-Dataset.csv\")\n",
    "filter_1=[]\n",
    "filter_2=[]\n",
    "for i in titanic.index:\n",
    "    if titanic.loc[i,\"Age\"]<18:\n",
    "        filter_1.append(titanic.loc[i])\n",
    "    if titanic.loc[i,\"Sex\"]==\"female\" and titanic.loc[i,\"Survived\"]==1:\n",
    "        filter_2.append(titanic.loc[i])\n",
    "print(pd.DataFrame(filter_1))\n",
    "print(pd.DataFrame(filter_2))"
   ]
  },
  {
   "cell_type": "markdown",
   "metadata": {},
   "source": [
    "Question10: Groupby Operations \n",
    "Load the Iris dataset from Seaborn library or any other source like Kaggle, etc. Group the \n",
    "data by species and calculate the mean of petal length and sepal width for each group. \n"
   ]
  },
  {
   "cell_type": "code",
   "execution_count": null,
   "metadata": {},
   "outputs": [],
   "source": [
    "import seaborn as sns\n",
    "iris=sns.load_dataset(\"iris\")\n",
    "print(\"Mean of Petal Length:\")\n",
    "print(iris.groupby(\"species\")[\"petal_length\"].mean())\n",
    "print(\"Mean of Sepal Width:\")\n",
    "print(iris.groupby(\"species\")[\"sepal_width\"].mean())"
   ]
  },
  {
   "cell_type": "markdown",
   "metadata": {},
   "source": [
    "Question 11: Handling Missing Values \n",
    "Create a Pandas DataFrame with random data and intentionally introduce NaN values. \n",
    "Replace the NaN values with the column mean and display the updated DataFrame. \n"
   ]
  },
  {
   "cell_type": "code",
   "execution_count": null,
   "metadata": {},
   "outputs": [],
   "source": [
    "import pandas as pd\n",
    "import numpy as np\n",
    "count=[]\n",
    "marks=np.random.uniform(50,200,size=10)\n",
    "index=[2,3,5,9]\n",
    "for i in range(1,11):\n",
    "    count.append(i)\n",
    "dataset={\"ID\":count,\"Marks\":marks}\n",
    "dataset=pd.DataFrame(dataset)\n",
    "for i in index:\n",
    "    dataset.loc[i,\"Marks\"]=np.nan\n",
    "print(dataset)\n",
    "dataset[\"Marks\"].fillna(dataset[\"Marks\"].mean(),inplace=True)\n",
    "print(dataset)"
   ]
  },
  {
   "cell_type": "markdown",
   "metadata": {},
   "source": [
    "Question 12: Merging DataFrames \n",
    "Create two DataFrames: one with columns ID and Name, and another with columns ID \n",
    "and Score. Merge the two DataFrames on the ID column and display the resulting \n",
    "DataFrame. \n"
   ]
  },
  {
   "cell_type": "code",
   "execution_count": null,
   "metadata": {},
   "outputs": [],
   "source": [
    "import pandas as pd\n",
    "import numpy as np\n",
    "count=[]\n",
    "for i in range(1,11):\n",
    "    count.append(i)\n",
    "names=[\"Daksh\",\"Pranav\",\"Shreevardhan\",\"Shaurya\",\"Kesshav\",\"Kritin\",\"Animesh\",\"Yash\",\"Krishna\",\"Pratyush\"]\n",
    "score=np.random.randint(50,101,size=10)\n",
    "data_1={\"COLUMNS ID\":count,\"Name\":names}\n",
    "data_2={\"COLUMNS ID\":count,\"Score\":score}\n",
    "data_1=pd.DataFrame(data_1)\n",
    "data_2=pd.DataFrame(data_2)\n",
    "print(data_1)\n",
    "print(data_2)\n",
    "result_data=pd.merge(data_1,data_2,on='COLUMNS ID')\n",
    "print(result_data)"
   ]
  },
  {
   "cell_type": "markdown",
   "metadata": {},
   "source": [
    "Question 13: Line Plot \n",
    "Generate a random dataset representing the monthly revenue of a company. Plot a line \n",
    "graph to show the trend, and customize it with: \n",
    "• A title, labeled axes, and a legend. \n"
   ]
  },
  {
   "cell_type": "code",
   "execution_count": null,
   "metadata": {},
   "outputs": [],
   "source": [
    "import pandas as pd\n",
    "import numpy as np\n",
    "import matplotlib.pyplot as plt\n",
    "months =[\"JAN 2023\",\"FEB 2023\",\"MARCH 2023\",\"APRIL 2023\",\"MAY 2023\",\"JUNE 2023\",\"JULY 2023\",\"AUG 2023\",\"SEPT 2023\",\"OCT 2023\",\"NOV 2023\",\"DEC 2023\"]\n",
    "revenue=np.random.randint(500000,1000000,size=12)\n",
    "data={\"Month\":months,\"Revenue\":revenue}\n",
    "data=pd.DataFrame(data)\n",
    "data.plot(x=\"Month\",y=\"Revenue\",figsize=(10,6))\n",
    "plt.xlabel(\"MONTH\")\n",
    "plt.ylabel(\"REVENUE(USD)\")\n",
    "plt.legend(title=\"METRICS\")\n",
    "plt.title(\"MONTHLY REVENUE PLOT OF A COMPANY\")\n"
   ]
  },
  {
   "cell_type": "markdown",
   "metadata": {},
   "source": [
    "Question 14: Bar Plot \n",
    "Create a dataset representing the sales of five products in two different regions. Use a \n",
    "grouped bar chart to display the comparison between the regions for each product. \n",
    "Ensure that the plot is customized with: \n",
    "• A title, labeled axes, and a legend."
   ]
  },
  {
   "cell_type": "code",
   "execution_count": null,
   "metadata": {},
   "outputs": [],
   "source": [
    "import pandas as pd\n",
    "import numpy as np\n",
    "import matplotlib.pyplot as plt\n",
    "products = ['Product A','Product B','Product C','Product D','Product E']\n",
    "regions=['North-East','South-West']\n",
    "data={'Product':[],'Region':[],'Sales':[]}\n",
    "for product in products:\n",
    "    for region in regions:\n",
    "        data['Product'].append(product)\n",
    "        data['Region'].append(region)\n",
    "        data['Sales'].append(np.random.randint(1000, 5001))\n",
    "data=pd.DataFrame(data)\n",
    "x=np.array([0,1,2,3,4])\n",
    "width=0.35\n",
    "plt.bar(x-width/2, data[data['Region']=='North-East']['Sales'], width, label='North-East', color='y')\n",
    "plt.bar(x+width/2, data[data['Region']=='South-West']['Sales'], width, label='South-West', color='hotpink')\n",
    "plt.xlabel('Product')\n",
    "plt.ylabel('Sales')\n",
    "plt.title('Sales Comparison by Region for Each Product')\n",
    "plt.legend(title='Region')\n"
   ]
  },
  {
   "cell_type": "markdown",
   "metadata": {},
   "source": [
    "Question 15: Scatter Plot \n",
    "Load the Iris dataset from Seaborn library or any other source like Kaggle, etc. Create a \n",
    "scatter plot comparing any two features of the flowers (e.g., petal length vs petal width, \n",
    "sepal length vs sepal width). Customize the plot to use different colors for each species \n",
    "and add labels and a title."
   ]
  },
  {
   "cell_type": "code",
   "execution_count": null,
   "metadata": {},
   "outputs": [],
   "source": [
    "import matplotlib.pyplot as plt\n",
    "import seaborn as sns \n",
    "iris=sns.load_dataset(\"iris\")\n",
    "colors={'setosa':'red','versicolor':'green',\"virginica\":'yellow'}\n",
    "for species in iris['species'].unique():\n",
    "    data=iris[iris['species']==species]\n",
    "    plt.scatter(data['petal_length'],data['petal_width'],label=species,color=colors[species])\n",
    "plt.legend(title='Species')\n",
    "plt.xlabel(\"PETAL WIDTH\")\n",
    "plt.ylabel(\"PETAL LENGTH\")\n",
    "plt.title(\"PETAL LENGTH V/S PETAL WIDTH\")\n"
   ]
  }
 ],
 "metadata": {
  "kernelspec": {
   "display_name": "Python 3",
   "language": "python",
   "name": "python3"
  },
  "language_info": {
   "codemirror_mode": {
    "name": "ipython",
    "version": 3
   },
   "file_extension": ".py",
   "mimetype": "text/x-python",
   "name": "python",
   "nbconvert_exporter": "python",
   "pygments_lexer": "ipython3",
   "version": "3.11.11"
  }
 },
 "nbformat": 4,
 "nbformat_minor": 2
}

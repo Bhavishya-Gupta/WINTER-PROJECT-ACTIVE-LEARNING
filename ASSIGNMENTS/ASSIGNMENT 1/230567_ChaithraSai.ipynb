{
 "cells": [
  {
   "cell_type": "markdown",
   "id": "0e823d09",
   "metadata": {},
   "source": [
    "# Assignment 1: Python Programming Solutions"
   ]
  },
  {
   "cell_type": "markdown",
   "id": "30a51d5e",
   "metadata": {},
   "source": [
    "### Question 1: Generate Fibonacci Numbers"
   ]
  },
  {
   "cell_type": "code",
   "execution_count": null,
   "id": "0be45e28",
   "metadata": {},
   "outputs": [],
   "source": [
    "def generate_fibonacci(n):\n",
    "    fib = [0, 1]\n",
    "    for i in range(2, n):\n",
    "        fib.append(fib[-1] + fib[-2])\n",
    "    return fib\n",
    "\n",
    "print(\"Fibonacci Numbers:\", generate_fibonacci(10))"
   ]
  },
  {
   "cell_type": "markdown",
   "id": "9e6f98dc",
   "metadata": {},
   "source": [
    "### Question 2: List and Dictionary Comprehension"
   ]
  },
  {
   "cell_type": "code",
   "execution_count": null,
   "id": "3bbd5483",
   "metadata": {},
   "outputs": [],
   "source": [
    "squares = [x**2 for x in range(1, 21)]\n",
    "cubes = {x: x**3 for x in range(1, 11)}\n",
    "print(\"Squares:\", squares)\n",
    "print(\"Cubes:\", cubes)"
   ]
  },
  {
   "cell_type": "markdown",
   "id": "9b75024f",
   "metadata": {},
   "source": [
    "### Question 3: File Handling"
   ]
  },
  {
   "cell_type": "code",
   "execution_count": null,
   "id": "41b27c13",
   "metadata": {},
   "outputs": [],
   "source": [
    "import csv\n",
    "\n",
    "with open(\"data.csv\", \"w\", newline=\"\") as file:\n",
    "    writer = csv.writer(file)\n",
    "    writer.writerow([\"Name\", \"Age\", \"Score\"])\n",
    "    writer.writerows([\n",
    "        [\"Alice\", 23, 85],\n",
    "        [\"Bob\", 20, 65],\n",
    "        [\"Charlie\", 22, 90],\n",
    "        [\"David\", 25, 70],\n",
    "        [\"Eve\", 21, 95]\n",
    "    ])\n",
    "\n",
    "with open(\"data.csv\", \"r\") as file:\n",
    "    reader = csv.reader(file)\n",
    "    next(reader)  # Skip header\n",
    "    rows = [row for row in reader if int(row[2]) > 75]\n",
    "    print(\"Rows with Score > 75:\", rows)"
   ]
  },
  {
   "cell_type": "markdown",
   "id": "661d44c8",
   "metadata": {},
   "source": [
    "### Question 4: Array Operations"
   ]
  },
  {
   "cell_type": "code",
   "execution_count": null,
   "id": "ac5cc9d2",
   "metadata": {},
   "outputs": [],
   "source": [
    "import numpy as np\n",
    "\n",
    "array = np.random.randint(10, 100, 25)\n",
    "print(\"Array:\", array)\n",
    "print(\"Max:\", array.max(), \"Index:\", array.argmax())\n",
    "print(\"Min:\", array.min(), \"Index:\", array.argmin())\n",
    "array[array % 2 != 0] = -1\n",
    "print(\"Modified Array:\", array)"
   ]
  },
  {
   "cell_type": "markdown",
   "id": "791166fc",
   "metadata": {},
   "source": [
    "### Question 5: Matrix Manipulation"
   ]
  },
  {
   "cell_type": "code",
   "execution_count": null,
   "id": "be5e5818",
   "metadata": {},
   "outputs": [],
   "source": [
    "matrix = np.random.rand(5, 5)\n",
    "diagonal = np.diagonal(matrix)\n",
    "above_diagonal_sum = matrix[np.triu_indices(5, k=1)].sum()\n",
    "print(\"Matrix:\\n\", matrix)\n",
    "print(\"Diagonal:\", diagonal)\n",
    "print(\"Sum Above Diagonal:\", above_diagonal_sum)"
   ]
  },
  {
   "cell_type": "markdown",
   "id": "fd7ecd90",
   "metadata": {},
   "source": [
    "### Question 6: Statistical Functions"
   ]
  },
  {
   "cell_type": "code",
   "execution_count": null,
   "id": "fbbc989f",
   "metadata": {},
   "outputs": [],
   "source": [
    "array_3d = np.random.rand(3, 4, 5)\n",
    "mean = array_3d.mean()\n",
    "median = np.median(array_3d)\n",
    "std_dev = array_3d.std()\n",
    "normalized = (array_3d - mean) / std_dev\n",
    "print(\"Mean:\", mean, \"Median:\", median, \"Standard Deviation:\", std_dev)"
   ]
  },
  {
   "cell_type": "markdown",
   "id": "86f53ef3",
   "metadata": {},
   "source": [
    "### Question 7: Broadcasting and Indexing"
   ]
  },
  {
   "cell_type": "code",
   "execution_count": null,
   "id": "a252cb73",
   "metadata": {},
   "outputs": [],
   "source": [
    "A = np.random.rand(4, 4)\n",
    "B = np.random.rand(4, 1)\n",
    "result = A + B\n",
    "print(\"Result of Broadcasting:\\n\", result)"
   ]
  },
  {
   "cell_type": "markdown",
   "id": "9009e79a",
   "metadata": {},
   "source": [
    "### Question 8: DataFrame Creation and Basic Operations"
   ]
  },
  {
   "cell_type": "code",
   "execution_count": null,
   "id": "c52795d4",
   "metadata": {},
   "outputs": [],
   "source": [
    "import pandas as pd\n",
    "\n",
    "data = {\n",
    "    \"Product\": [\"A\", \"B\", \"C\", \"D\", \"E\", \"F\", \"G\", \"H\"],\n",
    "    \"Price\": [10, 20, 15, 40, 30, 25, 35, 50],\n",
    "    \"Quantity\": [5, 3, 4, 2, 7, 6, 8, 1]\n",
    "}\n",
    "df = pd.DataFrame(data)\n",
    "df[\"Total Value\"] = df[\"Price\"] * df[\"Quantity\"]\n",
    "sorted_df = df.sort_values(by=\"Total Value\", ascending=False)\n",
    "print(\"DataFrame with Total Value:\\n\", sorted_df)"
   ]
  },
  {
   "cell_type": "markdown",
   "id": "192c3164",
   "metadata": {},
   "source": [
    "### Question 9: Data Filtering"
   ]
  },
  {
   "cell_type": "code",
   "execution_count": null,
   "id": "16f3c589",
   "metadata": {},
   "outputs": [],
   "source": [
    "import seaborn as sns\n",
    "\n",
    "titanic = sns.load_dataset(\"titanic\")\n",
    "under_18 = titanic[titanic[\"age\"] < 18]\n",
    "female_survived = titanic[(titanic[\"sex\"] == \"female\") & (titanic[\"survived\"] == 1)]\n",
    "print(\"Passengers under 18:\\n\", under_18)\n",
    "print(\"Female Survivors:\\n\", female_survived)"
   ]
  },
  {
   "cell_type": "markdown",
   "id": "86626888",
   "metadata": {},
   "source": [
    "### Question 10: Groupby Operations"
   ]
  },
  {
   "cell_type": "code",
   "execution_count": null,
   "id": "99c3e8ee",
   "metadata": {},
   "outputs": [],
   "source": [
    "iris = sns.load_dataset(\"iris\")\n",
    "grouped = iris.groupby(\"species\")[[\"petal_length\", \"sepal_width\"]].mean()\n",
    "print(\"Grouped Means:\\n\", grouped)"
   ]
  },
  {
   "cell_type": "markdown",
   "id": "c7be4293",
   "metadata": {},
   "source": [
    "### Question 11: Handling Missing Values"
   ]
  },
  {
   "cell_type": "code",
   "execution_count": null,
   "id": "1f2c82d7",
   "metadata": {},
   "outputs": [],
   "source": [
    "data_with_nan = pd.DataFrame(np.random.rand(5, 3), columns=[\"A\", \"B\", \"C\"])\n",
    "data_with_nan.iloc[1, 0] = np.nan\n",
    "data_with_nan.iloc[3, 2] = np.nan\n",
    "filled = data_with_nan.fillna(data_with_nan.mean())\n",
    "print(\"DataFrame with NaN Replaced:\\n\", filled)"
   ]
  },
  {
   "cell_type": "markdown",
   "id": "98ea00ff",
   "metadata": {},
   "source": [
    "### Question 12: Merging DataFrames"
   ]
  },
  {
   "cell_type": "code",
   "execution_count": null,
   "id": "0f63932b",
   "metadata": {},
   "outputs": [],
   "source": [
    "df1 = pd.DataFrame({\"ID\": [1, 2, 3], \"Name\": [\"Alice\", \"Bob\", \"Charlie\"]})\n",
    "df2 = pd.DataFrame({\"ID\": [1, 2, 3], \"Score\": [85, 90, 95]})\n",
    "merged = pd.merge(df1, df2, on=\"ID\")\n",
    "print(\"Merged DataFrame:\\n\", merged)"
   ]
  },
  {
   "cell_type": "markdown",
   "id": "8e82faa2",
   "metadata": {},
   "source": [
    "### Question 13: Line Plot"
   ]
  },
  {
   "cell_type": "code",
   "execution_count": null,
   "id": "30c698dc",
   "metadata": {},
   "outputs": [],
   "source": [
    "import matplotlib.pyplot as plt\n",
    "\n",
    "months = [\"Jan\", \"Feb\", \"Mar\", \"Apr\", \"May\", \"Jun\", \"Jul\", \"Aug\", \"Sep\", \"Oct\", \"Nov\", \"Dec\"]\n",
    "revenue = np.random.randint(1000, 5000, 12)\n",
    "plt.plot(months, revenue, label=\"Revenue\", marker=\"o\")\n",
    "plt.title(\"Monthly Revenue\")\n",
    "plt.xlabel(\"Month\")\n",
    "plt.ylabel(\"Revenue ($)\")\n",
    "plt.legend()\n",
    "plt.grid()\n",
    "plt.show()"
   ]
  },
  {
   "cell_type": "markdown",
   "id": "7aa7da05",
   "metadata": {},
   "source": [
    "### Question 14: Bar Plot"
   ]
  },
  {
   "cell_type": "code",
   "execution_count": null,
   "id": "d8cf80d0",
   "metadata": {},
   "outputs": [],
   "source": [
    "products = [\"P1\", \"P2\", \"P3\", \"P4\", \"P5\"]\n",
    "sales_region1 = np.random.randint(100, 500, 5)\n",
    "sales_region2 = np.random.randint(100, 500, 5)\n",
    "x = np.arange(len(products))\n",
    "plt.bar(x - 0.2, sales_region1, width=0.4, label=\"Region 1\")\n",
    "plt.bar(x + 0.2, sales_region2, width=0.4, label=\"Region 2\")\n",
    "plt.xticks(x, products)\n",
    "plt.title(\"Sales Comparison by Region\")\n",
    "plt.xlabel(\"Product\")\n",
    "plt.ylabel(\"Sales\")\n",
    "plt.legend()\n",
    "plt.show()"
   ]
  },
  {
   "cell_type": "markdown",
   "id": "91d71b11",
   "metadata": {},
   "source": [
    "### Question 15: Scatter Plot"
   ]
  },
  {
   "cell_type": "code",
   "execution_count": null,
   "id": "59571742",
   "metadata": {},
   "outputs": [],
   "source": [
    "sns.scatterplot(data=iris, x=\"petal_length\", y=\"petal_width\", hue=\"species\")\n",
    "plt.title(\"Petal Length vs Petal Width\")\n",
    "plt.xlabel(\"Petal Length\")\n",
    "plt.ylabel(\"Petal Width\")\n",
    "plt.show()"
   ]
  }
 ],
 "metadata": {},
 "nbformat": 4,
 "nbformat_minor": 5
}

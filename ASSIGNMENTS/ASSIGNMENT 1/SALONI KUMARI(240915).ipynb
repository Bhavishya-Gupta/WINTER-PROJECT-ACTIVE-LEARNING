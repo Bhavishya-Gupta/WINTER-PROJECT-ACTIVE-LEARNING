{
 "cells": [
  {
   "cell_type": "markdown",
   "metadata": {},
   "source": [
    "# Question 1: Control Flow and Loops\n",
    "\"\"\"\n",
    "Write a Python function to generate the first N Fibonacci numbers. Test the\n",
    "function with N = 10.\n",
    "\"\"\"\n",
    "\n",
    " "
   ]
  },
  {
   "cell_type": "code",
   "execution_count": 37,
   "metadata": {},
   "outputs": [
    {
     "name": "stdout",
     "output_type": "stream",
     "text": [
      "[0, 1, 1, 2, 3, 5, 8, 13, 21, 34]\n"
     ]
    }
   ],
   "source": [
    "def fibonacci(n):\n",
    "    \n",
    "    if n <= 0:\n",
    "        return []\n",
    "    elif n == 1:\n",
    "        return [0]\n",
    "    elif n == 2:\n",
    "        return [0, 1]\n",
    "\n",
    "    fibonacci_sequence = [0, 1]\n",
    "    while len(fibonacci_sequence) < n:\n",
    "        fibonacci_sequence.append(fibonacci_sequence[-1] + fibonacci_sequence[-2])\n",
    "\n",
    "    return fibonacci_sequence\n",
    "\n",
    "\n",
    "n = 10\n",
    "print(fibonacci(n))"
   ]
  },
  {
   "cell_type": "markdown",
   "metadata": {},
   "source": [
    "# Question 2: List and Dictionary Comprehension\n",
    "\"\"\"\n",
    "Create a list of squares of numbers from 1 to 20 using list comprehension. Then, create\n",
    "a dictionary where the keys are numbers from 1 to 10, and the values are their cubes\n",
    "using dictionary comprehension.\n",
    "\"\"\""
   ]
  },
  {
   "cell_type": "code",
   "execution_count": 38,
   "metadata": {},
   "outputs": [
    {
     "name": "stdout",
     "output_type": "stream",
     "text": [
      "[1, 4, 9, 16, 25, 36, 49, 64, 81, 100, 121, 144, 169, 196, 225, 256, 289, 324, 361, 400]\n",
      "{1: 1, 2: 8, 3: 27, 4: 64, 5: 125, 6: 216, 7: 343, 8: 512, 9: 729, 10: 1000}\n"
     ]
    }
   ],
   "source": [
    "square_list = [i ** 2 for i in range(1, 21)]\n",
    "\n",
    "print(square_list)\n",
    "\n",
    "\n",
    "\n",
    "cubes_dictionary = {i: i ** 3 for i in range(1, 11)}\n",
    "\n",
    "print(cubes_dictionary)\n"
   ]
  },
  {
   "cell_type": "markdown",
   "metadata": {},
   "source": [
    "# Question 3: File Handling\n",
    "\"\"\"\n",
    "Write a Python script to create a CSV file named data.csv with three columns: Name,\n",
    "Age, and Score. Write at least five rows of data, then read the file and print the rows\n",
    "where the score is above 75\n",
    "\"\"\""
   ]
  },
  {
   "cell_type": "code",
   "execution_count": 39,
   "metadata": {},
   "outputs": [
    {
     "name": "stdout",
     "output_type": "stream",
     "text": [
      "Rows with a score above 75:\n",
      "['Ahana', '23', '88']\n",
      "['Chahat', '25', '95']\n",
      "['Era', '22', '80']\n"
     ]
    }
   ],
   "source": [
    "import csv\n",
    "\n",
    "\n",
    "file_name = 'data.csv'\n",
    "data = [\n",
    "    [\"Name\", \"Age\", \"Score\"],\n",
    "    [\"Ahana\", 23, 88],\n",
    "    [\"Bobby\", 30, 72],\n",
    "    [\"Chahat\", 25, 95],\n",
    "    [\"Dixant\", 29, 65],\n",
    "    [\"Era\", 22, 80]\n",
    "]\n",
    "with open(file_name, mode='w', newline='') as file:\n",
    "    writer = csv.writer(file)\n",
    "    writer.writerows(data)\n",
    "\n",
    "print(\"Rows with a score above 75:\")\n",
    "with open(file_name, mode='r') as file:\n",
    "    reader = csv.reader(file)\n",
    "    header = next(reader)  \n",
    "    for row in reader:\n",
    "        if int(row[2]) > 75:\n",
    "            print(row)"
   ]
  },
  {
   "cell_type": "markdown",
   "metadata": {},
   "source": [
    "# Question 4: Array Operations\n",
    "    \"\"\"\n",
    "Create a 1D NumPy array of 25 random integers between 10 and 100. Perform the\n",
    "following:\n",
    "• Find the maximum, minimum, and their indices.\n",
    "• Replace all odd numbers in the array with\n",
    "\"\"\""
   ]
  },
  {
   "cell_type": "code",
   "execution_count": 40,
   "metadata": {},
   "outputs": [
    {
     "name": "stdout",
     "output_type": "stream",
     "text": [
      "Original Array:\n",
      "[92, 74, 67, 49, 21, 61, 75, 60, 22, 72, 36, 98, 46, 11, 42, 68, 59, 94, 20, 32, 16, 29, 36, 37, 42]\n",
      "\n",
      "Maximum Value: 98 at Index 11\n",
      "Minimum Value: 11 at Index 13\n",
      "\n",
      "Array after replacing odd numbers with -1:\n",
      "[92, 74, -1, -1, -1, -1, -1, 60, 22, 72, 36, 98, 46, -1, 42, 68, -1, 94, 20, 32, 16, -1, 36, -1, 42]\n"
     ]
    }
   ],
   "source": [
    "import random\n",
    "\n",
    "\n",
    "arr = [random.randint(10, 100) for _ in range(25)]\n",
    "print(\"Original Array:\")\n",
    "print(arr)\n",
    "\n",
    "max_val = max(arr)\n",
    "min_val = min(arr)\n",
    "max_idx = arr.index(max_val)\n",
    "min_idx = arr.index(min_val)\n",
    "\n",
    "print(f\"\\nMaximum Value: {max_val} at Index {max_idx}\")\n",
    "print(f\"Minimum Value: {min_val} at Index {min_idx}\")\n",
    "\n",
    "arr = [-1 if x % 2 != 0 else x for x in arr]\n",
    "print(\"\\nArray after replacing odd numbers with -1:\")\n",
    "print(arr)"
   ]
  },
  {
   "cell_type": "markdown",
   "metadata": {},
   "source": [
    "# Question 5: Matrix Manipulation\n",
    "\"\"\"Create a 5x5 matrix with random numbers. Perform the following:\n",
    "• Extract the diagonal elements.\n",
    "• Calculate the sum of all elements above the main diagonal.\"\"\"\n",
    "\n",
    "\n"
   ]
  },
  {
   "cell_type": "code",
   "execution_count": 41,
   "metadata": {},
   "outputs": [
    {
     "name": "stdout",
     "output_type": "stream",
     "text": [
      "Original Matrix:\n",
      "[96, 89, 83, 26, 23]\n",
      "[15, 47, 53, 75, 49]\n",
      "[24, 61, 9, 6, 16]\n",
      "[76, 74, 90, 6, 62]\n",
      "[49, 21, 72, 33, 99]\n",
      "\n",
      "Diagonal Elements:\n",
      "[96, 47, 9, 6, 99]\n",
      "\n",
      "Sum of Elements of Diagonal:\n",
      "482\n"
     ]
    }
   ],
   "source": [
    "import random\n",
    "\n",
    "matrix = [[random.randint(1, 100) for _ in range(5)] for _ in range(5)]\n",
    "print(\"Original Matrix:\")\n",
    "for row in matrix:\n",
    "    print(row)\n",
    "\n",
    "\n",
    "diagonal_elements = [matrix[i][i] for i in range(5)]\n",
    "print(\"\\nDiagonal Elements:\")\n",
    "print(diagonal_elements)\n",
    "\n",
    "sum_above_diagonal = sum(matrix[i][j] for i in range(5) for j in range(5) if j > i)\n",
    "print(\"\\nSum of Elements of Diagonal:\")\n",
    "print(sum_above_diagonal)"
   ]
  },
  {
   "cell_type": "markdown",
   "metadata": {},
   "source": [
    "\n",
    "# Question 6: Statistical Functions\n",
    "\"\"\"Generate a 3D NumPy array of shape (3, 4, 5) with random floats. Perform the following:\n",
    "• Calculate the mean, median, and standard deviation of the entire array.\n",
    "• Normalize the array by subtracting the mean and dividing by the standard\n",
    "deviation.\"\"\""
   ]
  },
  {
   "cell_type": "code",
   "execution_count": 42,
   "metadata": {},
   "outputs": [
    {
     "name": "stdout",
     "output_type": "stream",
     "text": [
      "Original Array:\n",
      "[[[0.94966118 0.60095765 0.11853439 0.84204312 0.41321647]\n",
      "  [0.48879293 0.91052578 0.10688746 0.67931505 0.39053781]\n",
      "  [0.73552055 0.41889222 0.23319243 0.16043266 0.13913253]\n",
      "  [0.45217069 0.20621121 0.02986533 0.19659747 0.20727326]]\n",
      "\n",
      " [[0.52186913 0.60032618 0.03640236 0.97263683 0.17439581]\n",
      "  [0.67624963 0.75148567 0.54284173 0.02842499 0.85400228]\n",
      "  [0.41896285 0.64722867 0.00903858 0.90032927 0.157466  ]\n",
      "  [0.51062096 0.09358909 0.99961021 0.13704253 0.54760656]]\n",
      "\n",
      " [[0.10220796 0.77309508 0.61087244 0.38899945 0.05653349]\n",
      "  [0.30139009 0.56552201 0.83291521 0.15365647 0.63915452]\n",
      "  [0.80818447 0.09526901 0.96424848 0.15008343 0.10906977]\n",
      "  [0.43904536 0.87602297 0.58426749 0.18942208 0.96342031]]]\n",
      "\n",
      "Mean: 0.45772115947361364, Median: 0.44560802318826837, Standard Deviation: 0.3072492603288495\n",
      "\n",
      "Normalized Array:\n",
      "[[[ 1.60111052  0.46618986 -1.10394658  1.25084746 -0.14484881]\n",
      "  [ 0.10112886  1.47373705 -1.14185367  0.72121863 -0.21866074]\n",
      "  [ 0.9041499  -0.12637604 -0.73077062 -0.96758085 -1.0369061 ]\n",
      "  [-0.01806504 -0.81858602 -1.39253656 -0.84987573 -0.81512939]]\n",
      "\n",
      " [[ 0.20878152  0.46413463 -1.37126059  1.67588906 -0.92213516]\n",
      "  [ 0.71124164  0.95611138  0.27704076 -1.39722443  1.28977078]\n",
      "  [-0.12614616  0.61678754 -1.46032111  1.4405506  -0.9772364 ]\n",
      "  [ 0.17217227 -1.1851357   1.76367893 -1.04370838  0.29254878]]\n",
      "\n",
      " [[-1.15708397  1.02644321  0.49845939 -0.22366763 -1.30574006]\n",
      "  [-0.5088086   0.35085797  1.22113899 -0.98963521  0.59050868]\n",
      "  [ 1.14064819 -1.1796681   1.64858759 -1.00126434 -1.13475096]\n",
      "  [-0.06078388  1.36144123  0.41186861 -0.87322937  1.64589217]]]\n"
     ]
    }
   ],
   "source": [
    "import numpy as np\n",
    "\n",
    "arr = np.random.rand(3, 4, 5)\n",
    "print(\"Original Array:\")\n",
    "print(arr)\n",
    "\n",
    "mean = np.mean(arr)\n",
    "median = np.median(arr)\n",
    "std_dev = np.std(arr)\n",
    "print(f\"\\nMean: {mean}, Median: {median}, Standard Deviation: {std_dev}\")\n",
    "\n",
    "normalized_arr = (arr - mean) / std_dev\n",
    "print(\"\\nNormalized Array:\")\n",
    "print(normalized_arr)"
   ]
  },
  {
   "cell_type": "markdown",
   "metadata": {},
   "source": [
    "# Question 7: Broadcasting and Indexing\n",
    "\"\"\"Create two 2D arrays of shape (4, 4) and (4, 1). Use broadcasting to add these arrays\n",
    "element-wise and display the result.\"\"\""
   ]
  },
  {
   "cell_type": "code",
   "execution_count": 43,
   "metadata": {},
   "outputs": [
    {
     "name": "stdout",
     "output_type": "stream",
     "text": [
      "Array 1:\n",
      "\n",
      "[[ 0  1  2  3]\n",
      " [ 4  5  6  7]\n",
      " [ 8  9 10 11]\n",
      " [12 13 14 15]]\n",
      "Array 2:\n",
      "\n",
      "[[0]\n",
      " [1]\n",
      " [2]\n",
      " [3]]\n",
      "Result of Element-wise Addition:\n",
      "[[ 0  1  2  3]\n",
      " [ 5  6  7  8]\n",
      " [10 11 12 13]\n",
      " [15 16 17 18]]\n"
     ]
    }
   ],
   "source": [
    "import numpy as np\n",
    "\n",
    "arr1 = np.arange(16).reshape(4, 4)\n",
    "arr2 = np.arange(4).reshape(4, 1)\n",
    "\n",
    "print(\"Array 1:\\n\")\n",
    "print(arr1)\n",
    "print(\"Array 2:\\n\")\n",
    "print(arr2)\n",
    "\n",
    "\n",
    "result = arr1 + arr2\n",
    "\n",
    "print(\"Result of Element-wise Addition:\")\n",
    "print(result)"
   ]
  },
  {
   "cell_type": "markdown",
   "metadata": {},
   "source": [
    "# Question 8: DataFrame Creation and Basic Operations\n",
    "\"\"\"Create a Pandas DataFrame with three columns: Product, Price, and Quantity. Populate\n",
    "it with at least 8 rows. Perform the following:\n",
    "• Calculate the total value for each product (Price × Quantity).\n",
    "• Add a new column for the total value and sort the DataFrame by this column\"\"\"\n"
   ]
  },
  {
   "cell_type": "code",
   "execution_count": 44,
   "metadata": {},
   "outputs": [
    {
     "name": "stdout",
     "output_type": "stream",
     "text": [
      "Original DataFrame:\n",
      "     Product  Price  Quantity\n",
      "0  Product A  10.99         5\n",
      "1  Product B   9.99        10\n",
      "2  Product C  12.99         7\n",
      "3  Product D   7.99         3\n",
      "4  Product E  11.99         8\n",
      "5  Product F   8.99         4\n",
      "6  Product G  13.99         6\n",
      "7  Product H  14.99         9\n",
      "\n",
      "DataFrame Sorted by Total Value:\n",
      "     Product  Price  Quantity  Total Value\n",
      "7  Product H  14.99         9       134.91\n",
      "1  Product B   9.99        10        99.90\n",
      "4  Product E  11.99         8        95.92\n",
      "2  Product C  12.99         7        90.93\n",
      "6  Product G  13.99         6        83.94\n",
      "0  Product A  10.99         5        54.95\n",
      "5  Product F   8.99         4        35.96\n",
      "3  Product D   7.99         3        23.97\n"
     ]
    }
   ],
   "source": [
    "import pandas as pd\n",
    "\n",
    "data = {\n",
    "    \"Product\": [\"Product A\", \"Product B\", \"Product C\", \"Product D\", \"Product E\", \"Product F\", \"Product G\", \"Product H\"],\n",
    "    \"Price\": [10.99, 9.99, 12.99, 7.99, 11.99, 8.99, 13.99, 14.99],\n",
    "    \"Quantity\": [5, 10, 7, 3, 8, 4, 6, 9]\n",
    "}\n",
    "df = pd.DataFrame(data)\n",
    "\n",
    "print(\"Original DataFrame:\")\n",
    "print(df)\n",
    "\n",
    "df[\"Total Value\"] = df[\"Price\"] * df[\"Quantity\"]\n",
    "\n",
    "df_sorted = df.sort_values(by=\"Total Value\", ascending=False)\n",
    "\n",
    "print(\"\\nDataFrame Sorted by Total Value:\")\n",
    "print(df_sorted)\n"
   ]
  },
  {
   "cell_type": "markdown",
   "metadata": {},
   "source": [
    "# Question 9: Data Filtering\n",
    "\"\"\"Load the Titanic dataset from the Kaggle Titanic dataset or any publicly available\n",
    "source. Filter and display rows where:\n",
    "• The passenger age is below 18.\n",
    "• The passenger is female and survived.\"\"\"\n"
   ]
  },
  {
   "cell_type": "code",
   "execution_count": 45,
   "metadata": {},
   "outputs": [
    {
     "name": "stdout",
     "output_type": "stream",
     "text": [
      "     PassengerId  Survived  Pclass                                     Name  \\\n",
      "7              8         0       3           Palsson, Master. Gosta Leonard   \n",
      "9             10         1       2      Nasser, Mrs. Nicholas (Adele Achem)   \n",
      "10            11         1       3          Sandstrom, Miss. Marguerite Rut   \n",
      "14            15         0       3     Vestrom, Miss. Hulda Amanda Adolfina   \n",
      "16            17         0       3                     Rice, Master. Eugene   \n",
      "..           ...       ...     ...                                      ...   \n",
      "850          851         0       3  Andersson, Master. Sigvard Harald Elias   \n",
      "852          853         0       3                  Boulos, Miss. Nourelain   \n",
      "853          854         1       1                Lines, Miss. Mary Conover   \n",
      "869          870         1       3          Johnson, Master. Harold Theodor   \n",
      "875          876         1       3         Najib, Miss. Adele Kiamie \"Jane\"   \n",
      "\n",
      "        Sex   Age  SibSp  Parch    Ticket     Fare Cabin Embarked  \n",
      "7      male   2.0      3      1    349909  21.0750   NaN        S  \n",
      "9    female  14.0      1      0    237736  30.0708   NaN        C  \n",
      "10   female   4.0      1      1   PP 9549  16.7000    G6        S  \n",
      "14   female  14.0      0      0    350406   7.8542   NaN        S  \n",
      "16     male   2.0      4      1    382652  29.1250   NaN        Q  \n",
      "..      ...   ...    ...    ...       ...      ...   ...      ...  \n",
      "850    male   4.0      4      2    347082  31.2750   NaN        S  \n",
      "852  female   9.0      1      1      2678  15.2458   NaN        C  \n",
      "853  female  16.0      0      1  PC 17592  39.4000   D28        S  \n",
      "869    male   4.0      1      1    347742  11.1333   NaN        S  \n",
      "875  female  15.0      0      0      2667   7.2250   NaN        C  \n",
      "\n",
      "[113 rows x 12 columns]\n",
      "     PassengerId  Survived  Pclass  \\\n",
      "1              2         1       1   \n",
      "2              3         1       3   \n",
      "3              4         1       1   \n",
      "8              9         1       3   \n",
      "9             10         1       2   \n",
      "..           ...       ...     ...   \n",
      "874          875         1       2   \n",
      "875          876         1       3   \n",
      "879          880         1       1   \n",
      "880          881         1       2   \n",
      "887          888         1       1   \n",
      "\n",
      "                                                  Name     Sex   Age  SibSp  \\\n",
      "1    Cumings, Mrs. John Bradley (Florence Briggs Th...  female  38.0      1   \n",
      "2                               Heikkinen, Miss. Laina  female  26.0      0   \n",
      "3         Futrelle, Mrs. Jacques Heath (Lily May Peel)  female  35.0      1   \n",
      "8    Johnson, Mrs. Oscar W (Elisabeth Vilhelmina Berg)  female  27.0      0   \n",
      "9                  Nasser, Mrs. Nicholas (Adele Achem)  female  14.0      1   \n",
      "..                                                 ...     ...   ...    ...   \n",
      "874              Abelson, Mrs. Samuel (Hannah Wizosky)  female  28.0      1   \n",
      "875                   Najib, Miss. Adele Kiamie \"Jane\"  female  15.0      0   \n",
      "879      Potter, Mrs. Thomas Jr (Lily Alexenia Wilson)  female  56.0      0   \n",
      "880       Shelley, Mrs. William (Imanita Parrish Hall)  female  25.0      0   \n",
      "887                       Graham, Miss. Margaret Edith  female  19.0      0   \n",
      "\n",
      "     Parch            Ticket     Fare Cabin Embarked  \n",
      "1        0          PC 17599  71.2833   C85        C  \n",
      "2        0  STON/O2. 3101282   7.9250   NaN        S  \n",
      "3        0            113803  53.1000  C123        S  \n",
      "8        2            347742  11.1333   NaN        S  \n",
      "9        0            237736  30.0708   NaN        C  \n",
      "..     ...               ...      ...   ...      ...  \n",
      "874      0         P/PP 3381  24.0000   NaN        C  \n",
      "875      0              2667   7.2250   NaN        C  \n",
      "879      1             11767  83.1583   C50        C  \n",
      "880      1            230433  26.0000   NaN        S  \n",
      "887      0            112053  30.0000   B42        S  \n",
      "\n",
      "[233 rows x 12 columns]\n"
     ]
    }
   ],
   "source": [
    "import pandas as pd\n",
    "\n",
    "titanic_url = 'https://raw.githubusercontent.com/datasciencedojo/datasets/master/titanic.csv'\n",
    "df = pd.read_csv(titanic_url)\n",
    "passengers_below_18 = df[df['Age'] < 18]\n",
    "females_survived = df[(df['Sex'] == 'female') & (df['Survived'] == 1)]\n",
    "\n",
    "print(passengers_below_18)\n",
    "print(females_survived)"
   ]
  },
  {
   "cell_type": "markdown",
   "metadata": {},
   "source": [
    "# Question10: Groupby Operations\n",
    "\n",
    "\"\"\"Load the Iris dataset from Seaborn library or any other source like Kaggle, etc. Group the\n",
    "data by species and calculate the mean of petal length and sepal width for each group.\"\"\"\n",
    "\n"
   ]
  },
  {
   "cell_type": "code",
   "execution_count": 46,
   "metadata": {},
   "outputs": [
    {
     "name": "stdout",
     "output_type": "stream",
     "text": [
      "      Species  Mean Petal Length  Mean Sepal Width\n",
      "0      setosa              1.462             3.428\n",
      "1  versicolor              4.260             2.770\n",
      "2   virginica              5.552             2.974\n"
     ]
    }
   ],
   "source": [
    "import seaborn as sns\n",
    "import pandas as pd\n",
    "\n",
    "iris = sns.load_dataset(\"iris\")\n",
    "\n",
    "\n",
    "grouped_data = iris.groupby(\"species\")[[\"petal_length\", \"sepal_width\"]].mean().reset_index()\n",
    "\n",
    "grouped_data.columns = [\"Species\", \"Mean Petal Length\", \"Mean Sepal Width\"]\n",
    "\n",
    "print(grouped_data)"
   ]
  },
  {
   "cell_type": "markdown",
   "metadata": {},
   "source": [
    "# Question 11: Handling Missing Values\n",
    "\"\"\"Create a Pandas DataFrame with random data and intentionally introduce NaN values.\n",
    "Replace the NaN values with the column mean and display the updated DataFrame\"\"\"\n",
    "\n"
   ]
  },
  {
   "cell_type": "code",
   "execution_count": 47,
   "metadata": {},
   "outputs": [
    {
     "name": "stdout",
     "output_type": "stream",
     "text": [
      "Original DataFrame:\n",
      "      A     B     C\n",
      "0  45.0  48.0  65.0\n",
      "1   NaN  68.0  10.0\n",
      "2  84.0   NaN  37.0\n",
      "3  88.0  71.0   NaN\n",
      "4  89.0  13.0  59.0\n",
      "\n",
      "Updated DataFrame with NaN replaced by column mean:\n",
      "      A     B      C\n",
      "0  45.0  48.0  65.00\n",
      "1  76.5  68.0  10.00\n",
      "2  84.0  50.0  37.00\n",
      "3  88.0  71.0  42.75\n",
      "4  89.0  13.0  59.00\n"
     ]
    }
   ],
   "source": [
    "import pandas as pd\n",
    "import numpy as np\n",
    "\n",
    "\n",
    "np.random.seed(0)\n",
    "data = np.random.randint(1, 100, size=(5, 3))\n",
    "df = pd.DataFrame(data, columns=['A', 'B', 'C'])\n",
    "\n",
    "\n",
    "df.loc[1, 'A'] = np.nan\n",
    "df.loc[2, 'B'] = np.nan\n",
    "df.loc[3, 'C'] = np.nan\n",
    "\n",
    "print(\"Original DataFrame:\")\n",
    "print(df)\n",
    "\n",
    "df_filled = df.fillna(df.mean())\n",
    "\n",
    "print(\"\\nUpdated DataFrame with NaN replaced by column mean:\")\n",
    "print(df_filled)"
   ]
  },
  {
   "cell_type": "markdown",
   "metadata": {},
   "source": [
    "# Question 12: Merging DataFrames\n",
    "\"\"\"Create two DataFrames: one with columns ID and Name, and another with columns ID\n",
    "and Score. Merge the two DataFrames on the ID column and display the resulting\n",
    "DataFrame.\"\"\"\n"
   ]
  },
  {
   "cell_type": "code",
   "execution_count": 48,
   "metadata": {},
   "outputs": [
    {
     "name": "stdout",
     "output_type": "stream",
     "text": [
      "DataFrame 1:\n",
      "   ID    Name\n",
      "0   1    Riya\n",
      "1   2  Ananya\n",
      "2   3   Priya\n",
      "3   4   Ladli\n",
      "4   5   Tanvi\n",
      "\n",
      "DataFrame 2:\n",
      "   ID  Score\n",
      "0   1     93\n",
      "1   2     87\n",
      "2   3     80\n",
      "3   4     91\n",
      "4   5     79\n",
      "\n",
      "Merged DataFrame:\n",
      "   ID    Name  Score\n",
      "0   1    Riya     93\n",
      "1   2  Ananya     87\n",
      "2   3   Priya     80\n",
      "3   4   Ladli     91\n",
      "4   5   Tanvi     79\n"
     ]
    }
   ],
   "source": [
    "import pandas as pd\n",
    "\n",
    "\n",
    "data1 = {\n",
    "    \"ID\": [1, 2, 3, 4, 5],\n",
    "    \"Name\": [\"Riya\", \"Ananya\", \"Priya\", \"Ladli\", \"Tanvi\"]\n",
    "}\n",
    "df1 = pd.DataFrame(data1)\n",
    "\n",
    "\n",
    "data2 = {\n",
    "    \"ID\": [1, 2, 3, 4, 5],\n",
    "    \"Score\": [93, 87, 80, 91, 79]\n",
    "}\n",
    "df2 = pd.DataFrame(data2)\n",
    "\n",
    "print(\"DataFrame 1:\")\n",
    "print(df1)\n",
    "print(\"\\nDataFrame 2:\")\n",
    "print(df2)\n",
    "\n",
    "\n",
    "df_merged = pd.merge(df1, df2, on=\"ID\")\n",
    "\n",
    "print(\"\\nMerged DataFrame:\")\n",
    "print(df_merged)"
   ]
  },
  {
   "cell_type": "markdown",
   "metadata": {},
   "source": [
    "# Question 13: Line Plot\n",
    "\"\"\"Generate a random dataset representing the monthly revenue of a company. Plot a line\n",
    "graph to show the trend, and customize it with:\n",
    "• A title, labeled axes, and a legend.\"\"\"\n"
   ]
  },
  {
   "cell_type": "code",
   "execution_count": 49,
   "metadata": {},
   "outputs": [
    {
     "data": {
      "image/png": "[encoded data removed]",
      "text/plain": [
       "<Figure size 1000x600 with 1 Axes>"
      ]
     },
     "metadata": {},
     "output_type": "display_data"
    }
   ],
   "source": [
    "import matplotlib.pyplot as plt\n",
    "import numpy as np\n",
    "import pandas as pd\n",
    "\n",
    "\n",
    "np.random.seed(0)\n",
    "months = ['Jan', 'Feb', 'Mar', 'Apr', 'May', 'Jun', 'Jul', 'Aug', 'Sep', 'Oct', 'Nov', 'Dec']\n",
    "revenue = np.random.randint(50000, 150000, size=12)\n",
    "data = pd.DataFrame({'Month': months, 'Revenue': revenue})\n",
    "\n",
    "plt.figure(figsize=(10, 6))\n",
    "plt.plot(data['Month'], data['Revenue'], marker='o')\n",
    "\n",
    "plt.title('Monthly Revenue Trend')\n",
    "plt.xlabel('Month')\n",
    "plt.ylabel('Revenue ($)')\n",
    "plt.grid(True)\n",
    "plt.legend(['Revenue'])\n",
    "\n",
    "plt.show()"
   ]
  },
  {
   "cell_type": "markdown",
   "metadata": {},
   "source": [
    "# Question 14: Bar Plot\n",
    "\"\"\"Create a dataset representing the sales of five products in two different regions. Use a\n",
    "grouped bar chart to display the comparison between the regions for each product.\n",
    "Ensure that the plot is customized with:\n",
    "• A title, labeled axes, and a legend.\"\"\"\n"
   ]
  },
  {
   "cell_type": "code",
   "execution_count": 50,
   "metadata": {},
   "outputs": [
    {
     "data": {
      "text/plain": [
       "<matplotlib.legend.Legend at 0x1d47961fb10>"
      ]
     },
     "execution_count": 50,
     "metadata": {},
     "output_type": "execute_result"
    },
    {
     "data": {
      "image/png": "[encoded data removed]",
      "text/plain": [
       "<Figure size 1000x600 with 1 Axes>"
      ]
     },
     "metadata": {},
     "output_type": "display_data"
    }
   ],
   "source": [
    "import matplotlib.pyplot as plt\n",
    "import numpy as np\n",
    "\n",
    "products = ['Product A', 'Product B', 'Product C', 'Product D', 'Product E']\n",
    "region1_sales = np.random.randint(100, 500, size=5)\n",
    "region2_sales = np.random.randint(100, 500, size=5)\n",
    "\n",
    "bar_width = 0.35\n",
    "x = np.arange(len(products))\n",
    "fig, ax = plt.subplots(figsize=(10, 6))\n",
    "ax.bar(x - bar_width/2, region1_sales, bar_width, label='Region 1')\n",
    "ax.bar(x + bar_width/2, region2_sales, bar_width, label='Region 2')\n",
    "\n",
    "ax.set_title('Product Sales Comparison by Region')\n",
    "ax.set_xlabel('Product')\n",
    "ax.set_ylabel('Sales')\n",
    "ax.set_xticks(x)\n",
    "ax.set_xticklabels(products)\n",
    "ax.legend()"
   ]
  },
  {
   "cell_type": "markdown",
   "metadata": {},
   "source": [
    "# Show the plot\n",
    "\"\"\"plt.show()\n",
    "\n",
    "Question 15: Scatter Plot\n",
    "Load the Iris dataset from Seaborn library or any other source like Kaggle, etc. Create a\n",
    "scatter plot comparing any two features of the flowers (e.g., petal length vs petal width,\n",
    "sepal length vs sepal width). Customize the plot to use different colors for each species\n",
    "and add labels and a title.\"\"\"\n",
    "\n"
   ]
  },
  {
   "cell_type": "code",
   "execution_count": 51,
   "metadata": {},
   "outputs": [
    {
     "data": {
      "image/png": "[encoded data removed]",
      "text/plain": [
       "<Figure size 800x600 with 1 Axes>"
      ]
     },
     "metadata": {},
     "output_type": "display_data"
    }
   ],
   "source": [
    "import seaborn as sns\n",
    "import matplotlib.pyplot as plt\n",
    "\n",
    "iris = sns.load_dataset(\"iris\")\n",
    "\n",
    "plt.figure(figsize=(8, 6))\n",
    "sns.scatterplot(x=\"petal_length\", y=\"petal_width\", hue=\"species\", data=iris)\n",
    "\n",
    "plt.title('Petal Length vs Petal Width')\n",
    "plt.xlabel('Petal Length (cm)')\n",
    "plt.ylabel('Petal Width (cm)')\n",
    "\n",
    "\n",
    "plt.show()\n",
    "\n"
   ]
  }
 ],
 "metadata": {
  "kernelspec": {
   "display_name": "Python 3",
   "language": "python",
   "name": "python3"
  },
  "language_info": {
   "codemirror_mode": {
    "name": "ipython",
    "version": 3
   },
   "file_extension": ".py",
   "mimetype": "text/x-python",
   "name": "python",
   "nbconvert_exporter": "python",
   "pygments_lexer": "ipython3",
   "version": "3.13.1"
  }
 },
 "nbformat": 4,
 "nbformat_minor": 2
}

{
  "nbformat": 4,
  "nbformat_minor": 0,
  "metadata": {
    "colab": {
      "provenance": []
    },
    "kernelspec": {
      "name": "python3",
      "display_name": "Python 3"
    },
    "language_info": {
      "name": "python"
    }
  },
  "cells": [
    {
      "cell_type": "markdown",
      "source": [],
      "metadata": {
        "id": "lF5hYhmdIIfT"
      }
    },
    {
      "cell_type": "markdown",
      "source": [
        "ASSIGNMENT 1"
      ],
      "metadata": {
        "id": "0yfGQGcaImp0"
      }
    },
    {
      "cell_type": "markdown",
      "source": [
        "QUES 1"
      ],
      "metadata": {
        "id": "NJBUAWmiIsaM"
      }
    },
    {
      "cell_type": "code",
      "execution_count": 7,
      "metadata": {
        "colab": {
          "base_uri": "https://localhost:8080/"
        },
        "id": "Z-nwPdhCIEZO",
        "outputId": "cfa07d4f-8d64-4620-b192-161a27e38b4a"
      },
      "outputs": [
        {
          "output_type": "stream",
          "name": "stdout",
          "text": [
            "[0, 1, 1, 2, 3, 5, 8, 13, 21, 34]\n"
          ]
        }
      ],
      "source": [
        "def fibonacci(n):\n",
        "    fib = [0, 1]\n",
        "    for _ in range(2, n):\n",
        "        fib.append(fib[-1] + fib[-2])\n",
        "    return fib[:n]\n",
        "\n",
        "print(fibonacci(10))\n"
      ]
    },
    {
      "cell_type": "markdown",
      "source": [
        "QUES 2"
      ],
      "metadata": {
        "id": "GdmH3J48JB-e"
      }
    },
    {
      "cell_type": "code",
      "source": [
        "squares = [x**2 for x in range(1, 21)]\n",
        "print(\"Squares:\", squares)\n",
        "cubes = {x: x**3 for x in range(1, 11)}\n",
        "print(\"Cubes:\", cubes)\n"
      ],
      "metadata": {
        "colab": {
          "base_uri": "https://localhost:8080/"
        },
        "id": "zZmxu3ByJAjd",
        "outputId": "915d7a7b-9e13-4482-beed-d001baf4ebc9"
      },
      "execution_count": 8,
      "outputs": [
        {
          "output_type": "stream",
          "name": "stdout",
          "text": [
            "Squares: [1, 4, 9, 16, 25, 36, 49, 64, 81, 100, 121, 144, 169, 196, 225, 256, 289, 324, 361, 400]\n",
            "Cubes: {1: 1, 2: 8, 3: 27, 4: 64, 5: 125, 6: 216, 7: 343, 8: 512, 9: 729, 10: 1000}\n"
          ]
        }
      ]
    },
    {
      "cell_type": "markdown",
      "source": [
        "QUES 3"
      ],
      "metadata": {
        "id": "LqNfuPzeJwCf"
      }
    },
    {
      "cell_type": "code",
      "source": [
        "import csv\n",
        "data = [[\"Name\", \"Age\", \"Score\"],\n",
        "        [\"Alice\", 25, 85],\n",
        "        [\"Bob\", 30, 65],\n",
        "        [\"Charlie\", 22, 95],\n",
        "        [\"Diana\", 29, 70],\n",
        "        [\"Eve\", 21, 80]]\n",
        "\n",
        "with open('data.csv', 'w', newline='') as file:\n",
        "    writer = csv.writer(file)\n",
        "    writer.writerows(data)\n",
        "with open('data.csv', 'r') as file:\n",
        "    reader = csv.DictReader(file)\n",
        "    for row in reader:\n",
        "        if int(row[\"Score\"]) > 75:\n",
        "            print(row)\n"
      ],
      "metadata": {
        "colab": {
          "base_uri": "https://localhost:8080/"
        },
        "id": "E1RKLts9Ju6w",
        "outputId": "0bb1adb8-5e52-4b5e-ece5-82b8b6e7a8b0"
      },
      "execution_count": 9,
      "outputs": [
        {
          "output_type": "stream",
          "name": "stdout",
          "text": [
            "{'Name': 'Alice', 'Age': '25', 'Score': '85'}\n",
            "{'Name': 'Charlie', 'Age': '22', 'Score': '95'}\n",
            "{'Name': 'Eve', 'Age': '21', 'Score': '80'}\n"
          ]
        }
      ]
    },
    {
      "cell_type": "markdown",
      "source": [
        "QUES 4"
      ],
      "metadata": {
        "id": "qi0d2YncJ__P"
      }
    },
    {
      "cell_type": "code",
      "source": [
        "import numpy as np\n",
        "arr = np.random.randint(10, 100, 25)\n",
        "print(\"Array:\", arr)\n",
        "print(\"Max:\", arr.max(), \"Index:\", arr.argmax())\n",
        "print(\"Min:\", arr.min(), \"Index:\", arr.argmin())\n",
        "arr[arr % 2 != 0] = -1\n",
        "print(\"Modified Array:\", arr)\n"
      ],
      "metadata": {
        "colab": {
          "base_uri": "https://localhost:8080/"
        },
        "id": "qBzNgbuBJ_uJ",
        "outputId": "bd11005c-b0ed-4f57-b149-06a71c33e974"
      },
      "execution_count": 10,
      "outputs": [
        {
          "output_type": "stream",
          "name": "stdout",
          "text": [
            "Array: [82 91 96 40 50 57 31 69 53 63 24 65 93 10 69 85 59 78 40 43 53 68 32 36\n",
            " 71]\n",
            "Max: 96 Index: 2\n",
            "Min: 10 Index: 13\n",
            "Modified Array: [82 -1 96 40 50 -1 -1 -1 -1 -1 24 -1 -1 10 -1 -1 -1 78 40 -1 -1 68 32 36\n",
            " -1]\n"
          ]
        }
      ]
    },
    {
      "cell_type": "markdown",
      "source": [
        "QUES 5"
      ],
      "metadata": {
        "id": "1ekBzgYsKMAZ"
      }
    },
    {
      "cell_type": "code",
      "source": [
        "matrix = np.random.randint(1, 100, (5, 5))\n",
        "print(\"Matrix:\\n\", matrix)\n",
        "diag = np.diag(matrix)\n",
        "print(\"Diagonal Elements:\", diag)\n",
        "sum_above_diag = np.sum(np.triu(matrix, 1))\n",
        "print(\"Sum Above Diagonal:\", sum_above_diag)\n"
      ],
      "metadata": {
        "colab": {
          "base_uri": "https://localhost:8080/"
        },
        "id": "flva2QhlKLgx",
        "outputId": "6648b65d-8f82-4510-d2a1-a12f7668eaf9"
      },
      "execution_count": 11,
      "outputs": [
        {
          "output_type": "stream",
          "name": "stdout",
          "text": [
            "Matrix:\n",
            " [[19 95 29 50 99]\n",
            " [50 70 58 75 25]\n",
            " [70 40 72 53 65]\n",
            " [53 34 63 18 11]\n",
            " [42 86 86  7 18]]\n",
            "Diagonal Elements: [19 70 72 18 18]\n",
            "Sum Above Diagonal: 560\n"
          ]
        }
      ]
    },
    {
      "cell_type": "markdown",
      "source": [
        "QUES 6"
      ],
      "metadata": {
        "id": "iWesgjGBKWy5"
      }
    },
    {
      "cell_type": "code",
      "source": [
        "\n",
        "array_3d = np.random.rand(3, 4, 5)\n",
        "mean = np.mean(array_3d)\n",
        "median = np.median(array_3d)\n",
        "std_dev = np.std(array_3d)\n",
        "print(\"Mean:\", mean, \"Median:\", median, \"Std Dev:\", std_dev)\n",
        "normalized = (array_3d - mean) / std_dev\n",
        "print(\"Normalized Array:\\n\", normalized)\n"
      ],
      "metadata": {
        "colab": {
          "base_uri": "https://localhost:8080/"
        },
        "id": "KIwaJmyfKWhY",
        "outputId": "f32e9069-6f79-4332-8b23-7693f6715575"
      },
      "execution_count": 12,
      "outputs": [
        {
          "output_type": "stream",
          "name": "stdout",
          "text": [
            "Mean: 0.48236583239406977 Median: 0.5139657001172555 Std Dev: 0.2954764011060862\n",
            "Normalized Array:\n",
            " [[[-1.55146353 -0.79991218  1.08543784 -1.41347332  1.02935972]\n",
            "  [ 1.46965427 -0.79730444  0.20769232  0.3013686   0.14298169]\n",
            "  [-0.93025102 -1.5548007   0.18722529  0.90279086 -0.74662898]\n",
            "  [ 0.58837907  1.61950609 -0.09101456 -1.05956614  1.53008666]]\n",
            "\n",
            " [[-1.3982419  -1.20897399  0.82372023 -0.84328561  1.69506515]\n",
            "  [-1.56683232 -0.97695362  0.2303684   0.40291832  0.07090928]\n",
            "  [-1.42864774  1.33330211 -0.27707364  1.03179458  1.42467372]\n",
            "  [-0.95326159  1.15836709  0.28279646  0.59516898 -0.06203669]]\n",
            "\n",
            " [[-1.31630582 -0.73300165 -0.2133091  -0.0229779   0.8425294 ]\n",
            "  [ 0.35885766 -1.43342348  1.66120842  1.45462115 -0.64305948]\n",
            "  [-0.26414826 -1.35863269  0.78445257  0.22158348 -0.4419527 ]\n",
            "  [-1.47702822  0.39135087 -0.22841196  1.1539527   0.80985025]]]\n"
          ]
        }
      ]
    },
    {
      "cell_type": "markdown",
      "source": [
        "QUES 7"
      ],
      "metadata": {
        "id": "u1IpvcDAKrJk"
      }
    },
    {
      "cell_type": "code",
      "source": [
        "array_1 = np.random.randint(1, 10, (4, 4))\n",
        "array_2 = np.random.randint(1, 10, (4, 1))\n",
        "result = array_1 + array_2\n",
        "print(\"Result:\\n\", result)\n"
      ],
      "metadata": {
        "colab": {
          "base_uri": "https://localhost:8080/"
        },
        "id": "VkxRk5iZKq2g",
        "outputId": "4bb2455c-08f6-45dc-d6c3-5939a9ac7fdf"
      },
      "execution_count": 13,
      "outputs": [
        {
          "output_type": "stream",
          "name": "stdout",
          "text": [
            "Result:\n",
            " [[17 14 11 17]\n",
            " [12 11 11 12]\n",
            " [10 11 18 13]\n",
            " [16 12 16 10]]\n"
          ]
        }
      ]
    },
    {
      "cell_type": "markdown",
      "source": [
        "QUES 8"
      ],
      "metadata": {
        "id": "t_QIrJ6nKygW"
      }
    },
    {
      "cell_type": "code",
      "source": [
        "import pandas as pd\n",
        "data = {\n",
        "    \"Product\": [\"A\", \"B\", \"C\", \"D\", \"E\", \"F\", \"G\", \"H\"],\n",
        "    \"Price\": [10, 15, 20, 25, 30, 35, 40, 45],\n",
        "    \"Quantity\": [1, 2, 3, 4, 5, 6, 7, 8]\n",
        "}\n",
        "df = pd.DataFrame(data)\n",
        "df['Total Value'] = df['Price'] * df['Quantity']\n",
        "df = df.sort_values(by='Total Value', ascending=False)\n",
        "print(df)\n"
      ],
      "metadata": {
        "colab": {
          "base_uri": "https://localhost:8080/"
        },
        "id": "V3v4wIGTKyOc",
        "outputId": "bab567a7-c978-4909-81f4-f154bad20914"
      },
      "execution_count": 14,
      "outputs": [
        {
          "output_type": "stream",
          "name": "stdout",
          "text": [
            "  Product  Price  Quantity  Total Value\n",
            "7       H     45         8          360\n",
            "6       G     40         7          280\n",
            "5       F     35         6          210\n",
            "4       E     30         5          150\n",
            "3       D     25         4          100\n",
            "2       C     20         3           60\n",
            "1       B     15         2           30\n",
            "0       A     10         1           10\n"
          ]
        }
      ]
    },
    {
      "cell_type": "markdown",
      "source": [
        "QUES 9"
      ],
      "metadata": {
        "id": "a9UE0GbyK-T-"
      }
    },
    {
      "cell_type": "code",
      "source": [
        "import pandas as pd\n",
        "\n",
        "titanic_url = 'https://raw.githubusercontent.com/datasciencedojo/datasets/master/titanic.csv'\n",
        "df = pd.read_csv(titanic_url)\n",
        "\n",
        "under_18 = df[df['Age'] < 18]\n",
        "print(\"Passengers under 18:\")\n",
        "print(under_18)\n",
        "survived_female = df[(df['Sex'] == 'female') & (df['Survived'] == 1)]\n",
        "print(\"survived female\")\n",
        "print(survived_female)\n",
        "\n",
        "\n"
      ],
      "metadata": {
        "colab": {
          "base_uri": "https://localhost:8080/"
        },
        "id": "JjPKZP3yK8JM",
        "outputId": "fd8ee60e-cfed-47e0-cf6c-bfa55a70059b"
      },
      "execution_count": 15,
      "outputs": [
        {
          "output_type": "stream",
          "name": "stdout",
          "text": [
            "Passengers under 18:\n",
            "     PassengerId  Survived  Pclass                                     Name  \\\n",
            "7              8         0       3           Palsson, Master. Gosta Leonard   \n",
            "9             10         1       2      Nasser, Mrs. Nicholas (Adele Achem)   \n",
            "10            11         1       3          Sandstrom, Miss. Marguerite Rut   \n",
            "14            15         0       3     Vestrom, Miss. Hulda Amanda Adolfina   \n",
            "16            17         0       3                     Rice, Master. Eugene   \n",
            "..           ...       ...     ...                                      ...   \n",
            "850          851         0       3  Andersson, Master. Sigvard Harald Elias   \n",
            "852          853         0       3                  Boulos, Miss. Nourelain   \n",
            "853          854         1       1                Lines, Miss. Mary Conover   \n",
            "869          870         1       3          Johnson, Master. Harold Theodor   \n",
            "875          876         1       3         Najib, Miss. Adele Kiamie \"Jane\"   \n",
            "\n",
            "        Sex   Age  SibSp  Parch    Ticket     Fare Cabin Embarked  \n",
            "7      male   2.0      3      1    349909  21.0750   NaN        S  \n",
            "9    female  14.0      1      0    237736  30.0708   NaN        C  \n",
            "10   female   4.0      1      1   PP 9549  16.7000    G6        S  \n",
            "14   female  14.0      0      0    350406   7.8542   NaN        S  \n",
            "16     male   2.0      4      1    382652  29.1250   NaN        Q  \n",
            "..      ...   ...    ...    ...       ...      ...   ...      ...  \n",
            "850    male   4.0      4      2    347082  31.2750   NaN        S  \n",
            "852  female   9.0      1      1      2678  15.2458   NaN        C  \n",
            "853  female  16.0      0      1  PC 17592  39.4000   D28        S  \n",
            "869    male   4.0      1      1    347742  11.1333   NaN        S  \n",
            "875  female  15.0      0      0      2667   7.2250   NaN        C  \n",
            "\n",
            "[113 rows x 12 columns]\n",
            "survived female\n",
            "     PassengerId  Survived  Pclass  \\\n",
            "1              2         1       1   \n",
            "2              3         1       3   \n",
            "3              4         1       1   \n",
            "8              9         1       3   \n",
            "9             10         1       2   \n",
            "..           ...       ...     ...   \n",
            "874          875         1       2   \n",
            "875          876         1       3   \n",
            "879          880         1       1   \n",
            "880          881         1       2   \n",
            "887          888         1       1   \n",
            "\n",
            "                                                  Name     Sex   Age  SibSp  \\\n",
            "1    Cumings, Mrs. John Bradley (Florence Briggs Th...  female  38.0      1   \n",
            "2                               Heikkinen, Miss. Laina  female  26.0      0   \n",
            "3         Futrelle, Mrs. Jacques Heath (Lily May Peel)  female  35.0      1   \n",
            "8    Johnson, Mrs. Oscar W (Elisabeth Vilhelmina Berg)  female  27.0      0   \n",
            "9                  Nasser, Mrs. Nicholas (Adele Achem)  female  14.0      1   \n",
            "..                                                 ...     ...   ...    ...   \n",
            "874              Abelson, Mrs. Samuel (Hannah Wizosky)  female  28.0      1   \n",
            "875                   Najib, Miss. Adele Kiamie \"Jane\"  female  15.0      0   \n",
            "879      Potter, Mrs. Thomas Jr (Lily Alexenia Wilson)  female  56.0      0   \n",
            "880       Shelley, Mrs. William (Imanita Parrish Hall)  female  25.0      0   \n",
            "887                       Graham, Miss. Margaret Edith  female  19.0      0   \n",
            "\n",
            "     Parch            Ticket     Fare Cabin Embarked  \n",
            "1        0          PC 17599  71.2833   C85        C  \n",
            "2        0  STON/O2. 3101282   7.9250   NaN        S  \n",
            "3        0            113803  53.1000  C123        S  \n",
            "8        2            347742  11.1333   NaN        S  \n",
            "9        0            237736  30.0708   NaN        C  \n",
            "..     ...               ...      ...   ...      ...  \n",
            "874      0         P/PP 3381  24.0000   NaN        C  \n",
            "875      0              2667   7.2250   NaN        C  \n",
            "879      1             11767  83.1583   C50        C  \n",
            "880      1            230433  26.0000   NaN        S  \n",
            "887      0            112053  30.0000   B42        S  \n",
            "\n",
            "[233 rows x 12 columns]\n"
          ]
        }
      ]
    },
    {
      "cell_type": "markdown",
      "source": [
        "QUES 10"
      ],
      "metadata": {
        "id": "e7kDYBbVLSe9"
      }
    },
    {
      "cell_type": "code",
      "source": [
        "import seaborn as sns\n",
        "\n",
        "iris = sns.load_dataset('iris')\n",
        "\n",
        "grouped = iris.groupby('species').agg({'petal_length': 'mean', 'sepal_width': 'mean'})\n",
        "print(grouped)\n"
      ],
      "metadata": {
        "colab": {
          "base_uri": "https://localhost:8080/"
        },
        "id": "kZ0W0zlnLSIO",
        "outputId": "691d9f00-8ec8-4aaa-f69f-0f3b30aabacd"
      },
      "execution_count": 16,
      "outputs": [
        {
          "output_type": "stream",
          "name": "stdout",
          "text": [
            "            petal_length  sepal_width\n",
            "species                              \n",
            "setosa             1.462        3.428\n",
            "versicolor         4.260        2.770\n",
            "virginica          5.552        2.974\n"
          ]
        }
      ]
    },
    {
      "cell_type": "markdown",
      "source": [
        "QUES 11"
      ],
      "metadata": {
        "id": "4SgTN3YFLbda"
      }
    },
    {
      "cell_type": "code",
      "source": [
        "df = pd.DataFrame({\n",
        "    \"A\": [1, 2, None, 4],\n",
        "    \"B\": [None, 2, 3, 4],\n",
        "    \"C\": [5, None, None, 8]\n",
        "})\n",
        "\n",
        "df.fillna(df.mean(), inplace=True)\n",
        "print(df)\n"
      ],
      "metadata": {
        "colab": {
          "base_uri": "https://localhost:8080/"
        },
        "id": "9qarBPNGLbNi",
        "outputId": "bcb24108-fe2f-4af7-e5ab-da0335c23002"
      },
      "execution_count": 17,
      "outputs": [
        {
          "output_type": "stream",
          "name": "stdout",
          "text": [
            "          A    B    C\n",
            "0  1.000000  3.0  5.0\n",
            "1  2.000000  2.0  6.5\n",
            "2  2.333333  3.0  6.5\n",
            "3  4.000000  4.0  8.0\n"
          ]
        }
      ]
    },
    {
      "cell_type": "markdown",
      "source": [
        "QUES 12"
      ],
      "metadata": {
        "id": "srKUANAoLhSy"
      }
    },
    {
      "cell_type": "code",
      "source": [
        "df1 = pd.DataFrame({\"ID\": [1, 2, 3], \"Name\": [\"Alice\", \"Bob\", \"Charlie\"]})\n",
        "df2 = pd.DataFrame({\"ID\": [1, 2, 3], \"Score\": [85, 90, 95]})\n",
        "\n",
        "merged = pd.merge(df1, df2, on='ID')\n",
        "print(merged)\n"
      ],
      "metadata": {
        "colab": {
          "base_uri": "https://localhost:8080/"
        },
        "id": "Jyuwfl0lLhBG",
        "outputId": "c4e44bc8-78c5-43da-afee-8d53b5ac2458"
      },
      "execution_count": 18,
      "outputs": [
        {
          "output_type": "stream",
          "name": "stdout",
          "text": [
            "   ID     Name  Score\n",
            "0   1    Alice     85\n",
            "1   2      Bob     90\n",
            "2   3  Charlie     95\n"
          ]
        }
      ]
    },
    {
      "cell_type": "markdown",
      "source": [
        "QUES 13"
      ],
      "metadata": {
        "id": "QBl7r5VwL6bG"
      }
    },
    {
      "cell_type": "code",
      "source": [
        "import matplotlib.pyplot as plt\n",
        "\n",
        "months = ['Jan', 'Feb', 'Mar', 'Apr', 'May', 'Jun']\n",
        "revenue = [1000, 1500, 2000, 2500, 3000, 3500]\n",
        "\n",
        "plt.plot(months, revenue, label='Revenue', marker='o')\n",
        "plt.title('Monthly Revenue')\n",
        "plt.xlabel('Months')\n",
        "plt.ylabel('Revenue')\n",
        "plt.legend()\n",
        "plt.show()\n"
      ],
      "metadata": {
        "colab": {
          "base_uri": "https://localhost:8080/",
          "height": 472
        },
        "id": "IaGUznmnL6LI",
        "outputId": "96f33ad5-926b-47d5-aa31-1e62e0740bf4"
      },
      "execution_count": 19,
      "outputs": [
        {
          "output_type": "display_data",
          "data": {
            "text/plain": [
              "<Figure size 640x480 with 1 Axes>"
            ],
            "image/png": "[encoded data removed]"
          },
          "metadata": {}
        }
      ]
    },
    {
      "cell_type": "markdown",
      "source": [
        "QUES 14"
      ],
      "metadata": {
        "id": "Q3gTWHn9MAO1"
      }
    },
    {
      "cell_type": "code",
      "source": [
        "products = ['A', 'B', 'C', 'D', 'E']\n",
        "region1 = [10, 20, 30, 40, 50]\n",
        "region2 = [15, 25, 35, 45, 55]\n",
        "\n",
        "x = range(len(products))\n",
        "\n",
        "plt.bar(x, region1, width=0.4, label='Region 1', align='center')\n",
        "plt.bar([i + 0.4 for i in x], region2, width=0.4, label='Region 2', align='center')\n",
        "\n",
        "plt.title('Sales Comparison')\n",
        "plt.xlabel('Products')\n",
        "plt.ylabel('Sales')\n",
        "plt.xticks([i + 0.2 for i in x], products)\n",
        "plt.legend()\n",
        "plt.show()\n"
      ],
      "metadata": {
        "colab": {
          "base_uri": "https://localhost:8080/",
          "height": 472
        },
        "id": "Qh1GyWy4L_-X",
        "outputId": "45a51995-5881-4edf-98b8-e04909b427a7"
      },
      "execution_count": 20,
      "outputs": [
        {
          "output_type": "display_data",
          "data": {
            "text/plain": [
              "<Figure size 640x480 with 1 Axes>"
            ],
            "image/png": "[encoded data removed]"
          },
          "metadata": {}
        }
      ]
    },
    {
      "cell_type": "markdown",
      "source": [
        "QUES 15"
      ],
      "metadata": {
        "id": "q87A0n55MHHk"
      }
    },
    {
      "cell_type": "code",
      "source": [
        "iris = sns.load_dataset('iris')\n",
        "\n",
        "sns.scatterplot(data=iris, x='petal_length', y='petal_width', hue='species')\n",
        "plt.title('Petal Length vs Width')\n",
        "plt.xlabel('Petal Length')\n",
        "plt.ylabel('Petal Width')\n",
        "plt.show()\n"
      ],
      "metadata": {
        "colab": {
          "base_uri": "https://localhost:8080/",
          "height": 472
        },
        "id": "Vz7mO1m3MG4O",
        "outputId": "01f9903a-0113-4298-9ed1-8e59d44d9c57"
      },
      "execution_count": 21,
      "outputs": [
        {
          "output_type": "display_data",
          "data": {
            "text/plain": [
              "<Figure size 640x480 with 1 Axes>"
            ],
            "image/png": "[encoded data removed]"
          },
          "metadata": {}
        }
      ]
    }
  ]
}
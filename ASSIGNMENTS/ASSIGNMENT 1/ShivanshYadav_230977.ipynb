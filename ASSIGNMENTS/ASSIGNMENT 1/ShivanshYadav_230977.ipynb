{
 "cells": [
  {
   "cell_type": "markdown",
   "id": "05fa703c-9bcf-4d40-a1ef-4c6118b172a5",
   "metadata": {},
   "source": [
    "## Imports:"
   ]
  },
  {
   "cell_type": "code",
   "execution_count": 96,
   "id": "df192e6f-740e-4f1d-a9ec-bd3861c0e65b",
   "metadata": {},
   "outputs": [],
   "source": [
    "import numpy as np\n",
    "import csv\n",
    "import pandas as pd\n",
    "import seaborn as sns\n",
    "import matplotlib.pyplot as plt"
   ]
  },
  {
   "cell_type": "markdown",
   "id": "5d1a6aed-ce83-4107-a80e-4a053e479978",
   "metadata": {},
   "source": [
    "# Q1: Control Flow and Loops\n",
    "Write a python funcitonn to generate the first N fibonacci numbers. Test the number with N = 10"
   ]
  },
  {
   "cell_type": "code",
   "execution_count": 49,
   "id": "c8e17550-86b3-4368-8b5c-8c2b4074288b",
   "metadata": {},
   "outputs": [
    {
     "name": "stdout",
     "output_type": "stream",
     "text": [
      "[0, 1, 1, 2, 3, 5, 8, 13, 21, 34]\n"
     ]
    }
   ],
   "source": [
    "def fib(n):\n",
    "    ans = []\n",
    "    if n<=0:\n",
    "        return ans\n",
    "    if n==1:\n",
    "        ans.append(0)\n",
    "        return ans\n",
    "    if n==2:\n",
    "        ans.append(0)\n",
    "        ans.append(1)\n",
    "        return ans\n",
    "    else:\n",
    "        ans.append(0)\n",
    "        ans.append(1)\n",
    "        for i in range(2,n):\n",
    "            ans.append(ans[-1]+ans[-2])\n",
    "        return ans\n",
    "        \n",
    "print(fib(10))"
   ]
  },
  {
   "cell_type": "markdown",
   "id": "f9964d9e-b16d-4236-bc22-1de895d4f8ee",
   "metadata": {},
   "source": [
    "# Q2: List and Dictionar Comprehension\n",
    "Create a list of squares of numbers from 1 to 20 using list comprehension. Then, create a dictionary where keys are numbers from 1 to 10, and the values are their cubes using dictionary comprehension"
   ]
  },
  {
   "cell_type": "code",
   "execution_count": 50,
   "id": "ec3d6758-28af-40ff-b91b-4a48f2382760",
   "metadata": {},
   "outputs": [
    {
     "name": "stdout",
     "output_type": "stream",
     "text": [
      "List of squares: [1, 4, 9, 16, 25, 36, 49, 64, 81, 100, 121, 144, 169, 196, 225, 256, 289, 324, 361, 400]\n",
      "Dictionary of cubes: {1: 1, 2: 8, 3: 27, 4: 64, 5: 125, 6: 216, 7: 343, 8: 512, 9: 729, 10: 1000}\n"
     ]
    }
   ],
   "source": [
    "l = [i*i for i in range(1,21)]\n",
    "print(f\"List of squares: {l}\")\n",
    "\n",
    "d = {i:i**3 for i in range(1,11)}\n",
    "print(f\"Dictionary of cubes: {d}\")"
   ]
  },
  {
   "cell_type": "markdown",
   "id": "6f01a39f-0732-4291-a286-b209fa9da1ba",
   "metadata": {},
   "source": [
    " # Q3: File Handling\n",
    " Write a python script to create a CSV file named data.csv with three columns: Name, Age, Score. Write at least five rows of data, then read the file and print the rows where the score is above 75"
   ]
  },
  {
   "cell_type": "code",
   "execution_count": 51,
   "id": "96fbd746-23eb-46a8-9e7b-273d01b140d9",
   "metadata": {},
   "outputs": [
    {
     "name": "stdout",
     "output_type": "stream",
     "text": [
      "CSV file 'data.csv' data entry done.\n",
      "\n",
      "Rows with Score > 75:\n",
      "['Anirudh', '20', '99']\n",
      "['Devansh', '19', '85']\n",
      "['Pulkit', '45', '77']\n",
      "['George', '56', '80']\n",
      "['Patrick', '57', '78']\n",
      "['Venessa', '21', '76']\n",
      "['Yelena', '76', '76']\n"
     ]
    }
   ],
   "source": [
    "dataFile = \"data.csv\"\n",
    "data = [\n",
    "    [\"Name\",\"Age\",\"Score\"],\n",
    "    [\"Anirudh\",20,99],\n",
    "    [\"Suyash\",18,60],\n",
    "    [\"Devansh\",19,85],\n",
    "    [\"Pulkit\",45,77],\n",
    "    [\"Harry\",26,75],\n",
    "    [\"George\",56,80],\n",
    "    [\"Fredrick\",93,20],\n",
    "    [\"Patrick\",57,78],\n",
    "    [\"Umbrich\",68,69],\n",
    "    [\"Venessa\",21,76],\n",
    "    [\"Yelena\",76,76]\n",
    "]\n",
    "\n",
    "with open(dataFile, mode = \"w\", newline = '') as file:\n",
    "    writer = csv.writer(file)\n",
    "    writer.writerows(data)\n",
    "    \n",
    "print(f\"CSV file '{dataFile}' data entry done.\")\n",
    "print(f\"\\nRows with Score > 75:\")\n",
    "with open(dataFile, mode = 'r') as file:\n",
    "    reader = csv.reader(file)\n",
    "    header = next(reader)\n",
    "    for row in reader:\n",
    "        if int(row[2]) > 75:\n",
    "            print(row)"
   ]
  },
  {
   "cell_type": "markdown",
   "id": "543c3fcf-3f0f-418a-abb0-d87ac8e3ebb2",
   "metadata": {},
   "source": [
    "# Q4: Array Operations\n",
    "Create a 1D NumPy array of 25 random integers between 10 and 100, Perform the following:\n",
    "- Find the maximum, minimum and their indices\n",
    "- Replace all odd numbers in the array with -1"
   ]
  },
  {
   "cell_type": "code",
   "execution_count": 52,
   "id": "8698f86a-7ab4-4264-9b76-0c0511c58bc7",
   "metadata": {},
   "outputs": [
    {
     "name": "stdout",
     "output_type": "stream",
     "text": [
      "Original array:\n",
      "[56 27 71 63 47 80 89 63 74 12 88 36 18 35 71 35 56 20 71 26 19 88 39 37\n",
      " 19]\n",
      "Max value = 89, Max values's index = 6\n",
      "Min value = 12, Min values's index = 9\n",
      "\n",
      "Array after replacing odd numbers with -1:\n",
      "[56 -1 -1 -1 -1 80 -1 -1 74 12 88 36 18 -1 -1 -1 56 20 -1 26 -1 88 -1 -1\n",
      " -1]\n"
     ]
    }
   ],
   "source": [
    "arr = np.random.randint(10, 101, size = 25)\n",
    "print(f\"Original array:\\n{arr}\")\n",
    "\n",
    "maxElement = np.max(arr)\n",
    "minElement = np.min(arr)\n",
    "maxIndex = np.argmax(arr)\n",
    "minIndex = np.argmin(arr)\n",
    "\n",
    "print(f\"Max value = {maxElement}, Max values's index = {maxIndex}\")\n",
    "print(f\"Min value = {minElement}, Min values's index = {minIndex}\")\n",
    "\n",
    "newArr = np.where(arr%2 != 0 , -1, arr)\n",
    "print(f\"\\nArray after replacing odd numbers with -1:\\n{newArr}\")"
   ]
  },
  {
   "cell_type": "markdown",
   "id": "839de784-298e-4eb4-8711-f10dc753448b",
   "metadata": {},
   "source": [
    "# Q5: Matrix Multiplication\n",
    "Create a 5x5 maatrix with random numbers. Perform the following:\n",
    "- Extract the diagonal elements.\n",
    "- Calculate the sum of all elements above the main diagonal"
   ]
  },
  {
   "cell_type": "code",
   "execution_count": 53,
   "id": "051fa2a0-ab5e-4041-84b8-f055b90b7ecf",
   "metadata": {},
   "outputs": [
    {
     "name": "stdout",
     "output_type": "stream",
     "text": [
      "5x5 Matrix with random entries:\n",
      "[[30 57 56 68 16]\n",
      " [28 15 62 56 70]\n",
      " [56 77 30 59 21]\n",
      " [77 92 51 67 31]\n",
      " [30 62 12 76 34]]\n",
      "\n",
      "Diagonal Elements: [30 15 30 67 34]\n",
      "\n",
      "Sum of elements above the main diagonal = 496\n"
     ]
    }
   ],
   "source": [
    "matrix = np.random.randint(1, 101, size=(5,5))\n",
    "print(f\"5x5 Matrix with random entries:\\n{matrix}\")\n",
    "\n",
    "diagElements = np.diag(matrix)\n",
    "print(f\"\\nDiagonal Elements: {diagElements}\")\n",
    "\n",
    "requiredSum = np.triu(matrix).sum()-np.trace(matrix)\n",
    "print(f\"\\nSum of elements above the main diagonal = {requiredSum}\")"
   ]
  },
  {
   "cell_type": "markdown",
   "id": "192b3187-434a-4950-9616-b450b2acd0fd",
   "metadata": {},
   "source": [
    "# Q6: Statistical Functions\n",
    "Generate a 3D NumPy array of shape (3,4,5) with rndom floats. Perform the following:\n",
    "- Calculate the mean, median and standard deviation of the entire array.\n",
    "- Normalize the array by subtracting the mean and dividing by the standard deviation."
   ]
  },
  {
   "cell_type": "code",
   "execution_count": 54,
   "id": "5249b1d6-149e-45b7-be6c-793048829815",
   "metadata": {},
   "outputs": [
    {
     "name": "stdout",
     "output_type": "stream",
     "text": [
      "The 3D array:\n",
      "[[[0.17323731 0.82464287 0.83041886 0.7288536  0.25717577]\n",
      "  [0.34782138 0.4331255  0.8318068  0.5137304  0.78571306]\n",
      "  [0.14420051 0.02330496 0.84537008 0.55516011 0.27406277]\n",
      "  [0.944759   0.16201616 0.34038984 0.15499529 0.23591048]]\n",
      "\n",
      " [[0.26983799 0.50392505 0.1598118  0.16615133 0.82414761]\n",
      "  [0.52503934 0.42867836 0.58908304 0.43936938 0.52319835]\n",
      "  [0.74810913 0.4077868  0.03872705 0.58456467 0.99041255]\n",
      "  [0.22230428 0.32162646 0.5522306  0.26100996 0.64463398]]\n",
      "\n",
      " [[0.93251524 0.30125032 0.24228505 0.74816046 0.80740125]\n",
      "  [0.15443366 0.38573167 0.56083725 0.19289805 0.30375018]\n",
      "  [0.51508498 0.05655076 0.99632103 0.31280116 0.60316441]\n",
      "  [0.47674465 0.05639942 0.30903458 0.0752735  0.51500917]]]\n",
      "\n",
      "Mean: 0.45254982136455807\n",
      "Median: 0.4309019292219539\n",
      "Standard Deviation: 0.2681819525375065\n",
      "\n",
      "Normalized Array:\n",
      "[[[-1.04150376  1.38746493  1.40900249  1.03028475 -0.72851304]\n",
      "  [-0.39051263 -0.07242965  1.41417787  0.22813086  1.24230298]\n",
      "  [-1.14977652 -1.60057324  1.46475278  0.38261445 -0.66554459]\n",
      "  [ 1.83535533 -1.08334531 -0.41822345 -1.10952481 -0.80780731]]\n",
      "\n",
      " [[-0.681298    0.19156854 -1.09156495 -1.06792606  1.38561819]\n",
      "  [ 0.27029976 -0.08901218  0.50910667 -0.04914739  0.26343505]\n",
      "  [ 1.10208501 -0.16691287 -1.54306719  0.49225852  2.00558882]\n",
      "  [-0.85854228 -0.48818856  0.37169084 -0.71421609  0.71624565]]\n",
      "\n",
      " [[ 1.78970065 -0.56416735 -0.78403775  1.10227641  1.32317417]\n",
      "  [-1.11161904 -0.2491523   0.40378342 -0.96819256 -0.55484584]\n",
      "  [ 0.23318184 -1.47660591  2.02762043 -0.52109643  0.56161345]\n",
      "  [ 0.09021796 -1.47717024 -0.5351413  -1.40679238  0.23289916]]]\n"
     ]
    }
   ],
   "source": [
    "array = np.random.rand(3, 4, 5)\n",
    "print(f\"The 3D array:\\n{array}\")\n",
    "\n",
    "mean = np.mean(array)\n",
    "median = np.median(array)\n",
    "stDev = np.std(array)\n",
    "\n",
    "print(f\"\\nMean: {mean}\\nMedian: {median}\\nStandard Deviation: {stDev}\")\n",
    "\n",
    "normalizedArr = (array - mean) / stDev\n",
    "print(f\"\\nNormalized Array:\\n{normalizedArr}\")"
   ]
  },
  {
   "cell_type": "markdown",
   "id": "bf4179b9-ac20-45aa-8083-d3fabf741744",
   "metadata": {},
   "source": [
    "# Q7: Broadcasting and Indexing\n",
    "Create two 2D arrays of shape (4,4) and (4,1). Use broadcasting to add these arrays element-wise and display the result."
   ]
  },
  {
   "cell_type": "code",
   "execution_count": 55,
   "id": "724efa11-7181-4d8f-9e40-ace53cb36d2d",
   "metadata": {},
   "outputs": [
    {
     "name": "stdout",
     "output_type": "stream",
     "text": [
      "The 4x4 array:\n",
      "[[2 6 7 6]\n",
      " [7 1 6 1]\n",
      " [3 7 5 7]\n",
      " [7 9 6 6]]\n",
      "\n",
      "The 4x1 array:\n",
      "[[7]\n",
      " [9]\n",
      " [5]\n",
      " [3]]\n",
      "\n",
      "Resulting array after broadcasting and adding:\n",
      "[[ 9 13 14 13]\n",
      " [16 10 15 10]\n",
      " [ 8 12 10 12]\n",
      " [10 12  9  9]]\n"
     ]
    }
   ],
   "source": [
    "arr1 = np.random.randint(1, 10, size = (4,4))\n",
    "arr2 = np.random.randint(1, 10, size = (4,1))\n",
    "print(f\"The 4x4 array:\\n{arr1}\")\n",
    "print(f\"\\nThe 4x1 array:\\n{arr2}\")\n",
    "\n",
    "resultArr = arr1 +  arr2\n",
    "print(f\"\\nResulting array after broadcasting and adding:\\n{resultArr}\")"
   ]
  },
  {
   "cell_type": "markdown",
   "id": "08f46c6c-803d-4954-a380-21c75937d908",
   "metadata": {},
   "source": [
    "# Q8: DataFrame Creation and Basic Operations\n",
    "Create a Pandas DataFrame with three columns: Product, Price and Quantity. Populate it with at least 8 rows. Perform the following:\n",
    "- Calculate the total value of each product (Price x Quantity).\n",
    "- Add a new column for the total value and sort the DataFrame by this column."
   ]
  },
  {
   "cell_type": "code",
   "execution_count": 67,
   "id": "77e1b2a1-5524-4514-ba01-cb53207eeb83",
   "metadata": {},
   "outputs": [
    {
     "name": "stdout",
     "output_type": "stream",
     "text": [
      "original DataFrame:\n",
      "-------------------\n",
      "        Product  Price  Quantity\n",
      "0        5-Star     20        25\n",
      "1          Mars     30        20\n",
      "2       Kit-Kat     30        24\n",
      "3    Dairy Milk     80        10\n",
      "4       Poppins     10        50\n",
      "5  Kinder Bueno    120        11\n",
      "6          Twix     70        18\n",
      "7     Toblerone    150         7\n",
      "8        Galaxy     50        10\n",
      "9    Feastables    200         5\n",
      "\n",
      "\n",
      "DataFrame after adding new column:\n",
      "----------------------------------\n",
      "        Product  Price  Quantity  Total\n",
      "0        5-Star     20        25    500\n",
      "1          Mars     30        20    600\n",
      "2       Kit-Kat     30        24    720\n",
      "3    Dairy Milk     80        10    800\n",
      "4       Poppins     10        50    500\n",
      "5  Kinder Bueno    120        11   1320\n",
      "6          Twix     70        18   1260\n",
      "7     Toblerone    150         7   1050\n",
      "8        Galaxy     50        10    500\n",
      "9    Feastables    200         5   1000\n",
      "\n",
      "\n",
      "DataFrame after sorting by Total column:\n",
      "----------------------------------------\n",
      "        Product  Price  Quantity  Total\n",
      "0        5-Star     20        25    500\n",
      "4       Poppins     10        50    500\n",
      "8        Galaxy     50        10    500\n",
      "1          Mars     30        20    600\n",
      "2       Kit-Kat     30        24    720\n",
      "3    Dairy Milk     80        10    800\n",
      "9    Feastables    200         5   1000\n",
      "7     Toblerone    150         7   1050\n",
      "6          Twix     70        18   1260\n",
      "5  Kinder Bueno    120        11   1320\n"
     ]
    }
   ],
   "source": [
    "data = {\n",
    "    \"Product\":[\"5-Star\",\"Mars\",\"Kit-Kat\",\"Dairy Milk\",\"Poppins\",\"Kinder Bueno\",\"Twix\",\"Toblerone\",\"Galaxy\",\"Feastables\"],\n",
    "    \"Price\":[20,30,30,80,10,120,70,150,50,200],\n",
    "    \"Quantity\":[25,20,24,10,50,11,18,7,10,5]\n",
    "}\n",
    "\n",
    "df = pd.DataFrame(data)\n",
    "print(f\"original DataFrame:\\n-------------------\\n{df}\")\n",
    "\n",
    "df[\"Total\"] = df[\"Price\"]*df[\"Quantity\"]\n",
    "print(f\"\\n\\nDataFrame after adding new column:\\n----------------------------------\\n{df}\")\n",
    "\n",
    "df_sorted = df.sort_values(by = \"Total\",ascending = True)\n",
    "print(f\"\\n\\nDataFrame after sorting by Total column:\\n----------------------------------------\\n{df_sorted}\")"
   ]
  },
  {
   "cell_type": "markdown",
   "id": "e2c96615-4e06-45c6-8c76-a7bf4886f7f9",
   "metadata": {},
   "source": [
    "# Q9: Data Filtering\n",
    "Load the Titanic dataset from the Kaggle Titanic dataset or any publicly available source. Filter and display rows where:\n",
    "- The passenger age is below 18.\n",
    "- The passenger is female and survived."
   ]
  },
  {
   "cell_type": "code",
   "execution_count": 74,
   "id": "061293a8-b845-477b-b369-0619cf704a24",
   "metadata": {},
   "outputs": [
    {
     "name": "stdout",
     "output_type": "stream",
     "text": [
      "Passengers under 18:\n",
      "     PassengerId  Survived  Pclass                                     Name  \\\n",
      "7              8         0       3           Palsson, Master. Gosta Leonard   \n",
      "9             10         1       2      Nasser, Mrs. Nicholas (Adele Achem)   \n",
      "10            11         1       3          Sandstrom, Miss. Marguerite Rut   \n",
      "14            15         0       3     Vestrom, Miss. Hulda Amanda Adolfina   \n",
      "16            17         0       3                     Rice, Master. Eugene   \n",
      "..           ...       ...     ...                                      ...   \n",
      "850          851         0       3  Andersson, Master. Sigvard Harald Elias   \n",
      "852          853         0       3                  Boulos, Miss. Nourelain   \n",
      "853          854         1       1                Lines, Miss. Mary Conover   \n",
      "869          870         1       3          Johnson, Master. Harold Theodor   \n",
      "875          876         1       3         Najib, Miss. Adele Kiamie \"Jane\"   \n",
      "\n",
      "        Sex   Age  SibSp  Parch    Ticket     Fare Cabin Embarked  \n",
      "7      male   2.0      3      1    349909  21.0750   NaN        S  \n",
      "9    female  14.0      1      0    237736  30.0708   NaN        C  \n",
      "10   female   4.0      1      1   PP 9549  16.7000    G6        S  \n",
      "14   female  14.0      0      0    350406   7.8542   NaN        S  \n",
      "16     male   2.0      4      1    382652  29.1250   NaN        Q  \n",
      "..      ...   ...    ...    ...       ...      ...   ...      ...  \n",
      "850    male   4.0      4      2    347082  31.2750   NaN        S  \n",
      "852  female   9.0      1      1      2678  15.2458   NaN        C  \n",
      "853  female  16.0      0      1  PC 17592  39.4000   D28        S  \n",
      "869    male   4.0      1      1    347742  11.1333   NaN        S  \n",
      "875  female  15.0      0      0      2667   7.2250   NaN        C  \n",
      "\n",
      "[113 rows x 12 columns]\n",
      "\n",
      "\n",
      "Female passengers who survived:\n",
      "     PassengerId  Survived  Pclass  \\\n",
      "1              2         1       1   \n",
      "2              3         1       3   \n",
      "3              4         1       1   \n",
      "8              9         1       3   \n",
      "9             10         1       2   \n",
      "..           ...       ...     ...   \n",
      "874          875         1       2   \n",
      "875          876         1       3   \n",
      "879          880         1       1   \n",
      "880          881         1       2   \n",
      "887          888         1       1   \n",
      "\n",
      "                                                  Name     Sex   Age  SibSp  \\\n",
      "1    Cumings, Mrs. John Bradley (Florence Briggs Th...  female  38.0      1   \n",
      "2                               Heikkinen, Miss. Laina  female  26.0      0   \n",
      "3         Futrelle, Mrs. Jacques Heath (Lily May Peel)  female  35.0      1   \n",
      "8    Johnson, Mrs. Oscar W (Elisabeth Vilhelmina Berg)  female  27.0      0   \n",
      "9                  Nasser, Mrs. Nicholas (Adele Achem)  female  14.0      1   \n",
      "..                                                 ...     ...   ...    ...   \n",
      "874              Abelson, Mrs. Samuel (Hannah Wizosky)  female  28.0      1   \n",
      "875                   Najib, Miss. Adele Kiamie \"Jane\"  female  15.0      0   \n",
      "879      Potter, Mrs. Thomas Jr (Lily Alexenia Wilson)  female  56.0      0   \n",
      "880       Shelley, Mrs. William (Imanita Parrish Hall)  female  25.0      0   \n",
      "887                       Graham, Miss. Margaret Edith  female  19.0      0   \n",
      "\n",
      "     Parch            Ticket     Fare Cabin Embarked  \n",
      "1        0          PC 17599  71.2833   C85        C  \n",
      "2        0  STON/O2. 3101282   7.9250   NaN        S  \n",
      "3        0            113803  53.1000  C123        S  \n",
      "8        2            347742  11.1333   NaN        S  \n",
      "9        0            237736  30.0708   NaN        C  \n",
      "..     ...               ...      ...   ...      ...  \n",
      "874      0         P/PP 3381  24.0000   NaN        C  \n",
      "875      0              2667   7.2250   NaN        C  \n",
      "879      1             11767  83.1583   C50        C  \n",
      "880      1            230433  26.0000   NaN        S  \n",
      "887      0            112053  30.0000   B42        S  \n",
      "\n",
      "[233 rows x 12 columns]\n"
     ]
    }
   ],
   "source": [
    "titanic_URL = \"https://raw.githubusercontent.com/datasciencedojo/datasets/master/titanic.csv\"\n",
    "df = pd.read_csv(titanic_URL)\n",
    "\n",
    "under18 = df[df[\"Age\"]<18]\n",
    "print(f\"Passengers under 18:\\n{under18}\")\n",
    "\n",
    "femaleSurvived = df[(df[\"Sex\"] == 'female') & (df[\"Survived\"] == 1)]\n",
    "print(f\"\\n\\nFemale passengers who survived:\\n{femaleSurvived}\")"
   ]
  },
  {
   "cell_type": "markdown",
   "id": "9117eece-fe28-46a9-a9f3-1f06259060f9",
   "metadata": {},
   "source": [
    "# Q10: Groupby Operations\n",
    "Load the Iris dataset from Seaborn library or any other source like Kaggle, etc. Group the data by species and calculate the mean of petal length and sepal width for each group."
   ]
  },
  {
   "cell_type": "code",
   "execution_count": 79,
   "id": "c8c9728e-9477-4cc5-ab38-cc7a52b15eac",
   "metadata": {},
   "outputs": [
    {
     "name": "stdout",
     "output_type": "stream",
     "text": [
      "            petal_length  sepal_width\n",
      "species                              \n",
      "setosa             1.462        3.428\n",
      "versicolor         4.260        2.770\n",
      "virginica          5.552        2.974\n"
     ]
    }
   ],
   "source": [
    "iris = sns.load_dataset(\"iris\")\n",
    "#print(iris)\n",
    "reqData = iris.groupby(\"species\")[[\"petal_length\",\"sepal_width\"]].mean()\n",
    "\n",
    "print(reqData)"
   ]
  },
  {
   "cell_type": "markdown",
   "id": "8c5f4ef8-a50b-4f0e-ac7b-ae5f01332edb",
   "metadata": {},
   "source": [
    "# Q11: Handling Missing Values\n",
    "Create a Pandas DataFrame with random data and intentionally introduce NaN values. Replace the NaN values with the column mean and display the updated DataFrame."
   ]
  },
  {
   "cell_type": "code",
   "execution_count": 90,
   "id": "f70cd0c9-3218-4d7e-b2a9-5d5d74b44923",
   "metadata": {},
   "outputs": [
    {
     "name": "stdout",
     "output_type": "stream",
     "text": [
      "Original DataFrame:\n",
      "    A   B   C   D\n",
      "0  48  69  26  68\n",
      "1  84  24  93  58\n",
      "2  15  24  73  90\n",
      "3  43  91   9  40\n",
      "4  69  49   8  45\n",
      "\n",
      "DataFrame after introducing NaN:\n",
      "      A     B     C     D\n",
      "0  48.0  69.0  26.0   NaN\n",
      "1  84.0   NaN  93.0  58.0\n",
      "2  15.0  24.0   NaN  90.0\n",
      "3   NaN  91.0   9.0  40.0\n",
      "4  69.0  49.0   8.0   NaN\n",
      "\n",
      "DataFrame after updating the NaN values with column mean:\n",
      "      A      B     C          D\n",
      "0  48.0  69.00  26.0  62.666667\n",
      "1  84.0  58.25  93.0  58.000000\n",
      "2  15.0  24.00  34.0  90.000000\n",
      "3  54.0  91.00   9.0  40.000000\n",
      "4  69.0  49.00   8.0  62.666667\n"
     ]
    }
   ],
   "source": [
    "np.random.seed(7)\n",
    "\n",
    "data = np.random.randint(1, 100, size = (5,4))\n",
    "df = pd.DataFrame(data, columns = [\"A\",\"B\",\"C\",\"D\"])\n",
    "print(\"Original DataFrame:\")\n",
    "print(df)\n",
    "\n",
    "# Introducing NaN values\n",
    "df.loc[3,\"A\"] = np.nan\n",
    "df.loc[1,\"B\"] = np.nan\n",
    "df.loc[2,\"C\"] = np.nan\n",
    "df.loc[0,\"D\"] = np.nan\n",
    "df.loc[4,\"D\"] = np.nan\n",
    "\n",
    "print(\"\\nDataFrame after introducing NaN:\")\n",
    "print(df)\n",
    "\n",
    "df_updated = df.apply(lambda x : x.fillna(x.mean()),axis = 0)\n",
    "print(f\"\\nDataFrame after updating the NaN values with column mean:\\n{df_updated}\")"
   ]
  },
  {
   "cell_type": "markdown",
   "id": "41b8f8ac-c116-4dc7-9a52-52911f8de467",
   "metadata": {},
   "source": [
    "# Q12: Merging DataFrames\n",
    "Create two DataFrames: one with columns ID and Name, and another with columns ID and Score. Merge the two DataFrames on the ID column and display the resulting DataFrame."
   ]
  },
  {
   "cell_type": "code",
   "execution_count": 95,
   "id": "898fe382-ab0f-4a91-b445-6a20665ba2c0",
   "metadata": {},
   "outputs": [
    {
     "name": "stdout",
     "output_type": "stream",
     "text": [
      "   ID       Name  Score\n",
      "0   1    Anirudh     95\n",
      "1   2    Bhaskar     75\n",
      "2   3     Chirag     80\n",
      "3   4      Dhruv     60\n",
      "4   6  Tribhuvan     83\n"
     ]
    }
   ],
   "source": [
    "data1 = {'ID': [1, 2, 3, 4, 5, 6],\n",
    "         'Name': ['Anirudh', 'Bhaskar', 'Chirag', 'Dhruv', 'Shaurya', \"Tribhuvan\"]}\n",
    "df1 = pd.DataFrame(data1)\n",
    "\n",
    "data2 = {'ID': [1, 2, 3, 4, 6],\n",
    "         'Score': [95, 75, 80, 60, 83]}\n",
    "df2 = pd.DataFrame(data2)\n",
    "\n",
    "new_df = pd.merge(df1, df2, on='ID', how='inner')\n",
    "\n",
    "print(new_df)"
   ]
  },
  {
   "cell_type": "markdown",
   "id": "6de69b86-4c61-48ac-9e9d-bccf3dde94a3",
   "metadata": {},
   "source": [
    "# Q13: Line Plot\n",
    "Generate a random dataset representing the monthly revenue of a company. Plot a line graph to show the trend, and customize it with:\n",
    "- A title\n",
    "- Labeled axes\n",
    "- A legend"
   ]
  },
  {
   "cell_type": "code",
   "execution_count": 109,
   "id": "a226ad93-6812-4da2-a0f7-9044e74c1bc9",
   "metadata": {},
   "outputs": [
    {
     "data": {
      "image/png": "[encoded data removed]",
      "text/plain": [
       "<Figure size 640x480 with 1 Axes>"
      ]
     },
     "metadata": {},
     "output_type": "display_data"
    }
   ],
   "source": [
    "np.random.seed(7)\n",
    "months = np.arange(1,13)\n",
    "revenue = np.random.randint(1000, 10000, size = 12)\n",
    "\n",
    "plt.plot(months, revenue, label=\"Monthly Revenue\", color=\"b\", marker=\"*\")\n",
    "\n",
    "plt.title(\"Monthly Revenue-2024\")\n",
    "plt.xlabel(\"Month\")\n",
    "plt.ylabel(\"Revenue (£)\")\n",
    "plt.legend()\n",
    "plt.grid(True)\n",
    "\n",
    "plt.show()"
   ]
  },
  {
   "cell_type": "markdown",
   "id": "04103a37-6e9f-4248-8504-6d7120e19926",
   "metadata": {},
   "source": [
    "# Q14: Bar Plot\n",
    "Create a dataset representing the sales of five products in two different regions. Use a grouped bar chart to display the comparison between the regions for each product. Ensure that the plot is customized with:\n",
    "- A title\n",
    "- Labeled axes\n",
    "- A legend"
   ]
  },
  {
   "cell_type": "code",
   "execution_count": 138,
   "id": "f41cfec9-3db3-4aae-8c62-6657b5ed4b52",
   "metadata": {},
   "outputs": [
    {
     "data": {
      "image/png": "[encoded data removed]",
      "text/plain": [
       "<Figure size 640x480 with 1 Axes>"
      ]
     },
     "metadata": {},
     "output_type": "display_data"
    }
   ],
   "source": [
    "products = ['A', 'G', 'J', 'L', \"M\", \"T\", 'X', \"Y\"]\n",
    "market_1_sales = [160, 430, 340, 600, 540, 625, 350, 600]\n",
    "market_2_sales = [140, 560, 410, 380, 450, 640, 380, 700]\n",
    "\n",
    "x = np.arange(len(products))\n",
    "width = 0.25  \n",
    "\n",
    "fig, ax = plt.subplots()\n",
    "bars1 = ax.bar(x - width/2, market_1_sales, width, label='Market 1', color='#cc99ff')\n",
    "bars2 = ax.bar(x + width/2, market_2_sales, width, label='Market 2', color='#00cc99')\n",
    "\n",
    "ax.set_title('Sales Comparison of Products in Two Markets') \n",
    "ax.set_xlabel('Products')\n",
    "ax.set_ylabel('Sales')  \n",
    "ax.set_xticks(x)\n",
    "ax.set_xticklabels(products)\n",
    "ax.legend()\n",
    "\n",
    "plt.tight_layout() \n",
    "plt.show()"
   ]
  },
  {
   "cell_type": "markdown",
   "id": "f78de466-3936-499e-97cb-8ffc0beb0c8d",
   "metadata": {},
   "source": [
    "# Q15: Scatter Plot\n",
    "Load the Iris dataset from Seaborn library or any other source like Kaggle, etc. Create a scatter plot compraing any two features of the flowers (eg, petal length vs petal width, sepal length vs sepa width). Customize the plot to use different colors for each species and add labels and a title."
   ]
  },
  {
   "cell_type": "code",
   "execution_count": 177,
   "id": "c8d30fb2-a30d-4652-a3b1-8d09d43e8c42",
   "metadata": {},
   "outputs": [
    {
     "data": {
      "image/png": "[encoded data removed]",
      "text/plain": [
       "<Figure size 1000x600 with 1 Axes>"
      ]
     },
     "metadata": {},
     "output_type": "display_data"
    }
   ],
   "source": [
    "iris = sns.load_dataset('iris')\n",
    "\n",
    "plt.figure(figsize=(10, 6))\n",
    "\n",
    "species = iris['species'].unique()\n",
    "colors = ['#cc9900', '#0000ff', '#ff0000']  \n",
    "\n",
    "for i, spec in enumerate(species):\n",
    "    species_data = iris[iris['species'] == spec]\n",
    "    plt.scatter(species_data['sepal_length'], species_data['sepal_width'], \n",
    "                label=spec, color=colors[i], alpha=0.7)\n",
    "\n",
    "\n",
    "plt.title('Sepal Length vs Sepal Width for Different Iris Species')\n",
    "plt.xlabel('Sepal Length (cm)')\n",
    "plt.ylabel('Sepal Width (cm)')\n",
    "\n",
    "plt.legend(title='Species')\n",
    "plt.grid(True)\n",
    "plt.show()\n"
   ]
  },
  {
   "cell_type": "code",
   "execution_count": null,
   "id": "1bc9f86e-05fc-4947-9d45-15c619c09534",
   "metadata": {},
   "outputs": [],
   "source": []
  }
 ],
 "metadata": {
  "kernelspec": {
   "display_name": "Python 3 (ipykernel)",
   "language": "python",
   "name": "python3"
  },
  "language_info": {
   "codemirror_mode": {
    "name": "ipython",
    "version": 3
   },
   "file_extension": ".py",
   "mimetype": "text/x-python",
   "name": "python",
   "nbconvert_exporter": "python",
   "pygments_lexer": "ipython3",
   "version": "3.12.7"
  }
 },
 "nbformat": 4,
 "nbformat_minor": 5
}

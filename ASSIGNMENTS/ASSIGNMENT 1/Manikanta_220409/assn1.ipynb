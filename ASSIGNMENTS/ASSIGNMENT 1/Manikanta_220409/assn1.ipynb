{
 "cells": [
  {
   "cell_type": "markdown",
   "metadata": {},
   "source": [
    "Importing libraries"
   ]
  },
  {
   "cell_type": "code",
   "execution_count": 1,
   "metadata": {},
   "outputs": [],
   "source": [
    "import numpy as np\n",
    "import pandas as pd\n",
    "import matplotlib.pyplot as plt"
   ]
  },
  {
   "cell_type": "markdown",
   "metadata": {},
   "source": [
    "Question-1"
   ]
  },
  {
   "cell_type": "code",
   "execution_count": 2,
   "metadata": {},
   "outputs": [
    {
     "name": "stdout",
     "output_type": "stream",
     "text": [
      "1  -->  1\n",
      "2  -->  1\n",
      "3  -->  2\n",
      "4  -->  3\n",
      "5  -->  5\n",
      "6  -->  8\n",
      "7  -->  13\n",
      "8  -->  21\n",
      "9  -->  34\n",
      "10  -->  55\n"
     ]
    }
   ],
   "source": [
    "def fibonacci(n):\n",
    "    a = 1;\n",
    "    b = 1;\n",
    "    for i in range(n):\n",
    "        print(i + 1, \" --> \",a)\n",
    "        c = b\n",
    "        b += a\n",
    "        a = c\n",
    "\n",
    "fibonacci(10)"
   ]
  },
  {
   "cell_type": "markdown",
   "metadata": {},
   "source": [
    "Question-2"
   ]
  },
  {
   "cell_type": "code",
   "execution_count": 3,
   "metadata": {},
   "outputs": [
    {
     "name": "stdout",
     "output_type": "stream",
     "text": [
      "[1, 4, 9, 16, 25, 36, 49, 64, 81, 100, 121, 144, 169, 196, 225, 256, 289, 324, 361, 400]\n",
      "{1: 1, 2: 8, 3: 27, 4: 64, 5: 125, 6: 216, 7: 343, 8: 512, 9: 729, 10: 1000}\n"
     ]
    }
   ],
   "source": [
    "squares = [x**2 for x in range(1,21)]\n",
    "print(squares)\n",
    "\n",
    "cubes = {x : x**3 for x in range(1,11)}\n",
    "print(cubes)"
   ]
  },
  {
   "cell_type": "markdown",
   "metadata": {},
   "source": [
    "Question-3"
   ]
  },
  {
   "cell_type": "code",
   "execution_count": 4,
   "metadata": {},
   "outputs": [
    {
     "name": "stdout",
     "output_type": "stream",
     "text": [
      "  Names  Age  Score\n",
      "3  Saga   19     88\n",
      "5  Katt   18     86\n"
     ]
    }
   ],
   "source": [
    "data = {\n",
    "    \"Names\" : [\"Mani\", \"Hary\", \"Saga\", \"Vank\", \"Katt\"],\n",
    "    \"Age\" : np.random.randint(18,21, 5),\n",
    "    \"Score\" : np.random.randint(50,100, 5)\n",
    "}\n",
    "\n",
    "df = pd.DataFrame(data, index = [x for x in range(1,6)])\n",
    "\n",
    "df.to_csv('data.csv')\n",
    "\n",
    "new_df = pd.read_csv('data.csv')\n",
    "new_df = new_df.drop(new_df.columns[0], axis = 1)\n",
    "\n",
    "list1 = []\n",
    "\n",
    "for i in range(0,5):\n",
    "    if new_df.iloc[i,2] > 75:\n",
    "       list1.append(i)\n",
    "\n",
    "print(df.iloc[list1, : ])"
   ]
  },
  {
   "cell_type": "markdown",
   "metadata": {},
   "source": [
    "Question-4"
   ]
  },
  {
   "cell_type": "code",
   "execution_count": 5,
   "metadata": {},
   "outputs": [
    {
     "name": "stdout",
     "output_type": "stream",
     "text": [
      "Maximum:  86 Index:  14\n",
      "Minimum:  14 Index:  3\n",
      "[46 58 84 14 63 83 51 69 21 21 64 59 60 67 86 25 18 29 71 69 58 83 18 39\n",
      " 66]\n",
      "[46 58 84 14 -1 -1 -1 -1 -1 -1 64 -1 60 -1 86 -1 18 -1 -1 -1 58 -1 18 -1\n",
      " 66]\n"
     ]
    }
   ],
   "source": [
    "array = np.random.randint(10,100,25)\n",
    "\n",
    "print(\"Maximum: \", array.max(), \"Index: \", array.argmax())\n",
    "print(\"Minimum: \", array.min(), \"Index: \", array.argmin())\n",
    "\n",
    "print(array)\n",
    "\n",
    "for i in range(array.size):\n",
    "    if array[i]%2 != 0:\n",
    "        array[i] = -1\n",
    "    \n",
    "print(array)"
   ]
  },
  {
   "cell_type": "markdown",
   "metadata": {},
   "source": [
    "Question-5"
   ]
  },
  {
   "cell_type": "code",
   "execution_count": 6,
   "metadata": {},
   "outputs": [
    {
     "name": "stdout",
     "output_type": "stream",
     "text": [
      "[[59 89 67 43 19]\n",
      " [43 55 96 72 10]\n",
      " [16 57 72 85 70]\n",
      " [88 70 33 39 58]\n",
      " [ 2 32 27 38 44]]\n",
      "\n",
      " [59, 55, 72, 39, 44] \n",
      "\n",
      "Sum =  609\n"
     ]
    }
   ],
   "source": [
    "matrix = np.random.randint(0,100,(5,5))\n",
    "print(matrix)\n",
    "\n",
    "diagonal_ele = []\n",
    "\n",
    "for i in range(5):\n",
    "    diagonal_ele.append(matrix[i][i].item())\n",
    "\n",
    "print(\"\\n\", diagonal_ele, \"\\n\")\n",
    "\n",
    "sum = 0\n",
    "\n",
    "for i in range(5):\n",
    "    for j in range(5):\n",
    "        if j > i :\n",
    "            sum += matrix[i][j]\n",
    "\n",
    "print(\"Sum = \", sum)"
   ]
  },
  {
   "cell_type": "markdown",
   "metadata": {},
   "source": [
    "Question-6"
   ]
  },
  {
   "cell_type": "code",
   "execution_count": 7,
   "metadata": {},
   "outputs": [
    {
     "name": "stdout",
     "output_type": "stream",
     "text": [
      "[[[0.64316293 0.76937428 0.25093343 0.73065618 0.52747313]\n",
      "  [0.65719252 0.07166445 0.44872518 0.87920246 0.51903205]\n",
      "  [0.63166451 0.24055381 0.29226166 0.01093312 0.52416273]\n",
      "  [0.68321847 0.07301285 0.72427065 0.5325782  0.22193321]]\n",
      "\n",
      " [[0.27530239 0.19500833 0.99824458 0.14966347 0.94753262]\n",
      "  [0.3746413  0.35740416 0.0762458  0.41428273 0.07219946]\n",
      "  [0.4173224  0.07857164 0.66664837 0.64836059 0.76913934]\n",
      "  [0.63793012 0.38550714 0.39786822 0.49559964 0.0046137 ]]\n",
      "\n",
      " [[0.71540369 0.19226353 0.15279069 0.6413107  0.22710629]\n",
      "  [0.19755954 0.38485359 0.21152285 0.24147726 0.65056126]\n",
      "  [0.80906757 0.90785465 0.96551666 0.09277616 0.04418383]\n",
      "  [0.97449552 0.1247234  0.43227156 0.38944964 0.52164081]]] \n",
      "\n",
      "Mean : 0.444515350526372\n",
      "Median : 0.4158025658799379\n",
      "Standard deviation : 0.27916002377592847 \n",
      "\n",
      "[[[ 0.71159034  1.16370147 -0.69344427  1.02500647  0.29716925]\n",
      "  [ 0.76184678 -1.33561708  0.01508035  1.55712521  0.26693184]\n",
      "  [ 0.670401   -0.73062589 -0.54539932 -1.55316732  0.28531082]\n",
      "  [ 0.8550763  -1.3307869   1.00213239  0.31545653 -0.79732815]]\n",
      "\n",
      " [[-0.60615039 -0.89377776  1.98355489 -1.05621096  1.80189577]\n",
      "  [-0.25030106 -0.31204752 -1.31920591 -0.10829852 -1.33370061]\n",
      "  [-0.09740991 -1.31087432  0.7957193   0.73020929  1.16285988]\n",
      "  [ 0.6928455  -0.21137771 -0.16709817  0.18299284 -1.57580459]]\n",
      "\n",
      " [[ 0.97036938 -0.90361011 -1.04500871  0.70495534 -0.77879724]\n",
      "  [-0.88463888 -0.21371887 -0.83461988 -0.72731792  0.73809247]\n",
      "  [ 1.30588977  1.65976237  1.86631775 -1.25999126 -1.43405749]\n",
      "  [ 1.89848159 -1.14555066 -0.0438594  -0.19725499  0.27627687]]]\n"
     ]
    }
   ],
   "source": [
    "array = np.random.ranf((3,4,5))\n",
    "\n",
    "print(array, \"\\n\")\n",
    "\n",
    "print(\"Mean :\", array.mean())\n",
    "print(\"Median :\", np.median(array))\n",
    "print(\"Standard deviation :\", np.std(array), \"\\n\")\n",
    "\n",
    "normalized_array = (array - array.mean())/np.std(array)\n",
    "print(normalized_array)"
   ]
  },
  {
   "cell_type": "markdown",
   "metadata": {},
   "source": [
    "Question-7"
   ]
  },
  {
   "cell_type": "code",
   "execution_count": 8,
   "metadata": {},
   "outputs": [
    {
     "name": "stdout",
     "output_type": "stream",
     "text": [
      "[[14 13 23 19]\n",
      " [11 18 11 21]\n",
      " [21 27 23  8]\n",
      " [18 16 15 10]]\n"
     ]
    }
   ],
   "source": [
    "array1 = np.random.randint(1,20,(4,4))\n",
    "array2 = np.random.randint(1,20,4)\n",
    "\n",
    "# print(array1, \"\\n\")\n",
    "# print(array2)\n",
    "\n",
    "result = np.zeros_like(array1)\n",
    "\n",
    "for i in range(4):\n",
    "    result[i, :] = array1[i, :] + array2\n",
    "\n",
    "print(result)"
   ]
  },
  {
   "cell_type": "markdown",
   "metadata": {},
   "source": [
    "Question-8"
   ]
  },
  {
   "cell_type": "code",
   "execution_count": 9,
   "metadata": {},
   "outputs": [
    {
     "name": "stdout",
     "output_type": "stream",
     "text": [
      "Total Values =  [1544, 279, 428, 506, 1287, 614, 217, 1176] \n",
      "\n",
      "       Product  Price  Quantity  Total\n",
      "1         Soap    386         4   1544\n",
      "2      Shampoo    279         1    279\n",
      "3  Conditioner    214         2    428\n",
      "4    Face Wash    253         2    506\n",
      "5  Moisturizer    429         3   1287\n",
      "6    Sunscreen    307         2    614\n",
      "7      Talcumm    217         1    217\n",
      "8      Perfurm    392         3   1176\n"
     ]
    }
   ],
   "source": [
    "data = {\n",
    "    \"Product\" : [\"Soap\", \"Shampoo\", \"Conditioner\", \"Face Wash\", \"Moisturizer\", \"Sunscreen\", \"Talcumm\", \"Perfurm\"],\n",
    "    \"Price\" : np.random.randint(100,500,8),\n",
    "    \"Quantity\" : np.random.randint(1,5,8)\n",
    "}\n",
    "\n",
    "df = pd.DataFrame(data, index=range(1,9))\n",
    "\n",
    "# print(df)\n",
    "\n",
    "total_value = []\n",
    "\n",
    "\n",
    "for i in range(8):\n",
    "    total_value.append(df.iloc[i,1].item()*df.iloc[i,2].item())\n",
    "\n",
    "print(\"Total Values = \", total_value, \"\\n\")\n",
    "\n",
    "df['Total'] = total_value\n",
    "\n",
    "print(df)\n"
   ]
  },
  {
   "cell_type": "markdown",
   "metadata": {},
   "source": [
    "Question-9\n"
   ]
  },
  {
   "cell_type": "code",
   "execution_count": 10,
   "metadata": {},
   "outputs": [
    {
     "name": "stdout",
     "output_type": "stream",
     "text": [
      "(891, 12)\n",
      "     PassengerId  Survived  Pclass                                     Name  \\\n",
      "7              8         0       3           Palsson, Master. Gosta Leonard   \n",
      "9             10         1       2      Nasser, Mrs. Nicholas (Adele Achem)   \n",
      "10            11         1       3          Sandstrom, Miss. Marguerite Rut   \n",
      "14            15         0       3     Vestrom, Miss. Hulda Amanda Adolfina   \n",
      "16            17         0       3                     Rice, Master. Eugene   \n",
      "..           ...       ...     ...                                      ...   \n",
      "850          851         0       3  Andersson, Master. Sigvard Harald Elias   \n",
      "852          853         0       3                  Boulos, Miss. Nourelain   \n",
      "853          854         1       1                Lines, Miss. Mary Conover   \n",
      "869          870         1       3          Johnson, Master. Harold Theodor   \n",
      "875          876         1       3         Najib, Miss. Adele Kiamie \"Jane\"   \n",
      "\n",
      "        Sex   Age  SibSp  Parch    Ticket     Fare Cabin Embarked  \n",
      "7      male   2.0      3      1    349909  21.0750   NaN        S  \n",
      "9    female  14.0      1      0    237736  30.0708   NaN        C  \n",
      "10   female   4.0      1      1   PP 9549  16.7000    G6        S  \n",
      "14   female  14.0      0      0    350406   7.8542   NaN        S  \n",
      "16     male   2.0      4      1    382652  29.1250   NaN        Q  \n",
      "..      ...   ...    ...    ...       ...      ...   ...      ...  \n",
      "850    male   4.0      4      2    347082  31.2750   NaN        S  \n",
      "852  female   9.0      1      1      2678  15.2458   NaN        C  \n",
      "853  female  16.0      0      1  PC 17592  39.4000   D28        S  \n",
      "869    male   4.0      1      1    347742  11.1333   NaN        S  \n",
      "875  female  15.0      0      0      2667   7.2250   NaN        C  \n",
      "\n",
      "[113 rows x 12 columns]\n",
      "     PassengerId  Survived  Pclass  \\\n",
      "1              2         1       1   \n",
      "2              3         1       3   \n",
      "3              4         1       1   \n",
      "8              9         1       3   \n",
      "9             10         1       2   \n",
      "..           ...       ...     ...   \n",
      "874          875         1       2   \n",
      "875          876         1       3   \n",
      "879          880         1       1   \n",
      "880          881         1       2   \n",
      "887          888         1       1   \n",
      "\n",
      "                                                  Name     Sex   Age  SibSp  \\\n",
      "1    Cumings, Mrs. John Bradley (Florence Briggs Th...  female  38.0      1   \n",
      "2                               Heikkinen, Miss. Laina  female  26.0      0   \n",
      "3         Futrelle, Mrs. Jacques Heath (Lily May Peel)  female  35.0      1   \n",
      "8    Johnson, Mrs. Oscar W (Elisabeth Vilhelmina Berg)  female  27.0      0   \n",
      "9                  Nasser, Mrs. Nicholas (Adele Achem)  female  14.0      1   \n",
      "..                                                 ...     ...   ...    ...   \n",
      "874              Abelson, Mrs. Samuel (Hannah Wizosky)  female  28.0      1   \n",
      "875                   Najib, Miss. Adele Kiamie \"Jane\"  female  15.0      0   \n",
      "879      Potter, Mrs. Thomas Jr (Lily Alexenia Wilson)  female  56.0      0   \n",
      "880       Shelley, Mrs. William (Imanita Parrish Hall)  female  25.0      0   \n",
      "887                       Graham, Miss. Margaret Edith  female  19.0      0   \n",
      "\n",
      "     Parch            Ticket     Fare Cabin Embarked  \n",
      "1        0          PC 17599  71.2833   C85        C  \n",
      "2        0  STON/O2. 3101282   7.9250   NaN        S  \n",
      "3        0            113803  53.1000  C123        S  \n",
      "8        2            347742  11.1333   NaN        S  \n",
      "9        0            237736  30.0708   NaN        C  \n",
      "..     ...               ...      ...   ...      ...  \n",
      "874      0         P/PP 3381  24.0000   NaN        C  \n",
      "875      0              2667   7.2250   NaN        C  \n",
      "879      1             11767  83.1583   C50        C  \n",
      "880      1            230433  26.0000   NaN        S  \n",
      "887      0            112053  30.0000   B42        S  \n",
      "\n",
      "[233 rows x 12 columns]\n"
     ]
    }
   ],
   "source": [
    "data = pd.read_csv('Titanic-Dataset.csv')\n",
    "print(data.shape)\n",
    "\n",
    "list1 = []\n",
    "\n",
    "for i in range(len(data)):\n",
    "    if data.loc[i,'Age'] < 18 :\n",
    "        list1.append(i)\n",
    "\n",
    "print(data.iloc[list1, : ])\n",
    "\n",
    "list2 = []\n",
    "\n",
    "for i in range(len(data)):\n",
    "    if data.loc[i, \"Sex\"] == \"female\" and data.loc[i, \"Survived\"] :\n",
    "        list2.append(i)\n",
    "\n",
    "print(data.iloc[list2, :])"
   ]
  },
  {
   "cell_type": "markdown",
   "metadata": {},
   "source": [
    "Question-10"
   ]
  },
  {
   "cell_type": "code",
   "execution_count": 11,
   "metadata": {},
   "outputs": [
    {
     "name": "stdout",
     "output_type": "stream",
     "text": [
      "Mean of petal lengths:\n",
      "1. Iris-setosa:  1.464\n",
      "2. Iris-versicolor:  4.26\n",
      "3. Iris-virginica:  5.552\n",
      "Mean of sepal widths:\n",
      "1. Iris-setosa:  3.4180000000000006\n",
      "2. Iris-versicolor:  2.7700000000000005\n",
      "3. Iris-virginica:  2.9739999999999998\n"
     ]
    }
   ],
   "source": [
    "data = pd.read_csv('IRIS.csv')\n",
    "# data.head(10)\n",
    "\n",
    "data = data.sort_values(by = 'species')\n",
    "\n",
    "setosa_pl, versicolor_pl, virginica_pl = 0, 0, 0\n",
    "setosa_sw, versicolor_sw, virginica_sw = 0, 0, 0\n",
    "setosa_n, versicolor_n, virginica_n = 0, 0, 0\n",
    "\n",
    "\n",
    "\n",
    "# print(len(data))\n",
    "\n",
    "for i in range(len(data)):\n",
    "    if data.loc[i,\"species\"] == 'Iris-setosa':\n",
    "        setosa_pl += data.loc[i, \"petal_length\"]\n",
    "        setosa_sw += data.loc[i, \"sepal_width\"]\n",
    "        setosa_n += 1\n",
    "    elif data.loc[i,\"species\"] == 'Iris-versicolor':\n",
    "        versicolor_pl += data.loc[i, \"petal_length\"]\n",
    "        versicolor_sw += data.loc[i, \"sepal_width\"]\n",
    "        versicolor_n += 1\n",
    "    else:\n",
    "        virginica_pl += data.loc[i, \"petal_length\"]\n",
    "        virginica_sw += data.loc[i, \"sepal_width\"]\n",
    "        virginica_n += 1\n",
    "\n",
    "\n",
    "print(\"Mean of petal lengths:\")\n",
    "print(\"1. Iris-setosa: \", setosa_pl/setosa_n)\n",
    "print(\"2. Iris-versicolor: \", versicolor_pl/versicolor_n)\n",
    "print(\"3. Iris-virginica: \", virginica_pl/virginica_n)\n",
    "print(\"Mean of sepal widths:\")\n",
    "print(\"1. Iris-setosa: \", setosa_sw/setosa_n)\n",
    "print(\"2. Iris-versicolor: \", versicolor_sw/versicolor_n)\n",
    "print(\"3. Iris-virginica: \", virginica_sw/virginica_n)"
   ]
  },
  {
   "cell_type": "markdown",
   "metadata": {},
   "source": [
    "Question-11"
   ]
  },
  {
   "cell_type": "code",
   "execution_count": 12,
   "metadata": {},
   "outputs": [
    {
     "name": "stdout",
     "output_type": "stream",
     "text": [
      "      A     B     C\n",
      "0  70.0   NaN   NaN\n",
      "1  51.0  99.0  98.0\n",
      "2  63.0  79.0  10.0\n",
      "3   3.0  15.0  39.0\n",
      "4   5.0  70.0  80.0\n",
      "5   NaN  70.0  80.0\n",
      "6  52.0   NaN  53.0\n",
      "7   NaN  50.0  55.0\n",
      "8  55.0  95.0   NaN\n",
      "9  18.0  58.0  15.0\n",
      "        A     B      C\n",
      "0  70.000  67.0  53.75\n",
      "1  51.000  99.0  98.00\n",
      "2  63.000  79.0  10.00\n",
      "3   3.000  15.0  39.00\n",
      "4   5.000  70.0  80.00\n",
      "5  39.625  70.0  80.00\n",
      "6  52.000  67.0  53.00\n",
      "7  39.625  50.0  55.00\n",
      "8  55.000  95.0  53.75\n",
      "9  18.000  58.0  15.00\n"
     ]
    }
   ],
   "source": [
    "df = pd.DataFrame({\n",
    "    \"A\": np.random.randint(1, 100, 10),\n",
    "    \"B\": np.random.randint(1, 100, 10),\n",
    "    \"C\": np.random.randint(1, 100, 10)\n",
    "})\n",
    "for i in ['A','B','C']:\n",
    "    df.loc[np.random.randint(0,10,2),i] = np.nan\n",
    "\n",
    "print(df)\n",
    "\n",
    "df_filled = df.fillna(df.mean())\n",
    "\n",
    "print(df_filled)"
   ]
  },
  {
   "cell_type": "markdown",
   "metadata": {},
   "source": [
    "Question-12"
   ]
  },
  {
   "cell_type": "code",
   "execution_count": 13,
   "metadata": {},
   "outputs": [
    {
     "name": "stdout",
     "output_type": "stream",
     "text": [
      "   ID  Name  Score\n",
      "0   1  Mani     90\n",
      "1   2  Hary     85\n",
      "2   3  Saga     75\n",
      "3   4  Vank     88\n"
     ]
    }
   ],
   "source": [
    "df1 = pd.DataFrame({\"ID\": [1, 2, 3, 4], \"Name\": [\"Mani\", \"Hary\", \"Saga\", \"Vank\"]})\n",
    "df2 = pd.DataFrame({\"ID\": [1, 2, 3, 4], \"Score\": [90, 85, 75, 88]})\n",
    "\n",
    "merged_df = pd.merge(df1, df2, on=\"ID\")\n",
    "\n",
    "print(merged_df)"
   ]
  },
  {
   "cell_type": "markdown",
   "metadata": {},
   "source": [
    "Question-13"
   ]
  },
  {
   "cell_type": "code",
   "execution_count": 14,
   "metadata": {},
   "outputs": [
    {
     "data": {
      "image/png": "[encoded data removed]",
      "text/plain": [
       "<Figure size 500x300 with 1 Axes>"
      ]
     },
     "metadata": {},
     "output_type": "display_data"
    }
   ],
   "source": [
    "monthly_revenue = np.random.randint(1000, 5000, 12)\n",
    "months = [\"Jan\", \"Feb\", \"Mar\", \"Apr\", \"May\", \"Jun\", \"Jul\", \"Aug\", \"Sep\", \"Oct\", \"Nov\", \"Dec\"]\n",
    "\n",
    "plt.figure(figsize=(5, 3))\n",
    "plt.plot(months, monthly_revenue, '--o', label=\"Revenue\")\n",
    "plt.title(\"Monthly Revenue Trend\")\n",
    "plt.xlabel(\"Month\")\n",
    "plt.ylabel(\"Revenue (₹)\")\n",
    "plt.legend()\n",
    "plt.grid(True)\n",
    "plt.show()"
   ]
  },
  {
   "cell_type": "markdown",
   "metadata": {},
   "source": [
    "Question-14"
   ]
  },
  {
   "cell_type": "code",
   "execution_count": 15,
   "metadata": {},
   "outputs": [
    {
     "data": {
      "image/png": "[encoded data removed]",
      "text/plain": [
       "<Figure size 500x300 with 1 Axes>"
      ]
     },
     "metadata": {},
     "output_type": "display_data"
    }
   ],
   "source": [
    "products = [\"Product A\", \"Product B\", \"Product C\", \"Product D\", \"Product E\"]\n",
    "region1_sales = np.random.randint(50,100,5)\n",
    "region2_sales = np.random.randint(50,100,5)\n",
    "\n",
    "x = np.arange(len(products))\n",
    "\n",
    "plt.figure(figsize=(5, 3))\n",
    "plt.bar(x - 0.1, region1_sales, width=0.2, label=\"Region 1\")\n",
    "plt.bar(x + 0.1, region2_sales, width=0.2, label=\"Region 2\")\n",
    "plt.xticks(x, products)\n",
    "plt.title(\"Sales Comparison by Product and Region\")\n",
    "plt.xlabel(\"Products\")\n",
    "plt.ylabel(\"Sales\")\n",
    "plt.legend()\n",
    "plt.show()"
   ]
  },
  {
   "cell_type": "markdown",
   "metadata": {},
   "source": [
    "Question-15"
   ]
  },
  {
   "cell_type": "code",
   "execution_count": 16,
   "metadata": {},
   "outputs": [
    {
     "data": {
      "image/png": "[encoded data removed]",
      "text/plain": [
       "<Figure size 500x300 with 1 Axes>"
      ]
     },
     "metadata": {},
     "output_type": "display_data"
    }
   ],
   "source": [
    "iris = pd.read_csv(\"IRIS.csv\")\n",
    "\n",
    "species = iris['species'].unique()\n",
    "colors = ['r', 'g', 'b']\n",
    "\n",
    "plt.figure(figsize=(5, 3))\n",
    "for sp, color in zip(species, colors):\n",
    "    subset = iris[iris['species'] == sp]\n",
    "    plt.scatter(subset['petal_length'], subset['petal_width'], label=sp, color=color)\n",
    "\n",
    "plt.title(\"Petal Length vs Petal Width by Species\")\n",
    "plt.xlabel(\"Petal Length (cm)\")\n",
    "plt.ylabel(\"Petal Width (cm)\")\n",
    "plt.legend(title=\"Species\")\n",
    "plt.grid(True)\n",
    "plt.show()"
   ]
  }
 ],
 "metadata": {
  "kernelspec": {
   "display_name": "Python 3",
   "language": "python",
   "name": "python3"
  },
  "language_info": {
   "codemirror_mode": {
    "name": "ipython",
    "version": 3
   },
   "file_extension": ".py",
   "mimetype": "text/x-python",
   "name": "python",
   "nbconvert_exporter": "python",
   "pygments_lexer": "ipython3",
   "version": "3.12.4"
  }
 },
 "nbformat": 4,
 "nbformat_minor": 2
}

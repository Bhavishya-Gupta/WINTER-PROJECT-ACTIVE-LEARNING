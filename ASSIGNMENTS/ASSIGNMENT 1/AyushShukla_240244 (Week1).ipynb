{
  "nbformat": 4,
  "nbformat_minor": 0,
  "metadata": {
    "colab": {
      "provenance": []
    },
    "kernelspec": {
      "name": "python3",
      "display_name": "Python 3"
    },
    "language_info": {
      "name": "python"
    }
  },
  "cells": [
    {
      "cell_type": "code",
      "execution_count": 2,
      "metadata": {
        "id": "3EuRSeAayQVI"
      },
      "outputs": [],
      "source": [
        "import pandas as pd\n",
        "import numpy as np\n",
        "import matplotlib.pyplot as plt\n",
        "import warnings\n",
        "warnings.filterwarnings('ignore')"
      ]
    },
    {
      "cell_type": "markdown",
      "source": [
        "Write a Python function to generate the first N Fibonacci numbers. Test the                   \n",
        "function with N = 10."
      ],
      "metadata": {
        "id": "H-zWYTu8zGta"
      }
    },
    {
      "cell_type": "code",
      "source": [
        "def fibonacci(n):\n",
        "   if (n==1):\n",
        "    return 0\n",
        "   elif (n==2):\n",
        "    return 1\n",
        "   else:\n",
        "    return fibonacci(n-1)+fibonacci(n-2)\n",
        "for i in range(1,11):\n",
        "  print(fibonacci(i),end=' ')"
      ],
      "metadata": {
        "colab": {
          "base_uri": "https://localhost:8080/"
        },
        "id": "sVnnzrnqzDM6",
        "outputId": "3f44b952-67e6-465f-b1eb-a7e85fe7b2ad"
      },
      "execution_count": 5,
      "outputs": [
        {
          "output_type": "stream",
          "name": "stdout",
          "text": [
            "0 1 1 2 3 5 8 13 21 34 "
          ]
        }
      ]
    },
    {
      "cell_type": "markdown",
      "source": [
        "Create a list of squares of numbers from 1 to 20 using list comprehension. Then, create\n",
        "a dictionary where the keys are numbers from 1 to 10, and the values are their cubes\n",
        "using dictionary comprehension."
      ],
      "metadata": {
        "id": "TfYKqOtOzVsP"
      }
    },
    {
      "cell_type": "code",
      "source": [
        "l=[i**2 for i in range(1,21)]\n",
        "dict={i:i**3 for i in range(1,21)}\n",
        "print(l,dict,sep=\"\\n\\n\")"
      ],
      "metadata": {
        "colab": {
          "base_uri": "https://localhost:8080/"
        },
        "id": "QqWFYfi31eUx",
        "outputId": "7ee9ae2a-6bee-4ad5-c870-bbb73d2d22ae"
      },
      "execution_count": 7,
      "outputs": [
        {
          "output_type": "stream",
          "name": "stdout",
          "text": [
            "[1, 4, 9, 16, 25, 36, 49, 64, 81, 100, 121, 144, 169, 196, 225, 256, 289, 324, 361, 400]\n",
            "\n",
            "{1: 1, 2: 8, 3: 27, 4: 64, 5: 125, 6: 216, 7: 343, 8: 512, 9: 729, 10: 1000, 11: 1331, 12: 1728, 13: 2197, 14: 2744, 15: 3375, 16: 4096, 17: 4913, 18: 5832, 19: 6859, 20: 8000}\n"
          ]
        }
      ]
    },
    {
      "cell_type": "markdown",
      "source": [
        "Write a Python script to create a CSV file named data.csv with three columns: Name,\n",
        "Age, and Score. Write at least five rows of data, then read the file and print the rows\n",
        "where the score is above 75."
      ],
      "metadata": {
        "id": "GzvV5vF7zVgA"
      }
    },
    {
      "cell_type": "code",
      "source": [
        "import csv\n",
        "with open('data.csv','w') as f:\n",
        "  csv_writer=csv.writer(f)\n",
        "  csv_writer.writerow(['Name','Age','Score'])\n",
        "  csv_writer.writerow(['Alan','15',90])\n",
        "  csv_writer.writerow(['Blake','16',80])\n",
        "  csv_writer.writerow(['Cath','17',76])\n",
        "  csv_writer.writerow(['Duke','18',60])\n",
        "  csv_writer.writerow(['Estella','19',74])\n",
        "with open('data.csv','r') as f:\n",
        "  csv_reader=csv.reader(f)\n",
        "  next(csv_reader) # to skip the header\n",
        "  for row in csv_reader:\n",
        "    if int(row[2])>75:\n",
        "      print(row)"
      ],
      "metadata": {
        "colab": {
          "base_uri": "https://localhost:8080/"
        },
        "id": "Q1uYsHE82QK5",
        "outputId": "2cd5d0de-98af-493a-d1dd-32776ad29950"
      },
      "execution_count": 6,
      "outputs": [
        {
          "output_type": "stream",
          "name": "stdout",
          "text": [
            "['Alan', '15', '90']\n",
            "['Blake', '16', '80']\n",
            "['Cath', '17', '76']\n"
          ]
        }
      ]
    },
    {
      "cell_type": "markdown",
      "source": [
        "Create a 1D NumPy array of 25 random integers between 10 and 100. Perform the\n",
        "following:\n",
        "• Find the maximum, minimum, and their indices.\n",
        "• Replace all odd numbers in the array with -1."
      ],
      "metadata": {
        "id": "aMgtDVy4zVW8"
      }
    },
    {
      "cell_type": "code",
      "source": [
        "array_1=np.random.randint(10,100,25)\n",
        "print(np.max(array_1),np.argmax(array_1),sep=\" \")\n",
        "print(np.min(array_1),np.argmin(array_1),sep=\" \")\n",
        "for i in range(len(array_1)):\n",
        "  if array_1[i]%2==1:\n",
        "    array_1[i]=-1"
      ],
      "metadata": {
        "colab": {
          "base_uri": "https://localhost:8080/"
        },
        "id": "EWA1BzZUIOm_",
        "outputId": "a0cf26ee-1e5b-400b-d59e-eeabbe00b1d3"
      },
      "execution_count": 32,
      "outputs": [
        {
          "output_type": "stream",
          "name": "stdout",
          "text": [
            "91 10\n",
            "16 3\n"
          ]
        }
      ]
    },
    {
      "cell_type": "markdown",
      "source": [
        "Create a 5x5 matrix with random numbers. Perform the following:\n",
        "• Extract the diagonal elements.\n",
        "• Calculate the sum of all elements above the main diagonal."
      ],
      "metadata": {
        "id": "XtsBpQcgzVNW"
      }
    },
    {
      "cell_type": "code",
      "source": [
        "array_2=np.random.randint(1,100,(5,5))\n",
        "for i in range(array_2.shape[0]):\n",
        "  for j in range(array_2.shape[1]):\n",
        "    if i==j:\n",
        "      print(array_2[i,j], end=' ')\n",
        "sum=0\n",
        "for i in range(array_2.shape[0]):\n",
        "  for j in range(array_2.shape[1]):\n",
        "    if i>j:\n",
        "      sum+=array_2[i,j]\n",
        "print(\"\\n\")\n",
        "print(sum)"
      ],
      "metadata": {
        "colab": {
          "base_uri": "https://localhost:8080/"
        },
        "id": "c1vNZ0ZXLGHQ",
        "outputId": "2f285297-664b-4c52-b7f1-e0fabaf236ed"
      },
      "execution_count": 31,
      "outputs": [
        {
          "output_type": "stream",
          "name": "stdout",
          "text": [
            "50 5 43 15 8 \n",
            "\n",
            "579\n"
          ]
        }
      ]
    },
    {
      "cell_type": "markdown",
      "source": [
        "Generate a 3D NumPy array of shape (3, 4, 5) with random floats. Perform the following:\n",
        "• Calculate the mean, median, and standard deviation of the entire array.\n",
        "• Normalize the array by subtracting the mean and dividing by the standard\n",
        "deviation."
      ],
      "metadata": {
        "id": "Hh6pVUHizVEe"
      }
    },
    {
      "cell_type": "code",
      "source": [
        "array_3=np.random.rand(3,4,5)\n",
        "mean=np.mean(array_3)\n",
        "std_div=np.std(array_3)\n",
        "for i in np.nditer(array_3):\n",
        "  i=(i-mean/std_div)"
      ],
      "metadata": {
        "id": "0ddirnWuRWB1"
      },
      "execution_count": 34,
      "outputs": []
    },
    {
      "cell_type": "markdown",
      "source": [
        "Create two 2D arrays of shape (4, 4) and (4, 1). Use broadcasting to add these arrays\n",
        "element-wise and display the result."
      ],
      "metadata": {
        "id": "2_uxhXaLzU7J"
      }
    },
    {
      "cell_type": "code",
      "source": [
        "array_4=np.random.randint(1,20,(4,4))\n",
        "array_5=np.random.randint(1,10,(4,1))\n",
        "result=array_4+array_5\n",
        "print(result)"
      ],
      "metadata": {
        "colab": {
          "base_uri": "https://localhost:8080/"
        },
        "id": "XrGnWtKaRW3W",
        "outputId": "e250dbb5-2153-4445-b305-11f79b9d1f22"
      },
      "execution_count": 35,
      "outputs": [
        {
          "output_type": "stream",
          "name": "stdout",
          "text": [
            "[[11 14 25 15]\n",
            " [22 25 19 22]\n",
            " [ 5 17  9 18]\n",
            " [23 23  9 18]]\n"
          ]
        }
      ]
    },
    {
      "cell_type": "markdown",
      "source": [
        "Create a Pandas DataFrame with three columns: Product, Price, and Quantity. Populate\n",
        "it with at least 8 rows. Perform the following:\n",
        "• Calculate the total value for each product (Price × Quantity).\n",
        "• Add a new column for the total value and sort the DataFrame by this column."
      ],
      "metadata": {
        "id": "v2nFrO8RzUxR"
      }
    },
    {
      "cell_type": "code",
      "source": [
        "data={\"Product\":[\"a\",\"b\",\"c\",\"d\",\"e\",\"f\",\"g\",\"h\"], \"Price\":[20,45,34,56,21,56,89,54],\"Quantity\":[20,50,60,30,100,70,80,200]}\n",
        "df=pd.DataFrame(data)\n",
        "df[\"Total Values\"]=df[\"Price\"]*df[\"Quantity\"]"
      ],
      "metadata": {
        "id": "NsTx2_tVRXua"
      },
      "execution_count": 36,
      "outputs": []
    },
    {
      "cell_type": "markdown",
      "source": [
        "Load the Titanic dataset from the Kaggle Titanic dataset or any publicly available\n",
        "source. Filter and display rows where:\n",
        "• The passenger age is below 18.\n",
        "• The passenger is female and survived."
      ],
      "metadata": {
        "id": "EXy4VpIMzUoi"
      }
    },
    {
      "cell_type": "code",
      "source": [
        "df=pd.read_csv(\"train_and_test2.csv\")\n",
        "df_1=df[(df[\"Age\"]>18)]\n",
        "df_2=df[(df[\"Sex\"]>18)&(df[\"2urvived\"]==1)]\n",
        "print(df_1)\n",
        "print(df_2)"
      ],
      "metadata": {
        "colab": {
          "base_uri": "https://localhost:8080/"
        },
        "id": "1bbl510lRYU4",
        "outputId": "7ec08479-11dd-442e-9f37-ff163a34cba5"
      },
      "execution_count": 36,
      "outputs": [
        {
          "output_type": "stream",
          "name": "stdout",
          "text": [
            "      Passengerid   Age      Fare  Sex  sibsp  zero  zero.1  zero.2  zero.3  \\\n",
            "0               1  22.0    7.2500    0      1     0       0       0       0   \n",
            "1               2  38.0   71.2833    1      1     0       0       0       0   \n",
            "2               3  26.0    7.9250    1      0     0       0       0       0   \n",
            "3               4  35.0   53.1000    1      1     0       0       0       0   \n",
            "4               5  35.0    8.0500    0      0     0       0       0       0   \n",
            "...           ...   ...       ...  ...    ...   ...     ...     ...     ...   \n",
            "1304         1305  28.0    8.0500    0      0     0       0       0       0   \n",
            "1305         1306  39.0  108.9000    1      0     0       0       0       0   \n",
            "1306         1307  38.5    7.2500    0      0     0       0       0       0   \n",
            "1307         1308  28.0    8.0500    0      0     0       0       0       0   \n",
            "1308         1309  28.0   22.3583    0      1     0       0       0       0   \n",
            "\n",
            "      zero.4  ...  zero.12  zero.13  zero.14  Pclass  zero.15  zero.16  \\\n",
            "0          0  ...        0        0        0       3        0        0   \n",
            "1          0  ...        0        0        0       1        0        0   \n",
            "2          0  ...        0        0        0       3        0        0   \n",
            "3          0  ...        0        0        0       1        0        0   \n",
            "4          0  ...        0        0        0       3        0        0   \n",
            "...      ...  ...      ...      ...      ...     ...      ...      ...   \n",
            "1304       0  ...        0        0        0       3        0        0   \n",
            "1305       0  ...        0        0        0       1        0        0   \n",
            "1306       0  ...        0        0        0       3        0        0   \n",
            "1307       0  ...        0        0        0       3        0        0   \n",
            "1308       0  ...        0        0        0       3        0        0   \n",
            "\n",
            "      Embarked  zero.17  zero.18  2urvived  \n",
            "0          2.0        0        0         0  \n",
            "1          0.0        0        0         1  \n",
            "2          2.0        0        0         1  \n",
            "3          2.0        0        0         1  \n",
            "4          2.0        0        0         0  \n",
            "...        ...      ...      ...       ...  \n",
            "1304       2.0        0        0         0  \n",
            "1305       0.0        0        0         0  \n",
            "1306       2.0        0        0         0  \n",
            "1307       2.0        0        0         0  \n",
            "1308       0.0        0        0         0  \n",
            "\n",
            "[1116 rows x 28 columns]\n",
            "Empty DataFrame\n",
            "Columns: [Passengerid, Age, Fare, Sex, sibsp, zero, zero.1, zero.2, zero.3, zero.4, zero.5, zero.6, Parch, zero.7, zero.8, zero.9, zero.10, zero.11, zero.12, zero.13, zero.14, Pclass, zero.15, zero.16, Embarked, zero.17, zero.18, 2urvived]\n",
            "Index: []\n",
            "\n",
            "[0 rows x 28 columns]\n"
          ]
        }
      ]
    },
    {
      "cell_type": "markdown",
      "source": [
        "Load the Iris dataset from Seaborn library or any other source like Kaggle, etc. Group the\n",
        "data by species and calculate the mean of petal length and sepal width for each group."
      ],
      "metadata": {
        "id": "M8507dagzUd_"
      }
    },
    {
      "cell_type": "code",
      "source": [
        "import seaborn as sns\n",
        "df=sns.load_dataset(\"iris\")\n",
        "grouped_mean=df.groupby(\"species\")[[\"petal_length\",\"sepal_width\"]].mean()\n",
        "grouped_mean.head()"
      ],
      "metadata": {
        "colab": {
          "base_uri": "https://localhost:8080/",
          "height": 175
        },
        "id": "9zqJaFY2RY45",
        "outputId": "2377c47d-ea24-45db-ccdf-d999de7ca168"
      },
      "execution_count": 6,
      "outputs": [
        {
          "output_type": "execute_result",
          "data": {
            "text/plain": [
              "            petal_length  sepal_width\n",
              "species                              \n",
              "setosa             1.462        3.428\n",
              "versicolor         4.260        2.770\n",
              "virginica          5.552        2.974"
            ],
            "text/html": [
              "\n",
              "  <div id=\"df-388a3bf7-fc58-4d2e-bd81-5dbb347eb5ae\" class=\"colab-df-container\">\n",
              "    <div>\n",
              "<style scoped>\n",
              "    .dataframe tbody tr th:only-of-type {\n",
              "        vertical-align: middle;\n",
              "    }\n",
              "\n",
              "    .dataframe tbody tr th {\n",
              "        vertical-align: top;\n",
              "    }\n",
              "\n",
              "    .dataframe thead th {\n",
              "        text-align: right;\n",
              "    }\n",
              "</style>\n",
              "<table border=\"1\" class=\"dataframe\">\n",
              "  <thead>\n",
              "    <tr style=\"text-align: right;\">\n",
              "      <th></th>\n",
              "      <th>petal_length</th>\n",
              "      <th>sepal_width</th>\n",
              "    </tr>\n",
              "    <tr>\n",
              "      <th>species</th>\n",
              "      <th></th>\n",
              "      <th></th>\n",
              "    </tr>\n",
              "  </thead>\n",
              "  <tbody>\n",
              "    <tr>\n",
              "      <th>setosa</th>\n",
              "      <td>1.462</td>\n",
              "      <td>3.428</td>\n",
              "    </tr>\n",
              "    <tr>\n",
              "      <th>versicolor</th>\n",
              "      <td>4.260</td>\n",
              "      <td>2.770</td>\n",
              "    </tr>\n",
              "    <tr>\n",
              "      <th>virginica</th>\n",
              "      <td>5.552</td>\n",
              "      <td>2.974</td>\n",
              "    </tr>\n",
              "  </tbody>\n",
              "</table>\n",
              "</div>\n",
              "    <div class=\"colab-df-buttons\">\n",
              "\n",
              "  <div class=\"colab-df-container\">\n",
              "    <button class=\"colab-df-convert\" onclick=\"convertToInteractive('df-388a3bf7-fc58-4d2e-bd81-5dbb347eb5ae')\"\n",
              "            title=\"Convert this dataframe to an interactive table.\"\n",
              "            style=\"display:none;\">\n",
              "\n",
              "  <svg xmlns=\"http://www.w3.org/2000/svg\" height=\"24px\" viewBox=\"0 -960 960 960\">\n",
              "    <path d=\"M120-120v-720h720v720H120Zm60-500h600v-160H180v160Zm220 220h160v-160H400v160Zm0 220h160v-160H400v160ZM180-400h160v-160H180v160Zm440 0h160v-160H620v160ZM180-180h160v-160H180v160Zm440 0h160v-160H620v160Z\"/>\n",
              "  </svg>\n",
              "    </button>\n",
              "\n",
              "  <style>\n",
              "    .colab-df-container {\n",
              "      display:flex;\n",
              "      gap: 12px;\n",
              "    }\n",
              "\n",
              "    .colab-df-convert {\n",
              "      background-color: #E8F0FE;\n",
              "      border: none;\n",
              "      border-radius: 50%;\n",
              "      cursor: pointer;\n",
              "      display: none;\n",
              "      fill: #1967D2;\n",
              "      height: 32px;\n",
              "      padding: 0 0 0 0;\n",
              "      width: 32px;\n",
              "    }\n",
              "\n",
              "    .colab-df-convert:hover {\n",
              "      background-color: #E2EBFA;\n",
              "      box-shadow: 0px 1px 2px rgba(60, 64, 67, 0.3), 0px 1px 3px 1px rgba(60, 64, 67, 0.15);\n",
              "      fill: #174EA6;\n",
              "    }\n",
              "\n",
              "    .colab-df-buttons div {\n",
              "      margin-bottom: 4px;\n",
              "    }\n",
              "\n",
              "    [theme=dark] .colab-df-convert {\n",
              "      background-color: #3B4455;\n",
              "      fill: #D2E3FC;\n",
              "    }\n",
              "\n",
              "    [theme=dark] .colab-df-convert:hover {\n",
              "      background-color: #434B5C;\n",
              "      box-shadow: 0px 1px 3px 1px rgba(0, 0, 0, 0.15);\n",
              "      filter: drop-shadow(0px 1px 2px rgba(0, 0, 0, 0.3));\n",
              "      fill: #FFFFFF;\n",
              "    }\n",
              "  </style>\n",
              "\n",
              "    <script>\n",
              "      const buttonEl =\n",
              "        document.querySelector('#df-388a3bf7-fc58-4d2e-bd81-5dbb347eb5ae button.colab-df-convert');\n",
              "      buttonEl.style.display =\n",
              "        google.colab.kernel.accessAllowed ? 'block' : 'none';\n",
              "\n",
              "      async function convertToInteractive(key) {\n",
              "        const element = document.querySelector('#df-388a3bf7-fc58-4d2e-bd81-5dbb347eb5ae');\n",
              "        const dataTable =\n",
              "          await google.colab.kernel.invokeFunction('convertToInteractive',\n",
              "                                                    [key], {});\n",
              "        if (!dataTable) return;\n",
              "\n",
              "        const docLinkHtml = 'Like what you see? Visit the ' +\n",
              "          '<a target=\"_blank\" href=https://colab.research.google.com/notebooks/data_table.ipynb>data table notebook</a>'\n",
              "          + ' to learn more about interactive tables.';\n",
              "        element.innerHTML = '';\n",
              "        dataTable['output_type'] = 'display_data';\n",
              "        await google.colab.output.renderOutput(dataTable, element);\n",
              "        const docLink = document.createElement('div');\n",
              "        docLink.innerHTML = docLinkHtml;\n",
              "        element.appendChild(docLink);\n",
              "      }\n",
              "    </script>\n",
              "  </div>\n",
              "\n",
              "\n",
              "<div id=\"df-4fdcf315-a2e0-492e-a112-1e2938d99f27\">\n",
              "  <button class=\"colab-df-quickchart\" onclick=\"quickchart('df-4fdcf315-a2e0-492e-a112-1e2938d99f27')\"\n",
              "            title=\"Suggest charts\"\n",
              "            style=\"display:none;\">\n",
              "\n",
              "<svg xmlns=\"http://www.w3.org/2000/svg\" height=\"24px\"viewBox=\"0 0 24 24\"\n",
              "     width=\"24px\">\n",
              "    <g>\n",
              "        <path d=\"M19 3H5c-1.1 0-2 .9-2 2v14c0 1.1.9 2 2 2h14c1.1 0 2-.9 2-2V5c0-1.1-.9-2-2-2zM9 17H7v-7h2v7zm4 0h-2V7h2v10zm4 0h-2v-4h2v4z\"/>\n",
              "    </g>\n",
              "</svg>\n",
              "  </button>\n",
              "\n",
              "<style>\n",
              "  .colab-df-quickchart {\n",
              "      --bg-color: #E8F0FE;\n",
              "      --fill-color: #1967D2;\n",
              "      --hover-bg-color: #E2EBFA;\n",
              "      --hover-fill-color: #174EA6;\n",
              "      --disabled-fill-color: #AAA;\n",
              "      --disabled-bg-color: #DDD;\n",
              "  }\n",
              "\n",
              "  [theme=dark] .colab-df-quickchart {\n",
              "      --bg-color: #3B4455;\n",
              "      --fill-color: #D2E3FC;\n",
              "      --hover-bg-color: #434B5C;\n",
              "      --hover-fill-color: #FFFFFF;\n",
              "      --disabled-bg-color: #3B4455;\n",
              "      --disabled-fill-color: #666;\n",
              "  }\n",
              "\n",
              "  .colab-df-quickchart {\n",
              "    background-color: var(--bg-color);\n",
              "    border: none;\n",
              "    border-radius: 50%;\n",
              "    cursor: pointer;\n",
              "    display: none;\n",
              "    fill: var(--fill-color);\n",
              "    height: 32px;\n",
              "    padding: 0;\n",
              "    width: 32px;\n",
              "  }\n",
              "\n",
              "  .colab-df-quickchart:hover {\n",
              "    background-color: var(--hover-bg-color);\n",
              "    box-shadow: 0 1px 2px rgba(60, 64, 67, 0.3), 0 1px 3px 1px rgba(60, 64, 67, 0.15);\n",
              "    fill: var(--button-hover-fill-color);\n",
              "  }\n",
              "\n",
              "  .colab-df-quickchart-complete:disabled,\n",
              "  .colab-df-quickchart-complete:disabled:hover {\n",
              "    background-color: var(--disabled-bg-color);\n",
              "    fill: var(--disabled-fill-color);\n",
              "    box-shadow: none;\n",
              "  }\n",
              "\n",
              "  .colab-df-spinner {\n",
              "    border: 2px solid var(--fill-color);\n",
              "    border-color: transparent;\n",
              "    border-bottom-color: var(--fill-color);\n",
              "    animation:\n",
              "      spin 1s steps(1) infinite;\n",
              "  }\n",
              "\n",
              "  @keyframes spin {\n",
              "    0% {\n",
              "      border-color: transparent;\n",
              "      border-bottom-color: var(--fill-color);\n",
              "      border-left-color: var(--fill-color);\n",
              "    }\n",
              "    20% {\n",
              "      border-color: transparent;\n",
              "      border-left-color: var(--fill-color);\n",
              "      border-top-color: var(--fill-color);\n",
              "    }\n",
              "    30% {\n",
              "      border-color: transparent;\n",
              "      border-left-color: var(--fill-color);\n",
              "      border-top-color: var(--fill-color);\n",
              "      border-right-color: var(--fill-color);\n",
              "    }\n",
              "    40% {\n",
              "      border-color: transparent;\n",
              "      border-right-color: var(--fill-color);\n",
              "      border-top-color: var(--fill-color);\n",
              "    }\n",
              "    60% {\n",
              "      border-color: transparent;\n",
              "      border-right-color: var(--fill-color);\n",
              "    }\n",
              "    80% {\n",
              "      border-color: transparent;\n",
              "      border-right-color: var(--fill-color);\n",
              "      border-bottom-color: var(--fill-color);\n",
              "    }\n",
              "    90% {\n",
              "      border-color: transparent;\n",
              "      border-bottom-color: var(--fill-color);\n",
              "    }\n",
              "  }\n",
              "</style>\n",
              "\n",
              "  <script>\n",
              "    async function quickchart(key) {\n",
              "      const quickchartButtonEl =\n",
              "        document.querySelector('#' + key + ' button');\n",
              "      quickchartButtonEl.disabled = true;  // To prevent multiple clicks.\n",
              "      quickchartButtonEl.classList.add('colab-df-spinner');\n",
              "      try {\n",
              "        const charts = await google.colab.kernel.invokeFunction(\n",
              "            'suggestCharts', [key], {});\n",
              "      } catch (error) {\n",
              "        console.error('Error during call to suggestCharts:', error);\n",
              "      }\n",
              "      quickchartButtonEl.classList.remove('colab-df-spinner');\n",
              "      quickchartButtonEl.classList.add('colab-df-quickchart-complete');\n",
              "    }\n",
              "    (() => {\n",
              "      let quickchartButtonEl =\n",
              "        document.querySelector('#df-4fdcf315-a2e0-492e-a112-1e2938d99f27 button');\n",
              "      quickchartButtonEl.style.display =\n",
              "        google.colab.kernel.accessAllowed ? 'block' : 'none';\n",
              "    })();\n",
              "  </script>\n",
              "</div>\n",
              "\n",
              "    </div>\n",
              "  </div>\n"
            ],
            "application/vnd.google.colaboratory.intrinsic+json": {
              "type": "dataframe",
              "variable_name": "grouped_mean",
              "summary": "{\n  \"name\": \"grouped_mean\",\n  \"rows\": 3,\n  \"fields\": [\n    {\n      \"column\": \"species\",\n      \"properties\": {\n        \"dtype\": \"string\",\n        \"num_unique_values\": 3,\n        \"samples\": [\n          \"setosa\",\n          \"versicolor\",\n          \"virginica\"\n        ],\n        \"semantic_type\": \"\",\n        \"description\": \"\"\n      }\n    },\n    {\n      \"column\": \"petal_length\",\n      \"properties\": {\n        \"dtype\": \"number\",\n        \"std\": 2.0907003611230377,\n        \"min\": 1.462,\n        \"max\": 5.5520000000000005,\n        \"num_unique_values\": 3,\n        \"samples\": [\n          1.462,\n          4.26,\n          5.5520000000000005\n        ],\n        \"semantic_type\": \"\",\n        \"description\": \"\"\n      }\n    },\n    {\n      \"column\": \"sepal_width\",\n      \"properties\": {\n        \"dtype\": \"number\",\n        \"std\": 0.3368224062222306,\n        \"min\": 2.77,\n        \"max\": 3.428,\n        \"num_unique_values\": 3,\n        \"samples\": [\n          3.428,\n          2.77,\n          2.9739999999999998\n        ],\n        \"semantic_type\": \"\",\n        \"description\": \"\"\n      }\n    }\n  ]\n}"
            }
          },
          "metadata": {},
          "execution_count": 6
        }
      ]
    },
    {
      "cell_type": "markdown",
      "source": [
        "Create a Pandas DataFrame with random data and intentionally introduce NaN values.\n",
        "Replace the NaN values with the column mean and display the updated DataFrame."
      ],
      "metadata": {
        "id": "ys3WnTCjzUSv"
      }
    },
    {
      "cell_type": "code",
      "source": [
        "data = np.random.rand(6, 4)  # 6 rows, 4 columns\n",
        "\n",
        "data[1, 2] = np.nan\n",
        "data[4, 0] = np.nan\n",
        "data[5, 3] = np.nan\n",
        "\n",
        "# Create a DataFrame\n",
        "df = pd.DataFrame(data, columns=[\"A\", \"B\", \"C\", \"D\"])\n",
        "\n",
        "# Replace NaN values with the column mean\n",
        "df_filled = df.apply(lambda col: col.fillna(col.mean()), axis=0)\n",
        "\n",
        "df, df_filled"
      ],
      "metadata": {
        "colab": {
          "base_uri": "https://localhost:8080/"
        },
        "id": "h8h8VeadRZQ-",
        "outputId": "b74c09c3-4604-40db-f674-7a3193a7de4f"
      },
      "execution_count": 7,
      "outputs": [
        {
          "output_type": "execute_result",
          "data": {
            "text/plain": [
              "(          A         B         C         D\n",
              " 0  0.661708  0.381865  0.280737  0.161680\n",
              " 1  0.640313  0.571810       NaN  0.197236\n",
              " 2  0.181415  0.167815  0.495971  0.790939\n",
              " 3  0.858678  0.723938  0.614458  0.570417\n",
              " 4       NaN  0.886554  0.438192  0.000874\n",
              " 5  0.458049  0.789568  0.128998       NaN,\n",
              "           A         B         C         D\n",
              " 0  0.661708  0.381865  0.280737  0.161680\n",
              " 1  0.640313  0.571810  0.391671  0.197236\n",
              " 2  0.181415  0.167815  0.495971  0.790939\n",
              " 3  0.858678  0.723938  0.614458  0.570417\n",
              " 4  0.560033  0.886554  0.438192  0.000874\n",
              " 5  0.458049  0.789568  0.128998  0.344229)"
            ]
          },
          "metadata": {},
          "execution_count": 7
        }
      ]
    },
    {
      "cell_type": "markdown",
      "source": [
        "Create two DataFrames: one with columns ID and Name, and another with columns ID\n",
        "and Score. Merge the two DataFrames on the ID column and display the resulting\n",
        "DataFrame."
      ],
      "metadata": {
        "id": "Ny4Emd3bzUCh"
      }
    },
    {
      "cell_type": "code",
      "source": [
        "x=pd.DataFrame({\"ID\":[1,2,3,4,5],\"Name\":[\"a\",\"b\",\"c\",\"d\",\"e\"]})\n",
        "y=pd.DataFrame({\"ID\":[1,2,3,4,5],\"Score\":[89,91,93,83,97]})\n",
        "mergerd_df=pd.merge(x,y,on=\"ID\")\n",
        "print(mergerd_df)"
      ],
      "metadata": {
        "colab": {
          "base_uri": "https://localhost:8080/"
        },
        "id": "Gk0VOyGRRaLW",
        "outputId": "54bbae5e-c881-4a94-bc9e-f8603ad871a7"
      },
      "execution_count": 33,
      "outputs": [
        {
          "output_type": "stream",
          "name": "stdout",
          "text": [
            "   ID Name  Score\n",
            "0   1    a     89\n",
            "1   2    b     91\n",
            "2   3    c     93\n",
            "3   4    d     83\n",
            "4   5    e     97\n"
          ]
        }
      ]
    },
    {
      "cell_type": "markdown",
      "source": [
        "Generate a random dataset representing the monthly revenue of a company. Plot a line\n",
        "graph to show the trend, and customize it with:\n",
        "• A title, labeled axes, and a legend."
      ],
      "metadata": {
        "id": "14iISYdwzTs4"
      }
    },
    {
      "cell_type": "code",
      "source": [
        "x=np.array(['January','February','March','April','May','June','July','August','September','October','November','December'])\n",
        "y=np.array([12,31,22,19,33,36,28,41,40,48,38,37])\n",
        "plt.plot(x,y)\n",
        "plt.xticks(x, rotation=45)\n",
        "plt.title(\"Monthly Revenue\")\n",
        "plt.xlabel(\"Month\")\n",
        "plt.ylabel(\"Revenue (in 100 Crores)\")\n",
        "plt.legend([\"Revenue\"])\n",
        "plt.show()"
      ],
      "metadata": {
        "colab": {
          "base_uri": "https://localhost:8080/",
          "height": 522
        },
        "id": "dpH3qL__RaqH",
        "outputId": "6a93c9b2-ad3e-4ab0-9d10-e2117b8bc870"
      },
      "execution_count": 4,
      "outputs": [
        {
          "output_type": "display_data",
          "data": {
            "text/plain": [
              "<Figure size 640x480 with 1 Axes>"
            ],
            "image/png": "[encoded data removed]"
          },
          "metadata": {}
        }
      ]
    },
    {
      "cell_type": "markdown",
      "source": [
        "Create a dataset representing the sales of five products in two different regions. Use a\n",
        "grouped bar chart to display the comparison between the regions for each product.\n",
        "Ensure that the plot is customized with:\n",
        "• A title, labeled axes, and a legend."
      ],
      "metadata": {
        "id": "_LdMiERLzTZw"
      }
    },
    {
      "cell_type": "code",
      "source": [
        "products =[\"a\",\"b\",\"c\",\"d\",\"e\"]\n",
        "y=np.array([81,63,72,66,71])\n",
        "z=np.array([101,93,62,103,41])\n",
        "\n",
        "bar_width = 0.4\n",
        "x = np.arange(len(products))\n",
        "\n",
        "plt.bar(x -bar_width/2, y, width=bar_width, label='Region A', color='b')\n",
        "plt.bar(x +bar_width/2, z, width=bar_width, label='Region B', color='r')\n",
        "\n",
        "plt.xlabel('Categories')\n",
        "plt.ylabel('Values')\n",
        "plt.xticks(x, products)\n",
        "plt.legend()\n",
        "\n",
        "plt.tight_layout()\n",
        "plt.show()\n"
      ],
      "metadata": {
        "colab": {
          "base_uri": "https://localhost:8080/",
          "height": 487
        },
        "id": "o-Ug8FlfRbF2",
        "outputId": "36bfe9e3-13ce-4985-f56b-fa472fae5a5f"
      },
      "execution_count": 26,
      "outputs": [
        {
          "output_type": "display_data",
          "data": {
            "text/plain": [
              "<Figure size 640x480 with 1 Axes>"
            ],
            "image/png": "[encoded data removed]"
          },
          "metadata": {}
        }
      ]
    },
    {
      "cell_type": "markdown",
      "source": [
        "Load the Iris dataset from Seaborn library or any other source like Kaggle, etc. Create a\n",
        "scatter plot comparing any two features of the flowers (e.g., petal length vs petal width,\n",
        "sepal length vs sepal width). Customize the plot to use different colors for each species\n",
        "and add labels and a title."
      ],
      "metadata": {
        "id": "RvQ4GWeMzPhK"
      }
    },
    {
      "cell_type": "code",
      "source": [
        "import seaborn as sns\n",
        "df=sns.load_dataset(\"iris\")\n",
        "plt.figure(figsize=(8, 6))\n",
        "sns.scatterplot(data=df, x='petal_length', y='petal_width', hue='species', palette='Set1', s=100)\n",
        "plt.xlabel('Petal Length')\n",
        "plt.ylabel('Petal Width')\n",
        "plt.title('Scatter plot')\n",
        "plt.show()"
      ],
      "metadata": {
        "colab": {
          "base_uri": "https://localhost:8080/",
          "height": 564
        },
        "id": "PdT9fj0iRbn7",
        "outputId": "2083835d-d188-4349-a758-00a90f5b1635"
      },
      "execution_count": 32,
      "outputs": [
        {
          "output_type": "display_data",
          "data": {
            "text/plain": [
              "<Figure size 800x600 with 1 Axes>"
            ],
            "image/png": "[encoded data removed]"
          },
          "metadata": {}
        }
      ]
    }
  ]
}
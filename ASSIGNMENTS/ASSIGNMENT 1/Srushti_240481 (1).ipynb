{
 "cells": [
  {
   "cell_type": "code",
   "execution_count": 1,
   "id": "be951a2e-8a8b-4a14-b258-32e90da3e490",
   "metadata": {},
   "outputs": [
    {
     "name": "stdout",
     "output_type": "stream",
     "text": [
      "0\n",
      "1\n",
      "1\n",
      "2\n",
      "3\n",
      "5\n",
      "8\n"
     ]
    }
   ],
   "source": [
    "def fibonacci_sequence(limit):\n",
    "\n",
    "    a, b = 0, 1\n",
    "    while a <= limit:\n",
    "        print(a)\n",
    "        a, b = b, a + b\n",
    "fibonacci_sequence(10)"
   ]
  },
  {
   "cell_type": "code",
   "execution_count": null,
   "id": "ab788c42-75dc-4666-962d-ec8ede568f5a",
   "metadata": {},
   "outputs": [],
   "source": [
    "squares = [num**2 for num in range(1, 21)]\n",
    "cubes = {num: num**3 for num in range(1, 11)}\n",
    "print(squares)\n",
    "print(cubes)"
   ]
  },
  {
   "cell_type": "code",
   "execution_count": null,
   "id": "cd783a48-8dca-4c15-840a-188c902fa7f3",
   "metadata": {},
   "outputs": [],
   "source": [
    "import csv\n",
    "data = [\n",
    "    [\"prakash\", 30, 85],\n",
    "    [\"aditya\", 25, 60],\n",
    "    [\"srushti\", 35, 90],\n",
    "    [\"prem\", 40, 70],\n",
    "    [\"Eve\", 28, 80],\n",
    "    [\"Frank\", 33, 95],\n",
    "]\n",
    "\n",
    "with open(\"data.csv\", \"w\", newline=\"\") as file:\n",
    "    writer = csv.writer(file)\n",
    "    writer.writerow([\"Name\", \"Age\", \"Score\"])  #  the header row\n",
    "    writer.writerows(data)\n",
    "\n",
    "\n",
    "with open(\"data.csv\", \"r\") as file:\n",
    "    reader = csv.reader(file)\n",
    "    next(reader)\n",
    "    for row in reader:\n",
    "        name, age, score = row\n",
    "        if int(score) > 75:\n",
    "            print(row)"
   ]
  },
  {
   "cell_type": "code",
   "execution_count": null,
   "id": "e3ec02ea-18bb-486f-be75-b2c997f1c4b6",
   "metadata": {},
   "outputs": [],
   "source": [
    "import numpy as np\n",
    "array = np.random.randint(10, 101, 25)\n",
    "max_value = np.max(array)\n",
    "min_value = np.min(array)\n",
    "max_index = np.argmax(array)\n",
    "min_index = np.argmin(array)\n",
    "\n",
    "print(\"Original array:\", array)\n",
    "print(\"Maximum value:\", max_value)\n",
    "print(\"Index of maximum value:\", max_index)\n",
    "print(\"Minimum value:\", min_value)\n",
    "print(\"Index of minimum value:\", min_index)\n",
    "odd_numbers = array % 2 != 0\n",
    "array[odd_numbers] = -1\n",
    "print(\"Array after replacing odd numbers:\", array)"
   ]
  },
  {
   "cell_type": "code",
   "execution_count": null,
   "id": "e0af0c7c-66f4-4ce6-8920-14e12f82a428",
   "metadata": {},
   "outputs": [],
   "source": [
    "import numpy as np\n",
    "matrix = np.random.randint(1, 101, size=(5, 5))\n",
    "diagonal_elements = np.diag(matrix)\n",
    "upper_triangle_sum = np.sum(np.triu(matrix, k=1))\n",
    "print(\"Original Matrix:\\n\", matrix)\n",
    "print(\"\\nDiagonal Elements:\", diagonal_elements)\n",
    "print(\"\\nSum of elements above the main diagonal:\", upper_triangle_sum)"
   ]
  },
  {
   "cell_type": "code",
   "execution_count": null,
   "id": "7d88aae1-b733-43b0-a3ef-2019623b1cb3",
   "metadata": {},
   "outputs": [],
   "source": [
    "import numpy as np\n",
    "array_3d = np.random.rand(3, 4, 5)\n",
    "mean_value = np.mean(array_3d)\n",
    "median_value = np.median(array_3d)\n",
    "std_dev_value = np.std(array_3d)\n",
    "\n",
    "print(\"Original 3D Array:\\n\", array_3d)\n",
    "print(\"\\nMean:\", mean_value)\n",
    "print(\"Median:\", median_value)\n",
    "print(\"Standard Deviation:\", std_dev_value)\n",
    "normalized_array = (array_3d - mean_value) / std_dev_value\n",
    "print(\"\\nNormalized Array:\\n\", normalized_array)"
   ]
  },
  {
   "cell_type": "code",
   "execution_count": null,
   "id": "aa061d03-0c89-4a3d-9fa4-46ee92b4fe96",
   "metadata": {},
   "outputs": [],
   "source": [
    "import numpy as np\n",
    "array_2d_1 = np.random.randint(1, 10, size=(4, 4))\n",
    "array_2d_2 = np.random.randint(1, 10, size=(4, 1))\n",
    "\n",
    "print(f\"Array 1 with shape {array_2d_1.shape}:\\n\", array_2d_1)\n",
    "print(f\"\\nArray 2 with shape {array_2d_2.shape}:\\n\", array_2d_2)\n",
    "result_array = array_2d_1 + array_2d_2\n",
    "print(f\"\\nResult with shape {result_array.shape}:\\n\", result_array)"
   ]
  },
  {
   "cell_type": "code",
   "execution_count": null,
   "id": "fd2a6c14-98bc-4a7c-9c45-c2f610354007",
   "metadata": {},
   "outputs": [],
   "source": [
    "import pandas as pd\n",
    "data = {\n",
    "    \"Product\": [\"Laptop\", \"Mouse\", \"Keyboard\", \"Monitor\", \"Headphones\", \"Webcam\", \"USB Cable\", \"Speaker\"],\n",
    "    \"Price\": [1200, 25, 75, 300, 100, 50, 10, 150],\n",
    "    \"Quantity\": [5, 20, 10, 3, 8, 15, 30, 6],\n",
    "}\n",
    "df = pd.DataFrame(data)\n",
    "df[\"Total Value\"] = df[\"Price\"] * df[\"Quantity\"]\n",
    "df_sorted = df.sort_values(by=\"Total Value\", ascending=False)\n",
    "print(\"Original DataFrame:\")\n",
    "print(df)\n",
    "print(\"\\nSorted DataFrame by Total Value:\")\n",
    "print(df_sorted)"
   ]
  },
  {
   "cell_type": "code",
   "execution_count": null,
   "id": "9f71083b-5a67-4bce-aca1-45ae84ffb9ab",
   "metadata": {},
   "outputs": [],
   "source": [
    "import kagglehub\n",
    "path = kagglehub.dataset_download(\"vinicius150987/titanic3\")\n",
    "df_below_18 = df[df['Age'] < 18]\n",
    "print(\"Passengers with age below 18:\\n\", df_below_18)\n",
    "df_female_survived = df[(df['Sex'] == 'female') & (df['Survived'] == 1)]\n",
    "print(\"\\nFemale passengers who survived:\\n\", df_female_survived)"
   ]
  },
  {
   "cell_type": "code",
   "execution_count": null,
   "id": "525159b9-ffda-4452-9e26-d3b3e0a29c35",
   "metadata": {},
   "outputs": [],
   "source": [
    "import seaborn as sns\n",
    "import pandas as pd\n",
    "iris_df = sns.load_dataset('iris')\n",
    "grouped_data = iris_df.groupby('species').agg({'petal_length': 'mean', 'sepal_width': 'mean'})\n",
    "print(grouped_data)\n"
   ]
  },
  {
   "cell_type": "code",
   "execution_count": null,
   "id": "3f66d21d-3e4f-4573-b9f1-8ce685e93ad9",
   "metadata": {},
   "outputs": [],
   "source": [
    "import pandas as pd\n",
    "import numpy as np\n",
    "data = np.random.rand(5, 4)\n",
    "df = pd.DataFrame(data, columns=['A', 'B', 'C', 'D'])\n",
    "df.iloc[0, 0] = np.nan\n",
    "df.iloc[2, 1] = np.nan\n",
    "df.iloc[4, 3] = np.nan\n",
    "\n",
    "print(\"Original DataFrame with NaN values:\")\n",
    "print(df)\n",
    "df = df.fillna(df.mean())\n",
    "print(\"\\nDataFrame after replacing NaN with column mean:\")\n",
    "print(df)"
   ]
  },
  {
   "cell_type": "code",
   "execution_count": null,
   "id": "b0b2945d-6d97-44ea-805a-1d2b0e6b2f26",
   "metadata": {},
   "outputs": [],
   "source": [
    "import pandas as pd\n",
    "data1 = {'ID': [1, 2, 3, 4, 5],\n",
    "         'Name': ['Alice', 'Bob', 'Charlie', 'David', 'Eve']}\n",
    "df1 = pd.DataFrame(data1)\n",
    "data2 = {'ID': [3, 4, 5, 6, 7],\n",
    "         'Score': [85, 92, 78, 88, 95]}\n",
    "df2 = pd.DataFrame(data2)\n",
    "merged_df = pd.merge(df1, df2, on='ID', how = 'outer')\n",
    "print(\"Merged DataFrame:\")\n",
    "print(merged_df)"
   ]
  },
  {
   "cell_type": "code",
   "execution_count": null,
   "id": "0a7cc4d5-1de0-45a1-865a-082ec9d06bf0",
   "metadata": {},
   "outputs": [],
   "source": [
    "import matplotlib.pyplot as plt\n",
    "import pandas as pd\n",
    "import numpy as np\n",
    "np.random.seed(42)  \n",
    "months = ['Jan', 'Feb', 'Mar', 'Apr', 'May', 'Jun', 'Jul', 'Aug', 'Sep', 'Oct', 'Nov', 'Dec']\n",
    "revenue = np.random.randint(50000, 150000, size=12)\n",
    "df = pd.DataFrame({'Month': months, 'Revenue': revenue})\n",
    "plt.figure(figsize=(10, 6))\n",
    "plt.plot(df['Month'], df['Revenue'], marker='o', linestyle='-', color='b', label='Monthly Revenue')\n",
    "plt.title('Monthly Revenue Trend')\n",
    "plt.xlabel('Month')\n",
    "plt.ylabel('Revenue ($)')\n",
    "plt.legend()\n",
    "plt.xticks(rotation=45) \n",
    "plt.grid(True)  \n",
    "plt.show()"
   ]
  },
  {
   "cell_type": "code",
   "execution_count": null,
   "id": "ce53f65f-a6b3-4cfd-aee4-f680b28b6b5d",
   "metadata": {},
   "outputs": [],
   "source": [
    "import matplotlib.pyplot as plt\n",
    "import pandas as pd\n",
    "import numpy as np\n",
    "\n",
    "data = {\n",
    "    'Product': ['Product A', 'Product B', 'Product C', 'Product D', 'Product E'] * 2,\n",
    "    'Region': ['Region 1'] * 5 + ['Region 2'] * 5,\n",
    "    'Sales': np.random.randint(50, 200, size=10)  \n",
    "}\n",
    "df = pd.DataFrame(data)\n",
    "\n",
    "pivot_df = pd.pivot_table(df, values='Sales', index='Product', columns='Region')\n",
    "ax = pivot_df.plot(kind='bar', figsize=(10, 6))\n",
    "plt.title('Sales Comparison of Products in Two Regions')\n",
    "plt.xlabel('Product')\n",
    "plt.ylabel('Sales')\n",
    "plt.xticks(rotation=0)\n",
    "plt.xlim(-1, len(pivot_df))\n",
    "plt.show()"
   ]
  },
  {
   "cell_type": "code",
   "execution_count": null,
   "id": "65758436-55fa-43d2-be0e-a9aaf4d02c0e",
   "metadata": {},
   "outputs": [],
   "source": [
    "import seaborn as sns\n",
    "import matplotlib.pyplot as plt\n",
    "import pandas as pd\n",
    "iris_df = sns.load_dataset('iris')\n",
    "plt.figure(figsize=(10, 6))\n",
    "for species, group in iris_df.groupby('species'):\n",
    "    plt.scatter(group['petal_length'], group['petal_width'], label=species)\n",
    "plt.title('Scatter Plot of Petal Length vs Petal Width')\n",
    "plt.xlabel('Petal Length (cm)')\n",
    "plt.ylabel('Petal Width (cm)')\n",
    "plt.legend()\n",
    "plt.show()"
   ]
  }
 ],
 "metadata": {
  "kernelspec": {
   "display_name": "Python 3 (ipykernel)",
   "language": "python",
   "name": "python3"
  },
  "language_info": {
   "codemirror_mode": {
    "name": "ipython",
    "version": 3
   },
   "file_extension": ".py",
   "mimetype": "text/x-python",
   "name": "python",
   "nbconvert_exporter": "python",
   "pygments_lexer": "ipython3",
   "version": "3.12.7"
  }
 },
 "nbformat": 4,
 "nbformat_minor": 5
}

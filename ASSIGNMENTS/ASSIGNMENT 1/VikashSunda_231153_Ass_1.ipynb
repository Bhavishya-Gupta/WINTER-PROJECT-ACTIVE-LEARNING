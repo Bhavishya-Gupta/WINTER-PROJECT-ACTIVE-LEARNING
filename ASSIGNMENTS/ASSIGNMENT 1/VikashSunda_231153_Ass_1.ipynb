{
 "cells": [
  {
   "cell_type": "markdown",
   "id": "df61f3b3-6f1c-43a1-955e-d6b98716f9e8",
   "metadata": {},
   "source": [
    "## Assigment 1"
   ]
  },
  {
   "cell_type": "code",
   "execution_count": 1,
   "id": "7b9a6f8b",
   "metadata": {},
   "outputs": [],
   "source": [
    "import numpy as np\n",
    "import pandas as pd"
   ]
  },
  {
   "cell_type": "markdown",
   "id": "f82f2057-19e5-457d-8978-3f325a3d5429",
   "metadata": {},
   "source": [
    "**Q1**"
   ]
  },
  {
   "cell_type": "code",
   "execution_count": 2,
   "id": "92b66f94-54d2-41d3-9210-73887dff5e4c",
   "metadata": {},
   "outputs": [
    {
     "name": "stdout",
     "output_type": "stream",
     "text": [
      "[0, 1, 1, 2, 3, 5, 8, 13, 21, 34]\n"
     ]
    }
   ],
   "source": [
    "def generate_fibonacci(n):\n",
    "    \n",
    "    fib_sequence = [0, 1]\n",
    "    \n",
    "    for i in range(2, n):\n",
    "        \n",
    "        fib_sequence.append(fib_sequence[-1] + fib_sequence[-2])\n",
    "        \n",
    "    return fib_sequence[:n]\n",
    "\n",
    "\n",
    "print(generate_fibonacci(10))\n"
   ]
  },
  {
   "cell_type": "markdown",
   "id": "9096f6c8-8e31-4da2-a66b-5da9e6a5c6bf",
   "metadata": {},
   "source": [
    "**Q2**\n"
   ]
  },
  {
   "cell_type": "code",
   "execution_count": 3,
   "id": "84cfd41f-09ad-4213-9d81-c3a130c85099",
   "metadata": {},
   "outputs": [
    {
     "name": "stdout",
     "output_type": "stream",
     "text": [
      "List of squares: [1, 4, 9, 16, 25, 36, 49, 64, 81, 100, 121, 144, 169, 196, 225, 256, 289, 324, 361, 400]\n",
      "Dictionary of cubes: {1: 1, 2: 8, 3: 27, 4: 64, 5: 125, 6: 216, 7: 343, 8: 512, 9: 729, 10: 1000}\n"
     ]
    }
   ],
   "source": [
    "# List of squares\n",
    "\n",
    "squares = [x**2 for x in range(1, 21)]\n",
    "print(\"List of squares:\", squares)\n",
    "\n",
    "# Dictionary of cubes\n",
    "\n",
    "cubes = {x : x**3 for x in range(1,11)}\n",
    "print(\"Dictionary of cubes:\", cubes)\n"
   ]
  },
  {
   "cell_type": "markdown",
   "id": "f5573551",
   "metadata": {},
   "source": [
    "**Q3**"
   ]
  },
  {
   "cell_type": "code",
   "execution_count": 4,
   "id": "660448ee",
   "metadata": {},
   "outputs": [
    {
     "name": "stdout",
     "output_type": "stream",
     "text": [
      "Rows with score > 75:\n",
      "['Ellis', '19', '85']\n",
      "['Joss', '25', '90']\n",
      "['Warner', '25', '80']\n"
     ]
    }
   ],
   "source": [
    "import csv\n",
    "\n",
    "file_name = 'data.csv'\n",
    "data = [\n",
    "    [\"Name\", \"Age\", \"Score\"],\n",
    "    [\"Ellis\", 19, 85],\n",
    "    [\"Joss\", 25, 90],\n",
    "    [\"Warner\", 25, 80],\n",
    "    [\"Sachin\", 23, 65],\n",
    "    [\"Kohli\", 28, 71]\n",
    "]\n",
    "\n",
    "with open(\"data.csv\", \"w\", newline=\"\") as file:\n",
    "    writer = csv.writer(file)\n",
    "    writer.writerows(data)\n",
    "\n",
    "\n",
    "with open(\"data.csv\", \"r\") as file:\n",
    "    reader = csv.reader(file)\n",
    "\n",
    "    next(reader) \n",
    "    print(\"Rows with score > 75:\")\n",
    "    for row in reader:\n",
    "        if int(row[2]) > 75:\n",
    "            print(row)"
   ]
  },
  {
   "cell_type": "markdown",
   "id": "1fc631cd",
   "metadata": {},
   "source": [
    "**Q4**"
   ]
  },
  {
   "cell_type": "code",
   "execution_count": 5,
   "id": "63d8cb1f",
   "metadata": {},
   "outputs": [
    {
     "name": "stdout",
     "output_type": "stream",
     "text": [
      "Array: [56 50 73 21 41 31 83 37 38 94 26 41 33 25 11 57 11 61 11 36 92 25 86 68\n",
      " 22]\n",
      "Max Value: 94 Index: 9\n",
      "Min Value: 11 Index: 14\n",
      "New Array: [56 50 -1 -1 -1 -1 -1 -1 38 94 26 -1 -1 -1 -1 -1 -1 -1 -1 36 92 -1 86 68\n",
      " 22]\n"
     ]
    }
   ],
   "source": [
    "\n",
    "array = np.random.randint(10, 100, 25)\n",
    "\n",
    "print(\"Array:\", array)\n",
    "\n",
    "maximum_val = array.max()\n",
    "minimum_val = array.min()\n",
    "maximum_index = array.argmax()\n",
    "minimum_index = array.argmin()\n",
    "\n",
    "print(\"Max Value:\", maximum_val, \"Index:\", maximum_index)\n",
    "print(\"Min Value:\", minimum_val, \"Index:\", minimum_index)\n",
    "\n",
    "# Replace with -1\n",
    "\n",
    "array[array % 2 != 0] = -1\n",
    "print(\"New Array:\", array)\n"
   ]
  },
  {
   "cell_type": "markdown",
   "id": "986aee1e",
   "metadata": {},
   "source": [
    "**Q5**"
   ]
  },
  {
   "cell_type": "code",
   "execution_count": 6,
   "id": "86c42e44",
   "metadata": {},
   "outputs": [
    {
     "name": "stdout",
     "output_type": "stream",
     "text": [
      "Matrix: [[15 92 97 33 36]\n",
      " [76 18  4  6 93]\n",
      " [52 57 89 17 10]\n",
      " [71 58 71 64 64]\n",
      " [82 65 98 67 38]]\n",
      "Diagonal_elemnets [15 18 89 64 38]\n",
      "Sum of elements Above Diagonal: 452\n"
     ]
    }
   ],
   "source": [
    "# create an matrix\n",
    "matrix = np.random.randint(1, 100, (5,5))\n",
    "print('Matrix:',matrix)\n",
    "\n",
    "diag_elements = np.diagonal(matrix)\n",
    "print('Diagonal_elemnets',diag_elements)\n",
    "\n",
    "sum_above_diagonal = 0\n",
    "for i in range(matrix.shape[0]):\n",
    "    for j in range(i + 1, matrix.shape[1]):\n",
    "        sum_above_diagonal += matrix[i, j]\n",
    "\n",
    "print(\"Sum of elements Above Diagonal:\", sum_above_diagonal)\n"
   ]
  },
  {
   "cell_type": "markdown",
   "id": "d73038f3",
   "metadata": {},
   "source": [
    "**Q6**"
   ]
  },
  {
   "cell_type": "code",
   "execution_count": 7,
   "id": "529850f8",
   "metadata": {},
   "outputs": [
    {
     "name": "stdout",
     "output_type": "stream",
     "text": [
      "3D_Array [[[0.76222573 0.66360188 0.32472255 0.96805926 0.42821904]\n",
      "  [0.40502454 0.70826949 0.04157007 0.70778029 0.51560978]\n",
      "  [0.3319105  0.58279953 0.29597737 0.74268271 0.29776923]\n",
      "  [0.74899849 0.37151228 0.13314315 0.42669352 0.28885293]]\n",
      "\n",
      " [[0.18183627 0.97749955 0.71650714 0.35780016 0.91225952]\n",
      "  [0.10779629 0.68417337 0.70882671 0.12480015 0.63018844]\n",
      "  [0.67223037 0.05976212 0.78337031 0.68722811 0.82697807]\n",
      "  [0.93274898 0.66683767 0.56678169 0.57795943 0.65622265]]\n",
      "\n",
      " [[0.80071302 0.05888248 0.25884614 0.12018353 0.28760105]\n",
      "  [0.62130783 0.5351675  0.91314009 0.18741866 0.4052999 ]\n",
      "  [0.50561872 0.93761651 0.21932181 0.3942031  0.84389331]\n",
      "  [0.43151689 0.50661635 0.43401108 0.5357236  0.28260774]]]\n",
      "Mean: 0.5142819777348928\n",
      "Median: 0.5253886397523874\n",
      "Standard Deviation: 0.25878561676896805\n",
      "Normalized Array: [214.40804445 191.22283008  -5.85149204  -5.85149204  -5.85149204\n",
      "  -5.85149204  -5.85149204  -5.85149204 144.85240134 361.24773544\n",
      "  98.48197261  -5.85149204  -5.85149204  -5.85149204  -5.85149204\n",
      "  -5.85149204  -5.85149204  -5.85149204  -5.85149204 137.12399655\n",
      " 353.51933065  -5.85149204 330.33411628 260.77847318  83.02516303]\n"
     ]
    }
   ],
   "source": [
    "array_3d = np.random.rand(3,4,5)\n",
    "print(\"3D_Array\",array_3d)\n",
    "\n",
    "mean = np.mean(array_3d)\n",
    "median = np.median(array_3d)\n",
    "std_dev = np.std(array_3d)\n",
    "\n",
    "print(\"Mean:\", mean)\n",
    "print(\"Median:\", median)\n",
    "print(\"Standard Deviation:\",std_dev)\n",
    "\n",
    "normalized_array = (array - mean)/std_dev\n",
    "print(\"Normalized Array:\",normalized_array)"
   ]
  },
  {
   "cell_type": "markdown",
   "id": "cd5ef93f",
   "metadata": {},
   "source": [
    "**Q7**"
   ]
  },
  {
   "cell_type": "code",
   "execution_count": 8,
   "id": "f0eb3198",
   "metadata": {},
   "outputs": [
    {
     "name": "stdout",
     "output_type": "stream",
     "text": [
      "Array 1: [[1 1 1 9]\n",
      " [5 9 4 7]\n",
      " [2 1 3 1]\n",
      " [3 8 8 2]]\n",
      "Array 2: [[6]\n",
      " [3]\n",
      " [3]\n",
      " [9]]\n",
      "Final array: [[ 7  7  7 15]\n",
      " [ 8 12  7 10]\n",
      " [ 5  4  6  4]\n",
      " [12 17 17 11]]\n"
     ]
    }
   ],
   "source": [
    "arr_1 = np.random.randint(1, 10, (4,4))\n",
    "arr_2 = np.random.randint(1, 10, (4,1))\n",
    "\n",
    "print(\"Array 1:\", arr_1)\n",
    "print(\"Array 2:\", arr_2)\n",
    "\n",
    "sum_array = arr_1 + arr_2\n",
    "print(\"Final array:\",sum_array)"
   ]
  },
  {
   "cell_type": "markdown",
   "id": "2cfc2752",
   "metadata": {},
   "source": [
    "**Q8**"
   ]
  },
  {
   "cell_type": "code",
   "execution_count": 9,
   "id": "b9452ecb",
   "metadata": {},
   "outputs": [
    {
     "name": "stdout",
     "output_type": "stream",
     "text": [
      "DataFrame:\n",
      "   Product  Price  Quantity\n",
      "0       A    100         2\n",
      "1       B    200         4\n",
      "2       C    150         5\n",
      "3       D     80         3\n",
      "4       E    120         1\n",
      "5       F    300         2\n",
      "6       G    220         6\n",
      "7       H     90         3\n",
      "DataFrame updated:\n",
      "   Product  Price  Quantity  Total Value\n",
      "0       A    100         2          200\n",
      "1       B    200         4          800\n",
      "2       C    150         5          750\n",
      "3       D     80         3          240\n",
      "4       E    120         1          120\n",
      "5       F    300         2          600\n",
      "6       G    220         6         1320\n",
      "7       H     90         3          270\n",
      "Sorted DataFrame:\n",
      "   Product  Price  Quantity  Total Value\n",
      "6       G    220         6         1320\n",
      "1       B    200         4          800\n",
      "2       C    150         5          750\n",
      "5       F    300         2          600\n",
      "7       H     90         3          270\n",
      "3       D     80         3          240\n",
      "0       A    100         2          200\n",
      "4       E    120         1          120\n"
     ]
    }
   ],
   "source": [
    "data = {\n",
    "    \"Product\": [\"A\", \"B\", \"C\", \"D\", \"E\", \"F\", \"G\", \"H\"],\n",
    "    \"Price\": [100, 200, 150, 80, 120, 300, 220, 90],\n",
    "    \"Quantity\": [2, 4, 5, 3, 1, 2, 6, 3]\n",
    "}\n",
    "df = pd.DataFrame(data)\n",
    "print(\"DataFrame:\\n\", df)\n",
    "\n",
    "# Calculate total value \n",
    "df[\"Total Value\"] = df[\"Price\"] * df[\"Quantity\"]\n",
    "print(\"DataFrame updated:\\n\", df)\n",
    "\n",
    "# Sort by Total Value\n",
    "sorted_df = df.sort_values(by=\"Total Value\", ascending=False)\n",
    "print(\"Sorted DataFrame:\\n\", sorted_df)"
   ]
  },
  {
   "cell_type": "markdown",
   "id": "8d3cd9c9",
   "metadata": {},
   "source": [
    "**Q9**"
   ]
  },
  {
   "cell_type": "code",
   "execution_count": 10,
   "id": "7a1bd651",
   "metadata": {},
   "outputs": [
    {
     "name": "stdout",
     "output_type": "stream",
     "text": [
      "Passengers under 18:\n",
      "\n",
      "     Survived  Pclass                                 Name     Sex   Age  \\\n",
      "7           0       3        Master. Gosta Leonard Palsson    male   2.0   \n",
      "9           1       2   Mrs. Nicholas (Adele Achem) Nasser  female  14.0   \n",
      "10          1       3       Miss. Marguerite Rut Sandstrom  female   4.0   \n",
      "14          0       3  Miss. Hulda Amanda Adolfina Vestrom  female  14.0   \n",
      "16          0       3                  Master. Eugene Rice    male   2.0   \n",
      "..        ...     ...                                  ...     ...   ...   \n",
      "849         1       1             Miss. Mary Conover Lines  female  16.0   \n",
      "859         0       3             Miss. Dorothy Edith Sage  female  14.0   \n",
      "865         1       3       Master. Harold Theodor Johnson    male   4.0   \n",
      "871         1       3             Miss. Adele Kiamie Najib  female  15.0   \n",
      "884         0       3       Miss. Catherine Helen Johnston  female   7.0   \n",
      "\n",
      "     Siblings/Spouses Aboard  Parents/Children Aboard     Fare  \n",
      "7                          3                        1  21.0750  \n",
      "9                          1                        0  30.0708  \n",
      "10                         1                        1  16.7000  \n",
      "14                         0                        0   7.8542  \n",
      "16                         4                        1  29.1250  \n",
      "..                       ...                      ...      ...  \n",
      "849                        0                        1  39.4000  \n",
      "859                        8                        2  69.5500  \n",
      "865                        1                        1  11.1333  \n",
      "871                        0                        0   7.2250  \n",
      "884                        1                        2  23.4500  \n",
      "\n",
      "[130 rows x 8 columns]\n"
     ]
    }
   ],
   "source": [
    "\n",
    "titanic = 'https://web.stanford.edu/class/archive/cs/cs109/cs109.1166/stuff/titanic.csv'\n",
    "df = pd.read_csv(titanic)\n",
    "\n",
    "# passengers below 18 years\n",
    "age_below_18 = df[df['Age'] < 18]\n",
    "print(\"Passengers under 18:\\n\")\n",
    "print(age_below_18)\n"
   ]
  },
  {
   "cell_type": "code",
   "execution_count": 11,
   "id": "fba38304",
   "metadata": {},
   "outputs": [
    {
     "name": "stdout",
     "output_type": "stream",
     "text": [
      "Female Survivors:\n",
      "\n",
      "     Survived  Pclass                                               Name  \\\n",
      "1           1       1  Mrs. John Bradley (Florence Briggs Thayer) Cum...   \n",
      "2           1       3                              Miss. Laina Heikkinen   \n",
      "3           1       1        Mrs. Jacques Heath (Lily May Peel) Futrelle   \n",
      "8           1       3   Mrs. Oscar W (Elisabeth Vilhelmina Berg) Johnson   \n",
      "9           1       2                 Mrs. Nicholas (Adele Achem) Nasser   \n",
      "..        ...     ...                                                ...   \n",
      "870         1       2               Mrs. Samuel (Hannah Wizosky) Abelson   \n",
      "871         1       3                           Miss. Adele Kiamie Najib   \n",
      "875         1       1       Mrs. Thomas Jr (Lily Alexenia Wilson) Potter   \n",
      "876         1       2        Mrs. William (Imanita Parrish Hall) Shelley   \n",
      "883         1       1                        Miss. Margaret Edith Graham   \n",
      "\n",
      "        Sex   Age  Siblings/Spouses Aboard  Parents/Children Aboard     Fare  \n",
      "1    female  38.0                        1                        0  71.2833  \n",
      "2    female  26.0                        0                        0   7.9250  \n",
      "3    female  35.0                        1                        0  53.1000  \n",
      "8    female  27.0                        0                        2  11.1333  \n",
      "9    female  14.0                        1                        0  30.0708  \n",
      "..      ...   ...                      ...                      ...      ...  \n",
      "870  female  28.0                        1                        0  24.0000  \n",
      "871  female  15.0                        0                        0   7.2250  \n",
      "875  female  56.0                        0                        1  83.1583  \n",
      "876  female  25.0                        0                        1  26.0000  \n",
      "883  female  19.0                        0                        0  30.0000  \n",
      "\n",
      "[233 rows x 8 columns]\n"
     ]
    }
   ],
   "source": [
    "# female passengers who survived\n",
    "female_survivors = df[(df['Sex'] == 'female') & (df['Survived'] == 1)]\n",
    "print(\"Female Survivors:\\n\")\n",
    "print(female_survivors)\n"
   ]
  },
  {
   "cell_type": "markdown",
   "id": "9e182fa4",
   "metadata": {},
   "source": [
    "**Q10**"
   ]
  },
  {
   "cell_type": "code",
   "execution_count": 12,
   "id": "0521f2d9",
   "metadata": {},
   "outputs": [
    {
     "name": "stdout",
     "output_type": "stream",
     "text": [
      "\n",
      "Mean Petal Length and Sepal Width by Species:\n",
      "            petal_length  sepal_width\n",
      "species                              \n",
      "setosa             1.462        3.428\n",
      "versicolor         4.260        2.770\n",
      "virginica          5.552        2.974\n"
     ]
    }
   ],
   "source": [
    "import seaborn as sns\n",
    "\n",
    "iris = sns.load_dataset(\"iris\")\n",
    "\n",
    "grouped_data = iris.groupby(\"species\")\n",
    "\n",
    "grouped = grouped_data[[\"petal_length\", \"sepal_width\"]].mean()\n",
    "\n",
    "print(\"\\nMean Petal Length and Sepal Width by Species:\")\n",
    "print(grouped)"
   ]
  },
  {
   "cell_type": "markdown",
   "id": "35c18953",
   "metadata": {},
   "source": [
    "**Q11**"
   ]
  },
  {
   "cell_type": "code",
   "execution_count": 13,
   "id": "dd6febe2",
   "metadata": {},
   "outputs": [
    {
     "name": "stdout",
     "output_type": "stream",
     "text": [
      "Original DataFrame:\n",
      "      A    B     C\n",
      "0  1.0  NaN  10.0\n",
      "1  2.0  1.0  20.0\n",
      "2  NaN  2.0  30.0\n",
      "3  4.0  NaN  40.0\n",
      "4  5.0  5.0   NaN\n",
      "DataFrame after replacing NaN with column means:\n",
      "      A         B     C\n",
      "0  1.0  2.666667  10.0\n",
      "1  2.0  1.000000  20.0\n",
      "2  3.0  2.000000  30.0\n",
      "3  4.0  2.666667  40.0\n",
      "4  5.0  5.000000  25.0\n"
     ]
    }
   ],
   "source": [
    "\n",
    "data = {\n",
    "    \"A\": [1, 2, np.nan, 4, 5],\n",
    "    \"B\": [np.nan, 1, 2, np.nan, 5],\n",
    "    \"C\": [10, 20, 30, 40, np.nan]\n",
    "}\n",
    "df = pd.DataFrame(data)\n",
    "print(\"Original DataFrame:\\n\", df)\n",
    "\n",
    "# Replace NaN values\n",
    "df = df.apply(lambda column: column.fillna(column.mean()), axis=0)\n",
    "print(\"DataFrame after replacing NaN with column means:\\n\", df)\n"
   ]
  },
  {
   "cell_type": "markdown",
   "id": "298a782e",
   "metadata": {},
   "source": [
    "**Q12**"
   ]
  },
  {
   "cell_type": "code",
   "execution_count": 14,
   "id": "b5a4a163",
   "metadata": {},
   "outputs": [
    {
     "name": "stdout",
     "output_type": "stream",
     "text": [
      "Merged DataFrame:\n",
      "    ID    Name  Score\n",
      "0   1   Virat     85\n",
      "1   2  Sachin     90\n",
      "2   3   Rohit     75\n",
      "3   4   Dhoni     99\n"
     ]
    }
   ],
   "source": [
    "\n",
    "df1 = pd.DataFrame({\n",
    "    \"ID\": [1, 2, 3,4],\n",
    "    \"Name\": [\"Virat\", \"Sachin\", \"Rohit\", \"Dhoni\"]\n",
    "})\n",
    "\n",
    "df2 = pd.DataFrame({\n",
    "    \"ID\": [1, 2, 3, 4],\n",
    "    \"Score\": [85, 90, 75, 99]\n",
    "})\n",
    "\n",
    "# Merge DataFrames\n",
    "merged_df = pd.merge(df1, df2, on=\"ID\")\n",
    "print(\"Merged DataFrame:\\n\", merged_df)\n"
   ]
  },
  {
   "cell_type": "markdown",
   "id": "fc82a896",
   "metadata": {},
   "source": [
    "**Q13**"
   ]
  },
  {
   "cell_type": "code",
   "execution_count": 15,
   "id": "2b3f7dba",
   "metadata": {},
   "outputs": [
    {
     "data": {
      "image/png": "[encoded data removed]",
      "text/plain": [
       "<Figure size 640x480 with 1 Axes>"
      ]
     },
     "metadata": {},
     "output_type": "display_data"
    }
   ],
   "source": [
    "import matplotlib.pyplot as plt\n",
    "\n",
    "# random monthly revenue data\n",
    "months = [\"Jan\", \"Feb\", \"Mar\", \"Apr\", \"May\", \"Jun\"]\n",
    "revenue = np.random.randint(5000, 15000, size=len(months))\n",
    "\n",
    "# line plot\n",
    "plt.plot(months, revenue, marker=\"*\", label=\"Monthly Revenue\", color = 'r')\n",
    "plt.title(\"Monthly Revenue\", fontsize=14)\n",
    "plt.xlabel(\"month\", fontsize=12)\n",
    "plt.ylabel(\"Revenue (USD)\", fontsize=12)\n",
    "plt.legend()\n",
    "plt.grid(False)\n",
    "plt.show()\n"
   ]
  },
  {
   "cell_type": "markdown",
   "id": "a8519fc4",
   "metadata": {},
   "source": [
    "**Q14**"
   ]
  },
  {
   "cell_type": "code",
   "execution_count": 16,
   "id": "b2adc64e",
   "metadata": {},
   "outputs": [
    {
     "data": {
      "image/png": "[encoded data removed]",
      "text/plain": [
       "<Figure size 640x480 with 1 Axes>"
      ]
     },
     "metadata": {},
     "output_type": "display_data"
    }
   ],
   "source": [
    "# Sales data\n",
    "products = [\"Prd 1\", \"Prd 2\", \"Prd 3\", \"Prd 4\", \"Prd 5\"]\n",
    "regionA_sales = [20, 35, 30, 35, 27]\n",
    "regionB_sales = [25, 32, 34, 20, 25]\n",
    "\n",
    "\n",
    "bar_width = 0.40\n",
    "x = np.arange(len(products))\n",
    "\n",
    "plt.bar(x, regionA_sales, width=bar_width, label=\"Region A\")\n",
    "plt.bar(x + bar_width, regionB_sales, width=bar_width, label=\"Region B\")\n",
    "plt.xlabel(\"Products\", fontsize=14)\n",
    "plt.ylabel(\"Sales\", fontsize=14)\n",
    "plt.title(\"Sales Comparison by Region\", fontsize=16)\n",
    "plt.legend()\n",
    "plt.show()\n"
   ]
  },
  {
   "cell_type": "markdown",
   "id": "e970e760",
   "metadata": {},
   "source": [
    "**Q15**"
   ]
  },
  {
   "cell_type": "code",
   "execution_count": 17,
   "id": "2a80f993",
   "metadata": {},
   "outputs": [
    {
     "data": {
      "image/png": "[encoded data removed]",
      "text/plain": [
       "<Figure size 640x480 with 1 Axes>"
      ]
     },
     "metadata": {},
     "output_type": "display_data"
    }
   ],
   "source": [
    "# Load Iris dataset\n",
    "iris = sns.load_dataset(\"iris\")\n",
    "\n",
    "# Scatter plot: petal length vs petal width\n",
    "sns.scatterplot(data=iris, x=\"petal_length\", y=\"petal_width\", hue=\"species\", style=\"species\", palette=\"dark\")\n",
    "plt.title(\"Petal Length vs Petal Width\", fontsize=16)\n",
    "plt.xlabel(\"Petal Length (cm)\", fontsize=12)\n",
    "plt.ylabel(\"Petal Width (cm)\", fontsize=12)\n",
    "plt.legend()\n",
    "plt.show()\n"
   ]
  }
 ],
 "metadata": {
  "kernelspec": {
   "display_name": "Python 3",
   "language": "python",
   "name": "python3"
  },
  "language_info": {
   "codemirror_mode": {
    "name": "ipython",
    "version": 3
   },
   "file_extension": ".py",
   "mimetype": "text/x-python",
   "name": "python",
   "nbconvert_exporter": "python",
   "pygments_lexer": "ipython3",
   "version": "3.13.1"
  }
 },
 "nbformat": 4,
 "nbformat_minor": 5
}

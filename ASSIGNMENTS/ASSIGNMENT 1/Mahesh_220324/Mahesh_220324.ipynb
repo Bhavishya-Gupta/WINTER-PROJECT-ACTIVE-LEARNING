{
 "cells": [
  {
   "cell_type": "code",
   "execution_count": 52,
   "metadata": {
    "id": "KTxT_ZakDJNa"
   },
   "outputs": [],
   "source": [
    "import numpy as np\n",
    "import pandas as pd"
   ]
  },
  {
   "cell_type": "markdown",
   "metadata": {
    "id": "a4mUePPURKnW"
   },
   "source": [
    "Question 1: Control Flow and Loops"
   ]
  },
  {
   "cell_type": "code",
   "execution_count": 55,
   "metadata": {
    "colab": {
     "base_uri": "https://localhost:8080/"
    },
    "id": "lFgdsQ42N4SX",
    "outputId": "0b6eee6c-e54a-4d96-8a4b-9b9ae7677723"
   },
   "outputs": [
    {
     "name": "stdout",
     "output_type": "stream",
     "text": [
      "[0, 1, 1, 2, 3, 5, 8, 13, 21, 34]\n"
     ]
    }
   ],
   "source": [
    "def Fibonacci(n):\n",
    "  Fibonacci_series=[]\n",
    "  a, b = 0, 1\n",
    "  for i in range(n):\n",
    "      Fibonacci_series.append(a)\n",
    "      a, b = b, a + b\n",
    "  return Fibonacci_series\n",
    "n=10\n",
    "print(Fibonacci(n))\n",
    "\n"
   ]
  },
  {
   "cell_type": "markdown",
   "metadata": {
    "id": "6-HhtqMGRTAI"
   },
   "source": [
    "Question 2: List and Dictionary Comprehension"
   ]
  },
  {
   "cell_type": "code",
   "execution_count": 58,
   "metadata": {
    "colab": {
     "base_uri": "https://localhost:8080/"
    },
    "id": "bw3olKYg_dxM",
    "outputId": "85418bba-4578-48ec-e1b1-b0fdbfde7bd3"
   },
   "outputs": [
    {
     "name": "stdout",
     "output_type": "stream",
     "text": [
      "list of squares from 1 to 20 :  [1, 4, 9, 16, 25, 36, 49, 64, 81, 100, 121, 144, 169, 196, 225, 256, 289, 324, 361, 400]\n",
      "dictionary of cubes of numbers from 1 to 10 :  {1: 1, 2: 8, 3: 27, 4: 64, 5: 125, 6: 216, 7: 343, 8: 512, 9: 729, 10: 1000}\n"
     ]
    }
   ],
   "source": [
    "#list of squares\n",
    "a=[(x+1)**2 for x in range(20)]\n",
    "print(\"list of squares from 1 to 20 : \",a)\n",
    "#dictionary containing cubes of 1 to 10\n",
    "b={x:(x)**3 for x in range(1,11)}\n",
    "print(\"dictionary of cubes of numbers from 1 to 10 : \",b)"
   ]
  },
  {
   "cell_type": "markdown",
   "metadata": {
    "id": "mR8HIw62RZnH"
   },
   "source": [
    "Question 3: File Handling"
   ]
  },
  {
   "cell_type": "code",
   "execution_count": 61,
   "metadata": {
    "colab": {
     "base_uri": "https://localhost:8080/"
    },
    "id": "-TIweYq7B8Do",
    "outputId": "ddbad799-14cd-4f25-b875-db618704ca07"
   },
   "outputs": [
    {
     "name": "stdout",
     "output_type": "stream",
     "text": [
      "     Name  Age  Score\n",
      "0  Mahesh   23     85\n",
      "2   Pavan   25     90\n",
      "4   Komal   22     78\n"
     ]
    }
   ],
   "source": [
    "import pandas as pd\n",
    "\n",
    "# Creating a DataFrame with the data\n",
    "data = {\n",
    "    'Name': ['Mahesh','Ramesh','Pavan','Jagan','Komal'],\n",
    "    'Age': [23, 30, 25, 28, 22],\n",
    "    'Score': [85, 60, 90, 72, 78]\n",
    "}\n",
    "\n",
    "df = pd.DataFrame(data)\n",
    "\n",
    "# Write the DataFrame to a CSV file\n",
    "df.to_csv('data.csv', index=False)\n",
    "\n",
    "# Read the CSV file and filter rows where 'Score' is above 75\n",
    "df = pd.read_csv('data.csv')\n",
    "filtered_df = df[df['Score'] > 75]\n",
    "\n",
    "# Print the filtered rows\n",
    "print(filtered_df)\n"
   ]
  },
  {
   "cell_type": "markdown",
   "metadata": {
    "id": "IyE85VJZSIrU"
   },
   "source": [
    "Question 4: Array Operations"
   ]
  },
  {
   "cell_type": "code",
   "execution_count": 64,
   "metadata": {
    "colab": {
     "base_uri": "https://localhost:8080/"
    },
    "id": "UDzgL_xWG04Y",
    "outputId": "8148aaa0-dc09-4e2b-a0b6-5c3c756a3eb0"
   },
   "outputs": [
    {
     "name": "stdout",
     "output_type": "stream",
     "text": [
      "1d numpy array of 25 random integers from 10 to 100 : [ 92  96  84  84  97  33  12  31  62  11  97  39  47  11  73  69  30  42\n",
      "  85  67  31  98  58 100  68]\n",
      "maximum of z is : 100 and it's index is : 23\n",
      "minimum of z is : 11 and it's index is : 9\n",
      "after replacing : [ 92  96  84  84  -1  -1  12  -1  62  -1  -1  -1  -1  -1  -1  -1  30  42\n",
      "  -1  -1  -1  98  58 100  68]\n"
     ]
    }
   ],
   "source": [
    "import numpy as np\n",
    "z=np.random.randint(10,101,size=(25))\n",
    "print(f\"1d numpy array of 25 random integers from 10 to 100 : {z}\")\n",
    "print(f\"maximum of z is : {z.max()} and it's index is : {z.argmax()}\")\n",
    "print(f\"minimum of z is : {z.min()} and it's index is : {z.argmin()}\")\n",
    "#replacing all odd numbers with -1.\n",
    "z[z%2!=0]=-1\n",
    "print(f\"after replacing : {z}\")"
   ]
  },
  {
   "cell_type": "markdown",
   "metadata": {
    "id": "-hAZv-aFSXhF"
   },
   "source": [
    "Question 5: Matrix Manipulation"
   ]
  },
  {
   "cell_type": "code",
   "execution_count": 67,
   "metadata": {
    "colab": {
     "base_uri": "https://localhost:8080/"
    },
    "id": "3QPX1osKP06V",
    "outputId": "14b178a5-cc38-4167-b7fc-e4ec082baf71"
   },
   "outputs": [
    {
     "name": "stdout",
     "output_type": "stream",
     "text": [
      "Matrix:\n",
      "[[7 4 8 5 7]\n",
      " [3 7 8 5 4]\n",
      " [8 8 3 6 5]\n",
      " [2 8 6 2 5]\n",
      " [1 6 9 1 3]]\n",
      "\n",
      "Diagonal Elements:\n",
      "[7 7 3 2 3]\n",
      "\n",
      "Sum of elements above the main diagonal: 57\n"
     ]
    }
   ],
   "source": [
    "import numpy as np\n",
    "\n",
    "# Step 1: Create a 5x5 matrix with random numbers\n",
    "np.random.seed(42)  # For reproducibility\n",
    "matrix = np.random.randint(1, 10, size=(5, 5))\n",
    "\n",
    "# Display the matrix\n",
    "print(\"Matrix:\")\n",
    "print(matrix)\n",
    "\n",
    "# Step 2: Extract the diagonal elements\n",
    "diagonal_elements = np.diagonal(matrix)\n",
    "print(\"\\nDiagonal Elements:\")\n",
    "print(diagonal_elements)\n",
    "\n",
    "# Step 3: Calculate the sum of all elements above the main diagonal\n",
    "# Using numpy.triu to mask elements below the diagonal\n",
    "upper_triangle = np.triu(matrix, k=1)  # k=1 excludes the diagonal\n",
    "\n",
    "# Sum the elements above the main diagonal\n",
    "sum_above_diagonal = upper_triangle.sum()\n",
    "print(\"\\nSum of elements above the main diagonal:\", sum_above_diagonal)\n"
   ]
  },
  {
   "cell_type": "markdown",
   "metadata": {
    "id": "Njn4MyJMSx4g"
   },
   "source": [
    "Question 6: Statistical Functions"
   ]
  },
  {
   "cell_type": "code",
   "execution_count": 70,
   "metadata": {
    "colab": {
     "base_uri": "https://localhost:8080/"
    },
    "id": "VL5cOf84QKXf",
    "outputId": "afdea852-c8a0-434f-bb92-948f3b3adaec"
   },
   "outputs": [
    {
     "name": "stdout",
     "output_type": "stream",
     "text": [
      "3D Array:\n",
      "[[[0.37454012 0.95071431 0.73199394 0.59865848 0.15601864]\n",
      "  [0.15599452 0.05808361 0.86617615 0.60111501 0.70807258]\n",
      "  [0.02058449 0.96990985 0.83244264 0.21233911 0.18182497]\n",
      "  [0.18340451 0.30424224 0.52475643 0.43194502 0.29122914]]\n",
      "\n",
      " [[0.61185289 0.13949386 0.29214465 0.36636184 0.45606998]\n",
      "  [0.78517596 0.19967378 0.51423444 0.59241457 0.04645041]\n",
      "  [0.60754485 0.17052412 0.06505159 0.94888554 0.96563203]\n",
      "  [0.80839735 0.30461377 0.09767211 0.68423303 0.44015249]]\n",
      "\n",
      " [[0.12203823 0.49517691 0.03438852 0.9093204  0.25877998]\n",
      "  [0.66252228 0.31171108 0.52006802 0.54671028 0.18485446]\n",
      "  [0.96958463 0.77513282 0.93949894 0.89482735 0.59789998]\n",
      "  [0.92187424 0.0884925  0.19598286 0.04522729 0.32533033]]]\n",
      "\n",
      "Mean of the array: 0.4675007693451606\n",
      "Median of the array: 0.4481112389783186\n",
      "Standard Deviation of the array: 0.3028743268301762\n",
      "\n",
      "Normalized Array:\n",
      "[[[-0.30692813  1.59542587  0.87327696  0.43304336 -1.02842038]\n",
      "  [-1.02850001 -1.3517724   1.31630627  0.44115407  0.79429581]\n",
      "  [-1.47558322  1.6588038   1.20492838 -0.84246711 -0.94321564]\n",
      "  [-0.93800047 -0.53903059  0.18904099 -0.1173944  -0.58199594]]\n",
      "\n",
      " [[ 0.47660733 -1.08298023 -0.57897321 -0.33393034 -0.03774102]\n",
      "  [ 1.04886801 -0.88428422  0.15430053  0.41242782 -1.39018173]\n",
      "  [ 0.46238347 -0.98052763 -1.32876623  1.58938783  1.64467972]\n",
      "  [ 1.12553805 -0.53780392 -1.22106307  0.71558478 -0.09029579]]\n",
      "\n",
      " [[-1.14061346  0.0913783  -1.43000647  1.45875564 -0.68913331]\n",
      "  [ 0.64390243 -0.51437075  0.17356127  0.261526   -0.93321318]\n",
      "  [ 1.65773     1.01570859  1.55839611  1.41090394  0.430539  ]\n",
      "  [ 1.50020462 -1.25137139 -0.89647053 -1.39422012 -0.46940406]]]\n"
     ]
    }
   ],
   "source": [
    "import numpy as np\n",
    "\n",
    "# Step 1: Generate a 3D NumPy array of shape (3, 4, 5) with random floats\n",
    "np.random.seed(42)  # For reproducibility\n",
    "array_3d = np.random.rand(3, 4, 5)  # Random floats in the range [0, 1)\n",
    "\n",
    "# Display the generated array\n",
    "print(\"3D Array:\")\n",
    "print(array_3d)\n",
    "\n",
    "# Step 2: Calculate the mean, median, and standard deviation of the entire array\n",
    "mean = np.mean(array_3d)\n",
    "median = np.median(array_3d)\n",
    "std_dev = np.std(array_3d)\n",
    "\n",
    "print(\"\\nMean of the array:\", mean)\n",
    "print(\"Median of the array:\", median)\n",
    "print(\"Standard Deviation of the array:\", std_dev)\n",
    "\n",
    "# Step 3: Normalize the array\n",
    "normalized_array = (array_3d - mean) / std_dev\n",
    "\n",
    "print(\"\\nNormalized Array:\")\n",
    "print(normalized_array)\n"
   ]
  },
  {
   "cell_type": "markdown",
   "metadata": {
    "id": "j6Vr6sXWS2ln"
   },
   "source": [
    "Question 7: Broadcasting and Indexing"
   ]
  },
  {
   "cell_type": "code",
   "execution_count": 73,
   "metadata": {
    "colab": {
     "base_uri": "https://localhost:8080/"
    },
    "id": "4bRG-yNqQu5y",
    "outputId": "77fd1fb8-ee00-43c4-bb87-bb573fa2a9a1"
   },
   "outputs": [
    {
     "name": "stdout",
     "output_type": "stream",
     "text": [
      "Array (4, 4):\n",
      "[[2 5 8 9]\n",
      " [9 1 9 7]\n",
      " [9 8 1 8]\n",
      " [8 3 1 8]]\n",
      "\n",
      "Array (4, 1):\n",
      "[[3]\n",
      " [3]\n",
      " [1]\n",
      " [5]]\n",
      "\n",
      "Result of broadcasting addition:\n",
      "[[ 5  8 11 12]\n",
      " [12  4 12 10]\n",
      " [10  9  2  9]\n",
      " [13  8  6 13]]\n"
     ]
    }
   ],
   "source": [
    "import numpy as np\n",
    "\n",
    "# Create two 2D arrays of shape (4, 4) and (4, 1)\n",
    "array_4x4 = np.random.randint(1, 10, size=(4, 4))  # A (4, 4) array with random integers between 1 and 9\n",
    "array_4x1 = np.random.randint(1, 10, size=(4, 1))  # A (4, 1) array with random integers between 1 and 9\n",
    "\n",
    "# Display the arrays\n",
    "print(\"Array (4, 4):\")\n",
    "print(array_4x4)\n",
    "\n",
    "print(\"\\nArray (4, 1):\")\n",
    "print(array_4x1)\n",
    "\n",
    "# Add the arrays using broadcasting\n",
    "result = array_4x4 + array_4x1\n",
    "\n",
    "# Display the result\n",
    "print(\"\\nResult of broadcasting addition:\")\n",
    "print(result)\n"
   ]
  },
  {
   "cell_type": "markdown",
   "metadata": {
    "id": "1VzpY1YSVh_3"
   },
   "source": [
    "Question 8: DataFrame Creation and Basic Operations"
   ]
  },
  {
   "cell_type": "code",
   "execution_count": 76,
   "metadata": {
    "colab": {
     "base_uri": "https://localhost:8080/"
    },
    "id": "iTonyXJCU3nZ",
    "outputId": "ac63ea29-57b4-4d4c-9eac-33d06e5211e5"
   },
   "outputs": [
    {
     "name": "stdout",
     "output_type": "stream",
     "text": [
      "     Product  Price  Quantity  Total Value\n",
      "4     Grapes    2.0        25         50.0\n",
      "5  Pineapple    3.0         6         18.0\n",
      "6      Peach    1.0        18         18.0\n",
      "3      Mango    1.5         8         12.0\n",
      "2     Orange    0.7        15         10.5\n",
      "7      Lemon    0.6        12          7.2\n",
      "1     Banana    0.3        20          6.0\n",
      "0      Apple    0.5        10          5.0\n"
     ]
    }
   ],
   "source": [
    "import pandas as pd\n",
    "\n",
    "# Creating a DataFrame with Product, Price, and Quantity columns\n",
    "data = {\n",
    "    'Product': ['Apple', 'Banana', 'Orange', 'Mango', 'Grapes', 'Pineapple', 'Peach', 'Lemon'],\n",
    "    'Price': [0.5, 0.3, 0.7, 1.5, 2.0, 3.0, 1.0, 0.6],\n",
    "    'Quantity': [10, 20, 15, 8, 25, 6, 18, 12]\n",
    "}\n",
    "\n",
    "df = pd.DataFrame(data)\n",
    "\n",
    "# Calculating total value (Price × Quantity) for each product\n",
    "df['Total Value'] = df['Price'] * df['Quantity']\n",
    "\n",
    "# Sorting the DataFrame by the Total Value column in descending order\n",
    "df_sorted = df.sort_values(by='Total Value', ascending=False)\n",
    "\n",
    "# Displaying the sorted DataFrame\n",
    "print(df_sorted)\n"
   ]
  },
  {
   "cell_type": "markdown",
   "metadata": {
    "id": "x4ilcIePVxYP"
   },
   "source": [
    "Question 9: Data Filtering"
   ]
  },
  {
   "cell_type": "code",
   "execution_count": 79,
   "metadata": {
    "colab": {
     "base_uri": "https://localhost:8080/",
     "height": 441
    },
    "id": "iyay9mTtXEEW",
    "outputId": "f196bea4-59cd-4e9d-b3fb-0efa02675d75"
   },
   "outputs": [
    {
     "name": "stdout",
     "output_type": "stream",
     "text": [
      "Information of the passengers of age below 18.\n"
     ]
    },
    {
     "data": {
      "text/html": [
       "<div>\n",
       "<style scoped>\n",
       "    .dataframe tbody tr th:only-of-type {\n",
       "        vertical-align: middle;\n",
       "    }\n",
       "\n",
       "    .dataframe tbody tr th {\n",
       "        vertical-align: top;\n",
       "    }\n",
       "\n",
       "    .dataframe thead th {\n",
       "        text-align: right;\n",
       "    }\n",
       "</style>\n",
       "<table border=\"1\" class=\"dataframe\">\n",
       "  <thead>\n",
       "    <tr style=\"text-align: right;\">\n",
       "      <th></th>\n",
       "      <th>PassengerId</th>\n",
       "      <th>Survived</th>\n",
       "      <th>Pclass</th>\n",
       "      <th>Name</th>\n",
       "      <th>Sex</th>\n",
       "      <th>Age</th>\n",
       "      <th>SibSp</th>\n",
       "      <th>Parch</th>\n",
       "      <th>Ticket</th>\n",
       "      <th>Fare</th>\n",
       "      <th>Cabin</th>\n",
       "      <th>Embarked</th>\n",
       "    </tr>\n",
       "  </thead>\n",
       "  <tbody>\n",
       "    <tr>\n",
       "      <th>7</th>\n",
       "      <td>8</td>\n",
       "      <td>0</td>\n",
       "      <td>3</td>\n",
       "      <td>Palsson, Master. Gosta Leonard</td>\n",
       "      <td>male</td>\n",
       "      <td>2.0</td>\n",
       "      <td>3</td>\n",
       "      <td>1</td>\n",
       "      <td>349909</td>\n",
       "      <td>21.0750</td>\n",
       "      <td>NaN</td>\n",
       "      <td>S</td>\n",
       "    </tr>\n",
       "    <tr>\n",
       "      <th>9</th>\n",
       "      <td>10</td>\n",
       "      <td>1</td>\n",
       "      <td>2</td>\n",
       "      <td>Nasser, Mrs. Nicholas (Adele Achem)</td>\n",
       "      <td>female</td>\n",
       "      <td>14.0</td>\n",
       "      <td>1</td>\n",
       "      <td>0</td>\n",
       "      <td>237736</td>\n",
       "      <td>30.0708</td>\n",
       "      <td>NaN</td>\n",
       "      <td>C</td>\n",
       "    </tr>\n",
       "    <tr>\n",
       "      <th>10</th>\n",
       "      <td>11</td>\n",
       "      <td>1</td>\n",
       "      <td>3</td>\n",
       "      <td>Sandstrom, Miss. Marguerite Rut</td>\n",
       "      <td>female</td>\n",
       "      <td>4.0</td>\n",
       "      <td>1</td>\n",
       "      <td>1</td>\n",
       "      <td>PP 9549</td>\n",
       "      <td>16.7000</td>\n",
       "      <td>G6</td>\n",
       "      <td>S</td>\n",
       "    </tr>\n",
       "    <tr>\n",
       "      <th>14</th>\n",
       "      <td>15</td>\n",
       "      <td>0</td>\n",
       "      <td>3</td>\n",
       "      <td>Vestrom, Miss. Hulda Amanda Adolfina</td>\n",
       "      <td>female</td>\n",
       "      <td>14.0</td>\n",
       "      <td>0</td>\n",
       "      <td>0</td>\n",
       "      <td>350406</td>\n",
       "      <td>7.8542</td>\n",
       "      <td>NaN</td>\n",
       "      <td>S</td>\n",
       "    </tr>\n",
       "    <tr>\n",
       "      <th>16</th>\n",
       "      <td>17</td>\n",
       "      <td>0</td>\n",
       "      <td>3</td>\n",
       "      <td>Rice, Master. Eugene</td>\n",
       "      <td>male</td>\n",
       "      <td>2.0</td>\n",
       "      <td>4</td>\n",
       "      <td>1</td>\n",
       "      <td>382652</td>\n",
       "      <td>29.1250</td>\n",
       "      <td>NaN</td>\n",
       "      <td>Q</td>\n",
       "    </tr>\n",
       "    <tr>\n",
       "      <th>...</th>\n",
       "      <td>...</td>\n",
       "      <td>...</td>\n",
       "      <td>...</td>\n",
       "      <td>...</td>\n",
       "      <td>...</td>\n",
       "      <td>...</td>\n",
       "      <td>...</td>\n",
       "      <td>...</td>\n",
       "      <td>...</td>\n",
       "      <td>...</td>\n",
       "      <td>...</td>\n",
       "      <td>...</td>\n",
       "    </tr>\n",
       "    <tr>\n",
       "      <th>850</th>\n",
       "      <td>851</td>\n",
       "      <td>0</td>\n",
       "      <td>3</td>\n",
       "      <td>Andersson, Master. Sigvard Harald Elias</td>\n",
       "      <td>male</td>\n",
       "      <td>4.0</td>\n",
       "      <td>4</td>\n",
       "      <td>2</td>\n",
       "      <td>347082</td>\n",
       "      <td>31.2750</td>\n",
       "      <td>NaN</td>\n",
       "      <td>S</td>\n",
       "    </tr>\n",
       "    <tr>\n",
       "      <th>852</th>\n",
       "      <td>853</td>\n",
       "      <td>0</td>\n",
       "      <td>3</td>\n",
       "      <td>Boulos, Miss. Nourelain</td>\n",
       "      <td>female</td>\n",
       "      <td>9.0</td>\n",
       "      <td>1</td>\n",
       "      <td>1</td>\n",
       "      <td>2678</td>\n",
       "      <td>15.2458</td>\n",
       "      <td>NaN</td>\n",
       "      <td>C</td>\n",
       "    </tr>\n",
       "    <tr>\n",
       "      <th>853</th>\n",
       "      <td>854</td>\n",
       "      <td>1</td>\n",
       "      <td>1</td>\n",
       "      <td>Lines, Miss. Mary Conover</td>\n",
       "      <td>female</td>\n",
       "      <td>16.0</td>\n",
       "      <td>0</td>\n",
       "      <td>1</td>\n",
       "      <td>PC 17592</td>\n",
       "      <td>39.4000</td>\n",
       "      <td>D28</td>\n",
       "      <td>S</td>\n",
       "    </tr>\n",
       "    <tr>\n",
       "      <th>869</th>\n",
       "      <td>870</td>\n",
       "      <td>1</td>\n",
       "      <td>3</td>\n",
       "      <td>Johnson, Master. Harold Theodor</td>\n",
       "      <td>male</td>\n",
       "      <td>4.0</td>\n",
       "      <td>1</td>\n",
       "      <td>1</td>\n",
       "      <td>347742</td>\n",
       "      <td>11.1333</td>\n",
       "      <td>NaN</td>\n",
       "      <td>S</td>\n",
       "    </tr>\n",
       "    <tr>\n",
       "      <th>875</th>\n",
       "      <td>876</td>\n",
       "      <td>1</td>\n",
       "      <td>3</td>\n",
       "      <td>Najib, Miss. Adele Kiamie \"Jane\"</td>\n",
       "      <td>female</td>\n",
       "      <td>15.0</td>\n",
       "      <td>0</td>\n",
       "      <td>0</td>\n",
       "      <td>2667</td>\n",
       "      <td>7.2250</td>\n",
       "      <td>NaN</td>\n",
       "      <td>C</td>\n",
       "    </tr>\n",
       "  </tbody>\n",
       "</table>\n",
       "<p>113 rows × 12 columns</p>\n",
       "</div>"
      ],
      "text/plain": [
       "     PassengerId  Survived  Pclass                                     Name  \\\n",
       "7              8         0       3           Palsson, Master. Gosta Leonard   \n",
       "9             10         1       2      Nasser, Mrs. Nicholas (Adele Achem)   \n",
       "10            11         1       3          Sandstrom, Miss. Marguerite Rut   \n",
       "14            15         0       3     Vestrom, Miss. Hulda Amanda Adolfina   \n",
       "16            17         0       3                     Rice, Master. Eugene   \n",
       "..           ...       ...     ...                                      ...   \n",
       "850          851         0       3  Andersson, Master. Sigvard Harald Elias   \n",
       "852          853         0       3                  Boulos, Miss. Nourelain   \n",
       "853          854         1       1                Lines, Miss. Mary Conover   \n",
       "869          870         1       3          Johnson, Master. Harold Theodor   \n",
       "875          876         1       3         Najib, Miss. Adele Kiamie \"Jane\"   \n",
       "\n",
       "        Sex   Age  SibSp  Parch    Ticket     Fare Cabin Embarked  \n",
       "7      male   2.0      3      1    349909  21.0750   NaN        S  \n",
       "9    female  14.0      1      0    237736  30.0708   NaN        C  \n",
       "10   female   4.0      1      1   PP 9549  16.7000    G6        S  \n",
       "14   female  14.0      0      0    350406   7.8542   NaN        S  \n",
       "16     male   2.0      4      1    382652  29.1250   NaN        Q  \n",
       "..      ...   ...    ...    ...       ...      ...   ...      ...  \n",
       "850    male   4.0      4      2    347082  31.2750   NaN        S  \n",
       "852  female   9.0      1      1      2678  15.2458   NaN        C  \n",
       "853  female  16.0      0      1  PC 17592  39.4000   D28        S  \n",
       "869    male   4.0      1      1    347742  11.1333   NaN        S  \n",
       "875  female  15.0      0      0      2667   7.2250   NaN        C  \n",
       "\n",
       "[113 rows x 12 columns]"
      ]
     },
     "execution_count": 79,
     "metadata": {},
     "output_type": "execute_result"
    }
   ],
   "source": [
    "import pandas as pd\n",
    "df=pd.read_csv(\"Titanic-Dataset.csv\")\n",
    "df1=df[df['Age']<18]\n",
    "print(\"Information of the passengers of age below 18.\")\n",
    "df1"
   ]
  },
  {
   "cell_type": "code",
   "execution_count": 81,
   "metadata": {
    "colab": {
     "base_uri": "https://localhost:8080/",
     "height": 441
    },
    "id": "uY5EB-18anDo",
    "outputId": "0ad0d5eb-7fc3-458a-9f02-29530e6f1e72"
   },
   "outputs": [
    {
     "name": "stdout",
     "output_type": "stream",
     "text": [
      "Information of female passengers who survived.\n"
     ]
    },
    {
     "data": {
      "text/html": [
       "<div>\n",
       "<style scoped>\n",
       "    .dataframe tbody tr th:only-of-type {\n",
       "        vertical-align: middle;\n",
       "    }\n",
       "\n",
       "    .dataframe tbody tr th {\n",
       "        vertical-align: top;\n",
       "    }\n",
       "\n",
       "    .dataframe thead th {\n",
       "        text-align: right;\n",
       "    }\n",
       "</style>\n",
       "<table border=\"1\" class=\"dataframe\">\n",
       "  <thead>\n",
       "    <tr style=\"text-align: right;\">\n",
       "      <th></th>\n",
       "      <th>PassengerId</th>\n",
       "      <th>Survived</th>\n",
       "      <th>Pclass</th>\n",
       "      <th>Name</th>\n",
       "      <th>Sex</th>\n",
       "      <th>Age</th>\n",
       "      <th>SibSp</th>\n",
       "      <th>Parch</th>\n",
       "      <th>Ticket</th>\n",
       "      <th>Fare</th>\n",
       "      <th>Cabin</th>\n",
       "      <th>Embarked</th>\n",
       "    </tr>\n",
       "  </thead>\n",
       "  <tbody>\n",
       "    <tr>\n",
       "      <th>1</th>\n",
       "      <td>2</td>\n",
       "      <td>1</td>\n",
       "      <td>1</td>\n",
       "      <td>Cumings, Mrs. John Bradley (Florence Briggs Th...</td>\n",
       "      <td>female</td>\n",
       "      <td>38.0</td>\n",
       "      <td>1</td>\n",
       "      <td>0</td>\n",
       "      <td>PC 17599</td>\n",
       "      <td>71.2833</td>\n",
       "      <td>C85</td>\n",
       "      <td>C</td>\n",
       "    </tr>\n",
       "    <tr>\n",
       "      <th>2</th>\n",
       "      <td>3</td>\n",
       "      <td>1</td>\n",
       "      <td>3</td>\n",
       "      <td>Heikkinen, Miss. Laina</td>\n",
       "      <td>female</td>\n",
       "      <td>26.0</td>\n",
       "      <td>0</td>\n",
       "      <td>0</td>\n",
       "      <td>STON/O2. 3101282</td>\n",
       "      <td>7.9250</td>\n",
       "      <td>NaN</td>\n",
       "      <td>S</td>\n",
       "    </tr>\n",
       "    <tr>\n",
       "      <th>3</th>\n",
       "      <td>4</td>\n",
       "      <td>1</td>\n",
       "      <td>1</td>\n",
       "      <td>Futrelle, Mrs. Jacques Heath (Lily May Peel)</td>\n",
       "      <td>female</td>\n",
       "      <td>35.0</td>\n",
       "      <td>1</td>\n",
       "      <td>0</td>\n",
       "      <td>113803</td>\n",
       "      <td>53.1000</td>\n",
       "      <td>C123</td>\n",
       "      <td>S</td>\n",
       "    </tr>\n",
       "    <tr>\n",
       "      <th>8</th>\n",
       "      <td>9</td>\n",
       "      <td>1</td>\n",
       "      <td>3</td>\n",
       "      <td>Johnson, Mrs. Oscar W (Elisabeth Vilhelmina Berg)</td>\n",
       "      <td>female</td>\n",
       "      <td>27.0</td>\n",
       "      <td>0</td>\n",
       "      <td>2</td>\n",
       "      <td>347742</td>\n",
       "      <td>11.1333</td>\n",
       "      <td>NaN</td>\n",
       "      <td>S</td>\n",
       "    </tr>\n",
       "    <tr>\n",
       "      <th>9</th>\n",
       "      <td>10</td>\n",
       "      <td>1</td>\n",
       "      <td>2</td>\n",
       "      <td>Nasser, Mrs. Nicholas (Adele Achem)</td>\n",
       "      <td>female</td>\n",
       "      <td>14.0</td>\n",
       "      <td>1</td>\n",
       "      <td>0</td>\n",
       "      <td>237736</td>\n",
       "      <td>30.0708</td>\n",
       "      <td>NaN</td>\n",
       "      <td>C</td>\n",
       "    </tr>\n",
       "    <tr>\n",
       "      <th>...</th>\n",
       "      <td>...</td>\n",
       "      <td>...</td>\n",
       "      <td>...</td>\n",
       "      <td>...</td>\n",
       "      <td>...</td>\n",
       "      <td>...</td>\n",
       "      <td>...</td>\n",
       "      <td>...</td>\n",
       "      <td>...</td>\n",
       "      <td>...</td>\n",
       "      <td>...</td>\n",
       "      <td>...</td>\n",
       "    </tr>\n",
       "    <tr>\n",
       "      <th>874</th>\n",
       "      <td>875</td>\n",
       "      <td>1</td>\n",
       "      <td>2</td>\n",
       "      <td>Abelson, Mrs. Samuel (Hannah Wizosky)</td>\n",
       "      <td>female</td>\n",
       "      <td>28.0</td>\n",
       "      <td>1</td>\n",
       "      <td>0</td>\n",
       "      <td>P/PP 3381</td>\n",
       "      <td>24.0000</td>\n",
       "      <td>NaN</td>\n",
       "      <td>C</td>\n",
       "    </tr>\n",
       "    <tr>\n",
       "      <th>875</th>\n",
       "      <td>876</td>\n",
       "      <td>1</td>\n",
       "      <td>3</td>\n",
       "      <td>Najib, Miss. Adele Kiamie \"Jane\"</td>\n",
       "      <td>female</td>\n",
       "      <td>15.0</td>\n",
       "      <td>0</td>\n",
       "      <td>0</td>\n",
       "      <td>2667</td>\n",
       "      <td>7.2250</td>\n",
       "      <td>NaN</td>\n",
       "      <td>C</td>\n",
       "    </tr>\n",
       "    <tr>\n",
       "      <th>879</th>\n",
       "      <td>880</td>\n",
       "      <td>1</td>\n",
       "      <td>1</td>\n",
       "      <td>Potter, Mrs. Thomas Jr (Lily Alexenia Wilson)</td>\n",
       "      <td>female</td>\n",
       "      <td>56.0</td>\n",
       "      <td>0</td>\n",
       "      <td>1</td>\n",
       "      <td>11767</td>\n",
       "      <td>83.1583</td>\n",
       "      <td>C50</td>\n",
       "      <td>C</td>\n",
       "    </tr>\n",
       "    <tr>\n",
       "      <th>880</th>\n",
       "      <td>881</td>\n",
       "      <td>1</td>\n",
       "      <td>2</td>\n",
       "      <td>Shelley, Mrs. William (Imanita Parrish Hall)</td>\n",
       "      <td>female</td>\n",
       "      <td>25.0</td>\n",
       "      <td>0</td>\n",
       "      <td>1</td>\n",
       "      <td>230433</td>\n",
       "      <td>26.0000</td>\n",
       "      <td>NaN</td>\n",
       "      <td>S</td>\n",
       "    </tr>\n",
       "    <tr>\n",
       "      <th>887</th>\n",
       "      <td>888</td>\n",
       "      <td>1</td>\n",
       "      <td>1</td>\n",
       "      <td>Graham, Miss. Margaret Edith</td>\n",
       "      <td>female</td>\n",
       "      <td>19.0</td>\n",
       "      <td>0</td>\n",
       "      <td>0</td>\n",
       "      <td>112053</td>\n",
       "      <td>30.0000</td>\n",
       "      <td>B42</td>\n",
       "      <td>S</td>\n",
       "    </tr>\n",
       "  </tbody>\n",
       "</table>\n",
       "<p>233 rows × 12 columns</p>\n",
       "</div>"
      ],
      "text/plain": [
       "     PassengerId  Survived  Pclass  \\\n",
       "1              2         1       1   \n",
       "2              3         1       3   \n",
       "3              4         1       1   \n",
       "8              9         1       3   \n",
       "9             10         1       2   \n",
       "..           ...       ...     ...   \n",
       "874          875         1       2   \n",
       "875          876         1       3   \n",
       "879          880         1       1   \n",
       "880          881         1       2   \n",
       "887          888         1       1   \n",
       "\n",
       "                                                  Name     Sex   Age  SibSp  \\\n",
       "1    Cumings, Mrs. John Bradley (Florence Briggs Th...  female  38.0      1   \n",
       "2                               Heikkinen, Miss. Laina  female  26.0      0   \n",
       "3         Futrelle, Mrs. Jacques Heath (Lily May Peel)  female  35.0      1   \n",
       "8    Johnson, Mrs. Oscar W (Elisabeth Vilhelmina Berg)  female  27.0      0   \n",
       "9                  Nasser, Mrs. Nicholas (Adele Achem)  female  14.0      1   \n",
       "..                                                 ...     ...   ...    ...   \n",
       "874              Abelson, Mrs. Samuel (Hannah Wizosky)  female  28.0      1   \n",
       "875                   Najib, Miss. Adele Kiamie \"Jane\"  female  15.0      0   \n",
       "879      Potter, Mrs. Thomas Jr (Lily Alexenia Wilson)  female  56.0      0   \n",
       "880       Shelley, Mrs. William (Imanita Parrish Hall)  female  25.0      0   \n",
       "887                       Graham, Miss. Margaret Edith  female  19.0      0   \n",
       "\n",
       "     Parch            Ticket     Fare Cabin Embarked  \n",
       "1        0          PC 17599  71.2833   C85        C  \n",
       "2        0  STON/O2. 3101282   7.9250   NaN        S  \n",
       "3        0            113803  53.1000  C123        S  \n",
       "8        2            347742  11.1333   NaN        S  \n",
       "9        0            237736  30.0708   NaN        C  \n",
       "..     ...               ...      ...   ...      ...  \n",
       "874      0         P/PP 3381  24.0000   NaN        C  \n",
       "875      0              2667   7.2250   NaN        C  \n",
       "879      1             11767  83.1583   C50        C  \n",
       "880      1            230433  26.0000   NaN        S  \n",
       "887      0            112053  30.0000   B42        S  \n",
       "\n",
       "[233 rows x 12 columns]"
      ]
     },
     "execution_count": 81,
     "metadata": {},
     "output_type": "execute_result"
    }
   ],
   "source": [
    "print(\"Information of female passengers who survived.\")\n",
    "df[(df['Sex']=='female') & (df['Survived']==1)]"
   ]
  },
  {
   "cell_type": "markdown",
   "metadata": {
    "id": "qWAYMl2yTI9k"
   },
   "source": [
    "Question10: Groupby Operations\n"
   ]
  },
  {
   "cell_type": "code",
   "execution_count": 84,
   "metadata": {
    "colab": {
     "base_uri": "https://localhost:8080/"
    },
    "id": "pdaOOG9ebHVQ",
    "outputId": "e100ebcb-0648-43c6-9baa-f193ce137579"
   },
   "outputs": [
    {
     "name": "stdout",
     "output_type": "stream",
     "text": [
      "species: setosa\n",
      "mean of petal length: 1.4620000000000002\n",
      "mean of sepal width: 3.428\n",
      "\n",
      "\n",
      "species: versicolor\n",
      "mean of petal length: 4.26\n",
      "mean of sepal width: 2.7700000000000005\n",
      "\n",
      "\n",
      "species: virginica\n",
      "mean of petal length: 5.5520000000000005\n",
      "mean of sepal width: 2.974\n",
      "\n",
      "\n"
     ]
    }
   ],
   "source": [
    "import seaborn as sns\n",
    "\n",
    "# Load the Iris dataset from Seaborn\n",
    "iris = sns.load_dataset('iris')\n",
    "\n",
    "# Display the first few rows of the dataset\n",
    "g=iris.groupby('species')\n",
    "for species,data in g:\n",
    "  print(\"species:\",species)\n",
    "  print(\"mean of petal length:\",data.petal_length.mean())\n",
    "  print(\"mean of sepal width:\",data.sepal_width.mean())\n",
    "  print('\\n')"
   ]
  },
  {
   "cell_type": "markdown",
   "metadata": {
    "id": "r8OOdZwtTcCz"
   },
   "source": [
    "Question 11: Handling Missing Values"
   ]
  },
  {
   "cell_type": "code",
   "execution_count": 87,
   "metadata": {
    "colab": {
     "base_uri": "https://localhost:8080/",
     "height": 363
    },
    "id": "Ex6RxF3Vd98E",
    "outputId": "2108c6e2-b722-4ea0-9dae-f619cc6736e0"
   },
   "outputs": [
    {
     "data": {
      "text/html": [
       "<div>\n",
       "<style scoped>\n",
       "    .dataframe tbody tr th:only-of-type {\n",
       "        vertical-align: middle;\n",
       "    }\n",
       "\n",
       "    .dataframe tbody tr th {\n",
       "        vertical-align: top;\n",
       "    }\n",
       "\n",
       "    .dataframe thead th {\n",
       "        text-align: right;\n",
       "    }\n",
       "</style>\n",
       "<table border=\"1\" class=\"dataframe\">\n",
       "  <thead>\n",
       "    <tr style=\"text-align: right;\">\n",
       "      <th></th>\n",
       "      <th>A</th>\n",
       "      <th>B</th>\n",
       "      <th>C</th>\n",
       "      <th>D</th>\n",
       "      <th>E</th>\n",
       "    </tr>\n",
       "  </thead>\n",
       "  <tbody>\n",
       "    <tr>\n",
       "      <th>0</th>\n",
       "      <td>0.374540</td>\n",
       "      <td>0.273778</td>\n",
       "      <td>0.731994</td>\n",
       "      <td>0.616301</td>\n",
       "      <td>0.156019</td>\n",
       "    </tr>\n",
       "    <tr>\n",
       "      <th>1</th>\n",
       "      <td>0.155995</td>\n",
       "      <td>0.058084</td>\n",
       "      <td>0.866176</td>\n",
       "      <td>0.601115</td>\n",
       "      <td>0.708073</td>\n",
       "    </tr>\n",
       "    <tr>\n",
       "      <th>2</th>\n",
       "      <td>0.020584</td>\n",
       "      <td>0.273778</td>\n",
       "      <td>0.832443</td>\n",
       "      <td>0.616301</td>\n",
       "      <td>0.181825</td>\n",
       "    </tr>\n",
       "    <tr>\n",
       "      <th>3</th>\n",
       "      <td>0.183405</td>\n",
       "      <td>0.304242</td>\n",
       "      <td>0.524756</td>\n",
       "      <td>0.431945</td>\n",
       "      <td>0.291229</td>\n",
       "    </tr>\n",
       "    <tr>\n",
       "      <th>4</th>\n",
       "      <td>0.611853</td>\n",
       "      <td>0.273778</td>\n",
       "      <td>0.292145</td>\n",
       "      <td>0.616301</td>\n",
       "      <td>0.456070</td>\n",
       "    </tr>\n",
       "    <tr>\n",
       "      <th>5</th>\n",
       "      <td>0.785176</td>\n",
       "      <td>0.199674</td>\n",
       "      <td>0.514234</td>\n",
       "      <td>0.592415</td>\n",
       "      <td>0.046450</td>\n",
       "    </tr>\n",
       "    <tr>\n",
       "      <th>6</th>\n",
       "      <td>0.607545</td>\n",
       "      <td>0.273778</td>\n",
       "      <td>0.065052</td>\n",
       "      <td>0.616301</td>\n",
       "      <td>0.965632</td>\n",
       "    </tr>\n",
       "    <tr>\n",
       "      <th>7</th>\n",
       "      <td>0.808397</td>\n",
       "      <td>0.273778</td>\n",
       "      <td>0.097672</td>\n",
       "      <td>0.616301</td>\n",
       "      <td>0.440152</td>\n",
       "    </tr>\n",
       "    <tr>\n",
       "      <th>8</th>\n",
       "      <td>0.122038</td>\n",
       "      <td>0.495177</td>\n",
       "      <td>0.034389</td>\n",
       "      <td>0.909320</td>\n",
       "      <td>0.258780</td>\n",
       "    </tr>\n",
       "    <tr>\n",
       "      <th>9</th>\n",
       "      <td>0.662522</td>\n",
       "      <td>0.311711</td>\n",
       "      <td>0.520068</td>\n",
       "      <td>0.546710</td>\n",
       "      <td>0.184854</td>\n",
       "    </tr>\n",
       "  </tbody>\n",
       "</table>\n",
       "</div>"
      ],
      "text/plain": [
       "          A         B         C         D         E\n",
       "0  0.374540  0.273778  0.731994  0.616301  0.156019\n",
       "1  0.155995  0.058084  0.866176  0.601115  0.708073\n",
       "2  0.020584  0.273778  0.832443  0.616301  0.181825\n",
       "3  0.183405  0.304242  0.524756  0.431945  0.291229\n",
       "4  0.611853  0.273778  0.292145  0.616301  0.456070\n",
       "5  0.785176  0.199674  0.514234  0.592415  0.046450\n",
       "6  0.607545  0.273778  0.065052  0.616301  0.965632\n",
       "7  0.808397  0.273778  0.097672  0.616301  0.440152\n",
       "8  0.122038  0.495177  0.034389  0.909320  0.258780\n",
       "9  0.662522  0.311711  0.520068  0.546710  0.184854"
      ]
     },
     "execution_count": 87,
     "metadata": {},
     "output_type": "execute_result"
    }
   ],
   "source": [
    "import pandas as pd\n",
    "import numpy as np\n",
    "\n",
    "# Create a DataFrame with random data\n",
    "np.random.seed(42)  # For reproducibility\n",
    "data = np.random.rand(10, 5)  # 10 rows and 5 columns of random floats\n",
    "\n",
    "# Create column names\n",
    "columns = ['A', 'B', 'C', 'D', 'E']\n",
    "\n",
    "# Create the DataFrame\n",
    "df = pd.DataFrame(data, columns=columns)\n",
    "\n",
    "# Introduce NaN values randomly into the DataFrame\n",
    "nan_indices = np.random.choice(df.index, size=5, replace=False)  # 5 random indices for NaNs\n",
    "df.loc[nan_indices, 'B'] = np.nan  # Set NaN in column 'B'\n",
    "df.loc[nan_indices, 'D'] = np.nan  # Set NaN in column 'D'\n",
    "\n",
    "# Replace NaN values with the mean of each column\n",
    "df.fillna({'B':df.B.mean(),'D':df.D.mean()},inplace=True)\n",
    "df\n"
   ]
  },
  {
   "cell_type": "markdown",
   "metadata": {
    "id": "ApLcUk0lTqFm"
   },
   "source": [
    "Question 12: Merging DataFrames"
   ]
  },
  {
   "cell_type": "code",
   "execution_count": 90,
   "metadata": {
    "colab": {
     "base_uri": "https://localhost:8080/",
     "height": 206
    },
    "id": "cA1V-4DJDnfU",
    "outputId": "f80e4290-3275-4795-b2d7-c990186a7975"
   },
   "outputs": [
    {
     "data": {
      "text/html": [
       "<div>\n",
       "<style scoped>\n",
       "    .dataframe tbody tr th:only-of-type {\n",
       "        vertical-align: middle;\n",
       "    }\n",
       "\n",
       "    .dataframe tbody tr th {\n",
       "        vertical-align: top;\n",
       "    }\n",
       "\n",
       "    .dataframe thead th {\n",
       "        text-align: right;\n",
       "    }\n",
       "</style>\n",
       "<table border=\"1\" class=\"dataframe\">\n",
       "  <thead>\n",
       "    <tr style=\"text-align: right;\">\n",
       "      <th></th>\n",
       "      <th>Column Id</th>\n",
       "      <th>Name</th>\n",
       "      <th>Score</th>\n",
       "    </tr>\n",
       "  </thead>\n",
       "  <tbody>\n",
       "    <tr>\n",
       "      <th>0</th>\n",
       "      <td>201</td>\n",
       "      <td>Mahesh</td>\n",
       "      <td>75</td>\n",
       "    </tr>\n",
       "    <tr>\n",
       "      <th>1</th>\n",
       "      <td>202</td>\n",
       "      <td>Jagan</td>\n",
       "      <td>63</td>\n",
       "    </tr>\n",
       "    <tr>\n",
       "      <th>2</th>\n",
       "      <td>203</td>\n",
       "      <td>Sandeep</td>\n",
       "      <td>75</td>\n",
       "    </tr>\n",
       "    <tr>\n",
       "      <th>3</th>\n",
       "      <td>204</td>\n",
       "      <td>Ganesh</td>\n",
       "      <td>68</td>\n",
       "    </tr>\n",
       "    <tr>\n",
       "      <th>4</th>\n",
       "      <td>205</td>\n",
       "      <td>Anil</td>\n",
       "      <td>75</td>\n",
       "    </tr>\n",
       "  </tbody>\n",
       "</table>\n",
       "</div>"
      ],
      "text/plain": [
       "   Column Id     Name  Score\n",
       "0        201   Mahesh     75\n",
       "1        202    Jagan     63\n",
       "2        203  Sandeep     75\n",
       "3        204   Ganesh     68\n",
       "4        205     Anil     75"
      ]
     },
     "execution_count": 90,
     "metadata": {},
     "output_type": "execute_result"
    }
   ],
   "source": [
    "import pandas as pd\n",
    "df1=pd.DataFrame({'Column Id':[201,202,203,204,205],'Name':['Mahesh','Jagan','Sandeep','Ganesh','Anil']})\n",
    "df1\n",
    "df2=pd.DataFrame({'Column Id':[201,202,203,204,205],'Score':[75,63,75,68,75]})\n",
    "df3=pd.merge(df1,df2,on='Column Id')\n",
    "df3"
   ]
  },
  {
   "cell_type": "markdown",
   "metadata": {
    "id": "MyyuGg_CTxxe"
   },
   "source": [
    "Question 13: Line Plot\n"
   ]
  },
  {
   "cell_type": "code",
   "execution_count": 93,
   "metadata": {
    "colab": {
     "base_uri": "https://localhost:8080/",
     "height": 607
    },
    "id": "ImoVY8BQLg-t",
    "outputId": "4656e3cc-f7a7-4ccb-f370-d9d4ccbbbd8c"
   },
   "outputs": [
    {
     "data": {
      "image/png": "[encoded data removed]",
      "text/plain": [
       "<Figure size 1000x600 with 1 Axes>"
      ]
     },
     "metadata": {},
     "output_type": "display_data"
    }
   ],
   "source": [
    "import numpy as np\n",
    "import matplotlib.pyplot as plt\n",
    "\n",
    "# Step 1: Generate Random Monthly Revenue Data\n",
    "np.random.seed(42)  # For reproducibility\n",
    "months = ['Jan', 'Feb', 'Mar', 'Apr', 'May', 'Jun', 'Jul', 'Aug', 'Sep', 'Oct', 'Nov', 'Dec']\n",
    "revenue = np.random.randint(50000, 200000, size=12)  # Random revenue between 50k and 200k\n",
    "\n",
    "# Step 2: Create a Line Plot\n",
    "plt.figure(figsize=(10, 6))  # Set figure size\n",
    "plt.plot(months, revenue, marker='o', color='b', label='Monthly Revenue')\n",
    "\n",
    "# Step 3: Customize the Plot\n",
    "plt.title('Monthly Revenue of the Company (2024)', fontsize=14)\n",
    "plt.xlabel('Month', fontsize=12)\n",
    "plt.ylabel('Revenue ($)', fontsize=12)\n",
    "plt.legend()\n",
    "\n",
    "# Show the plot\n",
    "plt.grid(True)\n",
    "plt.tight_layout()\n",
    "plt.show()\n"
   ]
  },
  {
   "cell_type": "markdown",
   "metadata": {
    "id": "YwA1-WNVT3Ld"
   },
   "source": [
    "Question 14: Bar Plot"
   ]
  },
  {
   "cell_type": "code",
   "execution_count": 96,
   "metadata": {
    "colab": {
     "base_uri": "https://localhost:8080/",
     "height": 607
    },
    "id": "UzDtmZEBLqI8",
    "outputId": "b67598b0-937a-423a-ff19-3cc8c200e873"
   },
   "outputs": [
    {
     "data": {
      "image/png": "[encoded data removed]",
      "text/plain": [
       "<Figure size 1000x600 with 1 Axes>"
      ]
     },
     "metadata": {},
     "output_type": "display_data"
    }
   ],
   "source": [
    "import numpy as np\n",
    "import matplotlib.pyplot as plt\n",
    "\n",
    "#Generate Random Sales Data for 5 Products in 2 Regions\n",
    "np.random.seed(42)  # For reproducibility\n",
    "products = ['Product A', 'Product B', 'Product C', 'Product D', 'Product E']\n",
    "region_1_sales = np.random.randint(1000, 5000, size=5)  # Sales in Region 1\n",
    "region_2_sales = np.random.randint(1000, 5000, size=5)  # Sales in Region 2\n",
    "\n",
    "#Create Grouped Bar Chart\n",
    "x = np.arange(len(products))  # Position of products on the x-axis\n",
    "width = 0.35  # Width of the bars\n",
    "\n",
    "fig, ax = plt.subplots(figsize=(10, 6))  # Set figure size\n",
    "\n",
    "# Plot bars for each region\n",
    "bars_region_1 = ax.bar(x - width/2, region_1_sales, width, label='Region 1', color='b')\n",
    "bars_region_2 = ax.bar(x + width/2, region_2_sales, width, label='Region 2', color='g')\n",
    "\n",
    "#Customize the Plot\n",
    "ax.set_title('Product Sales Comparison Between Two Regions', fontsize=14)\n",
    "ax.set_xlabel('Products', fontsize=12)\n",
    "ax.set_ylabel('Sales ($)', fontsize=12)\n",
    "ax.set_xticks(x)\n",
    "ax.set_xticklabels(products)\n",
    "ax.legend()\n",
    "\n",
    "\n",
    "\n",
    "# Display the plot\n",
    "plt.tight_layout()\n",
    "plt.show()\n"
   ]
  },
  {
   "cell_type": "markdown",
   "metadata": {
    "id": "6EumROiTT7Z3"
   },
   "source": [
    "Question 15: Scatter Plot\n"
   ]
  },
  {
   "cell_type": "code",
   "execution_count": 99,
   "metadata": {
    "colab": {
     "base_uri": "https://localhost:8080/",
     "height": 607
    },
    "id": "ssKtRYMwOe_2",
    "outputId": "a187f68b-054a-4a4b-a2b3-f61d3fb929e3"
   },
   "outputs": [
    {
     "data": {
      "image/png": "[encoded data removed]",
      "text/plain": [
       "<Figure size 800x600 with 1 Axes>"
      ]
     },
     "metadata": {},
     "output_type": "display_data"
    }
   ],
   "source": [
    "import seaborn as sns\n",
    "import matplotlib.pyplot as plt\n",
    "\n",
    "iris = sns.load_dataset('iris')\n",
    "\n",
    "plt.figure(figsize=(8, 6))\n",
    "sns.scatterplot(data=iris, x='petal_length', y='petal_width', hue='species')\n",
    "\n",
    "# Customize the plot\n",
    "plt.title('Petal Length vs Petal Width', fontsize=16)\n",
    "plt.xlabel('Petal Length (cm)', fontsize=12)\n",
    "plt.ylabel('Petal Width (cm)', fontsize=12)\n",
    "\n",
    "# Display the plot\n",
    "plt.tight_layout()\n",
    "plt.show()\n"
   ]
  }
 ],
 "metadata": {
  "colab": {
   "provenance": []
  },
  "kernelspec": {
   "display_name": "Python 3 (ipykernel)",
   "language": "python",
   "name": "python3"
  },
  "language_info": {
   "codemirror_mode": {
    "name": "ipython",
    "version": 3
   },
   "file_extension": ".py",
   "mimetype": "text/x-python",
   "name": "python",
   "nbconvert_exporter": "python",
   "pygments_lexer": "ipython3",
   "version": "3.11.5"
  }
 },
 "nbformat": 4,
 "nbformat_minor": 4
}

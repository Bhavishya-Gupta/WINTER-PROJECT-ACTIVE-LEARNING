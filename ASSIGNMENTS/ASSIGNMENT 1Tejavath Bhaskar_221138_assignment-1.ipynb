{
  "nbformat": 4,
  "nbformat_minor": 0,
  "metadata": {
    "colab": {
      "provenance": []
    },
    "kernelspec": {
      "name": "python3",
      "display_name": "Python 3"
    },
    "language_info": {
      "name": "python"
    }
  },
  "cells": [
    {
      "cell_type": "markdown",
      "source": [
        "Question 1: Control Flow and Loops"
      ],
      "metadata": {
        "id": "bbtE5EArLB1i"
      }
    },
    {
      "cell_type": "code",
      "execution_count": 2,
      "metadata": {
        "colab": {
          "base_uri": "https://localhost:8080/"
        },
        "id": "wTiHfDA5KtII",
        "outputId": "0ea7c452-5070-4ba9-81cb-a0742484bbc7"
      },
      "outputs": [
        {
          "output_type": "stream",
          "name": "stdout",
          "text": [
            "The first 10 Fibonacci numbers are: [0, 1, 1, 2, 3, 5, 8, 13, 21, 34]\n"
          ]
        }
      ],
      "source": [
        "def generate_fibonacci(n):\n",
        "    if n <= 0:\n",
        "        return []\n",
        "    elif n == 1:\n",
        "        return [0]\n",
        "    elif n == 2:\n",
        "        return [0, 1]\n",
        "\n",
        "    fib_sequence = [0, 1]\n",
        "    for i in range(2, n):\n",
        "        fib_sequence.append(fib_sequence[-1] + fib_sequence[-2])\n",
        "    return fib_sequence\n",
        "\n",
        "# Test the function with N = 10\n",
        "N = 10\n",
        "fibonacci_numbers = generate_fibonacci(N)\n",
        "print(f\"The first {N} Fibonacci numbers are: {fibonacci_numbers}\")\n"
      ]
    },
    {
      "cell_type": "markdown",
      "source": [
        "Question 2: List and Dictionary Comprehension"
      ],
      "metadata": {
        "id": "bsIznQlGLM39"
      }
    },
    {
      "cell_type": "code",
      "source": [
        "# List comprehension to create a list of squares of numbers from 1 to 20\n",
        "squares = [x**2 for x in range(1, 21)]\n",
        "print(f\"List of squares from 1 to 20: {squares}\")\n",
        "\n",
        "# Dictionary comprehension to create a dictionary where keys are numbers from 1 to 10 and values are their cubes\n",
        "cubes_dict = {x: x**3 for x in range(1, 11)}\n",
        "print(f\"Dictionary of cubes from 1 to 10: {cubes_dict}\")\n"
      ],
      "metadata": {
        "colab": {
          "base_uri": "https://localhost:8080/"
        },
        "id": "SbRLgqR3L37m",
        "outputId": "d237eb0b-b11e-43fb-9a66-9142bc05bb6a"
      },
      "execution_count": 3,
      "outputs": [
        {
          "output_type": "stream",
          "name": "stdout",
          "text": [
            "List of squares from 1 to 20: [1, 4, 9, 16, 25, 36, 49, 64, 81, 100, 121, 144, 169, 196, 225, 256, 289, 324, 361, 400]\n",
            "Dictionary of cubes from 1 to 10: {1: 1, 2: 8, 3: 27, 4: 64, 5: 125, 6: 216, 7: 343, 8: 512, 9: 729, 10: 1000}\n"
          ]
        }
      ]
    },
    {
      "cell_type": "markdown",
      "source": [
        "Question 3: File Handling"
      ],
      "metadata": {
        "id": "kugrja3gMpQc"
      }
    },
    {
      "cell_type": "code",
      "source": [
        "import csv\n",
        "\n",
        "# Step 1: Create and write to the CSV file\n",
        "filename = 'data.csv'\n",
        "\n",
        "# Data to write\n",
        "rows = [\n",
        "    ['Name', 'Age', 'Score'],\n",
        "    ['Bhaskar', 25, 88],\n",
        "    ['Keerthi', 22, 72],\n",
        "    ['Siddu', 23, 95],\n",
        "    ['Harsha', 24, 68],\n",
        "    ['Sunil', 26, 80]\n",
        "]\n",
        "\n",
        "# Write data to CSV\n",
        "with open(filename, 'w', newline='') as csvfile:\n",
        "    writer = csv.writer(csvfile)\n",
        "    writer.writerows(rows)\n",
        "\n",
        "print(f\"File {filename} created and data written.\")\n",
        "\n",
        "# Step 2: Read the file and filter rows where the score is above 75\n",
        "with open(filename, 'r') as csvfile:\n",
        "    reader = csv.reader(csvfile)\n",
        "    header = next(reader)  # Read the header\n",
        "    print(\"Rows where the score is above 75:\")\n",
        "    for row in reader:\n",
        "        if int(row[2]) > 75:  # Check if score is above 75\n",
        "            print(row)\n"
      ],
      "metadata": {
        "colab": {
          "base_uri": "https://localhost:8080/"
        },
        "id": "sgg1YD4sMmzY",
        "outputId": "0c0d324b-db08-4d15-851c-08faa734aaef"
      },
      "execution_count": 4,
      "outputs": [
        {
          "output_type": "stream",
          "name": "stdout",
          "text": [
            "File data.csv created and data written.\n",
            "Rows where the score is above 75:\n",
            "['Bhaskar', '25', '88']\n",
            "['Siddu', '23', '95']\n",
            "['Sunil', '26', '80']\n"
          ]
        }
      ]
    },
    {
      "cell_type": "markdown",
      "source": [
        "Question 4: Array Operations"
      ],
      "metadata": {
        "id": "Lj5Jy0gpNmts"
      }
    },
    {
      "cell_type": "code",
      "source": [
        "import numpy as np\n",
        "\n",
        "# Create a 1D NumPy array of 25 random integers between 10 and 100\n",
        "random_array = np.random.randint(10, 101, 25)\n",
        "print(\"Original Array:\", random_array)\n",
        "\n",
        "# Find the maximum, minimum, and their indices\n",
        "max_value = random_array.max()\n",
        "min_value = random_array.min()\n",
        "max_index = random_array.argmax()\n",
        "min_index = random_array.argmin()\n",
        "\n",
        "print(f\"Maximum Value: {max_value} at Index: {max_index}\")\n",
        "print(f\"Minimum Value: {min_value} at Index: {min_index}\")\n",
        "\n",
        "# Replace all odd numbers in the array with -1\n",
        "modified_array = np.where(random_array % 2 != 0, -1, random_array)\n",
        "print(\"Modified Array:\", modified_array)\n"
      ],
      "metadata": {
        "colab": {
          "base_uri": "https://localhost:8080/"
        },
        "id": "zZymlywmNrEp",
        "outputId": "9b88e76a-26f8-457f-acc9-f5cad47b906d"
      },
      "execution_count": 5,
      "outputs": [
        {
          "output_type": "stream",
          "name": "stdout",
          "text": [
            "Original Array: [ 19  93  54  56  31  33  23  23  14  62  87  88  21  90  31  52 100  67\n",
            "  54  96  41  48  87  52  60]\n",
            "Maximum Value: 100 at Index: 16\n",
            "Minimum Value: 14 at Index: 8\n",
            "Modified Array: [ -1  -1  54  56  -1  -1  -1  -1  14  62  -1  88  -1  90  -1  52 100  -1\n",
            "  54  96  -1  48  -1  52  60]\n"
          ]
        }
      ]
    },
    {
      "cell_type": "markdown",
      "source": [
        "Question 5: Matrix Manipulation"
      ],
      "metadata": {
        "id": "3eCuLCzSOOo1"
      }
    },
    {
      "cell_type": "code",
      "source": [
        "import numpy as np\n",
        "\n",
        "# Create a 5x5 matrix with random numbers\n",
        "matrix = np.random.randint(1, 101, (5, 5))\n",
        "print(\"5x5 Matrix:\\n\", matrix)\n",
        "\n",
        "# Extract the diagonal elements\n",
        "diagonal_elements = np.diag(matrix)\n",
        "print(\"Diagonal Elements:\", diagonal_elements)\n",
        "\n",
        "# Calculate the sum of all elements above the main diagonal\n",
        "sum_above_diagonal = np.sum(np.triu(matrix, k=1))\n",
        "print(\"Sum of Elements Above the Main Diagonal:\", sum_above_diagonal)\n"
      ],
      "metadata": {
        "colab": {
          "base_uri": "https://localhost:8080/"
        },
        "id": "ZA8KarXTOcQw",
        "outputId": "b2a47016-1472-4653-acfa-ed29f037426c"
      },
      "execution_count": 6,
      "outputs": [
        {
          "output_type": "stream",
          "name": "stdout",
          "text": [
            "5x5 Matrix:\n",
            " [[72  7  6 44 84]\n",
            " [15 22 59 94 27]\n",
            " [28 44 72 71 29]\n",
            " [66 41 41  9 73]\n",
            " [97 40 78 39 52]]\n",
            "Diagonal Elements: [72 22 72  9 52]\n",
            "Sum of Elements Above the Main Diagonal: 494\n"
          ]
        }
      ]
    },
    {
      "cell_type": "markdown",
      "source": [
        "Question 6: Statistical Functions\n"
      ],
      "metadata": {
        "id": "VTzY5ftmPK_E"
      }
    },
    {
      "cell_type": "code",
      "source": [
        "import numpy as np\n",
        "\n",
        "# Generate a 3D NumPy array of shape (3, 4, 5) with random floats\n",
        "array_3d = np.random.rand(3, 4, 5)\n",
        "\n",
        "# Calculate mean, median, and standard deviation directly using numpy functions\n",
        "mean_value = np.nanmean(array_3d)\n",
        "median_value = np.nanmedian(array_3d)\n",
        "std_deviation = np.nanstd(array_3d)\n",
        "\n",
        "# Normalize the array in a vectorized way without using explicit loops\n",
        "normalized_array = (array_3d - mean_value) / std_deviation\n",
        "\n",
        "# Display the results\n",
        "print(\"Original 3D Array:\\n\", array_3d)\n",
        "print(\"\\nMean Value:\", mean_value)\n",
        "print(\"Median Value:\", median_value)\n",
        "print(\"Standard Deviation:\", std_deviation)\n",
        "print(\"\\nNormalized Array:\\n\", normalized_array)\n"
      ],
      "metadata": {
        "colab": {
          "base_uri": "https://localhost:8080/"
        },
        "id": "k-KeRnR7ZBP5",
        "outputId": "1ba42023-c3f9-4913-c7b3-5c307d945902"
      },
      "execution_count": 18,
      "outputs": [
        {
          "output_type": "stream",
          "name": "stdout",
          "text": [
            "Original 3D Array:\n",
            " [[[0.3927848  0.83607876 0.33739616 0.64817187 0.36824154]\n",
            "  [0.95715516 0.14035078 0.87008726 0.47360805 0.80091075]\n",
            "  [0.52047748 0.67887953 0.72063265 0.58201979 0.53737323]\n",
            "  [0.75861562 0.10590761 0.47360042 0.18633234 0.73691818]]\n",
            "\n",
            " [[0.21655035 0.13521817 0.32414101 0.14967487 0.22232139]\n",
            "  [0.38648898 0.90259848 0.44994999 0.61306346 0.90234858]\n",
            "  [0.09928035 0.96980907 0.65314004 0.17090959 0.35815217]\n",
            "  [0.75068614 0.60783067 0.32504723 0.03842543 0.63427406]]\n",
            "\n",
            " [[0.95894927 0.65279032 0.63505887 0.99529957 0.58185033]\n",
            "  [0.41436859 0.4746975  0.6235101  0.33800761 0.67475232]\n",
            "  [0.31720174 0.77834548 0.94957105 0.66252687 0.01357164]\n",
            "  [0.6228461  0.67365963 0.971945   0.87819347 0.50962438]]]\n",
            "\n",
            "Mean Value: 0.5460370305728964\n",
            "Median Value: 0.5949252303952874\n",
            "Standard Deviation: 0.26873887179751593\n",
            "\n",
            "Normalized Array:\n",
            " [[[-0.57026449  1.07926974 -0.77637027  0.38005236 -0.66159201]\n",
            "  [ 1.52980522 -1.50959274  1.20581822 -0.26951436  0.94840661]\n",
            "  [-0.09510924  0.49431814  0.64968504  0.13389489 -0.03223873]\n",
            "  [ 0.79102287 -1.63775869 -0.26954274 -1.33849147  0.71028484]]\n",
            "\n",
            " [[-1.2260477  -1.5286916  -0.82569381 -1.47489703 -1.2045732 ]\n",
            "  [-0.59369174  1.3267952  -0.35754798  0.24941099  1.32586533]\n",
            "  [-1.66241927  1.57689148  0.39853931 -1.39588085 -0.69913542]\n",
            "  [ 0.7615166   0.22993934 -0.82232168 -1.88886558  0.32833742]]\n",
            "\n",
            " [[ 1.53648125  0.39723798  0.33125778  1.67174378  0.1332643 ]\n",
            "  [-0.48994938 -0.2654604   0.28828383 -0.774095    0.47896045]\n",
            "  [-0.8515154   0.86443933  1.50158412  0.4334685  -1.98134863]\n",
            "  [ 0.28581301  0.47489446  1.58483947  1.23598212 -0.13549456]]]\n"
          ]
        }
      ]
    },
    {
      "cell_type": "markdown",
      "source": [
        "Question 7: Broadcasting and Indexing"
      ],
      "metadata": {
        "id": "ZOkeY6JuP8uE"
      }
    },
    {
      "cell_type": "code",
      "source": [
        "# Create two 2D arrays of shape (4, 4) and (4, 1)\n",
        "array1 = np.random.randint(1, 10, (4, 4))  # Random integers between 1 and 9\n",
        "array2 = np.random.randint(1, 10, (4, 1))  # Random integers between 1 and 9\n",
        "\n",
        "# Use broadcasting to add these arrays element-wise\n",
        "result = array1 + array2\n",
        "\n",
        "# Display the arrays and the result\n",
        "print(\"Array 1 (4x4):\\n\", array1)\n",
        "print(\"Array 2 (4x1):\\n\", array2)\n",
        "print(\"Result of Broadcasting Addition:\\n\", result)\n"
      ],
      "metadata": {
        "colab": {
          "base_uri": "https://localhost:8080/"
        },
        "id": "M2acAxrPQlUa",
        "outputId": "483de411-c79d-4ca2-c608-85578bc2c30f"
      },
      "execution_count": 8,
      "outputs": [
        {
          "output_type": "stream",
          "name": "stdout",
          "text": [
            "Array 1 (4x4):\n",
            " [[3 3 2 2]\n",
            " [7 7 5 6]\n",
            " [3 2 5 2]\n",
            " [8 7 7 2]]\n",
            "Array 2 (4x1):\n",
            " [[4]\n",
            " [6]\n",
            " [7]\n",
            " [1]]\n",
            "Result of Broadcasting Addition:\n",
            " [[ 7  7  6  6]\n",
            " [13 13 11 12]\n",
            " [10  9 12  9]\n",
            " [ 9  8  8  3]]\n"
          ]
        }
      ]
    },
    {
      "cell_type": "markdown",
      "source": [
        "Question 8: DataFrame Creation and Basic Operations"
      ],
      "metadata": {
        "id": "eKqzcKE6QwSs"
      }
    },
    {
      "cell_type": "code",
      "source": [
        "import pandas as pd\n",
        "\n",
        "# Create a DataFrame with columns: Product, Price, and Quantity\n",
        "data = {\n",
        "    'Product': ['Laptop', 'Headphones', 'Smartphone', 'Tablet', 'Smartwatch', 'Keyboard', 'Monitor', 'Mouse'],\n",
        "    'Price': [800, 150, 600, 300, 200, 50, 250, 25],\n",
        "    'Quantity': [5, 15, 8, 12, 10, 25, 6, 30]\n",
        "}\n",
        "\n",
        "df = pd.DataFrame(data)\n",
        "\n",
        "# Calculate the total value (Price × Quantity)\n",
        "df['Total Value'] = df['Price'] * df['Quantity']\n",
        "\n",
        "# Sort the DataFrame by Total Value in descending order\n",
        "df_sorted = df.sort_values(by='Total Value', ascending=False)\n",
        "\n",
        "# Display the original DataFrame and the sorted one based on Total Value\n",
        "print(\"Original DataFrame:\\n\", df)\n",
        "print(\"\\nSorted DataFrame (by Total Value):\\n\", df_sorted[['Product', 'Total Value']])\n"
      ],
      "metadata": {
        "colab": {
          "base_uri": "https://localhost:8080/"
        },
        "id": "qYlgEMBxQsRz",
        "outputId": "ec9edace-c53e-44db-8904-3717762ceb03"
      },
      "execution_count": 9,
      "outputs": [
        {
          "output_type": "stream",
          "name": "stdout",
          "text": [
            "Original DataFrame:\n",
            "       Product  Price  Quantity  Total Value\n",
            "0      Laptop    800         5         4000\n",
            "1  Headphones    150        15         2250\n",
            "2  Smartphone    600         8         4800\n",
            "3      Tablet    300        12         3600\n",
            "4  Smartwatch    200        10         2000\n",
            "5    Keyboard     50        25         1250\n",
            "6     Monitor    250         6         1500\n",
            "7       Mouse     25        30          750\n",
            "\n",
            "Sorted DataFrame (by Total Value):\n",
            "       Product  Total Value\n",
            "2  Smartphone         4800\n",
            "0      Laptop         4000\n",
            "3      Tablet         3600\n",
            "1  Headphones         2250\n",
            "4  Smartwatch         2000\n",
            "6     Monitor         1500\n",
            "5    Keyboard         1250\n",
            "7       Mouse          750\n"
          ]
        }
      ]
    },
    {
      "cell_type": "markdown",
      "source": [
        "Question 9: Data Filtering"
      ],
      "metadata": {
        "id": "p4AA5KnnRgde"
      }
    },
    {
      "cell_type": "code",
      "source": [
        "import pandas as pd\n",
        "\n",
        "df = pd.read_csv('Titanic-Dataset.csv')\n",
        "print(df.head())\n"
      ],
      "metadata": {
        "colab": {
          "base_uri": "https://localhost:8080/"
        },
        "id": "ASdgWhZnRf0p",
        "outputId": "5112feeb-3ba4-401f-f1eb-10db49b5e83b"
      },
      "execution_count": 12,
      "outputs": [
        {
          "output_type": "stream",
          "name": "stdout",
          "text": [
            "   PassengerId  Survived  Pclass  \\\n",
            "0            1         0       3   \n",
            "1            2         1       1   \n",
            "2            3         1       3   \n",
            "3            4         1       1   \n",
            "4            5         0       3   \n",
            "\n",
            "                                                Name     Sex   Age  SibSp  \\\n",
            "0                            Braund, Mr. Owen Harris    male  22.0      1   \n",
            "1  Cumings, Mrs. John Bradley (Florence Briggs Th...  female  38.0      1   \n",
            "2                             Heikkinen, Miss. Laina  female  26.0      0   \n",
            "3       Futrelle, Mrs. Jacques Heath (Lily May Peel)  female  35.0      1   \n",
            "4                           Allen, Mr. William Henry    male  35.0      0   \n",
            "\n",
            "   Parch            Ticket     Fare Cabin Embarked  \n",
            "0      0         A/5 21171   7.2500   NaN        S  \n",
            "1      0          PC 17599  71.2833   C85        C  \n",
            "2      0  STON/O2. 3101282   7.9250   NaN        S  \n",
            "3      0            113803  53.1000  C123        S  \n",
            "4      0            373450   8.0500   NaN        S  \n"
          ]
        }
      ]
    },
    {
      "cell_type": "code",
      "source": [
        "# Filter rows where passenger age is below 18\n",
        "below_18 = df[df['Age'] < 18]\n",
        "\n",
        "# Filter rows where passenger is female and survived\n",
        "female_survived = df[(df['Sex'] == 'female') & (df['Survived'] == 1)]\n",
        "\n",
        "# Display the filtered data\n",
        "print(\"Passengers below 18 years old:\\n\", below_18)\n",
        "print(\"\\nFemale passengers who survived:\\n\", female_survived)\n"
      ],
      "metadata": {
        "colab": {
          "base_uri": "https://localhost:8080/"
        },
        "id": "R36KY6UmT5lr",
        "outputId": "14254224-966e-44ba-8312-b7949d8d0907"
      },
      "execution_count": 13,
      "outputs": [
        {
          "output_type": "stream",
          "name": "stdout",
          "text": [
            "Passengers below 18 years old:\n",
            "      PassengerId  Survived  Pclass                                     Name  \\\n",
            "7              8         0       3           Palsson, Master. Gosta Leonard   \n",
            "9             10         1       2      Nasser, Mrs. Nicholas (Adele Achem)   \n",
            "10            11         1       3          Sandstrom, Miss. Marguerite Rut   \n",
            "14            15         0       3     Vestrom, Miss. Hulda Amanda Adolfina   \n",
            "16            17         0       3                     Rice, Master. Eugene   \n",
            "..           ...       ...     ...                                      ...   \n",
            "850          851         0       3  Andersson, Master. Sigvard Harald Elias   \n",
            "852          853         0       3                  Boulos, Miss. Nourelain   \n",
            "853          854         1       1                Lines, Miss. Mary Conover   \n",
            "869          870         1       3          Johnson, Master. Harold Theodor   \n",
            "875          876         1       3         Najib, Miss. Adele Kiamie \"Jane\"   \n",
            "\n",
            "        Sex   Age  SibSp  Parch    Ticket     Fare Cabin Embarked  \n",
            "7      male   2.0      3      1    349909  21.0750   NaN        S  \n",
            "9    female  14.0      1      0    237736  30.0708   NaN        C  \n",
            "10   female   4.0      1      1   PP 9549  16.7000    G6        S  \n",
            "14   female  14.0      0      0    350406   7.8542   NaN        S  \n",
            "16     male   2.0      4      1    382652  29.1250   NaN        Q  \n",
            "..      ...   ...    ...    ...       ...      ...   ...      ...  \n",
            "850    male   4.0      4      2    347082  31.2750   NaN        S  \n",
            "852  female   9.0      1      1      2678  15.2458   NaN        C  \n",
            "853  female  16.0      0      1  PC 17592  39.4000   D28        S  \n",
            "869    male   4.0      1      1    347742  11.1333   NaN        S  \n",
            "875  female  15.0      0      0      2667   7.2250   NaN        C  \n",
            "\n",
            "[113 rows x 12 columns]\n",
            "\n",
            "Female passengers who survived:\n",
            "      PassengerId  Survived  Pclass  \\\n",
            "1              2         1       1   \n",
            "2              3         1       3   \n",
            "3              4         1       1   \n",
            "8              9         1       3   \n",
            "9             10         1       2   \n",
            "..           ...       ...     ...   \n",
            "874          875         1       2   \n",
            "875          876         1       3   \n",
            "879          880         1       1   \n",
            "880          881         1       2   \n",
            "887          888         1       1   \n",
            "\n",
            "                                                  Name     Sex   Age  SibSp  \\\n",
            "1    Cumings, Mrs. John Bradley (Florence Briggs Th...  female  38.0      1   \n",
            "2                               Heikkinen, Miss. Laina  female  26.0      0   \n",
            "3         Futrelle, Mrs. Jacques Heath (Lily May Peel)  female  35.0      1   \n",
            "8    Johnson, Mrs. Oscar W (Elisabeth Vilhelmina Berg)  female  27.0      0   \n",
            "9                  Nasser, Mrs. Nicholas (Adele Achem)  female  14.0      1   \n",
            "..                                                 ...     ...   ...    ...   \n",
            "874              Abelson, Mrs. Samuel (Hannah Wizosky)  female  28.0      1   \n",
            "875                   Najib, Miss. Adele Kiamie \"Jane\"  female  15.0      0   \n",
            "879      Potter, Mrs. Thomas Jr (Lily Alexenia Wilson)  female  56.0      0   \n",
            "880       Shelley, Mrs. William (Imanita Parrish Hall)  female  25.0      0   \n",
            "887                       Graham, Miss. Margaret Edith  female  19.0      0   \n",
            "\n",
            "     Parch            Ticket     Fare Cabin Embarked  \n",
            "1        0          PC 17599  71.2833   C85        C  \n",
            "2        0  STON/O2. 3101282   7.9250   NaN        S  \n",
            "3        0            113803  53.1000  C123        S  \n",
            "8        2            347742  11.1333   NaN        S  \n",
            "9        0            237736  30.0708   NaN        C  \n",
            "..     ...               ...      ...   ...      ...  \n",
            "874      0         P/PP 3381  24.0000   NaN        C  \n",
            "875      0              2667   7.2250   NaN        C  \n",
            "879      1             11767  83.1583   C50        C  \n",
            "880      1            230433  26.0000   NaN        S  \n",
            "887      0            112053  30.0000   B42        S  \n",
            "\n",
            "[233 rows x 12 columns]\n"
          ]
        }
      ]
    },
    {
      "cell_type": "markdown",
      "source": [
        "Question10: Groupby Operations"
      ],
      "metadata": {
        "id": "8IWctZDWUC7S"
      }
    },
    {
      "cell_type": "code",
      "source": [
        "import pandas as pd\n",
        "\n",
        "# Load the Iris dataset from CSV\n",
        "df = pd.read_csv('IRIS dataset.csv')\n",
        "\n",
        "# Group by species and calculate the mean of petal length and sepal width\n",
        "grouped_data = df.groupby('species')[['petal_length', 'sepal_width']].mean()\n",
        "\n",
        "# Display the result\n",
        "print(grouped_data)\n"
      ],
      "metadata": {
        "colab": {
          "base_uri": "https://localhost:8080/"
        },
        "id": "WhYl4kdDUA5t",
        "outputId": "67049a83-94b9-45bf-92ab-3aeaeba3aa1f"
      },
      "execution_count": 15,
      "outputs": [
        {
          "output_type": "stream",
          "name": "stdout",
          "text": [
            "                 petal_length  sepal_width\n",
            "species                                   \n",
            "Iris-setosa             1.464        3.418\n",
            "Iris-versicolor         4.260        2.770\n",
            "Iris-virginica          5.552        2.974\n"
          ]
        }
      ]
    },
    {
      "cell_type": "markdown",
      "source": [
        "Question 11: Handling Missing Values"
      ],
      "metadata": {
        "id": "LVnJFprrWX7r"
      }
    },
    {
      "cell_type": "code",
      "source": [
        "import pandas as pd\n",
        "import numpy as np\n",
        "\n",
        "# Create a DataFrame with random data\n",
        "np.random.seed(0)\n",
        "data = np.random.randint(1, 100, size=(5, 4))\n",
        "\n",
        "# Convert to DataFrame with column names\n",
        "df = pd.DataFrame(data, columns=['A', 'B', 'C', 'D'])\n",
        "\n",
        "# Introduce NaN values randomly\n",
        "df.iloc[1, 2] = np.nan  # Introduce NaN in column 'C' (row 1)\n",
        "df.iloc[3, 0] = np.nan  # Introduce NaN in column 'A' (row 3)\n",
        "\n",
        "# Replace NaN values with the mean of the respective column\n",
        "df_filled = df.copy()\n",
        "for column in df_filled.columns:\n",
        "    column_mean = df_filled[column].mean()\n",
        "    df_filled[column].fillna(column_mean, inplace=True)\n",
        "\n",
        "# Display the original and updated DataFrame\n",
        "print(\"Original DataFrame with NaN values:\")\n",
        "print(df)\n",
        "print(\"\\nUpdated DataFrame (NaN values replaced with column mean):\")\n",
        "print(df_filled)\n"
      ],
      "metadata": {
        "colab": {
          "base_uri": "https://localhost:8080/"
        },
        "id": "vvhzUzPaWg2v",
        "outputId": "43eaad3e-4fa5-482f-ffc5-1b218e83abe1"
      },
      "execution_count": 16,
      "outputs": [
        {
          "output_type": "stream",
          "name": "stdout",
          "text": [
            "Original DataFrame with NaN values:\n",
            "      A   B     C   D\n",
            "0  45.0  48  65.0  68\n",
            "1  68.0  10   NaN  22\n",
            "2  37.0  88  71.0  89\n",
            "3   NaN  13  59.0  66\n",
            "4  40.0  88  47.0  89\n",
            "\n",
            "Updated DataFrame (NaN values replaced with column mean):\n",
            "      A   B     C   D\n",
            "0  45.0  48  65.0  68\n",
            "1  68.0  10  60.5  22\n",
            "2  37.0  88  71.0  89\n",
            "3  47.5  13  59.0  66\n",
            "4  40.0  88  47.0  89\n"
          ]
        },
        {
          "output_type": "stream",
          "name": "stderr",
          "text": [
            "<ipython-input-16-d332b068af21>:19: FutureWarning: A value is trying to be set on a copy of a DataFrame or Series through chained assignment using an inplace method.\n",
            "The behavior will change in pandas 3.0. This inplace method will never work because the intermediate object on which we are setting values always behaves as a copy.\n",
            "\n",
            "For example, when doing 'df[col].method(value, inplace=True)', try using 'df.method({col: value}, inplace=True)' or df[col] = df[col].method(value) instead, to perform the operation inplace on the original object.\n",
            "\n",
            "\n",
            "  df_filled[column].fillna(column_mean, inplace=True)\n"
          ]
        }
      ]
    },
    {
      "cell_type": "markdown",
      "source": [
        "Question 12: Merging DataFrames"
      ],
      "metadata": {
        "id": "efmXmfWIXkh5"
      }
    },
    {
      "cell_type": "code",
      "source": [
        "import pandas as pd\n",
        "\n",
        "# Create the first DataFrame with ID and Name\n",
        "data1 = {'ID': [1, 2, 3, 4],\n",
        "         'Name': ['Bhaskar', 'Keerthi', 'Siddu', 'Harsha']}\n",
        "df1 = pd.DataFrame(data1)\n",
        "\n",
        "# Create the second DataFrame with ID and Score\n",
        "data2 = {'ID': [1, 2, 3, 5],\n",
        "         'Score': [88, 92, 79, 85]}\n",
        "df2 = pd.DataFrame(data2)\n",
        "\n",
        "# Merge the two DataFrames on the ID column\n",
        "merged_df = pd.merge(df1, df2, on='ID', how='inner')  # Using 'inner' join by default\n",
        "\n",
        "# Display the resulting DataFrame\n",
        "print(merged_df)\n"
      ],
      "metadata": {
        "colab": {
          "base_uri": "https://localhost:8080/"
        },
        "id": "M6OeT8tjXowH",
        "outputId": "c5f03ceb-3b70-494e-c688-ddde6bee400c"
      },
      "execution_count": 17,
      "outputs": [
        {
          "output_type": "stream",
          "name": "stdout",
          "text": [
            "   ID     Name  Score\n",
            "0   1  Bhaskar     88\n",
            "1   2  Keerthi     92\n",
            "2   3    Siddu     79\n"
          ]
        }
      ]
    },
    {
      "cell_type": "markdown",
      "source": [
        "Question 13: Line Plot"
      ],
      "metadata": {
        "id": "e7sjEJ9XYZKG"
      }
    },
    {
      "cell_type": "code",
      "source": [
        "import matplotlib.pyplot as plt\n",
        "import numpy as np\n",
        "\n",
        "# Generating random data for monthly revenue\n",
        "months = np.arange(1, 13)  # 12 months\n",
        "revenue = np.random.randint(1000, 10000, size=12)  # Random revenue values between 1000 and 10000\n",
        "\n",
        "# Plotting the line graph\n",
        "plt.plot(months, revenue, label='Monthly Revenue', color='b', marker='o')\n",
        "\n",
        "# Customizing the graph\n",
        "plt.title('Company Monthly Revenue Trend')\n",
        "plt.xlabel('Month')\n",
        "plt.ylabel('Revenue ($)')\n",
        "plt.xticks(months)  # Set x-axis ticks to represent months\n",
        "plt.legend()\n",
        "\n",
        "# Displaying the plot\n",
        "plt.grid(True)\n",
        "plt.show()\n"
      ],
      "metadata": {
        "colab": {
          "base_uri": "https://localhost:8080/",
          "height": 472
        },
        "id": "bb7Z9PQlYnWK",
        "outputId": "7e9b7982-69d6-47cb-c25b-6d5c76cb7be9"
      },
      "execution_count": 19,
      "outputs": [
        {
          "output_type": "display_data",
          "data": {
            "text/plain": [
              "<Figure size 640x480 with 1 Axes>"
            ],
            "image/png": "[encoded data removed]"
          },
          "metadata": {}
        }
      ]
    },
    {
      "cell_type": "markdown",
      "source": [
        "Question 14: Bar Plot"
      ],
      "metadata": {
        "id": "LRA-vl6JZm_A"
      }
    },
    {
      "cell_type": "code",
      "source": [
        "# Generating random data for product sales in two regions\n",
        "products = ['Product A', 'Product B', 'Product C', 'Product D', 'Product E']\n",
        "region_1_sales = np.random.randint(100, 1000, size=5)  # Sales in region 1\n",
        "region_2_sales = np.random.randint(100, 1000, size=5)  # Sales in region 2\n",
        "\n",
        "# Setting the bar positions for grouped bars\n",
        "x = np.arange(len(products))  # X locations for the products\n",
        "width = 0.35  # Width of the bars\n",
        "\n",
        "# Plotting the grouped bar chart\n",
        "fig, ax = plt.subplots()\n",
        "\n",
        "bars1 = ax.bar(x - width/2, region_1_sales, width, label='Region 1', color='b')\n",
        "bars2 = ax.bar(x + width/2, region_2_sales, width, label='Region 2', color='r')\n",
        "\n",
        "# Customizing the graph\n",
        "ax.set_title('Product Sales Comparison Between Regions')\n",
        "ax.set_xlabel('Products')\n",
        "ax.set_ylabel('Sales')\n",
        "ax.set_xticks(x)\n",
        "ax.set_xticklabels(products)\n",
        "ax.legend()\n",
        "\n",
        "# Displaying the plot\n",
        "plt.show()\n"
      ],
      "metadata": {
        "colab": {
          "base_uri": "https://localhost:8080/",
          "height": 472
        },
        "id": "gLJmtX4IZmFZ",
        "outputId": "b24ffc6a-1eb3-4a89-91b9-76b7182d8dac"
      },
      "execution_count": 20,
      "outputs": [
        {
          "output_type": "display_data",
          "data": {
            "text/plain": [
              "<Figure size 640x480 with 1 Axes>"
            ],
            "image/png": "[encoded data removed]"
          },
          "metadata": {}
        }
      ]
    },
    {
      "cell_type": "markdown",
      "source": [
        "Question 15: Scatter Plot"
      ],
      "metadata": {
        "id": "iHpMCb-AaNUi"
      }
    },
    {
      "cell_type": "code",
      "source": [
        "import pandas as pd\n",
        "import seaborn as sns\n",
        "import matplotlib.pyplot as plt\n",
        "\n",
        "# Load the dataset from the CSV file\n",
        "iris = pd.read_csv('IRIS dataset.csv')\n",
        "\n",
        "# Check the first few rows to confirm the structure of the data\n",
        "print(iris.head())\n",
        "\n",
        "# Create a scatter plot comparing petal length vs petal width\n",
        "plt.figure(figsize=(8, 6))\n",
        "sns.scatterplot(x='petal_length', y='petal_width', hue='species', data=iris, palette='Set1')\n",
        "\n",
        "# Customize the plot\n",
        "plt.title('Petal Length vs Petal Width', fontsize=16)\n",
        "plt.xlabel('Petal Length (cm)', fontsize=12)\n",
        "plt.ylabel('Petal Width (cm)', fontsize=12)\n",
        "plt.legend(title='Species', loc='upper left')\n",
        "\n",
        "# Display the plot\n",
        "plt.show()\n"
      ],
      "metadata": {
        "colab": {
          "base_uri": "https://localhost:8080/",
          "height": 674
        },
        "id": "KyPIwo3IaRyv",
        "outputId": "c8373427-50d0-4d17-cac4-e685036cb91d"
      },
      "execution_count": 21,
      "outputs": [
        {
          "output_type": "stream",
          "name": "stdout",
          "text": [
            "   sepal_length  sepal_width  petal_length  petal_width      species\n",
            "0           5.1          3.5           1.4          0.2  Iris-setosa\n",
            "1           4.9          3.0           1.4          0.2  Iris-setosa\n",
            "2           4.7          3.2           1.3          0.2  Iris-setosa\n",
            "3           4.6          3.1           1.5          0.2  Iris-setosa\n",
            "4           5.0          3.6           1.4          0.2  Iris-setosa\n"
          ]
        },
        {
          "output_type": "display_data",
          "data": {
            "text/plain": [
              "<Figure size 800x600 with 1 Axes>"
            ],
            "image/png": "[encoded data removed]"
          },
          "metadata": {}
        }
      ]
    }
  ]
}

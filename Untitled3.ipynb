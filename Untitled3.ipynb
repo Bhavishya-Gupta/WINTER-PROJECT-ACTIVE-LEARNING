{
  "nbformat": 4,
  "nbformat_minor": 0,
  "metadata": {
    "colab": {
      "provenance": [],
      "gpuType": "T4",
      "mount_file_id": "1VhxFq-zDuMHouzJyBLBAEWN1oiRuXS-O",
      "authorship_tag": "ABX9TyPip+UM5TaacfVD8cJQRR1z",
      "include_colab_link": true
    },
    "kernelspec": {
      "name": "python3",
      "display_name": "Python 3"
    },
    "language_info": {
      "name": "python"
    },
    "accelerator": "GPU"
  },
  "cells": [
    {
      "cell_type": "markdown",
      "metadata": {
        "id": "view-in-github",
        "colab_type": "text"
      },
      "source": [
        "<a href=\"https://colab.research.google.com/github/n1kh1le5hp/WINTER-PROJECT-ACTIVE-LEARNING/blob/main/Untitled3.ipynb\" target=\"_parent\"><img src=\"https://colab.research.google.com/assets/colab-badge.svg\" alt=\"Open In Colab\"/></a>"
      ]
    },
    {
      "cell_type": "code",
      "source": [
        "from google.colab import drive\n",
        "drive.mount('/content/drive')"
      ],
      "metadata": {
        "colab": {
          "base_uri": "https://localhost:8080/"
        },
        "id": "y1EL7JjHLz6u",
        "outputId": "5571c30d-4817-425e-9651-d64e50ad2864"
      },
      "execution_count": 17,
      "outputs": [
        {
          "output_type": "stream",
          "name": "stdout",
          "text": [
            "Drive already mounted at /content/drive; to attempt to forcibly remount, call drive.mount(\"/content/drive\", force_remount=True).\n"
          ]
        }
      ]
    },
    {
      "cell_type": "code",
      "execution_count": 6,
      "metadata": {
        "colab": {
          "base_uri": "https://localhost:8080/"
        },
        "id": "7rNGRhYyEU-a",
        "outputId": "2d67b14f-c49e-4b32-c13f-eeac3b637776"
      },
      "outputs": [
        {
          "output_type": "stream",
          "name": "stdout",
          "text": [
            "Test Accuracy: 99.03%\n"
          ]
        }
      ],
      "source": [
        "import torch\n",
        "import torch.nn as nn\n",
        "import torch.optim as optim\n",
        "import torch.nn.functional as F\n",
        "from torch.utils.data import DataLoader\n",
        "from torchvision.datasets import ImageFolder\n",
        "from torchvision import transforms\n",
        "from sklearn.metrics import pairwise_distances\n",
        "from pathlib import Path\n",
        "import torchvision\n",
        "\n",
        "\n",
        "device=torch.device('cuda')\n",
        "num_epochs = 10\n",
        "batch_size = 64\n",
        "learning_rate = 0.001\n",
        "transform=transforms.Compose([transforms.ToTensor(),transforms.Normalize((0.5,),(0.5,))])\n",
        "train_dataset=torchvision.datasets.MNIST(root='./data',train=True,download=True,transform=transform)\n",
        "test_dataset=torchvision.datasets.MNIST(root='./data',train=False,download=True,transform=transform)\n",
        "train_loader=torch.utils.data.DataLoader(dataset=train_dataset,batch_size=batch_size,shuffle=True)\n",
        "test_loader=torch.utils.data.DataLoader(dataset=test_dataset,batch_size=batch_size,shuffle=False)\n",
        "class CNN(nn.Module):\n",
        "  def __init__(self):\n",
        "    super(CNN,self).__init__()\n",
        "    self.conv1=nn.Conv2d(1,32,kernel_size=3,padding=1)\n",
        "    self.relu1=nn.ReLU()\n",
        "    self.pool1=nn.MaxPool2d(kernel_size=2,stride=2)\n",
        "    self.conv2=nn.Conv2d(32,64,kernel_size=3,padding=1)\n",
        "    self.relu2=nn.ReLU()\n",
        "    self.pool2=nn.MaxPool2d(kernel_size=2,stride=2)\n",
        "    self.fc1=nn.Linear(64*7*7,128)\n",
        "    self.relu3=nn.ReLU()\n",
        "    self.fc2=nn.Linear(128,10)\n",
        "  def forward(self,x):\n",
        "    x=self.conv1(x)\n",
        "    x=self.relu1(x)\n",
        "    x=self.pool1(x)\n",
        "    x=self.conv2(x)\n",
        "    x=self.relu2(x)\n",
        "    x=self.pool2(x)\n",
        "    x=x.view(x.size(0),-1)\n",
        "    x=self.fc1(x)\n",
        "    x=self.relu3(x)\n",
        "    x=self.fc2(x)\n",
        "    return x\n",
        "cnn=CNN().to(device)\n",
        "num_classes = 10\n",
        "model = CNN().to(device)\n",
        "criterion = nn.CrossEntropyLoss()\n",
        "optimizer = optim.Adam(model.parameters(), lr=learning_rate)\n",
        "for epoch in range(num_epochs):\n",
        "    model.train()\n",
        "    running_loss = 0.0\n",
        "    for images, labels in train_loader:\n",
        "        images, labels = images.to(device), labels.to(device)\n",
        "        outputs = model(images)\n",
        "        loss = criterion(outputs, labels)\n",
        "        optimizer.zero_grad()\n",
        "        loss.backward()\n",
        "        optimizer.step()\n",
        "\n",
        "        running_loss += loss.item()\n",
        "def calculate_metrics(outputs, features, m=5):\n",
        "    outputs_cpu = outputs.detach().cpu()\n",
        "    least_confidence, prediction_entropy, margin_sampling = calculate_uncertainty_metrics(outputs_cpu)\n",
        "    least_confidence_list.extend(torch.from_numpy(least_confidence))\n",
        "    prediction_entropy_list.extend(torch.from_numpy(prediction_entropy))\n",
        "    margin_sampling_list.extend(torch.from_numpy(margin_sampling))\n",
        "    features_normalized = F.normalize(features, p=2, dim=1)\n",
        "    cosine_similarity, l2_norm = calculate_diversity_metrics(features_normalized)\n",
        "    cosine_similarity_list.extend(torch.from_numpy(cosine_similarity))\n",
        "    l2_norm_list.extend(torch.from_numpy(l2_norm))\n",
        "    feature_distances = pairwise_distances(features.cpu().detach().numpy(), metric='cosine')\n",
        "    kl_divergence_scores = calculate_kl_divergence(outputs_cpu, feature_distances, m=5)\n",
        "    kl_divergence_list.extend(kl_divergence_scores)\n",
        "def calculate_uncertainty_metrics(outputs):\n",
        "    probabilities = F.softmax(outputs, dim=1)\n",
        "    least_confidence = 1 - probabilities.max(dim=1).values.cpu().detach().numpy()\n",
        "    current_probs = probabilities.clone().detach()\n",
        "    current_probs[current_probs == 0] = 1e-10\n",
        "    prediction_entropy = -torch.sum(current_probs * torch.log(current_probs), dim=1).cpu().detach().numpy()\n",
        "    margin_sampling = 1 - (torch.max(probabilities, dim=1).values.cpu().detach().numpy() - \\\n",
        "                           torch.min(probabilities, dim=1).values.cpu().detach().numpy())\n",
        "    return least_confidence, prediction_entropy, margin_sampling\n",
        "\n",
        "def calculate_diversity_metrics(features, m=5):\n",
        "    feature_distances = pairwise_distances(features.cpu().detach().numpy(), metric='cosine')\n",
        "    cosine_similarity = 1 - feature_distances[:, 1:m+1].mean(axis=1)\n",
        "    l2_distances = pairwise_distances(features.cpu().detach().numpy(), metric='euclidean')\n",
        "    l2_norm = l2_distances[:, 1:m+1].mean(axis=1)\n",
        "    return cosine_similarity, l2_norm\n",
        "def calculate_kl_divergence(outputs, feature_distances, m=5):\n",
        "    kl_divergence = []\n",
        "    for i in range(len(outputs)):\n",
        "        current_sample_prob = F.softmax(outputs[i], dim=0)\n",
        "        neighbor_indices = feature_distances[i, 1:m+1].astype(int)\n",
        "        neighbors_prob = torch.mean(F.softmax(outputs[neighbor_indices], dim=1), dim=0)\n",
        "        epsilon = 1e-10\n",
        "        current_sample_prob += epsilon\n",
        "        neighbors_prob += epsilon\n",
        "        kl_divergence.append(F.kl_div(torch.log(current_sample_prob), neighbors_prob, reduction='batchmean'))  # KL Divergence\n",
        "    return kl_divergence\n",
        "least_confidence_list = []\n",
        "prediction_entropy_list = []\n",
        "margin_sampling_list = []\n",
        "cosine_similarity_list = []\n",
        "l2_norm_list = []\n",
        "kl_divergence_list = []\n",
        "model.eval()\n",
        "with torch.no_grad():\n",
        "    correct = 0\n",
        "    total = 0\n",
        "    for images, labels in test_loader:\n",
        "        images, labels = images.to(device), labels.to(device)\n",
        "        outputs = model(images)\n",
        "        _, predicted = torch.max(outputs, 1)\n",
        "        total += labels.size(0)\n",
        "        correct += (predicted == labels).sum().item()\n",
        "        features = cnn.conv1(images)\n",
        "        features = F.max_pool2d(F.relu(features), 2, 2)\n",
        "        features = cnn.conv2(features)\n",
        "        features = F.max_pool2d(F.relu(features), 2, 2)\n",
        "        features = features.view(features.size(0), -1)\n",
        "        calculate_metrics(outputs, features)\n",
        "\n",
        "    print(f\"Test Accuracy: {100 * correct / total:.2f}%\")\n",
        "\n"
      ]
    }
  ]
}